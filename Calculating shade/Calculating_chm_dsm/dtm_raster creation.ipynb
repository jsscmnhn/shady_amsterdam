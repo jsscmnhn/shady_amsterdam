{
 "cells": [
  {
   "cell_type": "code",
   "execution_count": 9,
   "id": "initial_id",
   "metadata": {
    "collapsed": true,
    "ExecuteTime": {
     "end_time": "2024-09-17T18:49:34.249638500Z",
     "start_time": "2024-09-17T18:49:24.452793Z"
    }
   },
   "outputs": [],
   "source": [
    "import rasterio \n",
    "import numpy\n",
    "from owslib.wfs import WebFeatureService \n",
    "from rasterio.coords import BoundingBox\n",
    "import geopandas as gpd\n",
    "import io"
   ]
  },
  {
   "cell_type": "code",
   "execution_count": 6,
   "outputs": [
    {
     "name": "stdout",
     "output_type": "stream",
     "text": [
      "GeoTIFF Bounds: BoundingBox(left=115000.0, bottom=481250.0, right=120000.0, top=487500.0)\n",
      "GeoTIFF CRS: EPSG:28992\n"
     ]
    }
   ],
   "source": [
    "geotiff_path = \"../../data/R_25DN2.TIF\"\n",
    "\n",
    "with rasterio.open(geotiff_path) as src:\n",
    "    bounds = src.bounds  # BoundingBox(left, bottom, right, top)\n",
    "    crs = src.crs  \n",
    "\n",
    "print(f\"GeoTIFF Bounds: {bounds}\")\n",
    "print(f\"GeoTIFF CRS: {crs}\")"
   ],
   "metadata": {
    "collapsed": false,
    "ExecuteTime": {
     "end_time": "2024-09-17T18:47:08.688418900Z",
     "start_time": "2024-09-17T18:47:08.497583400Z"
    }
   },
   "id": "3e0009afe0f2222d"
  },
  {
   "cell_type": "code",
   "execution_count": 7,
   "outputs": [],
   "source": [
    "bbox_rd_new = (bounds.left, bounds.bottom, bounds.right, bounds.top)"
   ],
   "metadata": {
    "collapsed": false,
    "ExecuteTime": {
     "end_time": "2024-09-17T18:48:07.857445600Z",
     "start_time": "2024-09-17T18:48:07.857445600Z"
    }
   },
   "id": "6922f5e5ffaa988f"
  },
  {
   "cell_type": "code",
   "execution_count": 28,
   "outputs": [],
   "source": [
    "wfs_bag = 'https://service.pdok.nl/lv/bag/wfs/v2_0'\n",
    "layer = 'bag:pand'"
   ],
   "metadata": {
    "collapsed": false,
    "ExecuteTime": {
     "end_time": "2024-09-17T19:12:31.885365Z",
     "start_time": "2024-09-17T19:12:31.566183600Z"
    }
   },
   "id": "a95962b6c71fddbb"
  },
  {
   "cell_type": "code",
   "execution_count": 40,
   "outputs": [
    {
     "name": "stdout",
     "output_type": "stream",
     "text": [
      "b'{\\n\"type\": \"FeatureCollection\",\\n\"numberMatched\": 4,\\n\"name\": \"woonplaats\",\\n\"crs\": { \"type\": \"name\", \"properties\": { \"name\": \"urn:ogc:def:crs:EPSG::28992\" } },\\n\"features\": [\\n{ \"type\": \"Feature\", \"id\": \"woonplaats.fdc25bab-8fcc-43c0-94a1-dfe51cad0801\", \"properties\": { \"identificatie\": \"1050\", \"rdf_seealso\": \"http:\\\\/\\\\/bag.basisregistraties.overheid.nl\\\\/bag\\\\/id\\\\/woonplaats\\\\/1050\", \"status\": \"Woonplaats aangewezen\", \"woonplaats\": \"Amstelveen\" }, \"bbox\": [ 114538.296, 472779.61, 122404.544, 482651.756 ]'\n",
      "                                                id identificatie  \\\n",
      "0  woonplaats.fdc25bab-8fcc-43c0-94a1-dfe51cad0801          1050   \n",
      "1  woonplaats.ac84bad8-184e-46df-be5d-bd54b073dec8          1617   \n",
      "2  woonplaats.3df401f1-be85-4c75-8307-88db35bd85ff          1618   \n",
      "3  woonplaats.9acef35a-7d3a-4f7a-82b2-22ad5260cf1e          3594   \n",
      "\n",
      "                                         rdf_seealso                 status  \\\n",
      "0  http://bag.basisregistraties.overheid.nl/bag/i...  Woonplaats aangewezen   \n",
      "1  http://bag.basisregistraties.overheid.nl/bag/i...  Woonplaats aangewezen   \n",
      "2  http://bag.basisregistraties.overheid.nl/bag/i...  Woonplaats aangewezen   \n",
      "3  http://bag.basisregistraties.overheid.nl/bag/i...  Woonplaats aangewezen   \n",
      "\n",
      "     woonplaats                                           geometry  \n",
      "0    Amstelveen  MULTIPOLYGON (((114538.296 474922.928, 114543....  \n",
      "1  Badhoevedorp  MULTIPOLYGON (((116025.197 480679.691, 116088....  \n",
      "2      Schiphol  MULTIPOLYGON (((116025.197 480679.691, 116025....  \n",
      "3     Amsterdam  MULTIPOLYGON (((133164.494 492181.711, 133134....  \n"
     ]
    }
   ],
   "source": [
    "# Connect to the WFS server\n",
    "\n",
    "wfs = WebFeatureService(url=wfs_bag, version='2.0.0', parse_remote_metadata=False)\n",
    "srs = 'EPSG:28992' \n",
    "\n",
    "capabilities = wfs.getcapabilities()\n",
    "\n",
    "response = wfs.getfeature(typename=layer,\n",
    "                          bbox=bbox_rd_new + (srs,),  # Include EPSG code for RD New\n",
    "                          outputFormat='application/json; subtype=geojson')\n",
    "\n",
    "response_text = response.read()\n",
    "\n",
    "print(response_text[:500])\n",
    "gdf = gpd.read_file(io.BytesIO(response.read()))\n",
    "\n",
    "print(gdf.head())"
   ],
   "metadata": {
    "collapsed": false,
    "ExecuteTime": {
     "end_time": "2024-09-17T19:22:13.877716300Z",
     "start_time": "2024-09-17T19:22:11.173558700Z"
    }
   },
   "id": "bc024d6c4ad04bf9"
  },
  {
   "cell_type": "code",
   "execution_count": 37,
   "outputs": [
    {
     "name": "stdout",
     "output_type": "stream",
     "text": [
      "Geometry type counts:\n",
      "MultiPolygon    4\n",
      "Name: count, dtype: int64\n"
     ]
    }
   ],
   "source": [
    "# Check the GeoDataFrame\n",
    "# print(gdf.head())\n",
    "\n",
    "geometry_counts = gdf.geometry.geom_type.value_counts()\n",
    "print(\"Geometry type counts:\")\n",
    "print(geometry_counts)"
   ],
   "metadata": {
    "collapsed": false,
    "ExecuteTime": {
     "end_time": "2024-09-17T19:18:47.318248200Z",
     "start_time": "2024-09-17T19:18:47.316183900Z"
    }
   },
   "id": "685f0b75d359d6ad"
  }
 ],
 "metadata": {
  "kernelspec": {
   "display_name": "Python 3",
   "language": "python",
   "name": "python3"
  },
  "language_info": {
   "codemirror_mode": {
    "name": "ipython",
    "version": 2
   },
   "file_extension": ".py",
   "mimetype": "text/x-python",
   "name": "python",
   "nbconvert_exporter": "python",
   "pygments_lexer": "ipython2",
   "version": "2.7.6"
  }
 },
 "nbformat": 4,
 "nbformat_minor": 5
}
