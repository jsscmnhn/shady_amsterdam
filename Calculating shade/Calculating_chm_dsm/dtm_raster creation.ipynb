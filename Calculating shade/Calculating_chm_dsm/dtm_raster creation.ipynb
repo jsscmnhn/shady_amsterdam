{
 "cells": [
  {
   "cell_type": "code",
   "execution_count": 102,
   "id": "initial_id",
   "metadata": {
    "collapsed": true,
    "ExecuteTime": {
     "end_time": "2024-09-18T14:54:08.822534100Z",
     "start_time": "2024-09-18T14:54:08.817614800Z"
    }
   },
   "outputs": [],
   "source": [
    "import rasterio\n",
    "import geopandas as gpd\n",
    "import numpy as np\n",
    "from rasterio.mask import mask\n",
    "from rasterio.coords import BoundingBox\n",
    "from rasterio.transform import Affine\n",
    "from shapely.geometry import mapping"
   ]
  },
  {
   "cell_type": "code",
   "execution_count": 61,
   "outputs": [],
   "source": [
    "geotiff_dtm = \"data/M_25DN2.TIF\"\n",
    "geotiff_dsm = \"data/R_25DN2.TIF\"\n",
    "geotiff_chm = \"output/CHM_25DN2.tiff\"\n",
    "buildings = \"data/pand.gpkg\"\n",
    "\n",
    "# with rasterio.open(geotiff_path) as src:\n",
    "#     bounds = src.bounds  # BoundingBox(left, bottom, right, top)\n",
    "#     crs = src.crs  \n"
   ],
   "metadata": {
    "collapsed": false,
    "ExecuteTime": {
     "end_time": "2024-09-18T13:50:07.453884Z",
     "start_time": "2024-09-18T13:50:07.422400800Z"
    }
   },
   "id": "3e0009afe0f2222d"
  },
  {
   "cell_type": "code",
   "execution_count": 62,
   "outputs": [],
   "source": [
    "# bbox_rd_new = (bounds.left, bounds.bottom, bounds.right, bounds.top)\n",
    "# wfs_bag = 'https://service.pdok.nl/lv/bag/wfs/v2_0'\n",
    "# layer = 'bag:pand'"
   ],
   "metadata": {
    "collapsed": false,
    "ExecuteTime": {
     "end_time": "2024-09-18T13:50:07.453884Z",
     "start_time": "2024-09-18T13:50:07.427621200Z"
    }
   },
   "id": "a95962b6c71fddbb"
  },
  {
   "cell_type": "code",
   "execution_count": 63,
   "outputs": [],
   "source": [
    "# Connect to the WFS server\n",
    "# \n",
    "# wfs = WebFeatureService(url=wfs_bag, version='2.0.0', parse_remote_metadata=False)\n",
    "# srs = 'EPSG:28992' \n",
    "# \n",
    "# capabilities = wfs.getcapabilities()\n",
    "# \n",
    "# response = wfs.getfeature(typename=layer,\n",
    "#                           bbox=bbox_rd_new + (srs,),  # Include EPSG code for RD New\n",
    "#                           outputFormat='application/json; subtype=geojson')\n",
    "# \n",
    "# response_text = response.read()\n",
    "# \n",
    "# print(response_text[:500])\n",
    "# gdf = gpd.read_file(io.BytesIO(response.read()))\n",
    "# \n",
    "# print(gdf.head())"
   ],
   "metadata": {
    "collapsed": false,
    "ExecuteTime": {
     "end_time": "2024-09-18T13:50:07.503252Z",
     "start_time": "2024-09-18T13:50:07.434702800Z"
    }
   },
   "id": "bc024d6c4ad04bf9"
  },
  {
   "cell_type": "code",
   "execution_count": 64,
   "outputs": [],
   "source": [
    "# Check the GeoDataFrame\n",
    "# print(gdf.head())\n",
    "\n",
    "# geometry_counts = gdf.geometry.geom_type.value_counts()\n",
    "# print(\"Geometry type counts:\")\n",
    "# print(geometry_counts)"
   ],
   "metadata": {
    "collapsed": false,
    "ExecuteTime": {
     "end_time": "2024-09-18T13:50:07.503252Z",
     "start_time": "2024-09-18T13:50:07.441931400Z"
    }
   },
   "id": "685f0b75d359d6ad"
  },
  {
   "cell_type": "code",
   "execution_count": 65,
   "outputs": [],
   "source": [
    "def get_overlapping_bbox(raster_paths):\n",
    "    bboxes = []\n",
    "\n",
    "    for raster_path in raster_paths:\n",
    "        with rasterio.open(raster_path) as src:\n",
    "            bbox = src.bounds \n",
    "            bboxes.append(bbox)\n",
    "    \n",
    "    left = max([bbox.left for bbox in bboxes])\n",
    "    bottom = max([bbox.bottom for bbox in bboxes])\n",
    "    right = min([bbox.right for bbox in bboxes])\n",
    "    top = min([bbox.top for bbox in bboxes])\n",
    "\n",
    "    return BoundingBox(left, bottom, right, top)\n",
    "\n",
    "def crop_raster_to_bbox(raster_path, bbox, output_path, no_data=-9999):\n",
    "    with rasterio.open(raster_path) as src:\n",
    "        window = src.window(bbox.left, bbox.bottom, bbox.right, bbox.top)\n",
    "\n",
    "        cropped_data = src.read(window=window)\n",
    "        \n",
    "        if src.nodata is not None:\n",
    "            cropped_data = np.where(cropped_data == src.nodata, no_data, cropped_data)\n",
    "        cropped_data = np.where(np.isinf(cropped_data) | np.isnan(cropped_data), no_data, cropped_data)\n",
    "\n",
    "        transform = src.window_transform(window)\n",
    "        with rasterio.open(\n",
    "            output_path,\n",
    "            'w',\n",
    "            driver=src.driver,\n",
    "            height=cropped_data.shape[1],\n",
    "            width=cropped_data.shape[2],\n",
    "            count=src.count,\n",
    "            dtype=cropped_data.dtype,\n",
    "            crs=src.crs,\n",
    "            transform=transform,\n",
    "            nodata=no_data\n",
    "        ) as dst:\n",
    "            dst.write(cropped_data)\n"
   ],
   "metadata": {
    "collapsed": false,
    "ExecuteTime": {
     "end_time": "2024-09-18T13:50:07.504575100Z",
     "start_time": "2024-09-18T13:50:07.451655700Z"
    }
   },
   "id": "1c8ea30118243ff9"
  },
  {
   "cell_type": "code",
   "execution_count": 66,
   "outputs": [],
   "source": [
    "raster_paths = [geotiff_dtm, geotiff_dsm, geotiff_chm]\n",
    "\n",
    "# Get the overlapping bounding box\n",
    "overlapping_bbox = get_overlapping_bbox(raster_paths)\n",
    "\n",
    "# Crop each raster to the overlapping bounding box\n",
    "output_dsm = \"output/cropped_R_25DN2.TIF\"\n",
    "output_dtm = \"output/cropped_M_25DN2.TIF\"\n",
    "output_chm = \"output/cropped_CHM_25DN2.TIF\"\n",
    "\n",
    "crop_raster_to_bbox(geotiff_dtm, overlapping_bbox, output_dtm)\n",
    "crop_raster_to_bbox(geotiff_dsm, overlapping_bbox, output_dsm)\n",
    "crop_raster_to_bbox(geotiff_chm, overlapping_bbox, output_chm)"
   ],
   "metadata": {
    "collapsed": false,
    "ExecuteTime": {
     "end_time": "2024-09-18T13:50:07.797119500Z",
     "start_time": "2024-09-18T13:50:07.459924700Z"
    }
   },
   "id": "f89219e9bf8638ca"
  },
  {
   "cell_type": "code",
   "execution_count": 67,
   "outputs": [],
   "source": [
    "def buildings_cutout(raster_path, buildings_path, output_path, nodata_value=-9999):\n",
    "    buildings = gpd.read_file(buildings_path)\n",
    "    building_geometries = [mapping(geom) for geom in buildings.geometry]\n",
    "\n",
    "    with rasterio.open(raster_path) as src:\n",
    "        out_image, out_transform = mask(src, building_geometries, invert=False, nodata=nodata_value)\n",
    "\n",
    "        out_meta = src.meta.copy()\n",
    "        out_meta.update({\n",
    "            \"driver\": \"GTiff\",\n",
    "            \"height\": out_image.shape[1],\n",
    "            \"width\": out_image.shape[2],\n",
    "            \"transform\": out_transform,\n",
    "            \"nodata\": nodata_value\n",
    "        })\n",
    "\n",
    "        with rasterio.open(output_path, \"w\", **out_meta) as dst:\n",
    "            dst.write(out_image)\n"
   ],
   "metadata": {
    "collapsed": false,
    "ExecuteTime": {
     "end_time": "2024-09-18T13:50:07.804676500Z",
     "start_time": "2024-09-18T13:50:07.801628100Z"
    }
   },
   "id": "740d67f92094ba2f"
  },
  {
   "cell_type": "code",
   "execution_count": 68,
   "outputs": [],
   "source": [
    "output_buildings = \"output/buildings_25DN2.TIF\"\n",
    "buildings_cutout(output_dsm, buildings, output_buildings)"
   ],
   "metadata": {
    "collapsed": false,
    "ExecuteTime": {
     "end_time": "2024-09-18T13:50:22.261497800Z",
     "start_time": "2024-09-18T13:50:07.808675800Z"
    }
   },
   "id": "e901c9a2b4b8ef95"
  },
  {
   "cell_type": "code",
   "execution_count": 69,
   "outputs": [],
   "source": [
    "from rasterio.fill import fillnodata"
   ],
   "metadata": {
    "collapsed": false,
    "ExecuteTime": {
     "end_time": "2024-09-18T13:50:22.270723Z",
     "start_time": "2024-09-18T13:50:22.264714500Z"
    }
   },
   "id": "a8cb5df0dd9a8c4d"
  },
  {
   "cell_type": "code",
   "execution_count": 70,
   "outputs": [],
   "source": [
    "def fill_dsm(raster_path, output_path, max_search_distance=80.0, smoothing_iterations=2):\n",
    "    with rasterio.open(raster_path) as src:\n",
    "        array = src.read(1)  \n",
    "        nodata = src.nodata\n",
    "        transform = src.transform\n",
    "        crs = src.crs\n",
    "        nrows, ncols = array.shape\n",
    "    \n",
    "        filled_array = fillnodata(array, mask=src.read_masks(1), max_search_distance=max_search_distance, smoothing_iterations=smoothing_iterations)\n",
    "\n",
    "        with rasterio.open(raster_path) as src:\n",
    "            with rasterio.open(output_path, 'w', driver='GTiff', height=nrows, width=ncols, count=1,\n",
    "                               dtype=filled_array.dtype, nodata=nodata, crs=crs, transform=transform) as dst:\n",
    "                dst.write(filled_array, 1)\n"
   ],
   "metadata": {
    "collapsed": false,
    "ExecuteTime": {
     "end_time": "2024-09-18T13:50:22.280081800Z",
     "start_time": "2024-09-18T13:50:22.269722Z"
    }
   },
   "id": "66453eb047ce4f28"
  },
  {
   "cell_type": "code",
   "execution_count": 84,
   "outputs": [],
   "source": [
    "fill_dsm(output_dtm,\"output/filled_M_25DN2.TIF\")"
   ],
   "metadata": {
    "collapsed": false,
    "ExecuteTime": {
     "end_time": "2024-09-18T14:18:16.251350600Z",
     "start_time": "2024-09-18T14:18:14.923236200Z"
    }
   },
   "id": "f75c21c299b6d342"
  },
  {
   "cell_type": "code",
   "execution_count": 88,
   "outputs": [],
   "source": [
    "def chm_finish(chm, dtm, output_path):\n",
    "    with rasterio.open(chm) as chm_src, rasterio.open(dtm) as dtm_src:\n",
    "        dtm_array = dtm_src.read(1)\n",
    "        chm_array = chm_src.read(1)\n",
    "        # \n",
    "        # if chm_src.nodata is not None:\n",
    "        #     chm_array[chm_array == chm_src.nodata] = 0\n",
    "\n",
    "        result_array = chm_array - dtm_array\n",
    "        \n",
    "        result_array[result_array < 0] = 0\n",
    "\n",
    "        # result_array = np.where(np.isnan(result_array) | np.isinf(result_array), 0 , result_array)\n",
    "\n",
    "        # Save the result raster\n",
    "        with rasterio.open(output_path, 'w', driver='GTiff', height=result_array.shape[0], width=result_array.shape[1],\n",
    "                           count=1, dtype=result_array.dtype, nodata=0, crs=dtm_src.crs, transform=dtm_src.transform) as dst:\n",
    "            dst.write(result_array, 1)"
   ],
   "metadata": {
    "collapsed": false,
    "ExecuteTime": {
     "end_time": "2024-09-18T14:19:08.989113200Z",
     "start_time": "2024-09-18T14:19:08.986597400Z"
    }
   },
   "id": "4ba56cccebbabd02"
  },
  {
   "cell_type": "code",
   "execution_count": 95,
   "outputs": [],
   "source": [
    "chm_finish(output_chm, \"output/filled_M_25DN2.TIF\", \"output/fin_CHM_25DN2.TIF\")"
   ],
   "metadata": {
    "collapsed": false,
    "ExecuteTime": {
     "end_time": "2024-09-18T14:45:38.689588500Z",
     "start_time": "2024-09-18T14:45:38.554991200Z"
    }
   },
   "id": "fa30df57af39b9bd"
  },
  {
   "cell_type": "code",
   "execution_count": 91,
   "outputs": [],
   "source": [
    "def replace_buildings(filled, buildings, output_path, nodata_value=-9999):\n",
    "    with rasterio.open(filled) as filled_src, rasterio.open(buildings) as buildings_src:\n",
    "        filled_array = filled_src.read(1)\n",
    "        buildings_array = buildings_src.read(1)\n",
    "        nodata_filled = filled_src.nodata\n",
    "        nodata_buildings = buildings_src.nodata\n",
    " \n",
    "        filled_array = np.where(filled_array == nodata_filled, nodata_value, filled_array)\n",
    "        buildings_array = np.where(buildings_array == nodata_buildings, nodata_value, buildings_array)\n",
    "\n",
    "        building_mask = buildings_array != nodata_value\n",
    "\n",
    "        result_array = np.where(building_mask, buildings_array, filled_array)\n",
    "\n",
    "        out_meta = filled_src.meta.copy()\n",
    "        out_meta.update({\n",
    "            'dtype': result_array.dtype,\n",
    "            'nodata': nodata_value\n",
    "        })\n",
    "\n",
    "        with rasterio.open(output_path, 'w', **out_meta) as dst:\n",
    "            dst.write(result_array, 1)"
   ],
   "metadata": {
    "collapsed": false,
    "ExecuteTime": {
     "end_time": "2024-09-18T14:33:34.069837500Z",
     "start_time": "2024-09-18T14:33:34.062052800Z"
    }
   },
   "id": "5650f86378ee2e0b"
  },
  {
   "cell_type": "code",
   "execution_count": 92,
   "outputs": [],
   "source": [
    "replace_buildings(\"output/filled_M_25DN2.TIF\", \"output/buildings_25DN2.TIF\", \"output/fin_DTM_25DN2.TIF\", nodata_value=-9999)"
   ],
   "metadata": {
    "collapsed": false,
    "ExecuteTime": {
     "end_time": "2024-09-18T14:33:35.880392300Z",
     "start_time": "2024-09-18T14:33:35.733312200Z"
    }
   },
   "id": "4c0539733f0e2915"
  },
  {
   "cell_type": "code",
   "execution_count": 111,
   "outputs": [],
   "source": [
    "def split_raster(raster_path, output_top_path, output_bottom_path):\n",
    "     with rasterio.open(raster_path) as src:\n",
    "        # Read the data\n",
    "        data = src.read(1)  # Read the first band\n",
    "        transform = src.transform\n",
    "        crs = src.crs\n",
    "        nodata = src.nodata\n",
    "        \n",
    "        nrows, ncols = data.shape\n",
    "        split_row = nrows // 2\n",
    "\n",
    "        top_half = data[:split_row, :]\n",
    "        bottom_half = data[split_row:, :]\n",
    "\n",
    "        top_transform = transform\n",
    "        bottom_transform = transform * Affine.translation(0, -split_row * 2 *transform.e)\n",
    "\n",
    "        top_meta = src.meta.copy()\n",
    "        top_meta.update({\n",
    "            'height': top_half.shape[0],\n",
    "            'width': top_half.shape[1],\n",
    "            'transform': top_transform,\n",
    "            'nodata': nodata\n",
    "        })\n",
    "\n",
    "        bottom_meta = src.meta.copy()\n",
    "        bottom_meta.update({\n",
    "            'height': bottom_half.shape[0],\n",
    "            'width': bottom_half.shape[1],\n",
    "            'transform': bottom_transform,\n",
    "            'nodata': nodata\n",
    "        })\n",
    "\n",
    "        with rasterio.open(output_top_path, 'w', **top_meta) as top_dst:\n",
    "            top_dst.write(top_half, 1)\n",
    "\n",
    "        with rasterio.open(output_bottom_path, 'w', **bottom_meta) as bottom_dst:\n",
    "            bottom_dst.write(bottom_half, 1)\n"
   ],
   "metadata": {
    "collapsed": false,
    "ExecuteTime": {
     "end_time": "2024-09-18T15:00:11.005343100Z",
     "start_time": "2024-09-18T15:00:11.005343100Z"
    }
   },
   "id": "3a1e34ef65093765"
  },
  {
   "cell_type": "code",
   "execution_count": 113,
   "outputs": [
    {
     "name": "stdout",
     "output_type": "stream",
     "text": [
      "Top half saved to final/top_DTM_25DN2.TIF\n",
      "Bottom half saved to final/bottom_DTM_25DN2.TIF\n",
      "Top half saved to final/top_DTM_25DN2.TIF\n",
      "Bottom half saved to final/bottom_DTM_25DN2.TIF\n",
      "Top half saved to final/top_CHM_25DN2.TIF\n",
      "Bottom half saved to final/bottom_CHM_25DN2.TIF\n",
      "Top half saved to final/top_CHM_25DN2.TIF\n",
      "Bottom half saved to final/bottom_CHM_25DN2.TIF\n"
     ]
    }
   ],
   "source": [
    "split_raster(\"output/fin_DTM_25DN2.TIF\", \"final/top_DTM_25DN2.TIF\", \"final/bottom_DTM_25DN2.TIF\")\n",
    "split_raster(\"output/fin_CHM_25DN2.TIF\", \"final/top_CHM_25DN2.TIF\", \"final/bottom_CHM_25DN2.TIF\")"
   ],
   "metadata": {
    "collapsed": false,
    "ExecuteTime": {
     "end_time": "2024-09-18T15:00:21.602695Z",
     "start_time": "2024-09-18T15:00:21.442254600Z"
    }
   },
   "id": "2fa3183e7ba6ebd0"
  }
 ],
 "metadata": {
  "kernelspec": {
   "display_name": "Python 3",
   "language": "python",
   "name": "python3"
  },
  "language_info": {
   "codemirror_mode": {
    "name": "ipython",
    "version": 2
   },
   "file_extension": ".py",
   "mimetype": "text/x-python",
   "name": "python",
   "nbconvert_exporter": "python",
   "pygments_lexer": "ipython2",
   "version": "2.7.6"
  }
 },
 "nbformat": 4,
 "nbformat_minor": 5
}
