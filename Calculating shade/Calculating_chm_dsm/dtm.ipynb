{
 "cells": [
  {
   "cell_type": "code",
   "execution_count": 1,
   "id": "initial_id",
   "metadata": {
    "collapsed": true,
    "ExecuteTime": {
     "end_time": "2024-09-17T18:13:01.227765900Z",
     "start_time": "2024-09-17T18:12:58.223882Z"
    }
   },
   "outputs": [],
   "source": [
    "import cProfile\n",
    "import io\n",
    "import pstats\n",
    "\n",
    "import numpy as np\n",
    "from matplotlib import pyplot as plt\n",
    "from scipy.spatial import cKDTree\n",
    "from scipy.interpolate import griddata\n",
    "\n",
    "import functions\n"
   ]
  },
  {
   "cell_type": "code",
   "execution_count": 2,
   "outputs": [],
   "source": [
    "import laspy\n",
    "import numpy as np\n",
    "\n",
    "def extract_ground_building_points(LasData):\n",
    "    \"\"\"\n",
    "    Extract vegetation points based on classification and NDVI threshold.\n",
    "    \n",
    "    Parameters:\n",
    "    - LasData (laspy.LasData): Input point cloud data.\n",
    "    - ndvi_threshold (float): The NDVI threshold to classify vegetation.\n",
    "    \n",
    "    Returns:\n",
    "    - veg_points (laspy.LasData): Filtered vegetation points as a new LasData object.\n",
    "    \"\"\"\n",
    "    # Filter points based on classification (vegetation-related classes)\n",
    "    building_dsm = LasData[(LasData.classification == 2) |  # ground\n",
    "                                         (LasData.classification == 6)]   # buildings\n",
    "                \n",
    "    return building_dsm\n",
    "\n",
    "\n",
    "def save_vegetation_points_as_las(LasData, output_file, veg_points):\n",
    "    \"\"\"\n",
    "    Extract vegetation points and save them as a new LAS file.\n",
    "    \n",
    "    Parameters:\n",
    "    - LasData (laspy.LasData): Input point cloud data.\n",
    "    - output_file (str): Path to the output LAS file.\n",
    "    - ndvi_threshold (float): NDVI threshold for vegetation points.\n",
    "    \n",
    "    Returns:\n",
    "    - None\n",
    "    \"\"\"\n",
    "    # Extract vegetation points\n",
    "    \n",
    "    # Create a new LasData object for the vegetation points\n",
    "    veg_las_data = laspy.LasData(LasData.header)\n",
    "    veg_las_data.points = veg_points.points  # Assign the filtered vegetation points\n",
    "\n",
    "    # Save the vegetation points to a new LAS file\n",
    "    with laspy.open(output_file, mode=\"w\", header=veg_las_data.header) as writer:\n",
    "        writer.write_points(veg_las_data.points)\n",
    "    \n",
    "    print(f\"Vegetation points saved to {output_file}\")\n",
    "\n",
    "\n",
    "# Example usage:\n",
    "# Load the LAS/LAZ file\n",
    "file_path = \"../data/25DN2_10.LAZ\"\n",
    "\n"
   ],
   "metadata": {
    "collapsed": false,
    "ExecuteTime": {
     "end_time": "2024-09-17T18:13:01.247962200Z",
     "start_time": "2024-09-17T18:13:01.243109Z"
    }
   },
   "id": "2f57e08f5377567"
  },
  {
   "cell_type": "code",
   "execution_count": 3,
   "outputs": [],
   "source": [
    "with laspy.open(file_path, laz_backend=laspy.LazBackend.Lazrs) as las_file:\n",
    "    las_data = las_file.read()\n",
    "\n"
   ],
   "metadata": {
    "collapsed": false,
    "ExecuteTime": {
     "end_time": "2024-09-17T18:13:55.130866Z",
     "start_time": "2024-09-17T18:13:01.247962200Z"
    }
   },
   "id": "f698209d33d2b328"
  },
  {
   "cell_type": "code",
   "execution_count": 4,
   "outputs": [],
   "source": [
    "# make delauney triangulation less expensive\n",
    "\n",
    "def extract_ground_building_points_once(LasData):\n",
    "    \"\"\"\n",
    "    Extract ground and building points based on classification.\n",
    "    \n",
    "    Parameters:\n",
    "    - LasData (laspy.LasData): Input point cloud data.\n",
    "    \n",
    "    Returns:\n",
    "    - ground_points (laspy.LasData): Filtered ground points.\n",
    "    - building_points (laspy.LasData): Filtered building points.\n",
    "    \"\"\"\n",
    "    # Filter points based on classification\n",
    "    \n",
    "    dsm_points = LasData[(LasData.classification == 2) |  \n",
    "                                     (LasData.classification == 6)]\n",
    "\n",
    "    return dsm_points\n",
    "\n",
    "def process_las_data(LasData, ground_percent_to_keep, building_percent_to_keep):\n",
    "    \n",
    "    points = LasData.points\n",
    "    classifications = LasData.classification\n",
    "\n",
    "    ground_mask = (classifications == 2)\n",
    "    building_mask = (classifications == 6)\n",
    "\n",
    "    num_points = len(points)\n",
    "    num_ground_points = np.sum(ground_mask)\n",
    "    num_building_points = np.sum(building_mask)\n",
    "    \n",
    "    num_ground_to_keep = int(num_ground_points * ground_percent_to_keep / 100)\n",
    "    num_building_to_keep = int(num_building_points * building_percent_to_keep / 100)\n",
    "\n",
    "    ground_indices = np.where(ground_mask)[0]\n",
    "    building_indices = np.where(building_mask)[0]\n",
    "\n",
    "    if num_ground_to_keep > 0:\n",
    "        sampled_ground_indices = np.random.choice(ground_indices, num_ground_to_keep, replace=False)\n",
    "    else:\n",
    "        sampled_ground_indices = np.array([])\n",
    "\n",
    "    if num_building_to_keep > 0:\n",
    "        sampled_building_indices = np.random.choice(building_indices, num_building_to_keep, replace=False)\n",
    "    else:\n",
    "        sampled_building_indices = np.array([])\n",
    "\n",
    "    sampled_indices = np.concatenate([sampled_ground_indices, sampled_building_indices])\n",
    "    combined_points = points[sampled_indices]\n",
    "\n",
    "    new_las_data = laspy.LasData(LasData.header)\n",
    "    new_las_data.points = combined_points\n",
    "\n",
    "    return new_las_data\n"
   ],
   "metadata": {
    "collapsed": false,
    "ExecuteTime": {
     "end_time": "2024-09-17T18:13:55.141732900Z",
     "start_time": "2024-09-17T18:13:55.137652800Z"
    }
   },
   "id": "2190ff464b657dd8"
  },
  {
   "cell_type": "code",
   "execution_count": 5,
   "outputs": [],
   "source": [
    "building_dsm_points = extract_ground_building_points_once(las_data)"
   ],
   "metadata": {
    "collapsed": false,
    "ExecuteTime": {
     "end_time": "2024-09-17T18:14:00.036135500Z",
     "start_time": "2024-09-17T18:13:55.146272Z"
    }
   },
   "id": "50a4ee51702fadc5"
  },
  {
   "cell_type": "code",
   "execution_count": 6,
   "outputs": [],
   "source": [
    "import startinpy"
   ],
   "metadata": {
    "collapsed": false,
    "ExecuteTime": {
     "end_time": "2024-09-17T18:14:00.063024300Z",
     "start_time": "2024-09-17T18:14:00.036135500Z"
    }
   },
   "id": "5c397036d639b7f2"
  },
  {
   "cell_type": "code",
   "execution_count": 5,
   "outputs": [],
   "source": [
    "def interpolate_laplace(delt, grid, grid_center_xy):\n",
    "\n",
    "    rows, cols = grid.shape\n",
    "    grid_center_x, grid_center_y = grid_center_xy\n",
    "    \n",
    "    grid = delt.interpolate({\"method\": \"laplace\"}, grid_center_xy)\n",
    "     \n",
    "        \n",
    "    return grid"
   ],
   "metadata": {
    "collapsed": false,
    "ExecuteTime": {
     "end_time": "2024-09-17T15:57:38.787229Z",
     "start_time": "2024-09-17T15:57:38.779683Z"
    }
   },
   "id": "83311072bb7454fe"
  },
  {
   "cell_type": "code",
   "execution_count": 6,
   "outputs": [],
   "source": [
    "def build_dsm(LasData, points, delt, resolution):\n",
    "\n",
    "    # Get the extents of the point cloud\n",
    "    min_x, max_x = round(LasData.x.min()), round(LasData.x.max())\n",
    "    min_y, max_y = round(LasData.y.min()), round(LasData.y.max())\n",
    "    \n",
    "    # Define the size of the region (half_size defines the full size as 2 * half_size)\n",
    "    x_length = max_x - min_x\n",
    "    y_length = max_y - min_y\n",
    "    \n",
    "    # Number of rows and columns based on the extents and resolution\n",
    "    cols = round(x_length / resolution)\n",
    "    rows = round(y_length / resolution)\n",
    "    \n",
    "    # Initialize the raster grid with NaN values (no data value)\n",
    "    dsm_raster = np.full((rows, cols), np.nan, dtype=np.float32)\n",
    "\n",
    "    # Calculate the center coordinates for each grid cell\n",
    "    grid_center_xy = functions.raster_center_coords(min_x, max_x, min_y, max_y, resolution)\n",
    "\n",
    "    if len(points) == 0:\n",
    "        print(\"step4, vegetation_raster_idw: There are no vegetation points in the current area.\")\n",
    "        return dsm_raster, grid_center_xy\n",
    "\n",
    "    # Perform IDW interpolation using k-d tree\n",
    "    interpolate_laplace(delt, dsm_raster, grid_center_xy)\n",
    "\n",
    "    return dsm_raster, grid_center_xy"
   ],
   "metadata": {
    "collapsed": false,
    "ExecuteTime": {
     "end_time": "2024-09-17T15:57:38.809579600Z",
     "start_time": "2024-09-17T15:57:38.787229Z"
    }
   },
   "id": "533939585d267950"
  },
  {
   "cell_type": "markdown",
   "source": [],
   "metadata": {
    "collapsed": false
   },
   "id": "243b877ff01d59f1"
  },
  {
   "cell_type": "code",
   "execution_count": 17,
   "outputs": [
    {
     "name": "stdout",
     "output_type": "stream",
     "text": [
      "Vegetation points saved to ../data/output_buildground_las_og\n"
     ]
    }
   ],
   "source": [
    "save_vegetation_points_as_las(las_data, \"../data/output_buildground_las_og\", building_dsm_points)"
   ],
   "metadata": {
    "collapsed": false,
    "ExecuteTime": {
     "end_time": "2024-09-17T16:06:51.307666700Z",
     "start_time": "2024-09-17T16:06:46.037621700Z"
    }
   },
   "id": "41f2181341c96e58"
  },
  {
   "cell_type": "code",
   "execution_count": null,
   "outputs": [],
   "source": [
    "def step4_main(delt,LasData, buildingdsm,resolution=0.5, search_radius=1.0, idw_power=2.0, write_output=True, show_fig=False):\n",
    "\n",
    "    builddsm_points = extract_ground_building_points(LasData)\n",
    "    build_data =  build_dsm(LasData, builddsm_points, delt, resolution)\n",
    "    veg_raster = build_data[0]\n",
    "    grid_centers = build_data[1]\n",
    "    top_left_x = grid_centers[0][0, 0] - resolution / 2\n",
    "    top_left_y = grid_centers[1][0, 0] + resolution / 2\n",
    "    if write_output:\n",
    "        transform = functions.create_affine_transform(top_left_x, top_left_y, resolution)\n",
    "        functions.write_output(builddsm_points, veg_raster, transform, \"../data/builddsm.tiff\")"
   ],
   "metadata": {
    "collapsed": false,
    "ExecuteTime": {
     "end_time": "2024-09-17T15:57:41.643152800Z",
     "start_time": "2024-09-17T15:57:41.642145200Z"
    }
   },
   "id": "f2ea2ab514091310"
  },
  {
   "cell_type": "code",
   "execution_count": 7,
   "outputs": [],
   "source": [
    "dsm_thinned = process_las_data(las_data, 10, 10)\n"
   ],
   "metadata": {
    "collapsed": false,
    "ExecuteTime": {
     "end_time": "2024-09-17T18:14:04.252737500Z",
     "start_time": "2024-09-17T18:14:00.067574200Z"
    }
   },
   "id": "5338ab62bcda2c97"
  },
  {
   "cell_type": "code",
   "execution_count": 26,
   "outputs": [
    {
     "name": "stdout",
     "output_type": "stream",
     "text": [
      "Vegetation points saved to ../data/output_buildground_las_thinned\n"
     ]
    }
   ],
   "source": [
    "save_vegetation_points_as_las(las_data, \"../data/output_buildground_las_thinned\", dsm_thinned)"
   ],
   "metadata": {
    "collapsed": false,
    "ExecuteTime": {
     "end_time": "2024-09-17T16:22:30.599494100Z",
     "start_time": "2024-09-17T16:22:29.657491Z"
    }
   },
   "id": "67e7ec70efdfdb2a"
  },
  {
   "cell_type": "code",
   "execution_count": null,
   "outputs": [],
   "source": [
    "\n",
    "points_list = np.array(dsm_thinned)\n"
   ],
   "metadata": {
    "collapsed": false,
    "ExecuteTime": {
     "start_time": "2024-09-17T20:26:53.463052200Z"
    }
   },
   "id": "c726373a5b472cdb"
  },
  {
   "cell_type": "code",
   "execution_count": null,
   "outputs": [],
   "source": [
    "points_list.length\n",
    "building_dsm_points.length"
   ],
   "metadata": {
    "collapsed": false,
    "ExecuteTime": {
     "start_time": "2024-09-17T20:26:53.463052200Z"
    }
   },
   "id": "532d0e7d1e1508f3"
  },
  {
   "cell_type": "code",
   "execution_count": null,
   "outputs": [],
   "source": [
    "dt = startinpy.dt\n",
    "dt.insert(points_list)"
   ],
   "metadata": {
    "collapsed": false
   },
   "id": "ad294ed8d1a1a876"
  },
  {
   "cell_type": "code",
   "execution_count": null,
   "outputs": [],
   "source": [
    "step4_main(dt, las_data, building_dsm_points, resolution=0.5, search_radius=1.0, idw_power=2.0, write_output=True, show_fig=False)"
   ],
   "metadata": {
    "collapsed": false
   },
   "id": "281d972f707d3e44"
  }
 ],
 "metadata": {
  "kernelspec": {
   "display_name": "Python 3",
   "language": "python",
   "name": "python3"
  },
  "language_info": {
   "codemirror_mode": {
    "name": "ipython",
    "version": 2
   },
   "file_extension": ".py",
   "mimetype": "text/x-python",
   "name": "python",
   "nbconvert_exporter": "python",
   "pygments_lexer": "ipython2",
   "version": "2.7.6"
  }
 },
 "nbformat": 4,
 "nbformat_minor": 5
}
