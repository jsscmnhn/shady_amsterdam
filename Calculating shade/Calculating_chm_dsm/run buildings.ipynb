{
 "cells": [
  {
   "cell_type": "code",
   "id": "initial_id",
   "metadata": {
    "collapsed": true
   },
   "source": [
    ""
   ],
   "outputs": [],
   "execution_count": null
  },
  {
   "metadata": {
    "ExecuteTime": {
<<<<<<< Updated upstream
     "end_time": "2024-10-07T15:42:39.815115Z",
     "start_time": "2024-10-07T15:42:38.273100Z"
=======
     "end_time": "2024-10-07T08:52:10.473873Z",
     "start_time": "2024-10-07T08:52:07.273405Z"
>>>>>>> Stashed changes
    }
   },
   "cell_type": "code",
   "source": [
    "import os\n",
    "import glob\n",
    "import re\n",
    "import geopandas as gpd\n",
    "import numpy as np\n",
    "import rasterio\n",
    "from shapely.geometry import mapping\n",
    "from rasterio.features import geometry_mask\n",
    "from scipy.interpolate import NearestNDInterpolator\n",
    "from functions import write_output\n",
    "import tqdm\n",
    "import startinpy\n",
    "import time\n",
    "from rasterio import Affine\n",
    "\n",
    "def get_bbox(raster_paths):\n",
    "    bboxes = []\n",
    "    for raster_path in raster_paths:\n",
    "        with rasterio.open(raster_path) as src:\n",
    "            bbox = src.bounds\n",
    "            bboxes.append(bbox)\n",
    "    left = max([bbox.left for bbox in bboxes])\n",
    "    bottom = max([bbox.bottom for bbox in bboxes])\n",
    "    right = min([bbox.right for bbox in bboxes])\n",
    "    top = min([bbox.top for bbox in bboxes])\n",
    "    return rasterio.coords.BoundingBox(left, bottom, right, top)\n",
    "\n",
    "def crop_raster(raster_path, bbox, no_data=-9999, file_number=None, tile=None):\n",
    "    with rasterio.open(raster_path) as src:\n",
    "        window = src.window(bbox.left, bbox.bottom, bbox.right, bbox.top)\n",
    "\n",
    "        # Read the data for the specified window\n",
    "        cropped_data = src.read(window=window)\n",
    "\n",
    "        # Ensure window attributes are integers (sometimes bbox in float)\n",
    "        row_off = int(window.row_off)\n",
    "        col_off = int(window.col_off)\n",
    "        height = int(window.height)\n",
    "        width = int(window.width)\n",
    "\n",
    "        # Replace no-data values in the data\n",
    "        if src.nodata is not None:\n",
    "            cropped_data[cropped_data == src.nodata] = no_data\n",
    "\n",
    "        # Check for specific tile conditions for cropping\n",
    "        if tile == \"25DN2\" and file_number in [\"25\", \"24\"]:\n",
    "            cropped_data = cropped_data[:, :2150, :]  \n",
    "\n",
    "        return cropped_data, src.window_transform(window), src.crs\n",
    "    \n",
    "def extract_center_cells(cropped_data, no_data=-9999):\n",
    "    # Get coordinates of center cells\n",
    "    cropped_data = cropped_data[0, :, :]\n",
    "\n",
    "    # Get the indices of the rows and columns\n",
    "    rows, cols = np.indices(cropped_data.shape)\n",
    "\n",
    "    # Identify corner coordinates\n",
    "    corners = {\n",
    "        \"top_left\": (0, 0),\n",
    "        \"top_right\": (0, cropped_data.shape[1] - 1),\n",
    "        \"bottom_left\": (cropped_data.shape[0] - 1, 0),\n",
    "        \"bottom_right\": (cropped_data.shape[0] - 1, cropped_data.shape[1] - 1)\n",
    "    }\n",
    "    \n",
    "    # Mask for valid center cells (non-no_data)\n",
    "    valid_center_cells = (cropped_data != no_data) \n",
    "\n",
    "    # Extract x, y, z values for valid cells\n",
    "    x_valid = cols[valid_center_cells]\n",
    "    y_valid = rows[valid_center_cells]\n",
    "    z_valid = cropped_data[valid_center_cells]\n",
    "\n",
    "    # Create interpolator from valid points\n",
    "    interpolator = NearestNDInterpolator(list(zip(x_valid, y_valid)), z_valid)\n",
    "\n",
    "    # Check each corner for no data and interpolate if necessary\n",
    "    for corner_name, (row, col) in corners.items():\n",
    "        if cropped_data[row, col] == no_data:\n",
    "            # Interpolate the nearest valid value\n",
    "            cropped_data[row, col] = interpolator((col, row))\n",
    "\n",
    "    # Extract non-no_data and center cells again after filling corners\n",
    "    valid_center_cells = (cropped_data != no_data)\n",
    "\n",
    "    # Extract final x, y, z values after filling corners\n",
    "    x_filled = cols[valid_center_cells]\n",
    "    y_filled = rows[valid_center_cells]\n",
    "    z_filled = cropped_data[valid_center_cells]\n",
    "\n",
    "    # Prepare final list of [x, y, z]\n",
    "    xyz_filled = []\n",
    "    for x_i, y_i, z_i in zip(x_filled, y_filled, z_filled):\n",
    "        xyz_filled.append([x_i, y_i, z_i])\n",
    "\n",
    "    return xyz_filled\n",
    "\n",
    "\n",
    "def fill_raster(cropped_data, nodata_value, transform):\n",
    "    # creating delaunay\n",
    "    points = extract_center_cells(cropped_data, no_data=nodata_value)\n",
    "    dt = startinpy.DT()\n",
    "    dt.insert(points, \"BBox\")\n",
    "    print(\"dt\")\n",
    "\n",
    "    # now interpolation\n",
    "    new_data = np.copy(cropped_data)\n",
    "\n",
    "    # for interpolation, grid of all column and row positions, excluding the first and last rows/cols\n",
    "    cols, rows = np.meshgrid(\n",
    "        np.arange(1, cropped_data.shape[2] - 1),\n",
    "        np.arange(1, cropped_data.shape[1] - 1)\n",
    "\n",
    "    )\n",
    "\n",
    "    # flatten the grid to get a list of all (col, row) locations\n",
    "    locs = np.column_stack((cols.ravel(), rows.ravel()))\n",
    "\n",
    "    # laplace interpolation\n",
    "    interpolated_values = dt.interpolate({\"method\": \"Laplace\"}, locs)\n",
    "\n",
    "    # reshape interpolated grid back to og\n",
    "    interpolated_grid = np.reshape(interpolated_values, (cropped_data.shape[1] - 2, cropped_data.shape[2] - 2))\n",
    "\n",
    "    # fill new_data with interpolated values\n",
    "    new_data[0, 1:-1, 1:-1] = interpolated_grid\n",
    "    new_data = np.where(np.isnan(new_data), nodata_value, new_data)\n",
    "    \n",
    "    new_transform = transform * Affine.translation(1, 1)\n",
    "\n",
    "    return new_data[0, 1:-1, 1:-1], new_transform\n",
    "\n",
    "def chm_finish(chm_array, dtm_array, transform):\n",
    "    result_array = chm_array[0, 1:-1, 1:-1] - dtm_array\n",
    "    result_array[(result_array < 2) | (result_array > 40)] = 0\n",
    "    \n",
    "    new_transform = transform * Affine.translation(1, 1)\n",
    "\n",
    "    return result_array, new_transform\n",
    "\n",
    "def replace_buildings(filled_dtm, dsm_buildings, buildings_geometries, transform, nodata_value=-9999):\n",
    "\n",
    "    building_mask = geometry_mask(buildings_geometries, transform=transform, invert=False, out_shape=filled_dtm.shape)\n",
    "\n",
    "    # Apply the mask to the filled DTM\n",
    "    final_dtm = np.where((building_mask), filled_dtm, dsm_buildings)\n",
    "\n",
    "    return final_dtm\n",
    "\n",
    "\n",
    "def load_buildings(buildings_path, layer):\n",
    "     buildings_gdf = gpd.read_file(buildings_path, layer = layer)\n",
    "     return [mapping(geom) for geom in buildings_gdf.geometry]\n",
    "\n",
    "def extract_tilename(filename):\n",
    "    match = re.match(r'CHM_(\\w+)_\\d+\\.TIF', filename)\n",
    "    if match:\n",
    "        return match.group(1)\n",
    "    return None\n",
    "\n",
    "\n",
    "def process_files(chm_files, dtm_path, dsm_path, buildings_path, output_base_folder, nodata_value=-9999):\n",
    "    first_chm_filename = os.path.basename(chm_files[0])\n",
    "    tile = extract_tilename(first_chm_filename)\n",
    "\n",
    "    if not tile:\n",
    "        print(f\"Skipping {first_chm_filename}, couldn't extract common part.\")\n",
    "        return\n",
    "\n",
    "    # building geom loaded in once\n",
    "    building_geometries = load_buildings(buildings_path, layer=tile)\n",
    "\n",
    "    # output folder for tile\n",
    "    output_folder = os.path.join(output_base_folder, tile)\n",
    "    os.makedirs(output_folder, exist_ok=True)\n",
    "    total_start_time = time.time()\n",
    "\n",
    "\n",
    "    # Use tqdm to wrap the file list for progress tracking\n",
    "    for chm_path in tqdm.tqdm(chm_files, desc=\"Processing Files\", unit=\"file\"):\n",
    "        chm_filename = os.path.basename(chm_path)\n",
    "        file_number = re.search(r'_(\\d+)\\.TIF', chm_filename).group(1)\n",
    "        print(file_number)\n",
    "\n",
    "        # overlap BBOX dtm, dsm & chm\n",
    "        raster_paths = [dtm_path, chm_path, dsm_path]\n",
    "        overlapping_bbox = get_bbox(raster_paths)\n",
    "        print(f\"\\nProcessing tile {chm_filename}\")\n",
    "        start_time = time.time()\n",
    "\n",
    "        # Cropping rasters to bbox\n",
    "        dtm_cropped, dtm_transform, dtm_crs = crop_raster(dtm_path, overlapping_bbox, no_data=nodata_value, tile=tile, file_number=file_number)\n",
    "        dsm_cropped, dsm_transform, dsm_crs = crop_raster(dsm_path, overlapping_bbox, no_data=nodata_value, tile=tile, file_number=file_number)\n",
    "        chm_cropped, chm_transform, _ = crop_raster(chm_path, overlapping_bbox, no_data=nodata_value,  tile=tile, file_number=file_number)\n",
    "        \n",
    "       \n",
    "        print(f\"cropped at {(time.time() - start_time):.2f}\")\n",
    "        # no data values fill\n",
    "\n",
    "        # fill\n",
    "        filled_dtm, _ = fill_raster(dtm_cropped, nodata_value, dtm_transform)\n",
    "        print(f\"filled dtm at {(time.time() - start_time):.2f}\")\n",
    "\n",
    "        filled_dsm, new_dsm_transform = fill_raster(dsm_cropped, nodata_value, dsm_transform)\n",
    "        print(f\"filled dsm at {(time.time() - start_time):.2f}\")\n",
    "        # # norm CHM calculation\n",
    "        chm_result, new_chm_transform = chm_finish(chm_cropped, filled_dtm, chm_transform)\n",
    "        #\n",
    "        # Insert buildings from DSM in DTM\n",
    "        final_dsm_with_buildings = replace_buildings(filled_dtm, filled_dsm, building_geometries, new_dsm_transform,\n",
    "                                                     nodata_value)\n",
    "        print(f\"filled buildings at {(time.time() - start_time):.2f}\")\n",
    "\n",
    "        # output file names\n",
    "        output_dtm_filename = f\"DSM_{tile}_{file_number}.tif\"\n",
    "        output_chm_filename = f\"CHM_{tile}_{file_number}.tif\"\n",
    "\n",
    "        # Saving final DTM + buildings\n",
    "        output_dtm_path = os.path.join(output_folder, output_dtm_filename)\n",
    "        write_output(rasterio.open(dtm_path), final_dsm_with_buildings, new_dsm_transform, output_dtm_path, True)\n",
    "\n",
    "        # FOR NOW SAVING TO NEW PATH FOR TESTING -> CHANGE THIS WHEN IT WORKS\n",
    "        output_chm_path = os.path.join(output_folder, output_chm_filename)\n",
    "        write_output(rasterio.open(chm_path), chm_result, new_chm_transform, output_chm_path, True)\n",
    "\n",
    "        elapsed_time = time.time() - start_time\n",
    "        print(f\"Processed {chm_filename} in {elapsed_time:.2f} seconds and saved output to {output_dtm_filename}\")\n",
    "    \n",
    "    total_elapsed_time = time.time() - total_start_time\n",
    "    print(f\"\\nAll files processed in {total_elapsed_time:.2f} seconds.\")\n"
   ],
   "id": "21d653748e2b38be",
   "outputs": [],
   "execution_count": 1
<<<<<<< Updated upstream
  },
  {
   "metadata": {},
   "cell_type": "code",
   "outputs": [],
   "execution_count": null,
   "source": "",
   "id": "2a4d0c6360bc48d6"
=======
>>>>>>> Stashed changes
  },
  {
   "metadata": {
    "ExecuteTime": {
<<<<<<< Updated upstream
     "end_time": "2024-10-07T15:43:04.240667Z",
     "start_time": "2024-10-07T15:43:04.237159Z"
=======
     "end_time": "2024-10-07T08:52:49.705549Z",
     "start_time": "2024-10-07T08:52:49.691674Z"
>>>>>>> Stashed changes
    }
   },
   "cell_type": "code",
   "source": [
    "geotiff_dtm = \"data/DTM_ams.tif\"\n",
    "geotiff_dsm = \"data/DSM_ams.tif\"\n",
    "buildings = \"data/ams_buildings.gpkg\"\n"
   ],
   "id": "41e2a8f29b19d471",
   "outputs": [],
<<<<<<< Updated upstream
   "execution_count": 2
  },
  {
   "metadata": {
    "jupyter": {
     "is_executing": true
    },
    "ExecuteTime": {
     "start_time": "2024-10-07T15:44:11.006078Z"
    }
   },
   "cell_type": "code",
   "source": [
    "chm_folder = \"F:/SA/JESSICA/CHM/25DN2\"\n",
    "output_base_folder = \"D:/Geomatics/final\"\n",
    "\n",
    "chm_files = glob.glob(os.path.join(chm_folder, \"*.TIF\"))\n",
    "process_files(chm_files, geotiff_dtm, geotiff_dsm, buildings, output_base_folder)"
   ],
   "id": "cd9dd174a98d4ded",
   "outputs": [
    {
     "name": "stderr",
     "output_type": "stream",
     "text": [
      "Processing Files:   0%|          | 0/3 [00:00<?, ?file/s]"
     ]
    },
    {
     "name": "stdout",
     "output_type": "stream",
     "text": [
      "01\n",
      "\n",
      "Processing tile CHM_25DN2_01.TIF\n",
      "cropped at 4.92\n",
      "dt\n"
     ]
    }
   ],
   "execution_count": null
  },
  {
   "metadata": {},
   "cell_type": "code",
   "outputs": [],
   "execution_count": null,
   "source": [
    "chm_folder = \"F:/SA/JESSICA/CHM/25EZ1\"\n",
    "output_base_folder = \"D:/Geomatics/final\"\n",
    "\n",
    "chm_files = glob.glob(os.path.join(chm_folder, \"*.TIF\"))\n",
    "process_files(chm_files, geotiff_dtm, geotiff_dsm, buildings, output_base_folder)"
   ],
   "id": "3ea9524f8909ae06"
  },
  {
   "metadata": {},
   "cell_type": "code",
   "outputs": [],
   "execution_count": null,
   "source": [
    "chm_folder = \"F:/SA/JESSICA/CHM/25EZ1\"\n",
    "output_base_folder = \"D:/Geomatics/final\"\n",
    "\n",
    "chm_files = glob.glob(os.path.join(chm_folder, \"*.TIF\"))\n",
    "process_files(chm_files, geotiff_dtm, geotiff_dsm, buildings, output_base_folder)"
   ],
   "id": "6ed9083fbcd648a1"
  },
  {
   "metadata": {},
   "cell_type": "code",
   "outputs": [],
   "execution_count": null,
   "source": [
    "chm_folder = \"F:/SA/JESSICA/CHM/25FZ1\"\n",
    "output_base_folder = \"D:/Geomatics/final\"\n",
    "\n",
    "chm_files = glob.glob(os.path.join(chm_folder, \"*.TIF\"))\n",
    "process_files(chm_files, geotiff_dtm, geotiff_dsm, buildings, output_base_folder)"
   ],
   "id": "682a1cdef2971158"
  },
  {
   "metadata": {},
   "cell_type": "code",
   "outputs": [],
   "execution_count": null,
   "source": [
    "chm_folder = \"F:/SA/JESSICA/CHM/25GN2\"\n",
    "output_base_folder = \"D:/Geomatics/final\"\n",
    "\n",
    "chm_files = glob.glob(os.path.join(chm_folder, \"*.TIF\"))\n",
    "process_files(chm_files, geotiff_dtm, geotiff_dsm, buildings, output_base_folder)"
   ],
   "id": "62e9bf37840c505"
  },
  {
   "metadata": {},
   "cell_type": "code",
   "outputs": [],
   "execution_count": null,
   "source": [
    "chm_folder = \"F:/SA/JESSICA/CHM/25HZ1\"\n",
    "output_base_folder = \"D:/Geomatics/final\"\n",
    "\n",
    "chm_files = glob.glob(os.path.join(chm_folder, \"*.TIF\"))\n",
    "process_files(chm_files, geotiff_dtm, geotiff_dsm, buildings, output_base_folder)"
   ],
   "id": "238c703717390bf"
=======
   "execution_count": 4
>>>>>>> Stashed changes
  },
  {
   "metadata": {
    "ExecuteTime": {
     "end_time": "2024-10-06T18:08:24.660940Z",
     "start_time": "2024-10-06T16:03:05.693111Z"
    }
   },
   "cell_type": "code",
   "source": [
    "chm_folder = \"D:/Geomatics/CHM/25DN2\"\n",
    "output_base_folder = \"D:/Geomatics/final\"\n",
    "\n",
    "chm_files = glob.glob(os.path.join(chm_folder, \"*.TIF\"))\n",
    "process_files(chm_files, geotiff_dtm, geotiff_dsm, buildings, output_base_folder)"
   ],
   "id": "e6e3b946fdad3f7c",
   "outputs": [
    {
     "name": "stderr",
     "output_type": "stream",
     "text": [
      "Processing Files:   0%|          | 0/22 [00:00<?, ?file/s]"
     ]
    },
    {
     "name": "stdout",
     "output_type": "stream",
     "text": [
      "25\n",
      "\n",
      "Processing tile CHM_25DN2_25.TIF\n",
      "cropped at 12.92\n",
      "dt\n",
      "filled dtm at 121.26\n",
      "dt\n",
      "filled dsm at 292.34\n",
      "filled buildings at 293.19\n"
     ]
    },
    {
     "name": "stderr",
     "output_type": "stream",
     "text": [
      "Processing Files:   5%|▍         | 1/22 [04:54<1:43:02, 294.43s/file]"
     ]
    },
    {
     "name": "stdout",
     "output_type": "stream",
     "text": [
      "File written to 'D:/Geomatics/final\\25DN2\\DSM_25DN2_25.tif'\n",
      "File written to 'D:/Geomatics/final\\25DN2\\CHM_25DN2_25.tif'\n",
      "Processed CHM_25DN2_25.TIF in 294.27 seconds and saved output to DSM_25DN2_25.tif\n",
      "24\n",
      "\n",
      "Processing tile CHM_25DN2_24.TIF\n",
      "cropped at 13.75\n",
      "dt\n",
      "filled dtm at 149.39\n",
      "dt\n",
      "filled dsm at 320.56\n",
      "filled buildings at 321.01\n"
     ]
    },
    {
     "name": "stderr",
     "output_type": "stream",
     "text": [
      "Processing Files:   9%|▉         | 2/22 [10:16<1:43:33, 310.70s/file]"
     ]
    },
    {
     "name": "stdout",
     "output_type": "stream",
     "text": [
      "File written to 'D:/Geomatics/final\\25DN2\\DSM_25DN2_24.tif'\n",
      "File written to 'D:/Geomatics/final\\25DN2\\CHM_25DN2_24.tif'\n",
      "Processed CHM_25DN2_24.TIF in 322.04 seconds and saved output to DSM_25DN2_24.tif\n",
      "20\n",
      "\n",
      "Processing tile CHM_25DN2_20.TIF\n",
      "cropped at 8.88\n",
      "dt\n",
      "filled dtm at 165.74\n",
      "dt\n",
      "filled dsm at 386.78\n",
      "filled buildings at 388.16\n"
     ]
    },
    {
     "name": "stderr",
     "output_type": "stream",
     "text": [
      "Processing Files:  14%|█▎        | 3/22 [16:45<1:49:46, 346.66s/file]"
     ]
    },
    {
     "name": "stdout",
     "output_type": "stream",
     "text": [
      "File written to 'D:/Geomatics/final\\25DN2\\DSM_25DN2_20.tif'\n",
      "File written to 'D:/Geomatics/final\\25DN2\\CHM_25DN2_20.tif'\n",
      "Processed CHM_25DN2_20.TIF in 389.37 seconds and saved output to DSM_25DN2_20.tif\n",
      "19\n",
      "\n",
      "Processing tile CHM_25DN2_19.TIF\n",
      "cropped at 14.85\n",
      "dt\n",
      "filled dtm at 188.34\n",
      "dt\n",
      "filled dsm at 336.88\n",
      "filled buildings at 337.34\n"
     ]
    },
    {
     "name": "stderr",
     "output_type": "stream",
     "text": [
      "Processing Files:  18%|█▊        | 4/22 [22:24<1:43:01, 343.43s/file]"
     ]
    },
    {
     "name": "stdout",
     "output_type": "stream",
     "text": [
      "File written to 'D:/Geomatics/final\\25DN2\\DSM_25DN2_19.tif'\n",
      "File written to 'D:/Geomatics/final\\25DN2\\CHM_25DN2_19.tif'\n",
      "Processed CHM_25DN2_19.TIF in 338.42 seconds and saved output to DSM_25DN2_19.tif\n",
      "18\n",
      "\n",
      "Processing tile CHM_25DN2_18.TIF\n",
      "cropped at 11.00\n",
      "dt\n",
      "filled dtm at 354.17\n",
      "dt\n",
      "filled dsm at 506.99\n",
      "filled buildings at 507.39\n"
     ]
    },
    {
     "name": "stderr",
     "output_type": "stream",
     "text": [
      "Processing Files:  23%|██▎       | 5/22 [30:52<1:54:10, 402.97s/file]"
     ]
    },
    {
     "name": "stdout",
     "output_type": "stream",
     "text": [
      "File written to 'D:/Geomatics/final\\25DN2\\DSM_25DN2_18.tif'\n",
      "File written to 'D:/Geomatics/final\\25DN2\\CHM_25DN2_18.tif'\n",
      "Processed CHM_25DN2_18.TIF in 508.47 seconds and saved output to DSM_25DN2_18.tif\n",
      "17\n",
      "\n",
      "Processing tile CHM_25DN2_17.TIF\n",
      "cropped at 12.28\n",
      "dt\n",
      "filled dtm at 364.70\n",
      "dt\n",
      "filled dsm at 562.43\n",
      "filled buildings at 563.08\n"
     ]
    },
    {
     "name": "stderr",
     "output_type": "stream",
     "text": [
      "Processing Files:  27%|██▋       | 6/22 [40:17<2:02:04, 457.80s/file]"
     ]
    },
    {
     "name": "stdout",
     "output_type": "stream",
     "text": [
      "File written to 'D:/Geomatics/final\\25DN2\\DSM_25DN2_17.tif'\n",
      "File written to 'D:/Geomatics/final\\25DN2\\CHM_25DN2_17.tif'\n",
      "Processed CHM_25DN2_17.TIF in 564.17 seconds and saved output to DSM_25DN2_17.tif\n",
      "16\n",
      "\n",
      "Processing tile CHM_25DN2_16.TIF\n",
      "cropped at 14.24\n",
      "dt\n",
      "filled dtm at 200.46\n",
      "dt\n",
      "filled dsm at 356.14\n",
      "filled buildings at 356.99\n"
     ]
    },
    {
     "name": "stderr",
     "output_type": "stream",
     "text": [
      "Processing Files:  32%|███▏      | 7/22 [46:15<1:46:18, 425.23s/file]"
     ]
    },
    {
     "name": "stdout",
     "output_type": "stream",
     "text": [
      "File written to 'D:/Geomatics/final\\25DN2\\DSM_25DN2_16.tif'\n",
      "File written to 'D:/Geomatics/final\\25DN2\\CHM_25DN2_16.tif'\n",
      "Processed CHM_25DN2_16.TIF in 358.11 seconds and saved output to DSM_25DN2_16.tif\n",
      "15\n",
      "\n",
      "Processing tile CHM_25DN2_15.TIF\n",
      "cropped at 12.30\n",
      "dt\n",
      "filled dtm at 102.08\n",
      "dt\n",
      "filled dsm at 256.04\n",
      "filled buildings at 256.57\n"
     ]
    },
    {
     "name": "stderr",
     "output_type": "stream",
     "text": [
      "Processing Files:  36%|███▋      | 8/22 [50:33<1:26:46, 371.89s/file]"
     ]
    },
    {
     "name": "stdout",
     "output_type": "stream",
     "text": [
      "File written to 'D:/Geomatics/final\\25DN2\\DSM_25DN2_15.tif'\n",
      "File written to 'D:/Geomatics/final\\25DN2\\CHM_25DN2_15.tif'\n",
      "Processed CHM_25DN2_15.TIF in 257.63 seconds and saved output to DSM_25DN2_15.tif\n",
      "14\n",
      "\n",
      "Processing tile CHM_25DN2_14.TIF\n",
      "cropped at 10.66\n",
      "dt\n",
      "filled dtm at 141.69\n",
      "dt\n",
      "filled dsm at 286.13\n",
      "filled buildings at 286.59\n"
     ]
    },
    {
     "name": "stderr",
     "output_type": "stream",
     "text": [
      "Processing Files:  41%|████      | 9/22 [55:20<1:14:52, 345.57s/file]"
     ]
    },
    {
     "name": "stdout",
     "output_type": "stream",
     "text": [
      "File written to 'D:/Geomatics/final\\25DN2\\DSM_25DN2_14.tif'\n",
      "File written to 'D:/Geomatics/final\\25DN2\\CHM_25DN2_14.tif'\n",
      "Processed CHM_25DN2_14.TIF in 287.63 seconds and saved output to DSM_25DN2_14.tif\n",
      "13\n",
      "\n",
      "Processing tile CHM_25DN2_13.TIF\n",
      "cropped at 9.75\n",
      "dt\n",
      "filled dtm at 221.68\n",
      "dt\n",
      "filled dsm at 405.54\n",
      "filled buildings at 406.28\n"
     ]
    },
    {
     "name": "stderr",
     "output_type": "stream",
     "text": [
      "Processing Files:  45%|████▌     | 10/22 [1:02:08<1:12:56, 364.68s/file]"
     ]
    },
    {
     "name": "stdout",
     "output_type": "stream",
     "text": [
      "File written to 'D:/Geomatics/final\\25DN2\\DSM_25DN2_13.tif'\n",
      "File written to 'D:/Geomatics/final\\25DN2\\CHM_25DN2_13.tif'\n",
      "Processed CHM_25DN2_13.TIF in 407.43 seconds and saved output to DSM_25DN2_13.tif\n",
      "12\n",
      "\n",
      "Processing tile CHM_25DN2_12.TIF\n",
      "cropped at 10.32\n",
      "dt\n",
      "filled dtm at 190.59\n",
      "dt\n",
      "filled dsm at 403.08\n",
      "filled buildings at 404.31\n"
     ]
    },
    {
     "name": "stderr",
     "output_type": "stream",
     "text": [
      "Processing Files:  50%|█████     | 11/22 [1:08:53<1:09:09, 377.19s/file]"
     ]
    },
    {
     "name": "stdout",
     "output_type": "stream",
     "text": [
      "File written to 'D:/Geomatics/final\\25DN2\\DSM_25DN2_12.tif'\n",
      "File written to 'D:/Geomatics/final\\25DN2\\CHM_25DN2_12.tif'\n",
      "Processed CHM_25DN2_12.TIF in 405.50 seconds and saved output to DSM_25DN2_12.tif\n",
      "11\n",
      "\n",
      "Processing tile CHM_25DN2_11.TIF\n",
      "cropped at 13.31\n",
      "dt\n",
      "filled dtm at 111.17\n",
      "dt\n",
      "filled dsm at 271.01\n",
      "filled buildings at 272.07\n"
     ]
    },
    {
     "name": "stderr",
     "output_type": "stream",
     "text": [
      "Processing Files:  55%|█████▍    | 12/22 [1:13:27<57:35, 345.58s/file]  "
     ]
    },
    {
     "name": "stdout",
     "output_type": "stream",
     "text": [
      "File written to 'D:/Geomatics/final\\25DN2\\DSM_25DN2_11.tif'\n",
      "File written to 'D:/Geomatics/final\\25DN2\\CHM_25DN2_11.tif'\n",
      "Processed CHM_25DN2_11.TIF in 273.23 seconds and saved output to DSM_25DN2_11.tif\n",
      "10\n",
      "\n",
      "Processing tile CHM_25DN2_10.TIF\n",
      "cropped at 19.13\n",
      "dt\n",
      "filled dtm at 118.71\n",
      "dt\n",
      "filled dsm at 295.66\n",
      "filled buildings at 296.69\n"
     ]
    },
    {
     "name": "stderr",
     "output_type": "stream",
     "text": [
      "Processing Files:  59%|█████▉    | 13/22 [1:18:24<49:40, 331.14s/file]"
     ]
    },
    {
     "name": "stdout",
     "output_type": "stream",
     "text": [
      "File written to 'D:/Geomatics/final\\25DN2\\DSM_25DN2_10.tif'\n",
      "File written to 'D:/Geomatics/final\\25DN2\\CHM_25DN2_10.tif'\n",
      "Processed CHM_25DN2_10.TIF in 297.87 seconds and saved output to DSM_25DN2_10.tif\n",
      "09\n",
      "\n",
      "Processing tile CHM_25DN2_09.TIF\n",
      "cropped at 16.33\n",
      "dt\n",
      "filled dtm at 216.12\n",
      "dt\n",
      "filled dsm at 355.97\n",
      "filled buildings at 356.37\n"
     ]
    },
    {
     "name": "stderr",
     "output_type": "stream",
     "text": [
      "Processing Files:  64%|██████▎   | 14/22 [1:24:22<45:12, 339.10s/file]"
     ]
    },
    {
     "name": "stdout",
     "output_type": "stream",
     "text": [
      "File written to 'D:/Geomatics/final\\25DN2\\DSM_25DN2_09.tif'\n",
      "File written to 'D:/Geomatics/final\\25DN2\\CHM_25DN2_09.tif'\n",
      "Processed CHM_25DN2_09.TIF in 357.42 seconds and saved output to DSM_25DN2_09.tif\n",
      "08\n",
      "\n",
      "Processing tile CHM_25DN2_08.TIF\n",
      "cropped at 8.64\n",
      "dt\n",
      "filled dtm at 153.58\n",
      "dt\n",
      "filled dsm at 326.78\n",
      "filled buildings at 327.15\n"
     ]
    },
    {
     "name": "stderr",
     "output_type": "stream",
     "text": [
      "Processing Files:  68%|██████▊   | 15/22 [1:29:50<39:10, 335.82s/file]"
     ]
    },
    {
     "name": "stdout",
     "output_type": "stream",
     "text": [
      "File written to 'D:/Geomatics/final\\25DN2\\DSM_25DN2_08.tif'\n",
      "File written to 'D:/Geomatics/final\\25DN2\\CHM_25DN2_08.tif'\n",
      "Processed CHM_25DN2_08.TIF in 328.20 seconds and saved output to DSM_25DN2_08.tif\n",
      "07\n",
      "\n",
      "Processing tile CHM_25DN2_07.TIF\n",
      "cropped at 9.02\n",
      "dt\n",
      "filled dtm at 113.64\n",
      "dt\n",
      "filled dsm at 281.26\n",
      "filled buildings at 281.64\n"
     ]
    },
    {
     "name": "stderr",
     "output_type": "stream",
     "text": [
      "Processing Files:  73%|███████▎  | 16/22 [1:34:33<31:59, 319.84s/file]"
     ]
    },
    {
     "name": "stdout",
     "output_type": "stream",
     "text": [
      "File written to 'D:/Geomatics/final\\25DN2\\DSM_25DN2_07.tif'\n",
      "File written to 'D:/Geomatics/final\\25DN2\\CHM_25DN2_07.tif'\n",
      "Processed CHM_25DN2_07.TIF in 282.69 seconds and saved output to DSM_25DN2_07.tif\n",
      "06\n",
      "\n",
      "Processing tile CHM_25DN2_06.TIF\n",
      "cropped at 8.82\n",
      "dt\n",
      "filled dtm at 154.77\n",
      "dt\n",
      "filled dsm at 300.46\n",
      "filled buildings at 300.83\n"
     ]
    },
    {
     "name": "stderr",
     "output_type": "stream",
     "text": [
      "Processing Files:  77%|███████▋  | 17/22 [1:39:35<26:12, 314.46s/file]"
     ]
    },
    {
     "name": "stdout",
     "output_type": "stream",
     "text": [
      "File written to 'D:/Geomatics/final\\25DN2\\DSM_25DN2_06.tif'\n",
      "File written to 'D:/Geomatics/final\\25DN2\\CHM_25DN2_06.tif'\n",
      "Processed CHM_25DN2_06.TIF in 301.88 seconds and saved output to DSM_25DN2_06.tif\n",
      "05\n",
      "\n",
      "Processing tile CHM_25DN2_05.TIF\n",
      "cropped at 8.60\n",
      "dt\n",
      "filled dtm at 67.15\n",
      "dt\n",
      "filled dsm at 182.92\n",
      "filled buildings at 183.30\n"
     ]
    },
    {
     "name": "stderr",
     "output_type": "stream",
     "text": [
      "Processing Files:  82%|████████▏ | 18/22 [1:42:39<18:21, 275.37s/file]"
     ]
    },
    {
     "name": "stdout",
     "output_type": "stream",
     "text": [
      "File written to 'D:/Geomatics/final\\25DN2\\DSM_25DN2_05.tif'\n",
      "File written to 'D:/Geomatics/final\\25DN2\\CHM_25DN2_05.tif'\n",
      "Processed CHM_25DN2_05.TIF in 184.35 seconds and saved output to DSM_25DN2_05.tif\n",
      "04\n",
      "\n",
      "Processing tile CHM_25DN2_04.TIF\n",
      "cropped at 8.73\n",
      "dt\n",
      "filled dtm at 95.61\n",
      "dt\n",
      "filled dsm at 248.82\n",
      "filled buildings at 249.19\n"
     ]
    },
    {
     "name": "stderr",
     "output_type": "stream",
     "text": [
      "Processing Files:  86%|████████▋ | 19/22 [1:46:50<13:23, 267.84s/file]"
     ]
    },
    {
     "name": "stdout",
     "output_type": "stream",
     "text": [
      "File written to 'D:/Geomatics/final\\25DN2\\DSM_25DN2_04.tif'\n",
      "File written to 'D:/Geomatics/final\\25DN2\\CHM_25DN2_04.tif'\n",
      "Processed CHM_25DN2_04.TIF in 250.24 seconds and saved output to DSM_25DN2_04.tif\n",
      "03\n",
      "\n",
      "Processing tile CHM_25DN2_03.TIF\n",
      "cropped at 8.83\n",
      "dt\n",
      "filled dtm at 108.85\n",
      "dt\n",
      "filled dsm at 244.36\n",
      "filled buildings at 244.73\n"
     ]
    },
    {
     "name": "stderr",
     "output_type": "stream",
     "text": [
      "Processing Files:  91%|█████████ | 20/22 [1:50:55<08:42, 261.23s/file]"
     ]
    },
    {
     "name": "stdout",
     "output_type": "stream",
     "text": [
      "File written to 'D:/Geomatics/final\\25DN2\\DSM_25DN2_03.tif'\n",
      "File written to 'D:/Geomatics/final\\25DN2\\CHM_25DN2_03.tif'\n",
      "Processed CHM_25DN2_03.TIF in 245.78 seconds and saved output to DSM_25DN2_03.tif\n",
      "02\n",
      "\n",
      "Processing tile CHM_25DN2_02.TIF\n",
      "cropped at 8.71\n",
      "dt\n",
      "filled dtm at 404.90\n",
      "dt\n",
      "filled dsm at 552.54\n",
      "filled buildings at 552.93\n"
     ]
    },
    {
     "name": "stderr",
     "output_type": "stream",
     "text": [
      "Processing Files:  95%|█████████▌| 21/22 [2:00:09<05:49, 349.12s/file]"
     ]
    },
    {
     "name": "stdout",
     "output_type": "stream",
     "text": [
      "File written to 'D:/Geomatics/final\\25DN2\\DSM_25DN2_02.tif'\n",
      "File written to 'D:/Geomatics/final\\25DN2\\CHM_25DN2_02.tif'\n",
      "Processed CHM_25DN2_02.TIF in 553.99 seconds and saved output to DSM_25DN2_02.tif\n",
      "01\n",
      "\n",
      "Processing tile CHM_25DN2_01.TIF\n",
      "cropped at 8.82\n",
      "dt\n",
      "filled dtm at 97.73\n",
      "dt\n",
      "filled dsm at 224.73\n",
      "filled buildings at 225.10\n"
     ]
    },
    {
     "name": "stderr",
     "output_type": "stream",
     "text": [
      "Processing Files: 100%|██████████| 22/22 [2:03:56<00:00, 338.00s/file]"
     ]
    },
    {
     "name": "stdout",
     "output_type": "stream",
     "text": [
      "File written to 'D:/Geomatics/final\\25DN2\\DSM_25DN2_01.tif'\n",
      "File written to 'D:/Geomatics/final\\25DN2\\CHM_25DN2_01.tif'\n",
      "Processed CHM_25DN2_01.TIF in 226.15 seconds and saved output to DSM_25DN2_01.tif\n",
      "\n",
      "All files processed in 7436.11 seconds.\n"
     ]
    },
    {
     "name": "stderr",
     "output_type": "stream",
     "text": [
      "\n"
     ]
    }
   ],
   "execution_count": 68
  },
  {
   "metadata": {
    "ExecuteTime": {
     "end_time": "2024-10-06T20:08:07.634999Z",
     "start_time": "2024-10-06T18:08:29.064710Z"
    }
   },
   "cell_type": "code",
   "source": [
    "chm_folder = \"D:/Geomatics/CHM/25GN1\"\n",
    "output_base_folder = \"D:/Geomatics/final\"\n",
    "\n",
    "chm_files = glob.glob(os.path.join(chm_folder, \"*.TIF\"))\n",
    "process_files(chm_files, geotiff_dtm, geotiff_dsm, buildings, output_base_folder)"
   ],
   "id": "b491ec372bc98015",
   "outputs": [
    {
     "name": "stderr",
     "output_type": "stream",
     "text": [
      "Processing Files:   0%|          | 0/25 [00:00<?, ?file/s]"
     ]
    },
    {
     "name": "stdout",
     "output_type": "stream",
     "text": [
      "01\n",
      "\n",
      "Processing tile CHM_25GN1_01.TIF\n",
      "cropped at 8.92\n",
      "dt\n",
      "filled dtm at 77.12\n",
      "dt\n",
      "filled dsm at 170.38\n",
      "filled buildings at 170.92\n"
     ]
    },
    {
     "name": "stderr",
     "output_type": "stream",
     "text": [
      "Processing Files:   4%|▍         | 1/25 [02:52<1:08:48, 172.00s/file]"
     ]
    },
    {
     "name": "stdout",
     "output_type": "stream",
     "text": [
      "File written to 'D:/Geomatics/final\\25GN1\\DSM_25GN1_01.tif'\n",
      "File written to 'D:/Geomatics/final\\25GN1\\CHM_25GN1_01.tif'\n",
      "Processed CHM_25GN1_01.TIF in 171.96 seconds and saved output to DSM_25GN1_01.tif\n",
      "08\n",
      "\n",
      "Processing tile CHM_25GN1_08.TIF\n",
      "cropped at 9.32\n",
      "dt\n",
      "filled dtm at 78.37\n",
      "dt\n",
      "filled dsm at 180.48\n",
      "filled buildings at 181.01\n"
     ]
    },
    {
     "name": "stderr",
     "output_type": "stream",
     "text": [
      "Processing Files:   8%|▊         | 2/25 [05:54<1:08:12, 177.95s/file]"
     ]
    },
    {
     "name": "stdout",
     "output_type": "stream",
     "text": [
      "File written to 'D:/Geomatics/final\\25GN1\\DSM_25GN1_08.tif'\n",
      "File written to 'D:/Geomatics/final\\25GN1\\CHM_25GN1_08.tif'\n",
      "Processed CHM_25GN1_08.TIF in 182.06 seconds and saved output to DSM_25GN1_08.tif\n",
      "04\n",
      "\n",
      "Processing tile CHM_25GN1_04.TIF\n",
      "cropped at 8.68\n",
      "dt\n",
      "filled dtm at 115.13\n",
      "dt\n",
      "filled dsm at 239.40\n",
      "filled buildings at 239.94\n"
     ]
    },
    {
     "name": "stderr",
     "output_type": "stream",
     "text": [
      "Processing Files:  12%|█▏        | 3/25 [09:55<1:15:48, 206.75s/file]"
     ]
    },
    {
     "name": "stdout",
     "output_type": "stream",
     "text": [
      "File written to 'D:/Geomatics/final\\25GN1\\DSM_25GN1_04.tif'\n",
      "File written to 'D:/Geomatics/final\\25GN1\\CHM_25GN1_04.tif'\n",
      "Processed CHM_25GN1_04.TIF in 240.99 seconds and saved output to DSM_25GN1_04.tif\n",
      "03\n",
      "\n",
      "Processing tile CHM_25GN1_03.TIF\n",
      "cropped at 8.91\n",
      "dt\n",
      "filled dtm at 112.22\n",
      "dt\n",
      "filled dsm at 207.76\n",
      "filled buildings at 208.36\n"
     ]
    },
    {
     "name": "stderr",
     "output_type": "stream",
     "text": [
      "Processing Files:  16%|█▌        | 4/25 [13:24<1:12:44, 207.82s/file]"
     ]
    },
    {
     "name": "stdout",
     "output_type": "stream",
     "text": [
      "File written to 'D:/Geomatics/final\\25GN1\\DSM_25GN1_03.tif'\n",
      "File written to 'D:/Geomatics/final\\25GN1\\CHM_25GN1_03.tif'\n",
      "Processed CHM_25GN1_03.TIF in 209.41 seconds and saved output to DSM_25GN1_03.tif\n",
      "02\n",
      "\n",
      "Processing tile CHM_25GN1_02.TIF\n",
      "cropped at 8.90\n",
      "dt\n",
      "filled dtm at 83.56\n",
      "dt\n",
      "filled dsm at 169.70\n",
      "filled buildings at 170.22\n"
     ]
    },
    {
     "name": "stderr",
     "output_type": "stream",
     "text": [
      "Processing Files:  20%|██        | 5/25 [16:15<1:04:53, 194.66s/file]"
     ]
    },
    {
     "name": "stdout",
     "output_type": "stream",
     "text": [
      "File written to 'D:/Geomatics/final\\25GN1\\DSM_25GN1_02.tif'\n",
      "File written to 'D:/Geomatics/final\\25GN1\\CHM_25GN1_02.tif'\n",
      "Processed CHM_25GN1_02.TIF in 171.28 seconds and saved output to DSM_25GN1_02.tif\n",
      "06\n",
      "\n",
      "Processing tile CHM_25GN1_06.TIF\n",
      "cropped at 8.66\n",
      "dt\n",
      "filled dtm at 71.04\n",
      "dt\n",
      "filled dsm at 183.73\n",
      "filled buildings at 184.26\n"
     ]
    },
    {
     "name": "stderr",
     "output_type": "stream",
     "text": [
      "Processing Files:  24%|██▍       | 6/25 [19:21<1:00:38, 191.49s/file]"
     ]
    },
    {
     "name": "stdout",
     "output_type": "stream",
     "text": [
      "File written to 'D:/Geomatics/final\\25GN1\\DSM_25GN1_06.tif'\n",
      "File written to 'D:/Geomatics/final\\25GN1\\CHM_25GN1_06.tif'\n",
      "Processed CHM_25GN1_06.TIF in 185.31 seconds and saved output to DSM_25GN1_06.tif\n",
      "05\n",
      "\n",
      "Processing tile CHM_25GN1_05.TIF\n",
      "cropped at 8.76\n",
      "dt\n",
      "filled dtm at 214.67\n",
      "dt\n",
      "filled dsm at 404.64\n",
      "filled buildings at 405.36\n"
     ]
    },
    {
     "name": "stderr",
     "output_type": "stream",
     "text": [
      "Processing Files:  28%|██▊       | 7/25 [26:07<1:18:31, 261.77s/file]"
     ]
    },
    {
     "name": "stdout",
     "output_type": "stream",
     "text": [
      "File written to 'D:/Geomatics/final\\25GN1\\DSM_25GN1_05.tif'\n",
      "File written to 'D:/Geomatics/final\\25GN1\\CHM_25GN1_05.tif'\n",
      "Processed CHM_25GN1_05.TIF in 406.41 seconds and saved output to DSM_25GN1_05.tif\n",
      "07\n",
      "\n",
      "Processing tile CHM_25GN1_07.TIF\n",
      "cropped at 10.25\n",
      "dt\n",
      "filled dtm at 74.27\n",
      "dt\n",
      "filled dsm at 228.97\n",
      "filled buildings at 229.74\n"
     ]
    },
    {
     "name": "stderr",
     "output_type": "stream",
     "text": [
      "Processing Files:  32%|███▏      | 8/25 [29:58<1:11:22, 251.93s/file]"
     ]
    },
    {
     "name": "stdout",
     "output_type": "stream",
     "text": [
      "File written to 'D:/Geomatics/final\\25GN1\\DSM_25GN1_07.tif'\n",
      "File written to 'D:/Geomatics/final\\25GN1\\CHM_25GN1_07.tif'\n",
      "Processed CHM_25GN1_07.TIF in 230.82 seconds and saved output to DSM_25GN1_07.tif\n",
      "25\n",
      "\n",
      "Processing tile CHM_25GN1_25.TIF\n",
      "cropped at 14.52\n",
      "dt\n",
      "filled dtm at 132.61\n",
      "dt\n",
      "filled dsm at 297.77\n",
      "filled buildings at 298.46\n"
     ]
    },
    {
     "name": "stderr",
     "output_type": "stream",
     "text": [
      "Processing Files:  36%|███▌      | 9/25 [34:58<1:11:09, 266.83s/file]"
     ]
    },
    {
     "name": "stdout",
     "output_type": "stream",
     "text": [
      "File written to 'D:/Geomatics/final\\25GN1\\DSM_25GN1_25.tif'\n",
      "File written to 'D:/Geomatics/final\\25GN1\\CHM_25GN1_25.tif'\n",
      "Processed CHM_25GN1_25.TIF in 299.53 seconds and saved output to DSM_25GN1_25.tif\n",
      "09\n",
      "\n",
      "Processing tile CHM_25GN1_09.TIF\n",
      "cropped at 12.98\n",
      "dt\n",
      "filled dtm at 107.90\n",
      "dt\n",
      "filled dsm at 288.70\n",
      "filled buildings at 289.53\n"
     ]
    },
    {
     "name": "stderr",
     "output_type": "stream",
     "text": [
      "Processing Files:  40%|████      | 10/25 [39:48<1:08:32, 274.20s/file]"
     ]
    },
    {
     "name": "stdout",
     "output_type": "stream",
     "text": [
      "File written to 'D:/Geomatics/final\\25GN1\\DSM_25GN1_09.tif'\n",
      "File written to 'D:/Geomatics/final\\25GN1\\CHM_25GN1_09.tif'\n",
      "Processed CHM_25GN1_09.TIF in 290.63 seconds and saved output to DSM_25GN1_09.tif\n",
      "10\n",
      "\n",
      "Processing tile CHM_25GN1_10.TIF\n",
      "cropped at 13.03\n",
      "dt\n",
      "filled dtm at 96.45\n",
      "dt\n",
      "filled dsm at 270.55\n",
      "filled buildings at 271.46\n"
     ]
    },
    {
     "name": "stderr",
     "output_type": "stream",
     "text": [
      "Processing Files:  44%|████▍     | 11/25 [44:21<1:03:51, 273.71s/file]"
     ]
    },
    {
     "name": "stdout",
     "output_type": "stream",
     "text": [
      "File written to 'D:/Geomatics/final\\25GN1\\DSM_25GN1_10.tif'\n",
      "File written to 'D:/Geomatics/final\\25GN1\\CHM_25GN1_10.tif'\n",
      "Processed CHM_25GN1_10.TIF in 272.54 seconds and saved output to DSM_25GN1_10.tif\n",
      "11\n",
      "\n",
      "Processing tile CHM_25GN1_11.TIF\n",
      "cropped at 14.18\n",
      "dt\n",
      "filled dtm at 127.43\n",
      "dt\n",
      "filled dsm at 308.13\n",
      "filled buildings at 308.82\n"
     ]
    },
    {
     "name": "stderr",
     "output_type": "stream",
     "text": [
      "Processing Files:  48%|████▊     | 12/25 [49:31<1:01:41, 284.73s/file]"
     ]
    },
    {
     "name": "stdout",
     "output_type": "stream",
     "text": [
      "File written to 'D:/Geomatics/final\\25GN1\\DSM_25GN1_11.tif'\n",
      "File written to 'D:/Geomatics/final\\25GN1\\CHM_25GN1_11.tif'\n",
      "Processed CHM_25GN1_11.TIF in 309.89 seconds and saved output to DSM_25GN1_11.tif\n",
      "12\n",
      "\n",
      "Processing tile CHM_25GN1_12.TIF\n",
      "cropped at 12.44\n",
      "dt\n",
      "filled dtm at 105.67\n",
      "dt\n",
      "filled dsm at 293.41\n",
      "filled buildings at 294.12\n"
     ]
    },
    {
     "name": "stderr",
     "output_type": "stream",
     "text": [
      "Processing Files:  52%|█████▏    | 13/25 [54:26<57:34, 287.91s/file]  "
     ]
    },
    {
     "name": "stdout",
     "output_type": "stream",
     "text": [
      "File written to 'D:/Geomatics/final\\25GN1\\DSM_25GN1_12.tif'\n",
      "File written to 'D:/Geomatics/final\\25GN1\\CHM_25GN1_12.tif'\n",
      "Processed CHM_25GN1_12.TIF in 295.17 seconds and saved output to DSM_25GN1_12.tif\n",
      "13\n",
      "\n",
      "Processing tile CHM_25GN1_13.TIF\n",
      "cropped at 12.85\n",
      "dt\n",
      "filled dtm at 171.04\n",
      "dt\n",
      "filled dsm at 326.65\n",
      "filled buildings at 327.36\n"
     ]
    },
    {
     "name": "stderr",
     "output_type": "stream",
     "text": [
      "Processing Files:  56%|█████▌    | 14/25 [59:55<55:01, 300.17s/file]"
     ]
    },
    {
     "name": "stdout",
     "output_type": "stream",
     "text": [
      "File written to 'D:/Geomatics/final\\25GN1\\DSM_25GN1_13.tif'\n",
      "File written to 'D:/Geomatics/final\\25GN1\\CHM_25GN1_13.tif'\n",
      "Processed CHM_25GN1_13.TIF in 328.42 seconds and saved output to DSM_25GN1_13.tif\n",
      "14\n",
      "\n",
      "Processing tile CHM_25GN1_14.TIF\n",
      "cropped at 12.70\n",
      "dt\n",
      "filled dtm at 107.44\n",
      "dt\n",
      "filled dsm at 289.66\n",
      "filled buildings at 290.36\n"
     ]
    },
    {
     "name": "stderr",
     "output_type": "stream",
     "text": [
      "Processing Files:  60%|██████    | 15/25 [1:04:46<49:35, 297.54s/file]"
     ]
    },
    {
     "name": "stdout",
     "output_type": "stream",
     "text": [
      "File written to 'D:/Geomatics/final\\25GN1\\DSM_25GN1_14.tif'\n",
      "File written to 'D:/Geomatics/final\\25GN1\\CHM_25GN1_14.tif'\n",
      "Processed CHM_25GN1_14.TIF in 291.42 seconds and saved output to DSM_25GN1_14.tif\n",
      "15\n",
      "\n",
      "Processing tile CHM_25GN1_15.TIF\n",
      "cropped at 12.46\n",
      "dt\n",
      "filled dtm at 109.09\n",
      "dt\n",
      "filled dsm at 293.29\n",
      "filled buildings at 294.01\n"
     ]
    },
    {
     "name": "stderr",
     "output_type": "stream",
     "text": [
      "Processing Files:  64%|██████▍   | 16/25 [1:09:41<44:31, 296.82s/file]"
     ]
    },
    {
     "name": "stdout",
     "output_type": "stream",
     "text": [
      "File written to 'D:/Geomatics/final\\25GN1\\DSM_25GN1_15.tif'\n",
      "File written to 'D:/Geomatics/final\\25GN1\\CHM_25GN1_15.tif'\n",
      "Processed CHM_25GN1_15.TIF in 295.08 seconds and saved output to DSM_25GN1_15.tif\n",
      "16\n",
      "\n",
      "Processing tile CHM_25GN1_16.TIF\n",
      "cropped at 13.15\n",
      "dt\n",
      "filled dtm at 201.40\n",
      "dt\n",
      "filled dsm at 409.32\n",
      "filled buildings at 410.02\n"
     ]
    },
    {
     "name": "stderr",
     "output_type": "stream",
     "text": [
      "Processing Files:  68%|██████▊   | 17/25 [1:16:32<44:09, 331.19s/file]"
     ]
    },
    {
     "name": "stdout",
     "output_type": "stream",
     "text": [
      "File written to 'D:/Geomatics/final\\25GN1\\DSM_25GN1_16.tif'\n",
      "File written to 'D:/Geomatics/final\\25GN1\\CHM_25GN1_16.tif'\n",
      "Processed CHM_25GN1_16.TIF in 411.07 seconds and saved output to DSM_25GN1_16.tif\n",
      "17\n",
      "\n",
      "Processing tile CHM_25GN1_17.TIF\n",
      "cropped at 13.29\n",
      "dt\n",
      "filled dtm at 159.90\n",
      "dt\n",
      "filled dsm at 353.47\n",
      "filled buildings at 354.17\n"
     ]
    },
    {
     "name": "stderr",
     "output_type": "stream",
     "text": [
      "Processing Files:  72%|███████▏  | 18/25 [1:22:28<39:28, 338.43s/file]"
     ]
    },
    {
     "name": "stdout",
     "output_type": "stream",
     "text": [
      "File written to 'D:/Geomatics/final\\25GN1\\DSM_25GN1_17.tif'\n",
      "File written to 'D:/Geomatics/final\\25GN1\\CHM_25GN1_17.tif'\n",
      "Processed CHM_25GN1_17.TIF in 355.22 seconds and saved output to DSM_25GN1_17.tif\n",
      "18\n",
      "\n",
      "Processing tile CHM_25GN1_18.TIF\n",
      "cropped at 12.84\n",
      "dt\n",
      "filled dtm at 155.05\n",
      "dt\n",
      "filled dsm at 334.66\n",
      "filled buildings at 335.42\n"
     ]
    },
    {
     "name": "stderr",
     "output_type": "stream",
     "text": [
      "Processing Files:  76%|███████▌  | 19/25 [1:28:04<33:47, 337.86s/file]"
     ]
    },
    {
     "name": "stdout",
     "output_type": "stream",
     "text": [
      "File written to 'D:/Geomatics/final\\25GN1\\DSM_25GN1_18.tif'\n",
      "File written to 'D:/Geomatics/final\\25GN1\\CHM_25GN1_18.tif'\n",
      "Processed CHM_25GN1_18.TIF in 336.50 seconds and saved output to DSM_25GN1_18.tif\n",
      "19\n",
      "\n",
      "Processing tile CHM_25GN1_19.TIF\n",
      "cropped at 13.17\n",
      "dt\n",
      "filled dtm at 131.07\n",
      "dt\n",
      "filled dsm at 306.17\n",
      "filled buildings at 306.83\n"
     ]
    },
    {
     "name": "stderr",
     "output_type": "stream",
     "text": [
      "Processing Files:  80%|████████  | 20/25 [1:33:12<27:24, 328.88s/file]"
     ]
    },
    {
     "name": "stdout",
     "output_type": "stream",
     "text": [
      "File written to 'D:/Geomatics/final\\25GN1\\DSM_25GN1_19.tif'\n",
      "File written to 'D:/Geomatics/final\\25GN1\\CHM_25GN1_19.tif'\n",
      "Processed CHM_25GN1_19.TIF in 307.88 seconds and saved output to DSM_25GN1_19.tif\n",
      "20\n",
      "\n",
      "Processing tile CHM_25GN1_20.TIF\n",
      "cropped at 12.93\n",
      "dt\n",
      "filled dtm at 116.94\n",
      "dt\n",
      "filled dsm at 289.90\n",
      "filled buildings at 290.40\n"
     ]
    },
    {
     "name": "stderr",
     "output_type": "stream",
     "text": [
      "Processing Files:  84%|████████▍ | 21/25 [1:38:04<21:10, 317.66s/file]"
     ]
    },
    {
     "name": "stdout",
     "output_type": "stream",
     "text": [
      "File written to 'D:/Geomatics/final\\25GN1\\DSM_25GN1_20.tif'\n",
      "File written to 'D:/Geomatics/final\\25GN1\\CHM_25GN1_20.tif'\n",
      "Processed CHM_25GN1_20.TIF in 291.45 seconds and saved output to DSM_25GN1_20.tif\n",
      "21\n",
      "\n",
      "Processing tile CHM_25GN1_21.TIF\n",
      "cropped at 8.70\n",
      "dt\n",
      "filled dtm at 116.50\n",
      "dt\n",
      "filled dsm at 277.67\n",
      "filled buildings at 278.18\n"
     ]
    },
    {
     "name": "stderr",
     "output_type": "stream",
     "text": [
      "Processing Files:  88%|████████▊ | 22/25 [1:42:43<15:18, 306.15s/file]"
     ]
    },
    {
     "name": "stdout",
     "output_type": "stream",
     "text": [
      "File written to 'D:/Geomatics/final\\25GN1\\DSM_25GN1_21.tif'\n",
      "File written to 'D:/Geomatics/final\\25GN1\\CHM_25GN1_21.tif'\n",
      "Processed CHM_25GN1_21.TIF in 279.22 seconds and saved output to DSM_25GN1_21.tif\n",
      "22\n",
      "\n",
      "Processing tile CHM_25GN1_22.TIF\n",
      "cropped at 9.74\n",
      "dt\n",
      "filled dtm at 166.03\n",
      "dt\n",
      "filled dsm at 344.27\n",
      "filled buildings at 344.97\n"
     ]
    },
    {
     "name": "stderr",
     "output_type": "stream",
     "text": [
      "Processing Files:  92%|█████████▏| 23/25 [1:48:29<10:36, 318.14s/file]"
     ]
    },
    {
     "name": "stdout",
     "output_type": "stream",
     "text": [
      "File written to 'D:/Geomatics/final\\25GN1\\DSM_25GN1_22.tif'\n",
      "File written to 'D:/Geomatics/final\\25GN1\\CHM_25GN1_22.tif'\n",
      "Processed CHM_25GN1_22.TIF in 346.04 seconds and saved output to DSM_25GN1_22.tif\n",
      "23\n",
      "\n",
      "Processing tile CHM_25GN1_23.TIF\n",
      "cropped at 13.52\n",
      "dt\n",
      "filled dtm at 135.61\n",
      "dt\n",
      "filled dsm at 277.24\n",
      "filled buildings at 277.91\n"
     ]
    },
    {
     "name": "stderr",
     "output_type": "stream",
     "text": [
      "Processing Files:  96%|█████████▌| 24/25 [1:53:08<05:06, 306.41s/file]"
     ]
    },
    {
     "name": "stdout",
     "output_type": "stream",
     "text": [
      "File written to 'D:/Geomatics/final\\25GN1\\DSM_25GN1_23.tif'\n",
      "File written to 'D:/Geomatics/final\\25GN1\\CHM_25GN1_23.tif'\n",
      "Processed CHM_25GN1_23.TIF in 278.97 seconds and saved output to DSM_25GN1_23.tif\n",
      "24\n",
      "\n",
      "Processing tile CHM_25GN1_24.TIF\n",
      "cropped at 12.99\n",
      "dt\n",
      "filled dtm at 125.59\n",
      "dt\n",
      "filled dsm at 301.73\n",
      "filled buildings at 302.38\n"
     ]
    },
    {
     "name": "stderr",
     "output_type": "stream",
     "text": [
      "Processing Files: 100%|██████████| 25/25 [1:58:12<00:00, 283.68s/file]"
     ]
    },
    {
     "name": "stdout",
     "output_type": "stream",
     "text": [
      "File written to 'D:/Geomatics/final\\25GN1\\DSM_25GN1_24.tif'\n",
      "File written to 'D:/Geomatics/final\\25GN1\\CHM_25GN1_24.tif'\n",
      "Processed CHM_25GN1_24.TIF in 303.44 seconds and saved output to DSM_25GN1_24.tif\n",
      "\n",
      "All files processed in 7092.08 seconds.\n"
     ]
    },
    {
     "name": "stderr",
     "output_type": "stream",
     "text": [
      "\n"
     ]
    }
   ],
   "execution_count": 70
  },
  {
   "metadata": {
    "ExecuteTime": {
     "end_time": "2024-10-07T00:33:28.108703Z",
     "start_time": "2024-10-06T20:08:13.113266Z"
    }
   },
   "cell_type": "code",
   "source": [
    "chm_folder = \"D:/Geomatics/CHM/25BZ1\"\n",
    "output_base_folder = \"D:/Geomatics/final\"\n",
    "\n",
    "chm_files = glob.glob(os.path.join(chm_folder, \"*.TIF\"))\n",
    "process_files(chm_files, geotiff_dtm, geotiff_dsm, buildings, output_base_folder)"
   ],
   "id": "afcd7fc290760ff6",
   "outputs": [
    {
     "name": "stderr",
     "output_type": "stream",
     "text": [
      "Processing Files:   0%|          | 0/23 [00:00<?, ?file/s]"
     ]
    },
    {
     "name": "stdout",
     "output_type": "stream",
     "text": [
      "23\n",
      "\n",
      "Processing tile CHM_25BZ1_23.TIF\n",
      "cropped at 13.69\n",
      "dt\n",
      "filled dtm at 114.22\n",
      "dt\n",
      "filled dsm at 270.45\n",
      "filled buildings at 270.63\n"
     ]
    },
    {
     "name": "stderr",
     "output_type": "stream",
     "text": [
      "Processing Files:   4%|▍         | 1/23 [04:31<1:39:38, 271.77s/file]"
     ]
    },
    {
     "name": "stdout",
     "output_type": "stream",
     "text": [
      "File written to 'D:/Geomatics/final\\25BZ1\\DSM_25BZ1_23.tif'\n",
      "File written to 'D:/Geomatics/final\\25BZ1\\CHM_25BZ1_23.tif'\n",
      "Processed CHM_25BZ1_23.TIF in 271.71 seconds and saved output to DSM_25BZ1_23.tif\n",
      "01\n",
      "\n",
      "Processing tile CHM_25BZ1_01.TIF\n",
      "cropped at 13.11\n",
      "dt\n",
      "filled dtm at 153.41\n",
      "dt\n",
      "filled dsm at 357.31\n",
      "filled buildings at 357.54\n"
     ]
    },
    {
     "name": "stderr",
     "output_type": "stream",
     "text": [
      "Processing Files:   9%|▊         | 2/23 [10:30<1:53:01, 322.91s/file]"
     ]
    },
    {
     "name": "stdout",
     "output_type": "stream",
     "text": [
      "File written to 'D:/Geomatics/final\\25BZ1\\DSM_25BZ1_01.tif'\n",
      "File written to 'D:/Geomatics/final\\25BZ1\\CHM_25BZ1_01.tif'\n",
      "Processed CHM_25BZ1_01.TIF in 358.64 seconds and saved output to DSM_25BZ1_01.tif\n",
      "02\n",
      "\n",
      "Processing tile CHM_25BZ1_02.TIF\n",
      "cropped at 12.49\n",
      "dt\n",
      "filled dtm at 629.33\n",
      "dt\n",
      "filled dsm at 779.68\n",
      "filled buildings at 779.80\n"
     ]
    },
    {
     "name": "stderr",
     "output_type": "stream",
     "text": [
      "Processing Files:  13%|█▎        | 3/23 [23:30<2:57:14, 531.71s/file]"
     ]
    },
    {
     "name": "stdout",
     "output_type": "stream",
     "text": [
      "File written to 'D:/Geomatics/final\\25BZ1\\DSM_25BZ1_02.tif'\n",
      "File written to 'D:/Geomatics/final\\25BZ1\\CHM_25BZ1_02.tif'\n",
      "Processed CHM_25BZ1_02.TIF in 780.09 seconds and saved output to DSM_25BZ1_02.tif\n",
      "03\n",
      "\n",
      "Processing tile CHM_25BZ1_03.TIF\n",
      "cropped at 8.38\n",
      "dt\n",
      "filled dtm at 536.18\n",
      "dt\n",
      "filled dsm at 856.73\n",
      "filled buildings at 857.04\n"
     ]
    },
    {
     "name": "stderr",
     "output_type": "stream",
     "text": [
      "Processing Files:  17%|█▋        | 4/23 [37:48<3:29:11, 660.62s/file]"
     ]
    },
    {
     "name": "stdout",
     "output_type": "stream",
     "text": [
      "File written to 'D:/Geomatics/final\\25BZ1\\DSM_25BZ1_03.tif'\n",
      "File written to 'D:/Geomatics/final\\25BZ1\\CHM_25BZ1_03.tif'\n",
      "Processed CHM_25BZ1_03.TIF in 858.20 seconds and saved output to DSM_25BZ1_03.tif\n",
      "04\n",
      "\n",
      "Processing tile CHM_25BZ1_04.TIF\n",
      "cropped at 16.76\n",
      "dt\n",
      "filled dtm at 507.96\n",
      "dt\n",
      "filled dsm at 849.67\n",
      "filled buildings at 849.96\n",
      "File written to 'D:/Geomatics/final\\25BZ1\\DSM_25BZ1_04.tif'\n"
     ]
    },
    {
     "name": "stderr",
     "output_type": "stream",
     "text": [
      "Processing Files:  22%|██▏       | 5/23 [51:59<3:38:42, 729.01s/file]"
     ]
    },
    {
     "name": "stdout",
     "output_type": "stream",
     "text": [
      "File written to 'D:/Geomatics/final\\25BZ1\\CHM_25BZ1_04.tif'\n",
      "Processed CHM_25BZ1_04.TIF in 850.20 seconds and saved output to DSM_25BZ1_04.tif\n",
      "05\n",
      "\n",
      "Processing tile CHM_25BZ1_05.TIF\n",
      "cropped at 11.97\n",
      "dt\n",
      "filled dtm at 424.06\n",
      "dt\n",
      "filled dsm at 706.37\n",
      "filled buildings at 706.69\n"
     ]
    },
    {
     "name": "stderr",
     "output_type": "stream",
     "text": [
      "Processing Files:  26%|██▌       | 6/23 [1:03:47<3:24:30, 721.82s/file]"
     ]
    },
    {
     "name": "stdout",
     "output_type": "stream",
     "text": [
      "File written to 'D:/Geomatics/final\\25BZ1\\DSM_25BZ1_05.tif'\n",
      "File written to 'D:/Geomatics/final\\25BZ1\\CHM_25BZ1_05.tif'\n",
      "Processed CHM_25BZ1_05.TIF in 707.81 seconds and saved output to DSM_25BZ1_05.tif\n",
      "06\n",
      "\n",
      "Processing tile CHM_25BZ1_06.TIF\n",
      "cropped at 10.59\n",
      "dt\n",
      "filled dtm at 162.98\n",
      "dt\n",
      "filled dsm at 335.44\n",
      "filled buildings at 335.58\n"
     ]
    },
    {
     "name": "stderr",
     "output_type": "stream",
     "text": [
      "Processing Files:  30%|███       | 7/23 [1:09:22<2:38:50, 595.64s/file]"
     ]
    },
    {
     "name": "stdout",
     "output_type": "stream",
     "text": [
      "File written to 'D:/Geomatics/final\\25BZ1\\DSM_25BZ1_06.tif'\n",
      "File written to 'D:/Geomatics/final\\25BZ1\\CHM_25BZ1_06.tif'\n",
      "Processed CHM_25BZ1_06.TIF in 335.82 seconds and saved output to DSM_25BZ1_06.tif\n",
      "07\n",
      "\n",
      "Processing tile CHM_25BZ1_07.TIF\n",
      "cropped at 12.87\n",
      "dt\n",
      "filled dtm at 386.46\n",
      "dt\n",
      "filled dsm at 569.87\n",
      "filled buildings at 570.04\n"
     ]
    },
    {
     "name": "stderr",
     "output_type": "stream",
     "text": [
      "Processing Files:  35%|███▍      | 8/23 [1:18:54<2:26:57, 587.85s/file]"
     ]
    },
    {
     "name": "stdout",
     "output_type": "stream",
     "text": [
      "File written to 'D:/Geomatics/final\\25BZ1\\DSM_25BZ1_07.tif'\n",
      "File written to 'D:/Geomatics/final\\25BZ1\\CHM_25BZ1_07.tif'\n",
      "Processed CHM_25BZ1_07.TIF in 571.13 seconds and saved output to DSM_25BZ1_07.tif\n",
      "08\n",
      "\n",
      "Processing tile CHM_25BZ1_08.TIF\n",
      "cropped at 9.14\n",
      "dt\n",
      "filled dtm at 133.45\n",
      "dt\n",
      "filled dsm at 294.14\n",
      "filled buildings at 294.30\n"
     ]
    },
    {
     "name": "stderr",
     "output_type": "stream",
     "text": [
      "Processing Files:  39%|███▉      | 9/23 [1:23:49<1:55:49, 496.42s/file]"
     ]
    },
    {
     "name": "stdout",
     "output_type": "stream",
     "text": [
      "File written to 'D:/Geomatics/final\\25BZ1\\DSM_25BZ1_08.tif'\n",
      "File written to 'D:/Geomatics/final\\25BZ1\\CHM_25BZ1_08.tif'\n",
      "Processed CHM_25BZ1_08.TIF in 295.35 seconds and saved output to DSM_25BZ1_08.tif\n",
      "09\n",
      "\n",
      "Processing tile CHM_25BZ1_09.TIF\n",
      "cropped at 9.07\n",
      "dt\n",
      "filled dtm at 3234.04\n",
      "dt\n",
      "filled dsm at 3477.97\n",
      "filled buildings at 3478.08\n"
     ]
    },
    {
     "name": "stderr",
     "output_type": "stream",
     "text": [
      "Processing Files:  43%|████▎     | 10/23 [2:21:48<5:07:04, 1417.26s/file]"
     ]
    },
    {
     "name": "stdout",
     "output_type": "stream",
     "text": [
      "File written to 'D:/Geomatics/final\\25BZ1\\DSM_25BZ1_09.tif'\n",
      "File written to 'D:/Geomatics/final\\25BZ1\\CHM_25BZ1_09.tif'\n",
      "Processed CHM_25BZ1_09.TIF in 3479.13 seconds and saved output to DSM_25BZ1_09.tif\n",
      "10\n",
      "\n",
      "Processing tile CHM_25BZ1_10.TIF\n",
      "cropped at 8.72\n",
      "dt\n",
      "filled dtm at 539.72\n",
      "dt\n",
      "filled dsm at 857.46\n",
      "filled buildings at 857.58\n"
     ]
    },
    {
     "name": "stderr",
     "output_type": "stream",
     "text": [
      "Processing Files:  48%|████▊     | 11/23 [2:36:07<4:09:15, 1246.30s/file]"
     ]
    },
    {
     "name": "stdout",
     "output_type": "stream",
     "text": [
      "File written to 'D:/Geomatics/final\\25BZ1\\DSM_25BZ1_10.tif'\n",
      "File written to 'D:/Geomatics/final\\25BZ1\\CHM_25BZ1_10.tif'\n",
      "Processed CHM_25BZ1_10.TIF in 858.63 seconds and saved output to DSM_25BZ1_10.tif\n",
      "11\n",
      "\n",
      "Processing tile CHM_25BZ1_11.TIF\n",
      "cropped at 8.55\n",
      "dt\n",
      "filled dtm at 130.38\n",
      "dt\n",
      "filled dsm at 265.64\n",
      "filled buildings at 265.76\n"
     ]
    },
    {
     "name": "stderr",
     "output_type": "stream",
     "text": [
      "Processing Files:  52%|█████▏    | 12/23 [2:40:34<2:53:51, 948.34s/file] "
     ]
    },
    {
     "name": "stdout",
     "output_type": "stream",
     "text": [
      "File written to 'D:/Geomatics/final\\25BZ1\\DSM_25BZ1_11.tif'\n",
      "File written to 'D:/Geomatics/final\\25BZ1\\CHM_25BZ1_11.tif'\n",
      "Processed CHM_25BZ1_11.TIF in 266.81 seconds and saved output to DSM_25BZ1_11.tif\n",
      "12\n",
      "\n",
      "Processing tile CHM_25BZ1_12.TIF\n",
      "cropped at 8.59\n",
      "dt\n",
      "filled dtm at 146.53\n",
      "dt\n",
      "filled dsm at 284.32\n",
      "filled buildings at 284.44\n"
     ]
    },
    {
     "name": "stderr",
     "output_type": "stream",
     "text": [
      "Processing Files:  57%|█████▋    | 13/23 [2:45:19<2:04:35, 747.55s/file]"
     ]
    },
    {
     "name": "stdout",
     "output_type": "stream",
     "text": [
      "File written to 'D:/Geomatics/final\\25BZ1\\DSM_25BZ1_12.tif'\n",
      "File written to 'D:/Geomatics/final\\25BZ1\\CHM_25BZ1_12.tif'\n",
      "Processed CHM_25BZ1_12.TIF in 285.49 seconds and saved output to DSM_25BZ1_12.tif\n",
      "13\n",
      "\n",
      "Processing tile CHM_25BZ1_13.TIF\n",
      "cropped at 8.68\n",
      "dt\n",
      "filled dtm at 116.36\n",
      "dt\n",
      "filled dsm at 267.71\n",
      "filled buildings at 267.84\n"
     ]
    },
    {
     "name": "stderr",
     "output_type": "stream",
     "text": [
      "Processing Files:  61%|██████    | 14/23 [2:49:48<1:30:26, 602.99s/file]"
     ]
    },
    {
     "name": "stdout",
     "output_type": "stream",
     "text": [
      "File written to 'D:/Geomatics/final\\25BZ1\\DSM_25BZ1_13.tif'\n",
      "File written to 'D:/Geomatics/final\\25BZ1\\CHM_25BZ1_13.tif'\n",
      "Processed CHM_25BZ1_13.TIF in 268.90 seconds and saved output to DSM_25BZ1_13.tif\n",
      "14\n",
      "\n",
      "Processing tile CHM_25BZ1_14.TIF\n",
      "cropped at 8.45\n",
      "dt\n",
      "filled dtm at 3004.16\n",
      "dt\n",
      "filled dsm at 3187.71\n",
      "filled buildings at 3187.84\n"
     ]
    },
    {
     "name": "stderr",
     "output_type": "stream",
     "text": [
      "Processing Files:  65%|██████▌   | 15/23 [3:42:57<3:04:19, 1382.48s/file]"
     ]
    },
    {
     "name": "stdout",
     "output_type": "stream",
     "text": [
      "File written to 'D:/Geomatics/final\\25BZ1\\DSM_25BZ1_14.tif'\n",
      "File written to 'D:/Geomatics/final\\25BZ1\\CHM_25BZ1_14.tif'\n",
      "Processed CHM_25BZ1_14.TIF in 3188.92 seconds and saved output to DSM_25BZ1_14.tif\n",
      "15\n",
      "\n",
      "Processing tile CHM_25BZ1_15.TIF\n",
      "cropped at 8.59\n",
      "dt\n",
      "filled dtm at 346.60\n",
      "dt\n",
      "filled dsm at 546.36\n",
      "filled buildings at 546.47\n"
     ]
    },
    {
     "name": "stderr",
     "output_type": "stream",
     "text": [
      "Processing Files:  70%|██████▉   | 16/23 [3:52:05<2:11:58, 1131.18s/file]"
     ]
    },
    {
     "name": "stdout",
     "output_type": "stream",
     "text": [
      "File written to 'D:/Geomatics/final\\25BZ1\\DSM_25BZ1_15.tif'\n",
      "File written to 'D:/Geomatics/final\\25BZ1\\CHM_25BZ1_15.tif'\n",
      "Processed CHM_25BZ1_15.TIF in 547.52 seconds and saved output to DSM_25BZ1_15.tif\n",
      "16\n",
      "\n",
      "Processing tile CHM_25BZ1_16.TIF\n",
      "cropped at 8.65\n",
      "dt\n",
      "filled dtm at 105.97\n",
      "dt\n",
      "filled dsm at 220.29\n",
      "filled buildings at 220.40\n"
     ]
    },
    {
     "name": "stderr",
     "output_type": "stream",
     "text": [
      "Processing Files:  74%|███████▍  | 17/23 [3:55:46<1:25:45, 857.63s/file] "
     ]
    },
    {
     "name": "stdout",
     "output_type": "stream",
     "text": [
      "File written to 'D:/Geomatics/final\\25BZ1\\DSM_25BZ1_16.tif'\n",
      "File written to 'D:/Geomatics/final\\25BZ1\\CHM_25BZ1_16.tif'\n",
      "Processed CHM_25BZ1_16.TIF in 221.45 seconds and saved output to DSM_25BZ1_16.tif\n",
      "17\n",
      "\n",
      "Processing tile CHM_25BZ1_17.TIF\n",
      "cropped at 8.56\n",
      "dt\n",
      "filled dtm at 106.65\n",
      "dt\n",
      "filled dsm at 276.02\n",
      "filled buildings at 276.14\n"
     ]
    },
    {
     "name": "stderr",
     "output_type": "stream",
     "text": [
      "Processing Files:  78%|███████▊  | 18/23 [4:00:23<56:56, 683.23s/file]  "
     ]
    },
    {
     "name": "stdout",
     "output_type": "stream",
     "text": [
      "File written to 'D:/Geomatics/final\\25BZ1\\DSM_25BZ1_17.tif'\n",
      "File written to 'D:/Geomatics/final\\25BZ1\\CHM_25BZ1_17.tif'\n",
      "Processed CHM_25BZ1_17.TIF in 277.19 seconds and saved output to DSM_25BZ1_17.tif\n",
      "18\n",
      "\n",
      "Processing tile CHM_25BZ1_18.TIF\n",
      "cropped at 8.72\n",
      "dt\n",
      "filled dtm at 123.36\n",
      "dt\n",
      "filled dsm at 244.37\n",
      "filled buildings at 244.49\n"
     ]
    },
    {
     "name": "stderr",
     "output_type": "stream",
     "text": [
      "Processing Files:  83%|████████▎ | 19/23 [4:04:29<36:47, 551.79s/file]"
     ]
    },
    {
     "name": "stdout",
     "output_type": "stream",
     "text": [
      "File written to 'D:/Geomatics/final\\25BZ1\\DSM_25BZ1_18.tif'\n",
      "File written to 'D:/Geomatics/final\\25BZ1\\CHM_25BZ1_18.tif'\n",
      "Processed CHM_25BZ1_18.TIF in 245.55 seconds and saved output to DSM_25BZ1_18.tif\n",
      "20\n",
      "\n",
      "Processing tile CHM_25BZ1_20.TIF\n",
      "cropped at 10.52\n",
      "dt\n",
      "filled dtm at 245.47\n",
      "dt\n",
      "filled dsm at 423.90\n",
      "filled buildings at 424.02\n"
     ]
    },
    {
     "name": "stderr",
     "output_type": "stream",
     "text": [
      "Processing Files:  87%|████████▋ | 20/23 [4:11:34<25:41, 513.76s/file]"
     ]
    },
    {
     "name": "stdout",
     "output_type": "stream",
     "text": [
      "File written to 'D:/Geomatics/final\\25BZ1\\DSM_25BZ1_20.tif'\n",
      "File written to 'D:/Geomatics/final\\25BZ1\\CHM_25BZ1_20.tif'\n",
      "Processed CHM_25BZ1_20.TIF in 425.08 seconds and saved output to DSM_25BZ1_20.tif\n",
      "19\n",
      "\n",
      "Processing tile CHM_25BZ1_19.TIF\n",
      "cropped at 8.49\n",
      "dt\n",
      "filled dtm at 179.12\n",
      "dt\n",
      "filled dsm at 315.11\n",
      "filled buildings at 315.25\n"
     ]
    },
    {
     "name": "stderr",
     "output_type": "stream",
     "text": [
      "Processing Files:  91%|█████████▏| 21/23 [4:16:50<15:09, 454.50s/file]"
     ]
    },
    {
     "name": "stdout",
     "output_type": "stream",
     "text": [
      "File written to 'D:/Geomatics/final\\25BZ1\\DSM_25BZ1_19.tif'\n",
      "File written to 'D:/Geomatics/final\\25BZ1\\CHM_25BZ1_19.tif'\n",
      "Processed CHM_25BZ1_19.TIF in 316.31 seconds and saved output to DSM_25BZ1_19.tif\n",
      "24\n",
      "\n",
      "Processing tile CHM_25BZ1_24.TIF\n",
      "cropped at 8.56\n",
      "dt\n",
      "filled dtm at 118.34\n",
      "dt\n",
      "filled dsm at 230.00\n",
      "filled buildings at 230.13\n"
     ]
    },
    {
     "name": "stderr",
     "output_type": "stream",
     "text": [
      "Processing Files:  96%|█████████▌| 22/23 [4:20:42<06:27, 387.49s/file]"
     ]
    },
    {
     "name": "stdout",
     "output_type": "stream",
     "text": [
      "File written to 'D:/Geomatics/final\\25BZ1\\DSM_25BZ1_24.tif'\n",
      "File written to 'D:/Geomatics/final\\25BZ1\\CHM_25BZ1_24.tif'\n",
      "Processed CHM_25BZ1_24.TIF in 231.17 seconds and saved output to DSM_25BZ1_24.tif\n",
      "25\n",
      "\n",
      "Processing tile CHM_25BZ1_25.TIF\n",
      "cropped at 8.61\n",
      "dt\n",
      "filled dtm at 110.63\n",
      "dt\n",
      "filled dsm at 251.86\n",
      "filled buildings at 251.98\n"
     ]
    },
    {
     "name": "stderr",
     "output_type": "stream",
     "text": [
      "Processing Files: 100%|██████████| 23/23 [4:24:55<00:00, 691.10s/file]"
     ]
    },
    {
     "name": "stdout",
     "output_type": "stream",
     "text": [
      "File written to 'D:/Geomatics/final\\25BZ1\\DSM_25BZ1_25.tif'\n",
      "File written to 'D:/Geomatics/final\\25BZ1\\CHM_25BZ1_25.tif'\n",
      "Processed CHM_25BZ1_25.TIF in 253.03 seconds and saved output to DSM_25BZ1_25.tif\n",
      "\n",
      "All files processed in 15895.23 seconds.\n"
     ]
    },
    {
     "name": "stderr",
     "output_type": "stream",
     "text": [
      "\n"
     ]
    }
   ],
   "execution_count": 71
  },
  {
   "metadata": {
    "ExecuteTime": {
     "end_time": "2024-10-07T03:39:33.242333Z",
     "start_time": "2024-10-07T00:33:32.153090Z"
    }
   },
   "cell_type": "code",
   "source": [
    "chm_folder = \"D:/Geomatics/CHM/25BZ2\"\n",
    "output_base_folder = \"D:/Geomatics/final\"\n",
    "\n",
    "chm_files = glob.glob(os.path.join(chm_folder, \"*.TIF\"))\n",
    "process_files(chm_files, geotiff_dtm, geotiff_dsm, buildings, output_base_folder)"
   ],
   "id": "7e351ac45496206",
   "outputs": [
    {
     "name": "stderr",
     "output_type": "stream",
     "text": [
      "Processing Files:   0%|          | 0/21 [00:00<?, ?file/s]"
     ]
    },
    {
     "name": "stdout",
     "output_type": "stream",
     "text": [
      "01\n",
      "\n",
      "Processing tile CHM_25BZ2_01.TIF\n",
      "cropped at 8.68\n",
      "dt\n",
      "filled dtm at 217.49\n",
      "dt\n",
      "filled dsm at 424.59\n",
      "filled buildings at 424.78\n"
     ]
    },
    {
     "name": "stderr",
     "output_type": "stream",
     "text": [
      "Processing Files:   5%|▍         | 1/21 [07:05<2:21:57, 425.88s/file]"
     ]
    },
    {
     "name": "stdout",
     "output_type": "stream",
     "text": [
      "File written to 'D:/Geomatics/final\\25BZ2\\DSM_25BZ2_01.tif'\n",
      "File written to 'D:/Geomatics/final\\25BZ2\\CHM_25BZ2_01.tif'\n",
      "Processed CHM_25BZ2_01.TIF in 425.83 seconds and saved output to DSM_25BZ2_01.tif\n",
      "02\n",
      "\n",
      "Processing tile CHM_25BZ2_02.TIF\n",
      "cropped at 8.53\n",
      "dt\n",
      "filled dtm at 190.81\n",
      "dt\n",
      "filled dsm at 358.01\n",
      "filled buildings at 358.21\n"
     ]
    },
    {
     "name": "stderr",
     "output_type": "stream",
     "text": [
      "Processing Files:  10%|▉         | 2/21 [13:05<2:02:27, 386.72s/file]"
     ]
    },
    {
     "name": "stdout",
     "output_type": "stream",
     "text": [
      "File written to 'D:/Geomatics/final\\25BZ2\\DSM_25BZ2_02.tif'\n",
      "File written to 'D:/Geomatics/final\\25BZ2\\CHM_25BZ2_02.tif'\n",
      "Processed CHM_25BZ2_02.TIF in 359.26 seconds and saved output to DSM_25BZ2_02.tif\n",
      "05\n",
      "\n",
      "Processing tile CHM_25BZ2_05.TIF\n",
      "cropped at 8.68\n",
      "dt\n",
      "filled dtm at 260.16\n",
      "dt\n",
      "filled dsm at 401.41\n",
      "filled buildings at 401.61\n"
     ]
    },
    {
     "name": "stderr",
     "output_type": "stream",
     "text": [
      "Processing Files:  14%|█▍        | 3/21 [19:47<1:58:12, 394.03s/file]"
     ]
    },
    {
     "name": "stdout",
     "output_type": "stream",
     "text": [
      "File written to 'D:/Geomatics/final\\25BZ2\\DSM_25BZ2_05.tif'\n",
      "File written to 'D:/Geomatics/final\\25BZ2\\CHM_25BZ2_05.tif'\n",
      "Processed CHM_25BZ2_05.TIF in 402.66 seconds and saved output to DSM_25BZ2_05.tif\n",
      "06\n",
      "\n",
      "Processing tile CHM_25BZ2_06.TIF\n",
      "cropped at 8.61\n",
      "dt\n",
      "filled dtm at 238.90\n",
      "dt\n",
      "filled dsm at 482.51\n",
      "filled buildings at 482.70\n"
     ]
    },
    {
     "name": "stderr",
     "output_type": "stream",
     "text": [
      "Processing Files:  19%|█▉        | 4/21 [27:51<2:01:40, 429.47s/file]"
     ]
    },
    {
     "name": "stdout",
     "output_type": "stream",
     "text": [
      "File written to 'D:/Geomatics/final\\25BZ2\\DSM_25BZ2_06.tif'\n",
      "File written to 'D:/Geomatics/final\\25BZ2\\CHM_25BZ2_06.tif'\n",
      "Processed CHM_25BZ2_06.TIF in 483.76 seconds and saved output to DSM_25BZ2_06.tif\n",
      "07\n",
      "\n",
      "Processing tile CHM_25BZ2_07.TIF\n",
      "cropped at 8.54\n",
      "dt\n",
      "filled dtm at 303.43\n",
      "dt\n",
      "filled dsm at 459.75\n",
      "filled buildings at 459.94\n"
     ]
    },
    {
     "name": "stderr",
     "output_type": "stream",
     "text": [
      "Processing Files:  24%|██▍       | 5/21 [35:32<1:57:33, 440.85s/file]"
     ]
    },
    {
     "name": "stdout",
     "output_type": "stream",
     "text": [
      "File written to 'D:/Geomatics/final\\25BZ2\\DSM_25BZ2_07.tif'\n",
      "File written to 'D:/Geomatics/final\\25BZ2\\CHM_25BZ2_07.tif'\n",
      "Processed CHM_25BZ2_07.TIF in 460.99 seconds and saved output to DSM_25BZ2_07.tif\n",
      "08\n",
      "\n",
      "Processing tile CHM_25BZ2_08.TIF\n",
      "cropped at 8.71\n",
      "dt\n",
      "filled dtm at 369.30\n",
      "dt\n",
      "filled dsm at 641.10\n",
      "filled buildings at 641.30\n"
     ]
    },
    {
     "name": "stderr",
     "output_type": "stream",
     "text": [
      "Processing Files:  29%|██▊       | 6/21 [46:15<2:07:20, 509.37s/file]"
     ]
    },
    {
     "name": "stdout",
     "output_type": "stream",
     "text": [
      "File written to 'D:/Geomatics/final\\25BZ2\\DSM_25BZ2_08.tif'\n",
      "File written to 'D:/Geomatics/final\\25BZ2\\CHM_25BZ2_08.tif'\n",
      "Processed CHM_25BZ2_08.TIF in 642.35 seconds and saved output to DSM_25BZ2_08.tif\n",
      "10\n",
      "\n",
      "Processing tile CHM_25BZ2_10.TIF\n",
      "cropped at 8.52\n",
      "dt\n",
      "filled dtm at 385.50\n",
      "dt\n",
      "filled dsm at 626.23\n",
      "filled buildings at 626.42\n"
     ]
    },
    {
     "name": "stderr",
     "output_type": "stream",
     "text": [
      "Processing Files:  33%|███▎      | 7/21 [56:42<2:07:51, 548.00s/file]"
     ]
    },
    {
     "name": "stdout",
     "output_type": "stream",
     "text": [
      "File written to 'D:/Geomatics/final\\25BZ2\\DSM_25BZ2_10.tif'\n",
      "File written to 'D:/Geomatics/final\\25BZ2\\CHM_25BZ2_10.tif'\n",
      "Processed CHM_25BZ2_10.TIF in 627.48 seconds and saved output to DSM_25BZ2_10.tif\n",
      "12\n",
      "\n",
      "Processing tile CHM_25BZ2_12.TIF\n",
      "cropped at 8.69\n",
      "dt\n",
      "filled dtm at 2048.93\n",
      "dt\n",
      "filled dsm at 2594.82\n",
      "filled buildings at 2595.05\n"
     ]
    },
    {
     "name": "stderr",
     "output_type": "stream",
     "text": [
      "Processing Files:  38%|███▊      | 8/21 [1:39:58<4:20:00, 1200.04s/file]"
     ]
    },
    {
     "name": "stdout",
     "output_type": "stream",
     "text": [
      "File written to 'D:/Geomatics/final\\25BZ2\\DSM_25BZ2_12.tif'\n",
      "File written to 'D:/Geomatics/final\\25BZ2\\CHM_25BZ2_12.tif'\n",
      "Processed CHM_25BZ2_12.TIF in 2596.12 seconds and saved output to DSM_25BZ2_12.tif\n",
      "17\n",
      "\n",
      "Processing tile CHM_25BZ2_17.TIF\n",
      "cropped at 8.98\n",
      "dt\n",
      "filled dtm at 511.91\n",
      "dt\n",
      "filled dsm at 744.70\n",
      "filled buildings at 744.90\n"
     ]
    },
    {
     "name": "stderr",
     "output_type": "stream",
     "text": [
      "Processing Files:  43%|████▎     | 9/21 [1:52:24<3:31:37, 1058.10s/file]"
     ]
    },
    {
     "name": "stdout",
     "output_type": "stream",
     "text": [
      "File written to 'D:/Geomatics/final\\25BZ2\\DSM_25BZ2_17.tif'\n",
      "File written to 'D:/Geomatics/final\\25BZ2\\CHM_25BZ2_17.tif'\n",
      "Processed CHM_25BZ2_17.TIF in 745.95 seconds and saved output to DSM_25BZ2_17.tif\n",
      "21\n",
      "\n",
      "Processing tile CHM_25BZ2_21.TIF\n",
      "cropped at 8.80\n",
      "dt\n",
      "filled dtm at 93.67\n",
      "dt\n",
      "filled dsm at 275.19\n",
      "filled buildings at 275.41\n"
     ]
    },
    {
     "name": "stderr",
     "output_type": "stream",
     "text": [
      "Processing Files:  48%|████▊     | 10/21 [1:57:01<2:29:44, 816.80s/file]"
     ]
    },
    {
     "name": "stdout",
     "output_type": "stream",
     "text": [
      "File written to 'D:/Geomatics/final\\25BZ2\\DSM_25BZ2_21.tif'\n",
      "File written to 'D:/Geomatics/final\\25BZ2\\CHM_25BZ2_21.tif'\n",
      "Processed CHM_25BZ2_21.TIF in 276.46 seconds and saved output to DSM_25BZ2_21.tif\n",
      "11\n",
      "\n",
      "Processing tile CHM_25BZ2_11.TIF\n",
      "cropped at 8.55\n",
      "dt\n",
      "filled dtm at 433.69\n",
      "dt\n",
      "filled dsm at 587.31\n",
      "filled buildings at 587.51\n"
     ]
    },
    {
     "name": "stderr",
     "output_type": "stream",
     "text": [
      "Processing Files:  52%|█████▏    | 11/21 [2:06:49<2:04:29, 746.96s/file]"
     ]
    },
    {
     "name": "stdout",
     "output_type": "stream",
     "text": [
      "File written to 'D:/Geomatics/final\\25BZ2\\DSM_25BZ2_11.tif'\n",
      "File written to 'D:/Geomatics/final\\25BZ2\\CHM_25BZ2_11.tif'\n",
      "Processed CHM_25BZ2_11.TIF in 588.55 seconds and saved output to DSM_25BZ2_11.tif\n",
      "18\n",
      "\n",
      "Processing tile CHM_25BZ2_18.TIF\n",
      "cropped at 8.58\n",
      "dt\n",
      "filled dtm at 204.57\n",
      "dt\n",
      "filled dsm at 384.05\n",
      "filled buildings at 384.25\n"
     ]
    },
    {
     "name": "stderr",
     "output_type": "stream",
     "text": [
      "Processing Files:  57%|█████▋    | 12/21 [2:13:15<1:35:32, 636.96s/file]"
     ]
    },
    {
     "name": "stdout",
     "output_type": "stream",
     "text": [
      "File written to 'D:/Geomatics/final\\25BZ2\\DSM_25BZ2_18.tif'\n",
      "File written to 'D:/Geomatics/final\\25BZ2\\CHM_25BZ2_18.tif'\n",
      "Processed CHM_25BZ2_18.TIF in 385.31 seconds and saved output to DSM_25BZ2_18.tif\n",
      "20\n",
      "\n",
      "Processing tile CHM_25BZ2_20.TIF\n",
      "cropped at 8.65\n",
      "dt\n",
      "filled dtm at 150.60\n",
      "dt\n",
      "filled dsm at 289.72\n",
      "filled buildings at 289.92\n"
     ]
    },
    {
     "name": "stderr",
     "output_type": "stream",
     "text": [
      "Processing Files:  62%|██████▏   | 13/21 [2:18:06<1:10:57, 532.15s/file]"
     ]
    },
    {
     "name": "stdout",
     "output_type": "stream",
     "text": [
      "File written to 'D:/Geomatics/final\\25BZ2\\DSM_25BZ2_20.tif'\n",
      "File written to 'D:/Geomatics/final\\25BZ2\\CHM_25BZ2_20.tif'\n",
      "Processed CHM_25BZ2_20.TIF in 290.96 seconds and saved output to DSM_25BZ2_20.tif\n",
      "25\n",
      "\n",
      "Processing tile CHM_25BZ2_25.TIF\n",
      "cropped at 8.54\n",
      "dt\n",
      "filled dtm at 86.02\n",
      "dt\n",
      "filled dsm at 224.62\n",
      "filled buildings at 224.84\n"
     ]
    },
    {
     "name": "stderr",
     "output_type": "stream",
     "text": [
      "Processing Files:  67%|██████▋   | 14/21 [2:21:52<51:17, 439.66s/file]  "
     ]
    },
    {
     "name": "stdout",
     "output_type": "stream",
     "text": [
      "File written to 'D:/Geomatics/final\\25BZ2\\DSM_25BZ2_25.tif'\n",
      "File written to 'D:/Geomatics/final\\25BZ2\\CHM_25BZ2_25.tif'\n",
      "Processed CHM_25BZ2_25.TIF in 225.89 seconds and saved output to DSM_25BZ2_25.tif\n",
      "14\n",
      "\n",
      "Processing tile CHM_25BZ2_14.TIF\n",
      "cropped at 8.79\n",
      "dt\n",
      "filled dtm at 157.80\n",
      "dt\n",
      "filled dsm at 317.74\n",
      "filled buildings at 317.93\n"
     ]
    },
    {
     "name": "stderr",
     "output_type": "stream",
     "text": [
      "Processing Files:  71%|███████▏  | 15/21 [2:27:11<40:19, 403.30s/file]"
     ]
    },
    {
     "name": "stdout",
     "output_type": "stream",
     "text": [
      "File written to 'D:/Geomatics/final\\25BZ2\\DSM_25BZ2_14.tif'\n",
      "File written to 'D:/Geomatics/final\\25BZ2\\CHM_25BZ2_14.tif'\n",
      "Processed CHM_25BZ2_14.TIF in 319.00 seconds and saved output to DSM_25BZ2_14.tif\n",
      "15\n",
      "\n",
      "Processing tile CHM_25BZ2_15.TIF\n",
      "cropped at 8.52\n",
      "dt\n",
      "filled dtm at 397.20\n",
      "dt\n",
      "filled dsm at 558.19\n",
      "filled buildings at 558.39\n"
     ]
    },
    {
     "name": "stderr",
     "output_type": "stream",
     "text": [
      "Processing Files:  76%|███████▌  | 16/21 [2:36:30<37:31, 450.31s/file]"
     ]
    },
    {
     "name": "stdout",
     "output_type": "stream",
     "text": [
      "File written to 'D:/Geomatics/final\\25BZ2\\DSM_25BZ2_15.tif'\n",
      "File written to 'D:/Geomatics/final\\25BZ2\\CHM_25BZ2_15.tif'\n",
      "Processed CHM_25BZ2_15.TIF in 559.43 seconds and saved output to DSM_25BZ2_15.tif\n",
      "19\n",
      "\n",
      "Processing tile CHM_25BZ2_19.TIF\n",
      "cropped at 8.61\n",
      "dt\n",
      "filled dtm at 155.94\n",
      "dt\n",
      "filled dsm at 333.01\n",
      "filled buildings at 333.21\n"
     ]
    },
    {
     "name": "stderr",
     "output_type": "stream",
     "text": [
      "Processing Files:  81%|████████  | 17/21 [2:42:05<27:41, 415.43s/file]"
     ]
    },
    {
     "name": "stdout",
     "output_type": "stream",
     "text": [
      "File written to 'D:/Geomatics/final\\25BZ2\\DSM_25BZ2_19.tif'\n",
      "File written to 'D:/Geomatics/final\\25BZ2\\CHM_25BZ2_19.tif'\n",
      "Processed CHM_25BZ2_19.TIF in 334.27 seconds and saved output to DSM_25BZ2_19.tif\n",
      "22\n",
      "\n",
      "Processing tile CHM_25BZ2_22.TIF\n",
      "cropped at 8.71\n",
      "dt\n",
      "filled dtm at 91.28\n",
      "dt\n",
      "filled dsm at 246.86\n",
      "filled buildings at 247.08\n"
     ]
    },
    {
     "name": "stderr",
     "output_type": "stream",
     "text": [
      "Processing Files:  86%|████████▌ | 18/21 [2:46:13<18:15, 365.17s/file]"
     ]
    },
    {
     "name": "stdout",
     "output_type": "stream",
     "text": [
      "File written to 'D:/Geomatics/final\\25BZ2\\DSM_25BZ2_22.tif'\n",
      "File written to 'D:/Geomatics/final\\25BZ2\\CHM_25BZ2_22.tif'\n",
      "Processed CHM_25BZ2_22.TIF in 248.15 seconds and saved output to DSM_25BZ2_22.tif\n",
      "23\n",
      "\n",
      "Processing tile CHM_25BZ2_23.TIF\n",
      "cropped at 8.63\n",
      "dt\n",
      "filled dtm at 86.15\n",
      "dt\n",
      "filled dsm at 232.62\n",
      "filled buildings at 232.82\n"
     ]
    },
    {
     "name": "stderr",
     "output_type": "stream",
     "text": [
      "Processing Files:  90%|█████████ | 19/21 [2:50:07<10:51, 325.75s/file]"
     ]
    },
    {
     "name": "stdout",
     "output_type": "stream",
     "text": [
      "File written to 'D:/Geomatics/final\\25BZ2\\DSM_25BZ2_23.tif'\n",
      "File written to 'D:/Geomatics/final\\25BZ2\\CHM_25BZ2_23.tif'\n",
      "Processed CHM_25BZ2_23.TIF in 233.87 seconds and saved output to DSM_25BZ2_23.tif\n",
      "24\n",
      "\n",
      "Processing tile CHM_25BZ2_24.TIF\n",
      "cropped at 8.57\n",
      "dt\n",
      "filled dtm at 89.45\n",
      "dt\n",
      "filled dsm at 235.22\n",
      "filled buildings at 235.42\n"
     ]
    },
    {
     "name": "stderr",
     "output_type": "stream",
     "text": [
      "Processing Files:  95%|█████████▌| 20/21 [2:54:03<04:58, 298.96s/file]"
     ]
    },
    {
     "name": "stdout",
     "output_type": "stream",
     "text": [
      "File written to 'D:/Geomatics/final\\25BZ2\\DSM_25BZ2_24.tif'\n",
      "File written to 'D:/Geomatics/final\\25BZ2\\CHM_25BZ2_24.tif'\n",
      "Processed CHM_25BZ2_24.TIF in 236.47 seconds and saved output to DSM_25BZ2_24.tif\n",
      "13\n",
      "\n",
      "Processing tile CHM_25BZ2_13.TIF\n",
      "cropped at 8.56\n",
      "dt\n",
      "filled dtm at 476.12\n",
      "dt\n",
      "filled dsm at 689.48\n",
      "filled buildings at 689.67\n"
     ]
    },
    {
     "name": "stderr",
     "output_type": "stream",
     "text": [
      "Processing Files: 100%|██████████| 21/21 [3:05:34<00:00, 530.21s/file]"
     ]
    },
    {
     "name": "stdout",
     "output_type": "stream",
     "text": [
      "File written to 'D:/Geomatics/final\\25BZ2\\DSM_25BZ2_13.tif'\n",
      "File written to 'D:/Geomatics/final\\25BZ2\\CHM_25BZ2_13.tif'\n",
      "Processed CHM_25BZ2_13.TIF in 690.72 seconds and saved output to DSM_25BZ2_13.tif\n",
      "\n",
      "All files processed in 11134.40 seconds.\n"
     ]
    },
    {
     "name": "stderr",
     "output_type": "stream",
     "text": [
      "\n"
     ]
    }
   ],
   "execution_count": 72
  },
  {
   "metadata": {
    "ExecuteTime": {
     "end_time": "2024-10-07T04:30:11.321452Z",
     "start_time": "2024-10-07T03:39:33.742949Z"
    }
   },
   "cell_type": "code",
   "source": [
    "chm_folder = \"D:/Geomatics/CHM/25DN1\"\n",
    "output_base_folder = \"D:/Geomatics/final\"\n",
    "\n",
    "chm_files = glob.glob(os.path.join(chm_folder, \"*.TIF\"))\n",
    "process_files(chm_files, geotiff_dtm, geotiff_dsm, buildings, output_base_folder)"
   ],
   "id": "c26225751112ae5c",
   "outputs": [
    {
     "name": "stderr",
     "output_type": "stream",
     "text": [
      "Processing Files:   0%|          | 0/13 [00:00<?, ?file/s]"
     ]
    },
    {
     "name": "stdout",
     "output_type": "stream",
     "text": [
      "20\n",
      "\n",
      "Processing tile CHM_25DN1_20.TIF\n",
      "cropped at 8.59\n",
      "dt\n",
      "filled dtm at 84.14\n",
      "dt\n",
      "filled dsm at 215.36\n",
      "filled buildings at 215.57\n"
     ]
    },
    {
     "name": "stderr",
     "output_type": "stream",
     "text": [
      "Processing Files:   8%|▊         | 1/13 [03:36<43:19, 216.66s/file]"
     ]
    },
    {
     "name": "stdout",
     "output_type": "stream",
     "text": [
      "File written to 'D:/Geomatics/final\\25DN1\\DSM_25DN1_20.tif'\n",
      "File written to 'D:/Geomatics/final\\25DN1\\CHM_25DN1_20.tif'\n",
      "Processed CHM_25DN1_20.TIF in 216.62 seconds and saved output to DSM_25DN1_20.tif\n",
      "02\n",
      "\n",
      "Processing tile CHM_25DN1_02.TIF\n",
      "cropped at 9.03\n",
      "dt\n",
      "filled dtm at 154.12\n",
      "dt\n",
      "filled dsm at 313.79\n",
      "filled buildings at 313.98\n"
     ]
    },
    {
     "name": "stderr",
     "output_type": "stream",
     "text": [
      "Processing Files:  15%|█▌        | 2/13 [08:51<50:20, 274.56s/file]"
     ]
    },
    {
     "name": "stdout",
     "output_type": "stream",
     "text": [
      "File written to 'D:/Geomatics/final\\25DN1\\DSM_25DN1_02.tif'\n",
      "File written to 'D:/Geomatics/final\\25DN1\\CHM_25DN1_02.tif'\n",
      "Processed CHM_25DN1_02.TIF in 315.04 seconds and saved output to DSM_25DN1_02.tif\n",
      "03\n",
      "\n",
      "Processing tile CHM_25DN1_03.TIF\n",
      "cropped at 8.62\n",
      "dt\n",
      "filled dtm at 103.91\n",
      "dt\n",
      "filled dsm at 234.06\n",
      "filled buildings at 234.27\n"
     ]
    },
    {
     "name": "stderr",
     "output_type": "stream",
     "text": [
      "Processing Files:  23%|██▎       | 3/13 [12:47<42:46, 256.67s/file]"
     ]
    },
    {
     "name": "stdout",
     "output_type": "stream",
     "text": [
      "File written to 'D:/Geomatics/final\\25DN1\\DSM_25DN1_03.tif'\n",
      "File written to 'D:/Geomatics/final\\25DN1\\CHM_25DN1_03.tif'\n",
      "Processed CHM_25DN1_03.TIF in 235.33 seconds and saved output to DSM_25DN1_03.tif\n",
      "04\n",
      "\n",
      "Processing tile CHM_25DN1_04.TIF\n",
      "cropped at 8.66\n",
      "dt\n",
      "filled dtm at 95.02\n",
      "dt\n",
      "filled dsm at 188.32\n",
      "filled buildings at 188.51\n"
     ]
    },
    {
     "name": "stderr",
     "output_type": "stream",
     "text": [
      "Processing Files:  31%|███       | 4/13 [15:56<34:31, 230.19s/file]"
     ]
    },
    {
     "name": "stdout",
     "output_type": "stream",
     "text": [
      "File written to 'D:/Geomatics/final\\25DN1\\DSM_25DN1_04.tif'\n",
      "File written to 'D:/Geomatics/final\\25DN1\\CHM_25DN1_04.tif'\n",
      "Processed CHM_25DN1_04.TIF in 189.56 seconds and saved output to DSM_25DN1_04.tif\n",
      "05\n",
      "\n",
      "Processing tile CHM_25DN1_05.TIF\n",
      "cropped at 8.68\n",
      "dt\n",
      "filled dtm at 86.82\n",
      "dt\n",
      "filled dsm at 184.75\n",
      "filled buildings at 184.95\n"
     ]
    },
    {
     "name": "stderr",
     "output_type": "stream",
     "text": [
      "Processing Files:  38%|███▊      | 5/13 [19:02<28:34, 214.27s/file]"
     ]
    },
    {
     "name": "stdout",
     "output_type": "stream",
     "text": [
      "File written to 'D:/Geomatics/final\\25DN1\\DSM_25DN1_05.tif'\n",
      "File written to 'D:/Geomatics/final\\25DN1\\CHM_25DN1_05.tif'\n",
      "Processed CHM_25DN1_05.TIF in 186.01 seconds and saved output to DSM_25DN1_05.tif\n",
      "07\n",
      "\n",
      "Processing tile CHM_25DN1_07.TIF\n",
      "cropped at 8.56\n",
      "dt\n",
      "filled dtm at 139.97\n",
      "dt\n",
      "filled dsm at 282.51\n",
      "filled buildings at 282.71\n"
     ]
    },
    {
     "name": "stderr",
     "output_type": "stream",
     "text": [
      "Processing Files:  46%|████▌     | 6/13 [23:46<27:45, 237.92s/file]"
     ]
    },
    {
     "name": "stdout",
     "output_type": "stream",
     "text": [
      "File written to 'D:/Geomatics/final\\25DN1\\DSM_25DN1_07.tif'\n",
      "File written to 'D:/Geomatics/final\\25DN1\\CHM_25DN1_07.tif'\n",
      "Processed CHM_25DN1_07.TIF in 283.77 seconds and saved output to DSM_25DN1_07.tif\n",
      "08\n",
      "\n",
      "Processing tile CHM_25DN1_08.TIF\n",
      "cropped at 8.69\n",
      "dt\n",
      "filled dtm at 87.47\n",
      "dt\n",
      "filled dsm at 190.64\n",
      "filled buildings at 190.86\n"
     ]
    },
    {
     "name": "stderr",
     "output_type": "stream",
     "text": [
      "Processing Files:  54%|█████▍    | 7/13 [26:58<22:17, 222.89s/file]"
     ]
    },
    {
     "name": "stdout",
     "output_type": "stream",
     "text": [
      "File written to 'D:/Geomatics/final\\25DN1\\DSM_25DN1_08.tif'\n",
      "File written to 'D:/Geomatics/final\\25DN1\\CHM_25DN1_08.tif'\n",
      "Processed CHM_25DN1_08.TIF in 191.92 seconds and saved output to DSM_25DN1_08.tif\n",
      "09\n",
      "\n",
      "Processing tile CHM_25DN1_09.TIF\n",
      "cropped at 8.60\n",
      "dt\n",
      "filled dtm at 92.02\n",
      "dt\n",
      "filled dsm at 234.86\n",
      "filled buildings at 235.09\n"
     ]
    },
    {
     "name": "stderr",
     "output_type": "stream",
     "text": [
      "Processing Files:  62%|██████▏   | 8/13 [30:54<18:55, 227.13s/file]"
     ]
    },
    {
     "name": "stdout",
     "output_type": "stream",
     "text": [
      "File written to 'D:/Geomatics/final\\25DN1\\DSM_25DN1_09.tif'\n",
      "File written to 'D:/Geomatics/final\\25DN1\\CHM_25DN1_09.tif'\n",
      "Processed CHM_25DN1_09.TIF in 236.15 seconds and saved output to DSM_25DN1_09.tif\n",
      "10\n",
      "\n",
      "Processing tile CHM_25DN1_10.TIF\n",
      "cropped at 8.59\n",
      "dt\n",
      "filled dtm at 72.59\n",
      "dt\n",
      "filled dsm at 197.71\n",
      "filled buildings at 197.93\n"
     ]
    },
    {
     "name": "stderr",
     "output_type": "stream",
     "text": [
      "Processing Files:  69%|██████▉   | 9/13 [34:13<14:33, 218.34s/file]"
     ]
    },
    {
     "name": "stdout",
     "output_type": "stream",
     "text": [
      "File written to 'D:/Geomatics/final\\25DN1\\DSM_25DN1_10.tif'\n",
      "File written to 'D:/Geomatics/final\\25DN1\\CHM_25DN1_10.tif'\n",
      "Processed CHM_25DN1_10.TIF in 198.97 seconds and saved output to DSM_25DN1_10.tif\n",
      "13\n",
      "\n",
      "Processing tile CHM_25DN1_13.TIF\n",
      "cropped at 8.86\n",
      "dt\n",
      "filled dtm at 107.22\n",
      "dt\n",
      "filled dsm at 219.72\n",
      "filled buildings at 219.92\n"
     ]
    },
    {
     "name": "stderr",
     "output_type": "stream",
     "text": [
      "Processing Files:  77%|███████▋  | 10/13 [37:54<10:57, 219.17s/file]"
     ]
    },
    {
     "name": "stdout",
     "output_type": "stream",
     "text": [
      "File written to 'D:/Geomatics/final\\25DN1\\DSM_25DN1_13.tif'\n",
      "File written to 'D:/Geomatics/final\\25DN1\\CHM_25DN1_13.tif'\n",
      "Processed CHM_25DN1_13.TIF in 220.98 seconds and saved output to DSM_25DN1_13.tif\n",
      "14\n",
      "\n",
      "Processing tile CHM_25DN1_14.TIF\n",
      "cropped at 8.56\n",
      "dt\n",
      "filled dtm at 74.21\n",
      "dt\n",
      "filled dsm at 189.20\n",
      "filled buildings at 189.40\n"
     ]
    },
    {
     "name": "stderr",
     "output_type": "stream",
     "text": [
      "Processing Files:  85%|████████▍ | 11/13 [41:05<07:00, 210.39s/file]"
     ]
    },
    {
     "name": "stdout",
     "output_type": "stream",
     "text": [
      "File written to 'D:/Geomatics/final\\25DN1\\DSM_25DN1_14.tif'\n",
      "File written to 'D:/Geomatics/final\\25DN1\\CHM_25DN1_14.tif'\n",
      "Processed CHM_25DN1_14.TIF in 190.44 seconds and saved output to DSM_25DN1_14.tif\n",
      "15\n",
      "\n",
      "Processing tile CHM_25DN1_15.TIF\n",
      "cropped at 8.92\n",
      "dt\n",
      "filled dtm at 71.61\n",
      "dt\n",
      "filled dsm at 179.82\n",
      "filled buildings at 180.04\n"
     ]
    },
    {
     "name": "stderr",
     "output_type": "stream",
     "text": [
      "Processing Files:  92%|█████████▏| 12/13 [44:06<03:21, 201.49s/file]"
     ]
    },
    {
     "name": "stdout",
     "output_type": "stream",
     "text": [
      "File written to 'D:/Geomatics/final\\25DN1\\DSM_25DN1_15.tif'\n",
      "File written to 'D:/Geomatics/final\\25DN1\\CHM_25DN1_15.tif'\n",
      "Processed CHM_25DN1_15.TIF in 181.10 seconds and saved output to DSM_25DN1_15.tif\n",
      "16\n",
      "\n",
      "Processing tile CHM_25DN1_16.TIF\n",
      "cropped at 8.66\n",
      "dt\n",
      "filled dtm at 185.94\n",
      "dt\n",
      "filled dsm at 363.09\n",
      "filled buildings at 363.31\n"
     ]
    },
    {
     "name": "stderr",
     "output_type": "stream",
     "text": [
      "Processing Files: 100%|██████████| 13/13 [50:10<00:00, 231.60s/file]"
     ]
    },
    {
     "name": "stdout",
     "output_type": "stream",
     "text": [
      "File written to 'D:/Geomatics/final\\25DN1\\DSM_25DN1_16.tif'\n",
      "File written to 'D:/Geomatics/final\\25DN1\\CHM_25DN1_16.tif'\n",
      "Processed CHM_25DN1_16.TIF in 364.36 seconds and saved output to DSM_25DN1_16.tif\n",
      "\n",
      "All files processed in 3010.82 seconds.\n"
     ]
    },
    {
     "name": "stderr",
     "output_type": "stream",
     "text": [
      "\n"
     ]
    }
   ],
   "execution_count": 73
  },
  {
   "metadata": {
    "ExecuteTime": {
     "end_time": "2024-10-07T06:15:35.477833Z",
     "start_time": "2024-10-07T04:30:15.050154Z"
    }
   },
   "cell_type": "code",
   "source": [
    "chm_folder = \"D:/Geomatics/CHM/25DN2\"\n",
    "output_base_folder = \"D:/Geomatics/final\"\n",
    "\n",
    "chm_files = glob.glob(os.path.join(chm_folder, \"*.TIF\"))\n",
    "process_files(chm_files, geotiff_dtm, geotiff_dsm, buildings, output_base_folder)"
   ],
   "id": "f5ba583d2dafa2e3",
   "outputs": [
    {
     "name": "stderr",
     "output_type": "stream",
     "text": [
      "Processing Files:   0%|          | 0/22 [00:00<?, ?file/s]"
     ]
    },
    {
     "name": "stdout",
     "output_type": "stream",
     "text": [
      "25\n",
      "\n",
      "Processing tile CHM_25DN2_25.TIF\n",
      "cropped at 8.69\n",
      "dt\n",
      "filled dtm at 80.96\n",
      "dt\n",
      "filled dsm at 210.48\n",
      "filled buildings at 210.83\n"
     ]
    },
    {
     "name": "stderr",
     "output_type": "stream",
     "text": [
      "Processing Files:   5%|▍         | 1/22 [03:32<1:14:29, 212.82s/file]"
     ]
    },
    {
     "name": "stdout",
     "output_type": "stream",
     "text": [
      "File written to 'D:/Geomatics/final\\25DN2\\DSM_25DN2_25.tif'\n",
      "File written to 'D:/Geomatics/final\\25DN2\\CHM_25DN2_25.tif'\n",
      "Processed CHM_25DN2_25.TIF in 211.91 seconds and saved output to DSM_25DN2_25.tif\n",
      "24\n",
      "\n",
      "Processing tile CHM_25DN2_24.TIF\n",
      "cropped at 8.69\n",
      "dt\n",
      "filled dtm at 140.07\n",
      "dt\n",
      "filled dsm at 305.88\n",
      "filled buildings at 306.23\n"
     ]
    },
    {
     "name": "stderr",
     "output_type": "stream",
     "text": [
      "Processing Files:   9%|▉         | 2/22 [08:40<1:29:28, 268.42s/file]"
     ]
    },
    {
     "name": "stdout",
     "output_type": "stream",
     "text": [
      "File written to 'D:/Geomatics/final\\25DN2\\DSM_25DN2_24.tif'\n",
      "File written to 'D:/Geomatics/final\\25DN2\\CHM_25DN2_24.tif'\n",
      "Processed CHM_25DN2_24.TIF in 307.30 seconds and saved output to DSM_25DN2_24.tif\n",
      "20\n",
      "\n",
      "Processing tile CHM_25DN2_20.TIF\n",
      "cropped at 8.53\n",
      "dt\n",
      "filled dtm at 135.73\n",
      "dt\n",
      "filled dsm at 304.21\n",
      "filled buildings at 304.57\n"
     ]
    },
    {
     "name": "stderr",
     "output_type": "stream",
     "text": [
      "Processing Files:  14%|█▎        | 3/22 [13:45<1:30:23, 285.46s/file]"
     ]
    },
    {
     "name": "stdout",
     "output_type": "stream",
     "text": [
      "File written to 'D:/Geomatics/final\\25DN2\\DSM_25DN2_20.tif'\n",
      "File written to 'D:/Geomatics/final\\25DN2\\CHM_25DN2_20.tif'\n",
      "Processed CHM_25DN2_20.TIF in 305.69 seconds and saved output to DSM_25DN2_20.tif\n",
      "19\n",
      "\n",
      "Processing tile CHM_25DN2_19.TIF\n",
      "cropped at 8.60\n",
      "dt\n",
      "filled dtm at 139.30\n",
      "dt\n",
      "filled dsm at 253.27\n",
      "filled buildings at 253.63\n"
     ]
    },
    {
     "name": "stderr",
     "output_type": "stream",
     "text": [
      "Processing Files:  18%|█▊        | 4/22 [18:00<1:22:00, 273.34s/file]"
     ]
    },
    {
     "name": "stdout",
     "output_type": "stream",
     "text": [
      "File written to 'D:/Geomatics/final\\25DN2\\DSM_25DN2_19.tif'\n",
      "File written to 'D:/Geomatics/final\\25DN2\\CHM_25DN2_19.tif'\n",
      "Processed CHM_25DN2_19.TIF in 254.71 seconds and saved output to DSM_25DN2_19.tif\n",
      "18\n",
      "\n",
      "Processing tile CHM_25DN2_18.TIF\n",
      "cropped at 10.60\n",
      "dt\n",
      "filled dtm at 276.95\n",
      "dt\n",
      "filled dsm at 387.72\n",
      "filled buildings at 388.09\n"
     ]
    },
    {
     "name": "stderr",
     "output_type": "stream",
     "text": [
      "Processing Files:  23%|██▎       | 5/22 [24:29<1:29:17, 315.13s/file]"
     ]
    },
    {
     "name": "stdout",
     "output_type": "stream",
     "text": [
      "File written to 'D:/Geomatics/final\\25DN2\\DSM_25DN2_18.tif'\n",
      "File written to 'D:/Geomatics/final\\25DN2\\CHM_25DN2_18.tif'\n",
      "Processed CHM_25DN2_18.TIF in 389.18 seconds and saved output to DSM_25DN2_18.tif\n",
      "17\n",
      "\n",
      "Processing tile CHM_25DN2_17.TIF\n",
      "cropped at 8.55\n",
      "dt\n",
      "filled dtm at 270.30\n",
      "dt\n",
      "filled dsm at 422.24\n",
      "filled buildings at 422.59\n"
     ]
    },
    {
     "name": "stderr",
     "output_type": "stream",
     "text": [
      "Processing Files:  27%|██▋       | 6/22 [31:33<1:33:52, 352.05s/file]"
     ]
    },
    {
     "name": "stdout",
     "output_type": "stream",
     "text": [
      "File written to 'D:/Geomatics/final\\25DN2\\DSM_25DN2_17.tif'\n",
      "File written to 'D:/Geomatics/final\\25DN2\\CHM_25DN2_17.tif'\n",
      "Processed CHM_25DN2_17.TIF in 423.68 seconds and saved output to DSM_25DN2_17.tif\n",
      "16\n",
      "\n",
      "Processing tile CHM_25DN2_16.TIF\n",
      "cropped at 8.74\n",
      "dt\n",
      "filled dtm at 137.54\n",
      "dt\n",
      "filled dsm at 266.66\n",
      "filled buildings at 267.03\n",
      "File written to 'D:/Geomatics/final\\25DN2\\DSM_25DN2_16.tif'\n"
     ]
    },
    {
     "name": "stderr",
     "output_type": "stream",
     "text": [
      "Processing Files:  32%|███▏      | 7/22 [36:00<1:21:05, 324.34s/file]"
     ]
    },
    {
     "name": "stdout",
     "output_type": "stream",
     "text": [
      "File written to 'D:/Geomatics/final\\25DN2\\CHM_25DN2_16.tif'\n",
      "Processed CHM_25DN2_16.TIF in 267.27 seconds and saved output to DSM_25DN2_16.tif\n",
      "15\n",
      "\n",
      "Processing tile CHM_25DN2_15.TIF\n",
      "cropped at 8.54\n",
      "dt\n",
      "filled dtm at 98.84\n",
      "dt\n",
      "filled dsm at 223.72\n",
      "filled buildings at 224.11\n"
     ]
    },
    {
     "name": "stderr",
     "output_type": "stream",
     "text": [
      "Processing Files:  36%|███▋      | 8/22 [39:46<1:08:19, 292.80s/file]"
     ]
    },
    {
     "name": "stdout",
     "output_type": "stream",
     "text": [
      "File written to 'D:/Geomatics/final\\25DN2\\DSM_25DN2_15.tif'\n",
      "File written to 'D:/Geomatics/final\\25DN2\\CHM_25DN2_15.tif'\n",
      "Processed CHM_25DN2_15.TIF in 225.21 seconds and saved output to DSM_25DN2_15.tif\n",
      "14\n",
      "\n",
      "Processing tile CHM_25DN2_14.TIF\n",
      "cropped at 9.05\n",
      "dt\n",
      "filled dtm at 144.86\n",
      "dt\n",
      "filled dsm at 287.19\n",
      "filled buildings at 287.59\n"
     ]
    },
    {
     "name": "stderr",
     "output_type": "stream",
     "text": [
      "Processing Files:  41%|████      | 9/22 [44:34<1:03:09, 291.52s/file]"
     ]
    },
    {
     "name": "stdout",
     "output_type": "stream",
     "text": [
      "File written to 'D:/Geomatics/final\\25DN2\\DSM_25DN2_14.tif'\n",
      "File written to 'D:/Geomatics/final\\25DN2\\CHM_25DN2_14.tif'\n",
      "Processed CHM_25DN2_14.TIF in 288.67 seconds and saved output to DSM_25DN2_14.tif\n",
      "13\n",
      "\n",
      "Processing tile CHM_25DN2_13.TIF\n",
      "cropped at 9.19\n",
      "dt\n",
      "filled dtm at 213.90\n",
      "dt\n",
      "filled dsm at 404.35\n",
      "filled buildings at 404.75\n"
     ]
    },
    {
     "name": "stderr",
     "output_type": "stream",
     "text": [
      "Processing Files:  45%|████▌     | 10/22 [51:20<1:05:21, 326.83s/file]"
     ]
    },
    {
     "name": "stdout",
     "output_type": "stream",
     "text": [
      "File written to 'D:/Geomatics/final\\25DN2\\DSM_25DN2_13.tif'\n",
      "File written to 'D:/Geomatics/final\\25DN2\\CHM_25DN2_13.tif'\n",
      "Processed CHM_25DN2_13.TIF in 405.85 seconds and saved output to DSM_25DN2_13.tif\n",
      "12\n",
      "\n",
      "Processing tile CHM_25DN2_12.TIF\n",
      "cropped at 8.94\n",
      "dt\n",
      "filled dtm at 156.47\n",
      "dt\n",
      "filled dsm at 295.79\n",
      "filled buildings at 296.18\n"
     ]
    },
    {
     "name": "stderr",
     "output_type": "stream",
     "text": [
      "Processing Files:  50%|█████     | 11/22 [56:18<58:15, 317.79s/file]  "
     ]
    },
    {
     "name": "stdout",
     "output_type": "stream",
     "text": [
      "File written to 'D:/Geomatics/final\\25DN2\\DSM_25DN2_12.tif'\n",
      "File written to 'D:/Geomatics/final\\25DN2\\CHM_25DN2_12.tif'\n",
      "Processed CHM_25DN2_12.TIF in 297.26 seconds and saved output to DSM_25DN2_12.tif\n",
      "11\n",
      "\n",
      "Processing tile CHM_25DN2_11.TIF\n",
      "cropped at 8.79\n",
      "dt\n",
      "filled dtm at 123.35\n",
      "dt\n",
      "filled dsm at 233.22\n",
      "filled buildings at 233.60\n"
     ]
    },
    {
     "name": "stderr",
     "output_type": "stream",
     "text": [
      "Processing Files:  55%|█████▍    | 12/22 [1:00:12<48:45, 292.53s/file]"
     ]
    },
    {
     "name": "stdout",
     "output_type": "stream",
     "text": [
      "File written to 'D:/Geomatics/final\\25DN2\\DSM_25DN2_11.tif'\n",
      "File written to 'D:/Geomatics/final\\25DN2\\CHM_25DN2_11.tif'\n",
      "Processed CHM_25DN2_11.TIF in 234.70 seconds and saved output to DSM_25DN2_11.tif\n",
      "10\n",
      "\n",
      "Processing tile CHM_25DN2_10.TIF\n",
      "cropped at 9.07\n",
      "dt\n",
      "filled dtm at 73.60\n",
      "dt\n",
      "filled dsm at 189.71\n",
      "filled buildings at 190.09\n"
     ]
    },
    {
     "name": "stderr",
     "output_type": "stream",
     "text": [
      "Processing Files:  59%|█████▉    | 13/22 [1:03:24<39:16, 261.84s/file]"
     ]
    },
    {
     "name": "stdout",
     "output_type": "stream",
     "text": [
      "File written to 'D:/Geomatics/final\\25DN2\\DSM_25DN2_10.tif'\n",
      "File written to 'D:/Geomatics/final\\25DN2\\CHM_25DN2_10.tif'\n",
      "Processed CHM_25DN2_10.TIF in 191.18 seconds and saved output to DSM_25DN2_10.tif\n",
      "09\n",
      "\n",
      "Processing tile CHM_25DN2_09.TIF\n",
      "cropped at 8.75\n",
      "dt\n",
      "filled dtm at 198.04\n",
      "dt\n",
      "filled dsm at 336.57\n",
      "filled buildings at 336.96\n"
     ]
    },
    {
     "name": "stderr",
     "output_type": "stream",
     "text": [
      "Processing Files:  64%|██████▎   | 14/22 [1:09:02<37:58, 284.87s/file]"
     ]
    },
    {
     "name": "stdout",
     "output_type": "stream",
     "text": [
      "File written to 'D:/Geomatics/final\\25DN2\\DSM_25DN2_09.tif'\n",
      "File written to 'D:/Geomatics/final\\25DN2\\CHM_25DN2_09.tif'\n",
      "Processed CHM_25DN2_09.TIF in 338.06 seconds and saved output to DSM_25DN2_09.tif\n",
      "08\n",
      "\n",
      "Processing tile CHM_25DN2_08.TIF\n",
      "cropped at 8.82\n",
      "dt\n",
      "filled dtm at 166.06\n",
      "dt\n",
      "filled dsm at 340.11\n",
      "filled buildings at 340.49\n"
     ]
    },
    {
     "name": "stderr",
     "output_type": "stream",
     "text": [
      "Processing Files:  68%|██████▊   | 15/22 [1:14:43<35:13, 301.98s/file]"
     ]
    },
    {
     "name": "stdout",
     "output_type": "stream",
     "text": [
      "File written to 'D:/Geomatics/final\\25DN2\\DSM_25DN2_08.tif'\n",
      "File written to 'D:/Geomatics/final\\25DN2\\CHM_25DN2_08.tif'\n",
      "Processed CHM_25DN2_08.TIF in 341.58 seconds and saved output to DSM_25DN2_08.tif\n",
      "07\n",
      "\n",
      "Processing tile CHM_25DN2_07.TIF\n",
      "cropped at 8.63\n",
      "dt\n",
      "filled dtm at 113.59\n",
      "dt\n",
      "filled dsm at 280.32\n",
      "filled buildings at 280.69\n"
     ]
    },
    {
     "name": "stderr",
     "output_type": "stream",
     "text": [
      "Processing Files:  73%|███████▎  | 16/22 [1:19:25<29:35, 295.91s/file]"
     ]
    },
    {
     "name": "stdout",
     "output_type": "stream",
     "text": [
      "File written to 'D:/Geomatics/final\\25DN2\\DSM_25DN2_07.tif'\n",
      "File written to 'D:/Geomatics/final\\25DN2\\CHM_25DN2_07.tif'\n",
      "Processed CHM_25DN2_07.TIF in 281.77 seconds and saved output to DSM_25DN2_07.tif\n",
      "06\n",
      "\n",
      "Processing tile CHM_25DN2_06.TIF\n",
      "cropped at 8.60\n",
      "dt\n",
      "filled dtm at 153.51\n",
      "dt\n",
      "filled dsm at 338.86\n",
      "filled buildings at 339.25\n"
     ]
    },
    {
     "name": "stderr",
     "output_type": "stream",
     "text": [
      "Processing Files:  77%|███████▋  | 17/22 [1:25:05<25:46, 309.28s/file]"
     ]
    },
    {
     "name": "stdout",
     "output_type": "stream",
     "text": [
      "File written to 'D:/Geomatics/final\\25DN2\\DSM_25DN2_06.tif'\n",
      "File written to 'D:/Geomatics/final\\25DN2\\CHM_25DN2_06.tif'\n",
      "Processed CHM_25DN2_06.TIF in 340.34 seconds and saved output to DSM_25DN2_06.tif\n",
      "05\n",
      "\n",
      "Processing tile CHM_25DN2_05.TIF\n",
      "cropped at 8.75\n",
      "dt\n",
      "filled dtm at 66.72\n",
      "dt\n",
      "filled dsm at 182.21\n",
      "filled buildings at 182.60\n"
     ]
    },
    {
     "name": "stderr",
     "output_type": "stream",
     "text": [
      "Processing Files:  82%|████████▏ | 18/22 [1:28:09<18:06, 271.56s/file]"
     ]
    },
    {
     "name": "stdout",
     "output_type": "stream",
     "text": [
      "File written to 'D:/Geomatics/final\\25DN2\\DSM_25DN2_05.tif'\n",
      "File written to 'D:/Geomatics/final\\25DN2\\CHM_25DN2_05.tif'\n",
      "Processed CHM_25DN2_05.TIF in 183.70 seconds and saved output to DSM_25DN2_05.tif\n",
      "04\n",
      "\n",
      "Processing tile CHM_25DN2_04.TIF\n",
      "cropped at 8.55\n",
      "dt\n",
      "filled dtm at 95.87\n",
      "dt\n",
      "filled dsm at 249.91\n",
      "filled buildings at 250.29\n"
     ]
    },
    {
     "name": "stderr",
     "output_type": "stream",
     "text": [
      "Processing Files:  86%|████████▋ | 19/22 [1:32:21<13:16, 265.51s/file]"
     ]
    },
    {
     "name": "stdout",
     "output_type": "stream",
     "text": [
      "File written to 'D:/Geomatics/final\\25DN2\\DSM_25DN2_04.tif'\n",
      "File written to 'D:/Geomatics/final\\25DN2\\CHM_25DN2_04.tif'\n",
      "Processed CHM_25DN2_04.TIF in 251.37 seconds and saved output to DSM_25DN2_04.tif\n",
      "03\n",
      "\n",
      "Processing tile CHM_25DN2_03.TIF\n",
      "cropped at 8.66\n",
      "dt\n",
      "filled dtm at 144.55\n",
      "dt\n",
      "filled dsm at 288.74\n",
      "filled buildings at 289.24\n"
     ]
    },
    {
     "name": "stderr",
     "output_type": "stream",
     "text": [
      "Processing Files:  91%|█████████ | 20/22 [1:37:11<09:05, 272.98s/file]"
     ]
    },
    {
     "name": "stdout",
     "output_type": "stream",
     "text": [
      "File written to 'D:/Geomatics/final\\25DN2\\DSM_25DN2_03.tif'\n",
      "File written to 'D:/Geomatics/final\\25DN2\\CHM_25DN2_03.tif'\n",
      "Processed CHM_25DN2_03.TIF in 290.34 seconds and saved output to DSM_25DN2_03.tif\n",
      "02\n",
      "\n",
      "Processing tile CHM_25DN2_02.TIF\n",
      "cropped at 11.10\n",
      "dt\n"
     ]
    },
    {
     "name": "stderr",
     "output_type": "stream",
     "text": [
      "Processing Files:  91%|█████████ | 20/22 [1:44:18<10:25, 312.93s/file]\n"
     ]
    },
    {
     "ename": "KeyboardInterrupt",
     "evalue": "",
     "output_type": "error",
     "traceback": [
      "\u001B[1;31m---------------------------------------------------------------------------\u001B[0m",
      "\u001B[1;31mKeyboardInterrupt\u001B[0m                         Traceback (most recent call last)",
      "Cell \u001B[1;32mIn[74], line 5\u001B[0m\n\u001B[0;32m      2\u001B[0m output_base_folder \u001B[38;5;241m=\u001B[39m \u001B[38;5;124m\"\u001B[39m\u001B[38;5;124mD:/Geomatics/final\u001B[39m\u001B[38;5;124m\"\u001B[39m\n\u001B[0;32m      4\u001B[0m chm_files \u001B[38;5;241m=\u001B[39m glob\u001B[38;5;241m.\u001B[39mglob(os\u001B[38;5;241m.\u001B[39mpath\u001B[38;5;241m.\u001B[39mjoin(chm_folder, \u001B[38;5;124m\"\u001B[39m\u001B[38;5;124m*.TIF\u001B[39m\u001B[38;5;124m\"\u001B[39m))\n\u001B[1;32m----> 5\u001B[0m process_files(chm_files, geotiff_dtm, geotiff_dsm, buildings, output_base_folder)\n",
      "Cell \u001B[1;32mIn[66], line 201\u001B[0m, in \u001B[0;36mprocess_files\u001B[1;34m(chm_files, dtm_path, dsm_path, buildings_path, output_base_folder, nodata_value)\u001B[0m\n\u001B[0;32m    197\u001B[0m \u001B[38;5;28mprint\u001B[39m(\u001B[38;5;124mf\u001B[39m\u001B[38;5;124m\"\u001B[39m\u001B[38;5;124mcropped at \u001B[39m\u001B[38;5;132;01m{\u001B[39;00m(time\u001B[38;5;241m.\u001B[39mtime()\u001B[38;5;250m \u001B[39m\u001B[38;5;241m-\u001B[39m\u001B[38;5;250m \u001B[39mstart_time)\u001B[38;5;132;01m:\u001B[39;00m\u001B[38;5;124m.2f\u001B[39m\u001B[38;5;132;01m}\u001B[39;00m\u001B[38;5;124m\"\u001B[39m)\n\u001B[0;32m    198\u001B[0m \u001B[38;5;66;03m# no data values fill\u001B[39;00m\n\u001B[0;32m    199\u001B[0m \n\u001B[0;32m    200\u001B[0m \u001B[38;5;66;03m# fill\u001B[39;00m\n\u001B[1;32m--> 201\u001B[0m filled_dtm, _ \u001B[38;5;241m=\u001B[39m fill_raster(dtm_cropped, nodata_value, dtm_transform)\n\u001B[0;32m    202\u001B[0m \u001B[38;5;28mprint\u001B[39m(\u001B[38;5;124mf\u001B[39m\u001B[38;5;124m\"\u001B[39m\u001B[38;5;124mfilled dtm at \u001B[39m\u001B[38;5;132;01m{\u001B[39;00m(time\u001B[38;5;241m.\u001B[39mtime()\u001B[38;5;250m \u001B[39m\u001B[38;5;241m-\u001B[39m\u001B[38;5;250m \u001B[39mstart_time)\u001B[38;5;132;01m:\u001B[39;00m\u001B[38;5;124m.2f\u001B[39m\u001B[38;5;132;01m}\u001B[39;00m\u001B[38;5;124m\"\u001B[39m)\n\u001B[0;32m    204\u001B[0m filled_dsm, new_dsm_transform \u001B[38;5;241m=\u001B[39m fill_raster(dsm_cropped, nodata_value, dsm_transform)\n",
      "Cell \u001B[1;32mIn[66], line 123\u001B[0m, in \u001B[0;36mfill_raster\u001B[1;34m(cropped_data, nodata_value, transform)\u001B[0m\n\u001B[0;32m    120\u001B[0m interpolated_values \u001B[38;5;241m=\u001B[39m dt\u001B[38;5;241m.\u001B[39minterpolate({\u001B[38;5;124m\"\u001B[39m\u001B[38;5;124mmethod\u001B[39m\u001B[38;5;124m\"\u001B[39m: \u001B[38;5;124m\"\u001B[39m\u001B[38;5;124mLaplace\u001B[39m\u001B[38;5;124m\"\u001B[39m}, locs)\n\u001B[0;32m    122\u001B[0m \u001B[38;5;66;03m# reshape interpolated grid back to og\u001B[39;00m\n\u001B[1;32m--> 123\u001B[0m interpolated_grid \u001B[38;5;241m=\u001B[39m np\u001B[38;5;241m.\u001B[39mreshape(interpolated_values, (cropped_data\u001B[38;5;241m.\u001B[39mshape[\u001B[38;5;241m1\u001B[39m] \u001B[38;5;241m-\u001B[39m \u001B[38;5;241m2\u001B[39m, cropped_data\u001B[38;5;241m.\u001B[39mshape[\u001B[38;5;241m2\u001B[39m] \u001B[38;5;241m-\u001B[39m \u001B[38;5;241m2\u001B[39m))\n\u001B[0;32m    125\u001B[0m \u001B[38;5;66;03m# fill new_data with interpolated values\u001B[39;00m\n\u001B[0;32m    126\u001B[0m new_data[\u001B[38;5;241m0\u001B[39m, \u001B[38;5;241m1\u001B[39m:\u001B[38;5;241m-\u001B[39m\u001B[38;5;241m1\u001B[39m, \u001B[38;5;241m1\u001B[39m:\u001B[38;5;241m-\u001B[39m\u001B[38;5;241m1\u001B[39m] \u001B[38;5;241m=\u001B[39m interpolated_grid\n",
      "File \u001B[1;32m~\\anaconda3\\envs\\synthesis\\Lib\\site-packages\\numpy\\core\\fromnumeric.py:195\u001B[0m, in \u001B[0;36m_reshape_dispatcher\u001B[1;34m(a, newshape, order)\u001B[0m\n\u001B[0;32m     97\u001B[0m \u001B[38;5;250m    \u001B[39m\u001B[38;5;124;03m\"\"\"\u001B[39;00m\n\u001B[0;32m     98\u001B[0m \u001B[38;5;124;03m    Take elements from an array along an axis.\u001B[39;00m\n\u001B[0;32m     99\u001B[0m \n\u001B[1;32m   (...)\u001B[0m\n\u001B[0;32m    190\u001B[0m \u001B[38;5;124;03m           [5, 7]])\u001B[39;00m\n\u001B[0;32m    191\u001B[0m \u001B[38;5;124;03m    \"\"\"\u001B[39;00m\n\u001B[0;32m    192\u001B[0m     \u001B[38;5;28;01mreturn\u001B[39;00m _wrapfunc(a, \u001B[38;5;124m'\u001B[39m\u001B[38;5;124mtake\u001B[39m\u001B[38;5;124m'\u001B[39m, indices, axis\u001B[38;5;241m=\u001B[39maxis, out\u001B[38;5;241m=\u001B[39mout, mode\u001B[38;5;241m=\u001B[39mmode)\n\u001B[1;32m--> 195\u001B[0m \u001B[38;5;28;01mdef\u001B[39;00m \u001B[38;5;21m_reshape_dispatcher\u001B[39m(a, newshape, order\u001B[38;5;241m=\u001B[39m\u001B[38;5;28;01mNone\u001B[39;00m):\n\u001B[0;32m    196\u001B[0m     \u001B[38;5;28;01mreturn\u001B[39;00m (a,)\n\u001B[0;32m    199\u001B[0m \u001B[38;5;66;03m# not deprecated --- copy if necessary, view otherwise\u001B[39;00m\n",
      "\u001B[1;31mKeyboardInterrupt\u001B[0m: "
     ]
    }
   ],
   "execution_count": 74
  },
  {
   "metadata": {
    "ExecuteTime": {
     "end_time": "2024-10-07T06:55:15.043132Z",
     "start_time": "2024-10-07T06:41:35.491259Z"
    }
   },
   "cell_type": "code",
   "source": [
    "chm_folder = \"D:/Geomatics/CHM/25DN2_last\"\n",
    "output_base_folder = \"D:/Geomatics/final\"\n",
    "\n",
    "chm_files = glob.glob(os.path.join(chm_folder, \"*.TIF\"))\n",
    "process_files(chm_files, geotiff_dtm, geotiff_dsm, buildings, output_base_folder)"
   ],
   "id": "9040e5042a110e46",
   "outputs": [
    {
     "name": "stderr",
     "output_type": "stream",
     "text": [
      "Processing Files:   0%|          | 0/2 [00:00<?, ?file/s]"
     ]
    },
    {
     "name": "stdout",
     "output_type": "stream",
     "text": [
      "02\n",
      "\n",
      "Processing tile CHM_25DN2_02.TIF\n",
      "cropped at 1.52\n",
      "dt\n",
      "filled dtm at 406.78\n",
      "dt\n",
      "filled dsm at 550.47\n",
      "filled buildings at 550.81\n"
     ]
    },
    {
     "name": "stderr",
     "output_type": "stream",
     "text": [
      "Processing Files:  50%|█████     | 1/2 [09:12<09:12, 552.16s/file]"
     ]
    },
    {
     "name": "stdout",
     "output_type": "stream",
     "text": [
      "File written to 'D:/Geomatics/final\\25DN2\\DSM_25DN2_02.tif'\n",
      "File written to 'D:/Geomatics/final\\25DN2\\CHM_25DN2_02.tif'\n",
      "Processed CHM_25DN2_02.TIF in 551.92 seconds and saved output to DSM_25DN2_02.tif\n",
      "01\n",
      "\n",
      "Processing tile CHM_25DN2_01.TIF\n",
      "cropped at 0.94\n",
      "dt\n",
      "filled dtm at 84.42\n",
      "dt\n",
      "filled dsm at 203.50\n",
      "filled buildings at 203.83\n"
     ]
    },
    {
     "name": "stderr",
     "output_type": "stream",
     "text": [
      "Processing Files: 100%|██████████| 2/2 [12:37<00:00, 378.54s/file]"
     ]
    },
    {
     "name": "stdout",
     "output_type": "stream",
     "text": [
      "File written to 'D:/Geomatics/final\\25DN2\\DSM_25DN2_01.tif'\n",
      "File written to 'D:/Geomatics/final\\25DN2\\CHM_25DN2_01.tif'\n",
      "Processed CHM_25DN2_01.TIF in 204.89 seconds and saved output to DSM_25DN2_01.tif\n",
      "\n",
      "All files processed in 757.09 seconds.\n"
     ]
    },
    {
     "name": "stderr",
     "output_type": "stream",
     "text": [
      "\n"
     ]
    }
   ],
   "execution_count": 3
  },
  {
   "metadata": {
    "ExecuteTime": {
     "end_time": "2024-10-07T08:31:20.626768Z",
     "start_time": "2024-10-07T06:55:15.382838Z"
    }
   },
   "cell_type": "code",
   "source": [
    "chm_folder = \"D:/Geomatics/CHM/25EZ2\"\n",
    "output_base_folder = \"D:/Geomatics/final\"\n",
    "\n",
    "chm_files = glob.glob(os.path.join(chm_folder, \"*.TIF\"))\n",
    "process_files(chm_files, geotiff_dtm, geotiff_dsm, buildings, output_base_folder)"
   ],
   "id": "d8e5c732acded393",
   "outputs": [
    {
     "name": "stderr",
     "output_type": "stream",
     "text": [
      "Processing Files:   0%|          | 0/25 [00:00<?, ?file/s]"
     ]
    },
    {
     "name": "stdout",
     "output_type": "stream",
     "text": [
      "02\n",
      "\n",
      "Processing tile CHM_25EZ2_02.TIF\n",
      "cropped at 1.04\n",
      "dt\n",
      "filled dtm at 94.93\n",
      "dt\n",
      "filled dsm at 193.12\n",
      "filled buildings at 193.20\n"
     ]
    },
    {
     "name": "stderr",
     "output_type": "stream",
     "text": [
      "Processing Files:   4%|▍         | 1/25 [03:14<1:17:42, 194.26s/file]"
     ]
    },
    {
     "name": "stdout",
     "output_type": "stream",
     "text": [
      "File written to 'D:/Geomatics/final\\25EZ2\\DSM_25EZ2_02.tif'\n",
      "File written to 'D:/Geomatics/final\\25EZ2\\CHM_25EZ2_02.tif'\n",
      "Processed CHM_25EZ2_02.TIF in 194.25 seconds and saved output to DSM_25EZ2_02.tif\n",
      "01\n",
      "\n",
      "Processing tile CHM_25EZ2_01.TIF\n",
      "cropped at 0.80\n",
      "dt\n",
      "filled dtm at 105.75\n",
      "dt\n",
      "filled dsm at 211.06\n",
      "filled buildings at 211.15\n"
     ]
    },
    {
     "name": "stderr",
     "output_type": "stream",
     "text": [
      "Processing Files:   8%|▊         | 2/25 [06:46<1:18:30, 204.80s/file]"
     ]
    },
    {
     "name": "stdout",
     "output_type": "stream",
     "text": [
      "File written to 'D:/Geomatics/final\\25EZ2\\DSM_25EZ2_01.tif'\n",
      "File written to 'D:/Geomatics/final\\25EZ2\\CHM_25EZ2_01.tif'\n",
      "Processed CHM_25EZ2_01.TIF in 212.16 seconds and saved output to DSM_25EZ2_01.tif\n",
      "03\n",
      "\n",
      "Processing tile CHM_25EZ2_03.TIF\n",
      "cropped at 0.89\n",
      "dt\n",
      "filled dtm at 92.83\n",
      "dt\n",
      "filled dsm at 189.01\n",
      "filled buildings at 189.09\n"
     ]
    },
    {
     "name": "stderr",
     "output_type": "stream",
     "text": [
      "Processing Files:  12%|█▏        | 3/25 [09:56<1:12:38, 198.11s/file]"
     ]
    },
    {
     "name": "stdout",
     "output_type": "stream",
     "text": [
      "File written to 'D:/Geomatics/final\\25EZ2\\DSM_25EZ2_03.tif'\n",
      "File written to 'D:/Geomatics/final\\25EZ2\\CHM_25EZ2_03.tif'\n",
      "Processed CHM_25EZ2_03.TIF in 190.12 seconds and saved output to DSM_25EZ2_03.tif\n",
      "04\n",
      "\n",
      "Processing tile CHM_25EZ2_04.TIF\n",
      "cropped at 0.83\n",
      "dt\n",
      "filled dtm at 98.84\n",
      "dt\n",
      "filled dsm at 187.13\n",
      "filled buildings at 187.22\n"
     ]
    },
    {
     "name": "stderr",
     "output_type": "stream",
     "text": [
      "Processing Files:  16%|█▌        | 4/25 [13:04<1:07:58, 194.23s/file]"
     ]
    },
    {
     "name": "stdout",
     "output_type": "stream",
     "text": [
      "File written to 'D:/Geomatics/final\\25EZ2\\DSM_25EZ2_04.tif'\n",
      "File written to 'D:/Geomatics/final\\25EZ2\\CHM_25EZ2_04.tif'\n",
      "Processed CHM_25EZ2_04.TIF in 188.25 seconds and saved output to DSM_25EZ2_04.tif\n",
      "05\n",
      "\n",
      "Processing tile CHM_25EZ2_05.TIF\n",
      "cropped at 0.82\n",
      "dt\n",
      "filled dtm at 102.66\n",
      "dt\n",
      "filled dsm at 193.41\n",
      "filled buildings at 193.51\n",
      "File written to 'D:/Geomatics/final\\25EZ2\\DSM_25EZ2_05.tif'\n"
     ]
    },
    {
     "name": "stderr",
     "output_type": "stream",
     "text": [
      "Processing Files:  20%|██        | 5/25 [16:18<1:04:40, 194.04s/file]"
     ]
    },
    {
     "name": "stdout",
     "output_type": "stream",
     "text": [
      "File written to 'D:/Geomatics/final\\25EZ2\\CHM_25EZ2_05.tif'\n",
      "Processed CHM_25EZ2_05.TIF in 193.66 seconds and saved output to DSM_25EZ2_05.tif\n",
      "06\n",
      "\n",
      "Processing tile CHM_25EZ2_06.TIF\n",
      "cropped at 0.99\n",
      "dt\n",
      "filled dtm at 80.62\n",
      "dt\n",
      "filled dsm at 161.67\n",
      "filled buildings at 161.78\n"
     ]
    },
    {
     "name": "stderr",
     "output_type": "stream",
     "text": [
      "Processing Files:  24%|██▍       | 6/25 [19:01<58:05, 183.43s/file]  "
     ]
    },
    {
     "name": "stdout",
     "output_type": "stream",
     "text": [
      "File written to 'D:/Geomatics/final\\25EZ2\\DSM_25EZ2_06.tif'\n",
      "File written to 'D:/Geomatics/final\\25EZ2\\CHM_25EZ2_06.tif'\n",
      "Processed CHM_25EZ2_06.TIF in 162.81 seconds and saved output to DSM_25EZ2_06.tif\n",
      "07\n",
      "\n",
      "Processing tile CHM_25EZ2_07.TIF\n",
      "cropped at 1.05\n",
      "dt\n",
      "filled dtm at 117.33\n",
      "dt\n",
      "filled dsm at 210.37\n",
      "filled buildings at 210.48\n"
     ]
    },
    {
     "name": "stderr",
     "output_type": "stream",
     "text": [
      "Processing Files:  28%|██▊       | 7/25 [22:32<57:47, 192.62s/file]"
     ]
    },
    {
     "name": "stdout",
     "output_type": "stream",
     "text": [
      "File written to 'D:/Geomatics/final\\25EZ2\\DSM_25EZ2_07.tif'\n",
      "File written to 'D:/Geomatics/final\\25EZ2\\CHM_25EZ2_07.tif'\n",
      "Processed CHM_25EZ2_07.TIF in 211.51 seconds and saved output to DSM_25EZ2_07.tif\n",
      "08\n",
      "\n",
      "Processing tile CHM_25EZ2_08.TIF\n",
      "cropped at 1.11\n",
      "dt\n",
      "filled dtm at 113.53\n",
      "dt\n",
      "filled dsm at 217.67\n",
      "filled buildings at 217.76\n"
     ]
    },
    {
     "name": "stderr",
     "output_type": "stream",
     "text": [
      "Processing Files:  32%|███▏      | 8/25 [26:11<56:56, 200.96s/file]"
     ]
    },
    {
     "name": "stdout",
     "output_type": "stream",
     "text": [
      "File written to 'D:/Geomatics/final\\25EZ2\\DSM_25EZ2_08.tif'\n",
      "File written to 'D:/Geomatics/final\\25EZ2\\CHM_25EZ2_08.tif'\n",
      "Processed CHM_25EZ2_08.TIF in 218.80 seconds and saved output to DSM_25EZ2_08.tif\n",
      "10\n",
      "\n",
      "Processing tile CHM_25EZ2_10.TIF\n",
      "cropped at 0.94\n",
      "dt\n",
      "filled dtm at 102.22\n",
      "dt\n",
      "filled dsm at 192.40\n",
      "filled buildings at 192.49\n"
     ]
    },
    {
     "name": "stderr",
     "output_type": "stream",
     "text": [
      "Processing Files:  36%|███▌      | 9/25 [29:25<52:58, 198.64s/file]"
     ]
    },
    {
     "name": "stdout",
     "output_type": "stream",
     "text": [
      "File written to 'D:/Geomatics/final\\25EZ2\\DSM_25EZ2_10.tif'\n",
      "File written to 'D:/Geomatics/final\\25EZ2\\CHM_25EZ2_10.tif'\n",
      "Processed CHM_25EZ2_10.TIF in 193.52 seconds and saved output to DSM_25EZ2_10.tif\n",
      "12\n",
      "\n",
      "Processing tile CHM_25EZ2_12.TIF\n",
      "cropped at 1.28\n",
      "dt\n",
      "filled dtm at 80.62\n",
      "dt\n",
      "filled dsm at 166.93\n",
      "filled buildings at 167.03\n"
     ]
    },
    {
     "name": "stderr",
     "output_type": "stream",
     "text": [
      "Processing Files:  40%|████      | 10/25 [32:13<47:18, 189.21s/file]"
     ]
    },
    {
     "name": "stdout",
     "output_type": "stream",
     "text": [
      "File written to 'D:/Geomatics/final\\25EZ2\\DSM_25EZ2_12.tif'\n",
      "File written to 'D:/Geomatics/final\\25EZ2\\CHM_25EZ2_12.tif'\n",
      "Processed CHM_25EZ2_12.TIF in 168.06 seconds and saved output to DSM_25EZ2_12.tif\n",
      "09\n",
      "\n",
      "Processing tile CHM_25EZ2_09.TIF\n",
      "cropped at 0.98\n",
      "dt\n",
      "filled dtm at 162.56\n",
      "dt\n",
      "filled dsm at 285.98\n",
      "filled buildings at 286.08\n"
     ]
    },
    {
     "name": "stderr",
     "output_type": "stream",
     "text": [
      "Processing Files:  44%|████▍     | 11/25 [37:00<51:08, 219.18s/file]"
     ]
    },
    {
     "name": "stdout",
     "output_type": "stream",
     "text": [
      "File written to 'D:/Geomatics/final\\25EZ2\\DSM_25EZ2_09.tif'\n",
      "File written to 'D:/Geomatics/final\\25EZ2\\CHM_25EZ2_09.tif'\n",
      "Processed CHM_25EZ2_09.TIF in 287.12 seconds and saved output to DSM_25EZ2_09.tif\n",
      "21\n",
      "\n",
      "Processing tile CHM_25EZ2_21.TIF\n",
      "cropped at 1.36\n",
      "dt\n",
      "filled dtm at 338.86\n",
      "dt\n",
      "filled dsm at 487.01\n",
      "filled buildings at 487.13\n"
     ]
    },
    {
     "name": "stderr",
     "output_type": "stream",
     "text": [
      "Processing Files:  48%|████▊     | 12/25 [45:08<1:05:13, 301.02s/file]"
     ]
    },
    {
     "name": "stdout",
     "output_type": "stream",
     "text": [
      "File written to 'D:/Geomatics/final\\25EZ2\\DSM_25EZ2_21.tif'\n",
      "File written to 'D:/Geomatics/final\\25EZ2\\CHM_25EZ2_21.tif'\n",
      "Processed CHM_25EZ2_21.TIF in 488.15 seconds and saved output to DSM_25EZ2_21.tif\n",
      "11\n",
      "\n",
      "Processing tile CHM_25EZ2_11.TIF\n",
      "cropped at 0.99\n",
      "dt\n",
      "filled dtm at 84.86\n",
      "dt\n",
      "filled dsm at 208.14\n",
      "filled buildings at 208.24\n"
     ]
    },
    {
     "name": "stderr",
     "output_type": "stream",
     "text": [
      "Processing Files:  52%|█████▏    | 13/25 [48:38<54:38, 273.24s/file]  "
     ]
    },
    {
     "name": "stdout",
     "output_type": "stream",
     "text": [
      "File written to 'D:/Geomatics/final\\25EZ2\\DSM_25EZ2_11.tif'\n",
      "File written to 'D:/Geomatics/final\\25EZ2\\CHM_25EZ2_11.tif'\n",
      "Processed CHM_25EZ2_11.TIF in 209.28 seconds and saved output to DSM_25EZ2_11.tif\n",
      "13\n",
      "\n",
      "Processing tile CHM_25EZ2_13.TIF\n",
      "cropped at 0.99\n",
      "dt\n",
      "filled dtm at 96.92\n",
      "dt\n",
      "filled dsm at 192.59\n",
      "filled buildings at 192.66\n"
     ]
    },
    {
     "name": "stderr",
     "output_type": "stream",
     "text": [
      "Processing Files:  56%|█████▌    | 14/25 [51:51<45:41, 249.22s/file]"
     ]
    },
    {
     "name": "stdout",
     "output_type": "stream",
     "text": [
      "File written to 'D:/Geomatics/final\\25EZ2\\DSM_25EZ2_13.tif'\n",
      "File written to 'D:/Geomatics/final\\25EZ2\\CHM_25EZ2_13.tif'\n",
      "Processed CHM_25EZ2_13.TIF in 193.69 seconds and saved output to DSM_25EZ2_13.tif\n",
      "14\n",
      "\n",
      "Processing tile CHM_25EZ2_14.TIF\n",
      "cropped at 0.95\n",
      "dt\n",
      "filled dtm at 109.32\n",
      "dt\n",
      "filled dsm at 206.37\n",
      "filled buildings at 206.45\n"
     ]
    },
    {
     "name": "stderr",
     "output_type": "stream",
     "text": [
      "Processing Files:  60%|██████    | 15/25 [55:19<39:26, 236.64s/file]"
     ]
    },
    {
     "name": "stdout",
     "output_type": "stream",
     "text": [
      "File written to 'D:/Geomatics/final\\25EZ2\\DSM_25EZ2_14.tif'\n",
      "File written to 'D:/Geomatics/final\\25EZ2\\CHM_25EZ2_14.tif'\n",
      "Processed CHM_25EZ2_14.TIF in 207.49 seconds and saved output to DSM_25EZ2_14.tif\n",
      "15\n",
      "\n",
      "Processing tile CHM_25EZ2_15.TIF\n",
      "cropped at 1.15\n",
      "dt\n",
      "filled dtm at 90.94\n",
      "dt\n",
      "filled dsm at 169.12\n",
      "filled buildings at 169.21\n"
     ]
    },
    {
     "name": "stderr",
     "output_type": "stream",
     "text": [
      "Processing Files:  64%|██████▍   | 16/25 [58:09<32:30, 216.67s/file]"
     ]
    },
    {
     "name": "stdout",
     "output_type": "stream",
     "text": [
      "File written to 'D:/Geomatics/final\\25EZ2\\DSM_25EZ2_15.tif'\n",
      "File written to 'D:/Geomatics/final\\25EZ2\\CHM_25EZ2_15.tif'\n",
      "Processed CHM_25EZ2_15.TIF in 170.25 seconds and saved output to DSM_25EZ2_15.tif\n",
      "16\n",
      "\n",
      "Processing tile CHM_25EZ2_16.TIF\n",
      "cropped at 1.11\n",
      "dt\n",
      "filled dtm at 64.40\n",
      "dt\n",
      "filled dsm at 196.83\n",
      "filled buildings at 196.91\n"
     ]
    },
    {
     "name": "stderr",
     "output_type": "stream",
     "text": [
      "Processing Files:  68%|██████▊   | 17/25 [1:01:27<28:08, 211.05s/file]"
     ]
    },
    {
     "name": "stdout",
     "output_type": "stream",
     "text": [
      "File written to 'D:/Geomatics/final\\25EZ2\\DSM_25EZ2_16.tif'\n",
      "File written to 'D:/Geomatics/final\\25EZ2\\CHM_25EZ2_16.tif'\n",
      "Processed CHM_25EZ2_16.TIF in 197.95 seconds and saved output to DSM_25EZ2_16.tif\n",
      "17\n",
      "\n",
      "Processing tile CHM_25EZ2_17.TIF\n",
      "cropped at 1.14\n",
      "dt\n",
      "filled dtm at 73.08\n",
      "dt\n",
      "filled dsm at 172.13\n",
      "filled buildings at 172.24\n"
     ]
    },
    {
     "name": "stderr",
     "output_type": "stream",
     "text": [
      "Processing Files:  72%|███████▏  | 18/25 [1:04:20<23:17, 199.70s/file]"
     ]
    },
    {
     "name": "stdout",
     "output_type": "stream",
     "text": [
      "File written to 'D:/Geomatics/final\\25EZ2\\DSM_25EZ2_17.tif'\n",
      "File written to 'D:/Geomatics/final\\25EZ2\\CHM_25EZ2_17.tif'\n",
      "Processed CHM_25EZ2_17.TIF in 173.27 seconds and saved output to DSM_25EZ2_17.tif\n",
      "18\n",
      "\n",
      "Processing tile CHM_25EZ2_18.TIF\n",
      "cropped at 0.98\n",
      "dt\n",
      "filled dtm at 116.33\n",
      "dt\n",
      "filled dsm at 226.31\n",
      "filled buildings at 226.41\n"
     ]
    },
    {
     "name": "stderr",
     "output_type": "stream",
     "text": [
      "Processing Files:  76%|███████▌  | 19/25 [1:08:08<20:48, 208.03s/file]"
     ]
    },
    {
     "name": "stdout",
     "output_type": "stream",
     "text": [
      "File written to 'D:/Geomatics/final\\25EZ2\\DSM_25EZ2_18.tif'\n",
      "File written to 'D:/Geomatics/final\\25EZ2\\CHM_25EZ2_18.tif'\n",
      "Processed CHM_25EZ2_18.TIF in 227.43 seconds and saved output to DSM_25EZ2_18.tif\n",
      "25\n",
      "\n",
      "Processing tile CHM_25EZ2_25.TIF\n",
      "cropped at 1.43\n",
      "dt\n",
      "filled dtm at 294.97\n",
      "dt\n",
      "filled dsm at 392.45\n",
      "filled buildings at 392.53\n"
     ]
    },
    {
     "name": "stderr",
     "output_type": "stream",
     "text": [
      "Processing Files:  80%|████████  | 20/25 [1:14:41<21:58, 263.75s/file]"
     ]
    },
    {
     "name": "stdout",
     "output_type": "stream",
     "text": [
      "File written to 'D:/Geomatics/final\\25EZ2\\DSM_25EZ2_25.tif'\n",
      "File written to 'D:/Geomatics/final\\25EZ2\\CHM_25EZ2_25.tif'\n",
      "Processed CHM_25EZ2_25.TIF in 393.57 seconds and saved output to DSM_25EZ2_25.tif\n",
      "19\n",
      "\n",
      "Processing tile CHM_25EZ2_19.TIF\n",
      "cropped at 1.06\n",
      "dt\n",
      "filled dtm at 78.38\n",
      "dt\n",
      "filled dsm at 161.35\n",
      "filled buildings at 161.43\n"
     ]
    },
    {
     "name": "stderr",
     "output_type": "stream",
     "text": [
      "Processing Files:  84%|████████▍ | 21/25 [1:17:24<15:33, 233.35s/file]"
     ]
    },
    {
     "name": "stdout",
     "output_type": "stream",
     "text": [
      "File written to 'D:/Geomatics/final\\25EZ2\\DSM_25EZ2_19.tif'\n",
      "File written to 'D:/Geomatics/final\\25EZ2\\CHM_25EZ2_19.tif'\n",
      "Processed CHM_25EZ2_19.TIF in 162.46 seconds and saved output to DSM_25EZ2_19.tif\n",
      "20\n",
      "\n",
      "Processing tile CHM_25EZ2_20.TIF\n",
      "cropped at 1.21\n",
      "dt\n",
      "filled dtm at 162.71\n",
      "dt\n",
      "filled dsm at 260.37\n",
      "filled buildings at 260.45\n"
     ]
    },
    {
     "name": "stderr",
     "output_type": "stream",
     "text": [
      "Processing Files:  88%|████████▊ | 22/25 [1:21:45<12:05, 241.80s/file]"
     ]
    },
    {
     "name": "stdout",
     "output_type": "stream",
     "text": [
      "File written to 'D:/Geomatics/final\\25EZ2\\DSM_25EZ2_20.tif'\n",
      "File written to 'D:/Geomatics/final\\25EZ2\\CHM_25EZ2_20.tif'\n",
      "Processed CHM_25EZ2_20.TIF in 261.48 seconds and saved output to DSM_25EZ2_20.tif\n",
      "22\n",
      "\n",
      "Processing tile CHM_25EZ2_22.TIF\n",
      "cropped at 1.11\n",
      "dt\n",
      "filled dtm at 257.37\n",
      "dt\n",
      "filled dsm at 381.81\n",
      "filled buildings at 381.89\n"
     ]
    },
    {
     "name": "stderr",
     "output_type": "stream",
     "text": [
      "Processing Files:  92%|█████████▏| 23/25 [1:28:08<09:28, 284.16s/file]"
     ]
    },
    {
     "name": "stdout",
     "output_type": "stream",
     "text": [
      "File written to 'D:/Geomatics/final\\25EZ2\\DSM_25EZ2_22.tif'\n",
      "File written to 'D:/Geomatics/final\\25EZ2\\CHM_25EZ2_22.tif'\n",
      "Processed CHM_25EZ2_22.TIF in 382.93 seconds and saved output to DSM_25EZ2_22.tif\n",
      "23\n",
      "\n",
      "Processing tile CHM_25EZ2_23.TIF\n",
      "cropped at 1.09\n",
      "dt\n",
      "filled dtm at 88.84\n",
      "dt\n",
      "filled dsm at 168.53\n",
      "filled buildings at 168.61\n"
     ]
    },
    {
     "name": "stderr",
     "output_type": "stream",
     "text": [
      "Processing Files:  96%|█████████▌| 24/25 [1:30:58<04:09, 249.81s/file]"
     ]
    },
    {
     "name": "stdout",
     "output_type": "stream",
     "text": [
      "File written to 'D:/Geomatics/final\\25EZ2\\DSM_25EZ2_23.tif'\n",
      "File written to 'D:/Geomatics/final\\25EZ2\\CHM_25EZ2_23.tif'\n",
      "Processed CHM_25EZ2_23.TIF in 169.66 seconds and saved output to DSM_25EZ2_23.tif\n",
      "24\n",
      "\n",
      "Processing tile CHM_25EZ2_24.TIF\n",
      "cropped at 1.19\n",
      "dt\n",
      "filled dtm at 204.14\n",
      "dt\n",
      "filled dsm at 296.84\n",
      "filled buildings at 296.93\n"
     ]
    },
    {
     "name": "stderr",
     "output_type": "stream",
     "text": [
      "Processing Files: 100%|██████████| 25/25 [1:35:56<00:00, 230.26s/file]"
     ]
    },
    {
     "name": "stdout",
     "output_type": "stream",
     "text": [
      "File written to 'D:/Geomatics/final\\25EZ2\\DSM_25EZ2_24.tif'\n",
      "File written to 'D:/Geomatics/final\\25EZ2\\CHM_25EZ2_24.tif'\n",
      "Processed CHM_25EZ2_24.TIF in 297.98 seconds and saved output to DSM_25EZ2_24.tif\n",
      "\n",
      "All files processed in 5756.47 seconds.\n"
     ]
    },
    {
     "name": "stderr",
     "output_type": "stream",
     "text": [
      "\n"
     ]
    }
   ],
   "execution_count": 4
  },
  {
   "metadata": {
    "ExecuteTime": {
     "end_time": "2024-10-07T08:52:12.156866Z",
     "start_time": "2024-10-07T08:52:10.487693Z"
    }
   },
   "cell_type": "code",
   "source": [
    "chm_folder = \"D:/Geomatics/CHM/25EZ1\"\n",
    "output_base_folder = \"D:/Geomatics/final\"\n",
    "\n",
    "chm_files = glob.glob(os.path.join(chm_folder, \"*.TIF\"))\n",
    "process_files(chm_files, geotiff_dtm, geotiff_dsm, buildings, output_base_folder)"
   ],
   "id": "4b5efe0cd9bf2cf7",
   "outputs": [
    {
     "ename": "NameError",
     "evalue": "name 'geotiff_dtm' is not defined",
     "output_type": "error",
     "traceback": [
      "\u001B[1;31m---------------------------------------------------------------------------\u001B[0m",
      "\u001B[1;31mNameError\u001B[0m                                 Traceback (most recent call last)",
      "Cell \u001B[1;32mIn[2], line 5\u001B[0m\n\u001B[0;32m      2\u001B[0m output_base_folder \u001B[38;5;241m=\u001B[39m \u001B[38;5;124m\"\u001B[39m\u001B[38;5;124mD:/Geomatics/final\u001B[39m\u001B[38;5;124m\"\u001B[39m\n\u001B[0;32m      4\u001B[0m chm_files \u001B[38;5;241m=\u001B[39m glob\u001B[38;5;241m.\u001B[39mglob(os\u001B[38;5;241m.\u001B[39mpath\u001B[38;5;241m.\u001B[39mjoin(chm_folder, \u001B[38;5;124m\"\u001B[39m\u001B[38;5;124m*.TIF\u001B[39m\u001B[38;5;124m\"\u001B[39m))\n\u001B[1;32m----> 5\u001B[0m process_files(chm_files, geotiff_dtm, geotiff_dsm, buildings, output_base_folder)\n",
      "\u001B[1;31mNameError\u001B[0m: name 'geotiff_dtm' is not defined"
     ]
    }
   ],
   "execution_count": 2
  },
  {
   "metadata": {},
   "cell_type": "code",
   "outputs": [],
   "execution_count": null,
   "source": [
    "chm_folder = \"D:/Geomatics/CHM/25FZ1\"\n",
    "output_base_folder = \"D:/Geomatics/final\"\n",
    "\n",
    "chm_files = glob.glob(os.path.join(chm_folder, \"*.TIF\"))\n",
    "process_files(chm_files, geotiff_dtm, geotiff_dsm, buildings, output_base_folder)"
   ],
   "id": "807725eb3b1e5b1c"
  },
  {
   "metadata": {},
   "cell_type": "code",
   "outputs": [],
   "execution_count": null,
   "source": [
    "chm_folder = \"D:/Geomatics/CHM/25HZ1\"\n",
    "output_base_folder = \"D:/Geomatics/final\"\n",
    "\n",
    "chm_files = glob.glob(os.path.join(chm_folder, \"*.TIF\"))\n",
    "process_files(chm_files, geotiff_dtm, geotiff_dsm, buildings, output_base_folder)"
   ],
   "id": "75ff955481e04e66"
  },
  {
   "metadata": {
    "jupyter": {
     "is_executing": true
    },
    "ExecuteTime": {
     "start_time": "2024-10-07T14:16:48.258557Z"
    }
   },
   "cell_type": "code",
   "source": [
    "chm_folder = \"D:/Geomatics/CHM/25GN2\"\n",
    "output_base_folder = \"D:/Geomatics/final\"\n",
    "\n",
    "chm_files = glob.glob(os.path.join(chm_folder, \"*.TIF\"))\n",
    "process_files(chm_files, geotiff_dtm, geotiff_dsm, buildings, output_base_folder)"
   ],
   "id": "fef93bf6df505113",
   "outputs": [
    {
     "name": "stderr",
     "output_type": "stream",
     "text": [
      "Processing Files:   0%|          | 0/24 [00:00<?, ?file/s]"
     ]
    },
    {
     "name": "stdout",
     "output_type": "stream",
     "text": [
      "01\n",
      "\n",
      "Processing tile CHM_25GN2_01.TIF\n",
      "cropped at 1.19\n",
      "dt\n",
      "filled dtm at 387.76\n",
      "dt\n",
      "filled dsm at 549.91\n",
      "filled buildings at 550.10\n"
     ]
    },
    {
     "name": "stderr",
     "output_type": "stream",
     "text": [
      "Processing Files:   4%|▍         | 1/24 [09:11<3:31:16, 551.15s/file]"
     ]
    },
    {
     "name": "stdout",
     "output_type": "stream",
     "text": [
      "File written to 'D:/Geomatics/final\\25GN2\\DSM_25GN2_01.tif'\n",
      "File written to 'D:/Geomatics/final\\25GN2\\CHM_25GN2_01.tif'\n",
      "Processed CHM_25GN2_01.TIF in 551.13 seconds and saved output to DSM_25GN2_01.tif\n",
      "25\n",
      "\n",
      "Processing tile CHM_25GN2_25.TIF\n",
      "cropped at 1.47\n",
      "dt\n",
      "filled dtm at 163.34\n",
      "dt\n",
      "filled dsm at 280.74\n",
      "filled buildings at 280.94\n"
     ]
    },
    {
     "name": "stderr",
     "output_type": "stream",
     "text": [
      "Processing Files:   8%|▊         | 2/24 [13:53<2:24:02, 392.83s/file]"
     ]
    },
    {
     "name": "stdout",
     "output_type": "stream",
     "text": [
      "File written to 'D:/Geomatics/final\\25GN2\\DSM_25GN2_25.tif'\n",
      "File written to 'D:/Geomatics/final\\25GN2\\CHM_25GN2_25.tif'\n",
      "Processed CHM_25GN2_25.TIF in 281.97 seconds and saved output to DSM_25GN2_25.tif\n",
      "23\n",
      "\n",
      "Processing tile CHM_25GN2_23.TIF\n",
      "cropped at 1.10\n",
      "dt\n",
      "filled dtm at 83.64\n"
     ]
    }
   ],
   "execution_count": null
  },
  {
   "metadata": {
    "ExecuteTime": {
     "end_time": "2024-10-07T14:16:48.200096Z",
     "start_time": "2024-10-07T13:12:53.751291Z"
    }
   },
   "cell_type": "code",
   "source": [
    "chm_folder = \"D:/Geomatics/CHM/25GZ2\"\n",
    "output_base_folder = \"D:/Geomatics/final\"\n",
    "\n",
    "chm_files = glob.glob(os.path.join(chm_folder, \"*.TIF\"))\n",
    "process_files(chm_files, geotiff_dtm, geotiff_dsm, buildings, output_base_folder)"
   ],
   "id": "2e0f22fad78c596c",
   "outputs": [
    {
     "name": "stderr",
     "output_type": "stream",
     "text": [
      "Processing Files:   0%|          | 0/16 [00:00<?, ?file/s]"
     ]
    },
    {
     "name": "stdout",
     "output_type": "stream",
     "text": [
      "17\n",
      "\n",
      "Processing tile CHM_25GZ2_17.TIF\n",
      "cropped at 1.14\n",
      "dt\n",
      "filled dtm at 116.36\n",
      "dt\n",
      "filled dsm at 222.90\n",
      "filled buildings at 223.07\n"
     ]
    },
    {
     "name": "stderr",
     "output_type": "stream",
     "text": [
      "Processing Files:   6%|▋         | 1/16 [03:44<56:01, 224.11s/file]"
     ]
    },
    {
     "name": "stdout",
     "output_type": "stream",
     "text": [
      "File written to 'D:/Geomatics/final\\25GZ2\\DSM_25GZ2_17.tif'\n",
      "File written to 'D:/Geomatics/final\\25GZ2\\CHM_25GZ2_17.tif'\n",
      "Processed CHM_25GZ2_17.TIF in 224.09 seconds and saved output to DSM_25GZ2_17.tif\n",
      "01\n",
      "\n",
      "Processing tile CHM_25GZ2_01.TIF\n",
      "cropped at 1.43\n",
      "dt\n",
      "filled dtm at 76.61\n",
      "dt\n",
      "filled dsm at 210.91\n"
     ]
    },
    {
     "name": "stderr",
     "output_type": "stream",
     "text": [
      "Processing Files:  12%|█▎        | 2/16 [07:15<50:32, 216.62s/file]"
     ]
    },
    {
     "name": "stdout",
     "output_type": "stream",
     "text": [
      "filled buildings at 211.16\n",
      "File written to 'D:/Geomatics/final\\25GZ2\\DSM_25GZ2_01.tif'\n",
      "File written to 'D:/Geomatics/final\\25GZ2\\CHM_25GZ2_01.tif'\n",
      "Processed CHM_25GZ2_01.TIF in 211.35 seconds and saved output to DSM_25GZ2_01.tif\n",
      "02\n",
      "\n",
      "Processing tile CHM_25GZ2_02.TIF\n",
      "cropped at 1.24\n",
      "dt\n",
      "filled dtm at 101.22\n",
      "dt\n",
      "filled dsm at 244.12\n",
      "filled buildings at 244.28\n"
     ]
    },
    {
     "name": "stderr",
     "output_type": "stream",
     "text": [
      "Processing Files:  19%|█▉        | 3/16 [11:20<49:46, 229.73s/file]"
     ]
    },
    {
     "name": "stdout",
     "output_type": "stream",
     "text": [
      "File written to 'D:/Geomatics/final\\25GZ2\\DSM_25GZ2_02.tif'\n",
      "File written to 'D:/Geomatics/final\\25GZ2\\CHM_25GZ2_02.tif'\n",
      "Processed CHM_25GZ2_02.TIF in 245.31 seconds and saved output to DSM_25GZ2_02.tif\n",
      "03\n",
      "\n",
      "Processing tile CHM_25GZ2_03.TIF\n",
      "cropped at 1.24\n",
      "dt\n",
      "filled dtm at 85.78\n",
      "dt\n",
      "filled dsm at 263.29\n",
      "filled buildings at 263.68\n"
     ]
    },
    {
     "name": "stderr",
     "output_type": "stream",
     "text": [
      "Processing Files:  25%|██▌       | 4/16 [15:45<48:42, 243.55s/file]"
     ]
    },
    {
     "name": "stdout",
     "output_type": "stream",
     "text": [
      "File written to 'D:/Geomatics/final\\25GZ2\\DSM_25GZ2_03.tif'\n",
      "File written to 'D:/Geomatics/final\\25GZ2\\CHM_25GZ2_03.tif'\n",
      "Processed CHM_25GZ2_03.TIF in 264.70 seconds and saved output to DSM_25GZ2_03.tif\n",
      "04\n",
      "\n",
      "Processing tile CHM_25GZ2_04.TIF\n",
      "cropped at 1.30\n",
      "dt\n",
      "filled dtm at 122.16\n",
      "dt\n",
      "filled dsm at 258.49\n",
      "filled buildings at 258.66\n"
     ]
    },
    {
     "name": "stderr",
     "output_type": "stream",
     "text": [
      "Processing Files:  31%|███▏      | 5/16 [20:05<45:43, 249.38s/file]"
     ]
    },
    {
     "name": "stdout",
     "output_type": "stream",
     "text": [
      "File written to 'D:/Geomatics/final\\25GZ2\\DSM_25GZ2_04.tif'\n",
      "File written to 'D:/Geomatics/final\\25GZ2\\CHM_25GZ2_04.tif'\n",
      "Processed CHM_25GZ2_04.TIF in 259.70 seconds and saved output to DSM_25GZ2_04.tif\n",
      "05\n",
      "\n",
      "Processing tile CHM_25GZ2_05.TIF\n",
      "cropped at 1.25\n",
      "dt\n",
      "filled dtm at 96.15\n",
      "dt\n",
      "filled dsm at 185.29\n",
      "filled buildings at 185.47\n"
     ]
    },
    {
     "name": "stderr",
     "output_type": "stream",
     "text": [
      "Processing Files:  38%|███▊      | 6/16 [23:11<38:00, 228.01s/file]"
     ]
    },
    {
     "name": "stdout",
     "output_type": "stream",
     "text": [
      "File written to 'D:/Geomatics/final\\25GZ2\\DSM_25GZ2_05.tif'\n",
      "File written to 'D:/Geomatics/final\\25GZ2\\CHM_25GZ2_05.tif'\n",
      "Processed CHM_25GZ2_05.TIF in 186.51 seconds and saved output to DSM_25GZ2_05.tif\n",
      "06\n",
      "\n",
      "Processing tile CHM_25GZ2_06.TIF\n",
      "cropped at 1.14\n",
      "dt\n",
      "filled dtm at 80.98\n",
      "dt\n",
      "filled dsm at 214.50\n",
      "filled buildings at 214.64\n"
     ]
    },
    {
     "name": "stderr",
     "output_type": "stream",
     "text": [
      "Processing Files:  44%|████▍     | 7/16 [26:47<33:35, 224.00s/file]"
     ]
    },
    {
     "name": "stdout",
     "output_type": "stream",
     "text": [
      "File written to 'D:/Geomatics/final\\25GZ2\\DSM_25GZ2_06.tif'\n",
      "File written to 'D:/Geomatics/final\\25GZ2\\CHM_25GZ2_06.tif'\n",
      "Processed CHM_25GZ2_06.TIF in 215.71 seconds and saved output to DSM_25GZ2_06.tif\n",
      "07\n",
      "\n",
      "Processing tile CHM_25GZ2_07.TIF\n",
      "cropped at 1.30\n",
      "dt\n",
      "filled dtm at 67.69\n",
      "dt\n",
      "filled dsm at 212.73\n",
      "filled buildings at 212.90\n"
     ]
    },
    {
     "name": "stderr",
     "output_type": "stream",
     "text": [
      "Processing Files:  50%|█████     | 8/16 [30:21<29:26, 220.80s/file]"
     ]
    },
    {
     "name": "stdout",
     "output_type": "stream",
     "text": [
      "File written to 'D:/Geomatics/final\\25GZ2\\DSM_25GZ2_07.tif'\n",
      "File written to 'D:/Geomatics/final\\25GZ2\\CHM_25GZ2_07.tif'\n",
      "Processed CHM_25GZ2_07.TIF in 213.94 seconds and saved output to DSM_25GZ2_07.tif\n",
      "08\n",
      "\n",
      "Processing tile CHM_25GZ2_08.TIF\n",
      "cropped at 1.06\n",
      "dt\n",
      "filled dtm at 129.33\n",
      "dt\n",
      "filled dsm at 296.06\n",
      "filled buildings at 296.25\n"
     ]
    },
    {
     "name": "stderr",
     "output_type": "stream",
     "text": [
      "Processing Files:  56%|█████▋    | 9/16 [35:18<28:33, 244.73s/file]"
     ]
    },
    {
     "name": "stdout",
     "output_type": "stream",
     "text": [
      "File written to 'D:/Geomatics/final\\25GZ2\\DSM_25GZ2_08.tif'\n",
      "File written to 'D:/Geomatics/final\\25GZ2\\CHM_25GZ2_08.tif'\n",
      "Processed CHM_25GZ2_08.TIF in 297.30 seconds and saved output to DSM_25GZ2_08.tif\n",
      "09\n",
      "\n",
      "Processing tile CHM_25GZ2_09.TIF\n",
      "cropped at 1.54\n",
      "dt\n",
      "filled dtm at 168.10\n",
      "dt\n",
      "filled dsm at 315.25\n",
      "filled buildings at 315.42\n"
     ]
    },
    {
     "name": "stderr",
     "output_type": "stream",
     "text": [
      "Processing Files:  62%|██████▎   | 10/16 [40:35<26:41, 266.88s/file]"
     ]
    },
    {
     "name": "stdout",
     "output_type": "stream",
     "text": [
      "File written to 'D:/Geomatics/final\\25GZ2\\DSM_25GZ2_09.tif'\n",
      "File written to 'D:/Geomatics/final\\25GZ2\\CHM_25GZ2_09.tif'\n",
      "Processed CHM_25GZ2_09.TIF in 316.45 seconds and saved output to DSM_25GZ2_09.tif\n",
      "10\n",
      "\n",
      "Processing tile CHM_25GZ2_10.TIF\n",
      "cropped at 1.06\n",
      "dt\n",
      "filled dtm at 166.18\n",
      "dt\n",
      "filled dsm at 304.77\n",
      "filled buildings at 304.94\n"
     ]
    },
    {
     "name": "stderr",
     "output_type": "stream",
     "text": [
      "Processing Files:  69%|██████▉   | 11/16 [45:41<23:14, 278.85s/file]"
     ]
    },
    {
     "name": "stdout",
     "output_type": "stream",
     "text": [
      "File written to 'D:/Geomatics/final\\25GZ2\\DSM_25GZ2_10.tif'\n",
      "File written to 'D:/Geomatics/final\\25GZ2\\CHM_25GZ2_10.tif'\n",
      "Processed CHM_25GZ2_10.TIF in 305.98 seconds and saved output to DSM_25GZ2_10.tif\n",
      "11\n",
      "\n",
      "Processing tile CHM_25GZ2_11.TIF\n",
      "cropped at 1.34\n",
      "dt\n",
      "filled dtm at 101.51\n",
      "dt\n",
      "filled dsm at 231.08\n",
      "filled buildings at 231.23\n",
      "File written to 'D:/Geomatics/final\\25GZ2\\DSM_25GZ2_11.tif'\n",
      "File written to 'D:/Geomatics/final\\25GZ2\\CHM_25GZ2_11.tif'\n",
      "Processed CHM_25GZ2_11.TIF in 232.27 seconds and saved output to DSM_25GZ2_11.tif\n"
     ]
    },
    {
     "name": "stderr",
     "output_type": "stream",
     "text": [
      "Processing Files:  75%|███████▌  | 12/16 [49:33<17:38, 264.69s/file]"
     ]
    },
    {
     "name": "stdout",
     "output_type": "stream",
     "text": [
      "12\n",
      "\n",
      "Processing tile CHM_25GZ2_12.TIF\n",
      "cropped at 1.17\n",
      "dt\n",
      "filled dtm at 79.43\n",
      "dt\n",
      "filled dsm at 194.65\n",
      "filled buildings at 194.80\n"
     ]
    },
    {
     "name": "stderr",
     "output_type": "stream",
     "text": [
      "Processing Files:  81%|████████▏ | 13/16 [52:49<12:11, 243.92s/file]"
     ]
    },
    {
     "name": "stdout",
     "output_type": "stream",
     "text": [
      "File written to 'D:/Geomatics/final\\25GZ2\\DSM_25GZ2_12.tif'\n",
      "File written to 'D:/Geomatics/final\\25GZ2\\CHM_25GZ2_12.tif'\n",
      "Processed CHM_25GZ2_12.TIF in 195.83 seconds and saved output to DSM_25GZ2_12.tif\n",
      "13\n",
      "\n",
      "Processing tile CHM_25GZ2_13.TIF\n",
      "cropped at 1.34\n",
      "dt\n",
      "filled dtm at 81.59\n",
      "dt\n",
      "filled dsm at 205.92\n",
      "filled buildings at 206.08\n"
     ]
    },
    {
     "name": "stderr",
     "output_type": "stream",
     "text": [
      "Processing Files:  88%|████████▊ | 14/16 [56:16<07:45, 232.81s/file]"
     ]
    },
    {
     "name": "stdout",
     "output_type": "stream",
     "text": [
      "File written to 'D:/Geomatics/final\\25GZ2\\DSM_25GZ2_13.tif'\n",
      "File written to 'D:/Geomatics/final\\25GZ2\\CHM_25GZ2_13.tif'\n",
      "Processed CHM_25GZ2_13.TIF in 207.11 seconds and saved output to DSM_25GZ2_13.tif\n",
      "14\n",
      "\n",
      "Processing tile CHM_25GZ2_14.TIF\n",
      "cropped at 1.07\n",
      "dt\n",
      "filled dtm at 100.77\n",
      "dt\n",
      "filled dsm at 237.56\n",
      "filled buildings at 237.75\n"
     ]
    },
    {
     "name": "stderr",
     "output_type": "stream",
     "text": [
      "Processing Files:  94%|█████████▍| 15/16 [1:00:15<03:54, 234.62s/file]"
     ]
    },
    {
     "name": "stdout",
     "output_type": "stream",
     "text": [
      "File written to 'D:/Geomatics/final\\25GZ2\\DSM_25GZ2_14.tif'\n",
      "File written to 'D:/Geomatics/final\\25GZ2\\CHM_25GZ2_14.tif'\n",
      "Processed CHM_25GZ2_14.TIF in 238.79 seconds and saved output to DSM_25GZ2_14.tif\n",
      "16\n",
      "\n",
      "Processing tile CHM_25GZ2_16.TIF\n",
      "cropped at 1.53\n",
      "dt\n",
      "filled dtm at 99.89\n",
      "dt\n",
      "filled dsm at 193.12\n",
      "filled buildings at 193.26\n"
     ]
    },
    {
     "name": "stderr",
     "output_type": "stream",
     "text": [
      "Processing Files: 100%|██████████| 16/16 [1:03:30<00:00, 238.13s/file]"
     ]
    },
    {
     "name": "stdout",
     "output_type": "stream",
     "text": [
      "File written to 'D:/Geomatics/final\\25GZ2\\DSM_25GZ2_16.tif'\n",
      "File written to 'D:/Geomatics/final\\25GZ2\\CHM_25GZ2_16.tif'\n",
      "Processed CHM_25GZ2_16.TIF in 194.31 seconds and saved output to DSM_25GZ2_16.tif\n",
      "\n",
      "All files processed in 3810.02 seconds.\n"
     ]
    },
    {
     "name": "stderr",
     "output_type": "stream",
     "text": [
      "\n"
     ]
    }
   ],
   "execution_count": 9
  },
  {
   "metadata": {
    "ExecuteTime": {
     "end_time": "2024-10-07T13:12:53.499778Z",
     "start_time": "2024-10-07T10:47:07.005515Z"
    }
   },
   "cell_type": "code",
   "source": [
    "chm_folder = \"D:/Geomatics/CHM/25GZ1\"\n",
    "output_base_folder = \"D:/Geomatics/final\"\n",
    "\n",
    "chm_files = glob.glob(os.path.join(chm_folder, \"*.TIF\"))\n",
    "process_files(chm_files, geotiff_dtm, geotiff_dsm, buildings, output_base_folder)"
   ],
   "id": "29b582a70de92e79",
   "outputs": [
    {
     "name": "stderr",
     "output_type": "stream",
     "text": [
      "Processing Files:   0%|          | 0/7 [00:00<?, ?file/s]"
     ]
    },
    {
     "name": "stdout",
     "output_type": "stream",
     "text": [
      "16\n",
      "\n",
      "Processing tile CHM_25GZ1_16.TIF\n",
      "cropped at 1.42\n",
      "dt\n",
      "filled dtm at 1490.58\n",
      "dt\n",
      "filled dsm at 3014.74\n",
      "filled buildings at 3014.86\n"
     ]
    },
    {
     "name": "stderr",
     "output_type": "stream",
     "text": [
      "Processing Files:  14%|█▍        | 1/7 [50:15<5:01:35, 3015.94s/file]"
     ]
    },
    {
     "name": "stdout",
     "output_type": "stream",
     "text": [
      "File written to 'D:/Geomatics/final\\25GZ1\\DSM_25GZ1_16.tif'\n",
      "File written to 'D:/Geomatics/final\\25GZ1\\CHM_25GZ1_16.tif'\n",
      "Processed CHM_25GZ1_16.TIF in 3015.91 seconds and saved output to DSM_25GZ1_16.tif\n",
      "04\n",
      "\n",
      "Processing tile CHM_25GZ1_04.TIF\n",
      "cropped at 1.18\n",
      "dt\n",
      "filled dtm at 97.00\n",
      "dt\n",
      "filled dsm at 191.76\n",
      "filled buildings at 191.88\n"
     ]
    },
    {
     "name": "stderr",
     "output_type": "stream",
     "text": [
      "Processing Files:  29%|██▊       | 2/7 [53:28<1:52:56, 1355.35s/file]"
     ]
    },
    {
     "name": "stdout",
     "output_type": "stream",
     "text": [
      "File written to 'D:/Geomatics/final\\25GZ1\\DSM_25GZ1_04.tif'\n",
      "File written to 'D:/Geomatics/final\\25GZ1\\CHM_25GZ1_04.tif'\n",
      "Processed CHM_25GZ1_04.TIF in 192.90 seconds and saved output to DSM_25GZ1_04.tif\n",
      "05\n",
      "\n",
      "Processing tile CHM_25GZ1_05.TIF\n",
      "cropped at 1.09\n",
      "dt\n",
      "filled dtm at 112.39\n",
      "dt\n",
      "filled dsm at 252.28\n",
      "filled buildings at 252.40\n"
     ]
    },
    {
     "name": "stderr",
     "output_type": "stream",
     "text": [
      "Processing Files:  43%|████▎     | 3/7 [57:42<56:48, 852.21s/file]   "
     ]
    },
    {
     "name": "stdout",
     "output_type": "stream",
     "text": [
      "File written to 'D:/Geomatics/final\\25GZ1\\DSM_25GZ1_05.tif'\n",
      "File written to 'D:/Geomatics/final\\25GZ1\\CHM_25GZ1_05.tif'\n",
      "Processed CHM_25GZ1_05.TIF in 253.44 seconds and saved output to DSM_25GZ1_05.tif\n",
      "06\n",
      "\n",
      "Processing tile CHM_25GZ1_06.TIF\n",
      "cropped at 1.10\n",
      "dt\n",
      "filled dtm at 799.74\n",
      "dt\n",
      "filled dsm at 2481.71\n",
      "filled buildings at 2481.86\n",
      "File written to 'D:/Geomatics/final\\25GZ1\\DSM_25GZ1_06.tif'\n"
     ]
    },
    {
     "name": "stderr",
     "output_type": "stream",
     "text": [
      "Processing Files:  57%|█████▋    | 4/7 [1:39:04<1:14:46, 1495.65s/file]"
     ]
    },
    {
     "name": "stdout",
     "output_type": "stream",
     "text": [
      "File written to 'D:/Geomatics/final\\25GZ1\\CHM_25GZ1_06.tif'\n",
      "Processed CHM_25GZ1_06.TIF in 2482.02 seconds and saved output to DSM_25GZ1_06.tif\n",
      "09\n",
      "\n",
      "Processing tile CHM_25GZ1_09.TIF\n",
      "cropped at 1.30\n",
      "dt\n",
      "filled dtm at 102.83\n",
      "dt\n",
      "filled dsm at 227.56\n",
      "filled buildings at 227.70\n"
     ]
    },
    {
     "name": "stderr",
     "output_type": "stream",
     "text": [
      "Processing Files:  71%|███████▏  | 5/7 [1:42:52<34:36, 1038.49s/file]  "
     ]
    },
    {
     "name": "stdout",
     "output_type": "stream",
     "text": [
      "File written to 'D:/Geomatics/final\\25GZ1\\DSM_25GZ1_09.tif'\n",
      "File written to 'D:/Geomatics/final\\25GZ1\\CHM_25GZ1_09.tif'\n",
      "Processed CHM_25GZ1_09.TIF in 227.87 seconds and saved output to DSM_25GZ1_09.tif\n",
      "10\n",
      "\n",
      "Processing tile CHM_25GZ1_10.TIF\n",
      "cropped at 1.09\n",
      "dt\n",
      "filled dtm at 105.11\n",
      "dt\n",
      "filled dsm at 224.67\n",
      "filled buildings at 224.79\n"
     ]
    },
    {
     "name": "stderr",
     "output_type": "stream",
     "text": [
      "Processing Files:  86%|████████▌ | 6/7 [1:46:38<12:42, 762.19s/file] "
     ]
    },
    {
     "name": "stdout",
     "output_type": "stream",
     "text": [
      "File written to 'D:/Geomatics/final\\25GZ1\\DSM_25GZ1_10.tif'\n",
      "File written to 'D:/Geomatics/final\\25GZ1\\CHM_25GZ1_10.tif'\n",
      "Processed CHM_25GZ1_10.TIF in 225.83 seconds and saved output to DSM_25GZ1_10.tif\n",
      "11\n",
      "\n",
      "Processing tile CHM_25GZ1_11.TIF\n",
      "cropped at 1.42\n",
      "dt\n",
      "filled dtm at 908.50\n",
      "dt\n",
      "filled dsm at 2329.95\n",
      "filled buildings at 2330.07\n"
     ]
    },
    {
     "name": "stderr",
     "output_type": "stream",
     "text": [
      "Processing Files: 100%|██████████| 7/7 [2:25:29<00:00, 1247.04s/file]"
     ]
    },
    {
     "name": "stdout",
     "output_type": "stream",
     "text": [
      "File written to 'D:/Geomatics/final\\25GZ1\\DSM_25GZ1_11.tif'\n",
      "File written to 'D:/Geomatics/final\\25GZ1\\CHM_25GZ1_11.tif'\n",
      "Processed CHM_25GZ1_11.TIF in 2331.12 seconds and saved output to DSM_25GZ1_11.tif\n",
      "\n",
      "All files processed in 8729.29 seconds.\n"
     ]
    },
    {
     "name": "stderr",
     "output_type": "stream",
     "text": [
      "\n"
     ]
    }
   ],
   "execution_count": 8
  },
  {
   "metadata": {
    "ExecuteTime": {
     "end_time": "2024-10-07T10:35:07.076251Z",
     "start_time": "2024-10-07T10:14:00.364970Z"
    }
   },
   "cell_type": "code",
   "source": [
    "chm_folder = \"D:/Geomatics/CHM/25HN1\"\n",
    "output_base_folder = \"D:/Geomatics/final\"\n",
    "\n",
    "chm_files = glob.glob(os.path.join(chm_folder, \"*.TIF\"))\n",
    "process_files(chm_files, geotiff_dtm, geotiff_dsm, buildings, output_base_folder)"
   ],
   "id": "cee2d9e553b523d5",
   "outputs": [
    {
     "name": "stderr",
     "output_type": "stream",
     "text": [
      "Processing Files:   0%|          | 0/8 [00:00<?, ?file/s]"
     ]
    },
    {
     "name": "stdout",
     "output_type": "stream",
     "text": [
      "23\n",
      "\n",
      "Processing tile CHM_25HN1_23.TIF\n",
      "cropped at 1.40\n",
      "dt\n",
      "filled dtm at 165.71\n",
      "dt\n",
      "filled dsm at 327.95\n",
      "filled buildings at 328.01\n"
     ]
    },
    {
     "name": "stderr",
     "output_type": "stream",
     "text": [
      "Processing Files:  12%|█▎        | 1/8 [05:29<38:23, 329.07s/file]"
     ]
    },
    {
     "name": "stdout",
     "output_type": "stream",
     "text": [
      "File written to 'D:/Geomatics/final\\25HN1\\DSM_25HN1_23.tif'\n",
      "File written to 'D:/Geomatics/final\\25HN1\\CHM_25HN1_23.tif'\n",
      "Processed CHM_25HN1_23.TIF in 329.05 seconds and saved output to DSM_25HN1_23.tif\n",
      "06\n",
      "\n",
      "Processing tile CHM_25HN1_06.TIF\n",
      "cropped at 1.08\n",
      "dt\n",
      "filled dtm at 483.41\n",
      "dt\n",
      "filled dsm at 930.24\n",
      "filled buildings at 930.31\n"
     ]
    },
    {
     "name": "stderr",
     "output_type": "stream",
     "text": [
      "Processing Files:  25%|██▌       | 2/8 [21:00<1:08:20, 683.36s/file]"
     ]
    },
    {
     "name": "stdout",
     "output_type": "stream",
     "text": [
      "File written to 'D:/Geomatics/final\\25HN1\\DSM_25HN1_06.tif'\n",
      "File written to 'D:/Geomatics/final\\25HN1\\CHM_25HN1_06.tif'\n",
      "Processed CHM_25HN1_06.TIF in 931.34 seconds and saved output to DSM_25HN1_06.tif\n",
      "07\n",
      "\n",
      "Processing tile CHM_25HN1_07.TIF\n"
     ]
    },
    {
     "name": "stderr",
     "output_type": "stream",
     "text": [
      "Processing Files:  25%|██▌       | 2/8 [21:01<1:03:05, 630.90s/file]"
     ]
    },
    {
     "name": "stdout",
     "output_type": "stream",
     "text": [
      "cropped at 1.31\n"
     ]
    },
    {
     "name": "stderr",
     "output_type": "stream",
     "text": [
      "\n"
     ]
    },
    {
     "ename": "ValueError",
     "evalue": "input data must be at least 2-D",
     "output_type": "error",
     "traceback": [
      "\u001B[1;31m---------------------------------------------------------------------------\u001B[0m",
      "\u001B[1;31mValueError\u001B[0m                                Traceback (most recent call last)",
      "Cell \u001B[1;32mIn[7], line 5\u001B[0m\n\u001B[0;32m      2\u001B[0m output_base_folder \u001B[38;5;241m=\u001B[39m \u001B[38;5;124m\"\u001B[39m\u001B[38;5;124mD:/Geomatics/final\u001B[39m\u001B[38;5;124m\"\u001B[39m\n\u001B[0;32m      4\u001B[0m chm_files \u001B[38;5;241m=\u001B[39m glob\u001B[38;5;241m.\u001B[39mglob(os\u001B[38;5;241m.\u001B[39mpath\u001B[38;5;241m.\u001B[39mjoin(chm_folder, \u001B[38;5;124m\"\u001B[39m\u001B[38;5;124m*.TIF\u001B[39m\u001B[38;5;124m\"\u001B[39m))\n\u001B[1;32m----> 5\u001B[0m process_files(chm_files, geotiff_dtm, geotiff_dsm, buildings, output_base_folder)\n",
      "Cell \u001B[1;32mIn[1], line 201\u001B[0m, in \u001B[0;36mprocess_files\u001B[1;34m(chm_files, dtm_path, dsm_path, buildings_path, output_base_folder, nodata_value)\u001B[0m\n\u001B[0;32m    197\u001B[0m \u001B[38;5;28mprint\u001B[39m(\u001B[38;5;124mf\u001B[39m\u001B[38;5;124m\"\u001B[39m\u001B[38;5;124mcropped at \u001B[39m\u001B[38;5;132;01m{\u001B[39;00m(time\u001B[38;5;241m.\u001B[39mtime()\u001B[38;5;250m \u001B[39m\u001B[38;5;241m-\u001B[39m\u001B[38;5;250m \u001B[39mstart_time)\u001B[38;5;132;01m:\u001B[39;00m\u001B[38;5;124m.2f\u001B[39m\u001B[38;5;132;01m}\u001B[39;00m\u001B[38;5;124m\"\u001B[39m)\n\u001B[0;32m    198\u001B[0m \u001B[38;5;66;03m# no data values fill\u001B[39;00m\n\u001B[0;32m    199\u001B[0m \n\u001B[0;32m    200\u001B[0m \u001B[38;5;66;03m# fill\u001B[39;00m\n\u001B[1;32m--> 201\u001B[0m filled_dtm, _ \u001B[38;5;241m=\u001B[39m fill_raster(dtm_cropped, nodata_value, dtm_transform)\n\u001B[0;32m    202\u001B[0m \u001B[38;5;28mprint\u001B[39m(\u001B[38;5;124mf\u001B[39m\u001B[38;5;124m\"\u001B[39m\u001B[38;5;124mfilled dtm at \u001B[39m\u001B[38;5;132;01m{\u001B[39;00m(time\u001B[38;5;241m.\u001B[39mtime()\u001B[38;5;250m \u001B[39m\u001B[38;5;241m-\u001B[39m\u001B[38;5;250m \u001B[39mstart_time)\u001B[38;5;132;01m:\u001B[39;00m\u001B[38;5;124m.2f\u001B[39m\u001B[38;5;132;01m}\u001B[39;00m\u001B[38;5;124m\"\u001B[39m)\n\u001B[0;32m    204\u001B[0m filled_dsm, new_dsm_transform \u001B[38;5;241m=\u001B[39m fill_raster(dsm_cropped, nodata_value, dsm_transform)\n",
      "Cell \u001B[1;32mIn[1], line 101\u001B[0m, in \u001B[0;36mfill_raster\u001B[1;34m(cropped_data, nodata_value, transform)\u001B[0m\n\u001B[0;32m     99\u001B[0m \u001B[38;5;28;01mdef\u001B[39;00m \u001B[38;5;21mfill_raster\u001B[39m(cropped_data, nodata_value, transform):\n\u001B[0;32m    100\u001B[0m     \u001B[38;5;66;03m# creating delaunay\u001B[39;00m\n\u001B[1;32m--> 101\u001B[0m     points \u001B[38;5;241m=\u001B[39m extract_center_cells(cropped_data, no_data\u001B[38;5;241m=\u001B[39mnodata_value)\n\u001B[0;32m    102\u001B[0m     dt \u001B[38;5;241m=\u001B[39m startinpy\u001B[38;5;241m.\u001B[39mDT()\n\u001B[0;32m    103\u001B[0m     dt\u001B[38;5;241m.\u001B[39minsert(points, \u001B[38;5;124m\"\u001B[39m\u001B[38;5;124mBBox\u001B[39m\u001B[38;5;124m\"\u001B[39m)\n",
      "Cell \u001B[1;32mIn[1], line 75\u001B[0m, in \u001B[0;36mextract_center_cells\u001B[1;34m(cropped_data, no_data)\u001B[0m\n\u001B[0;32m     72\u001B[0m z_valid \u001B[38;5;241m=\u001B[39m cropped_data[valid_center_cells]\n\u001B[0;32m     74\u001B[0m \u001B[38;5;66;03m# Create interpolator from valid points\u001B[39;00m\n\u001B[1;32m---> 75\u001B[0m interpolator \u001B[38;5;241m=\u001B[39m NearestNDInterpolator(\u001B[38;5;28mlist\u001B[39m(\u001B[38;5;28mzip\u001B[39m(x_valid, y_valid)), z_valid)\n\u001B[0;32m     77\u001B[0m \u001B[38;5;66;03m# Check each corner for no data and interpolate if necessary\u001B[39;00m\n\u001B[0;32m     78\u001B[0m \u001B[38;5;28;01mfor\u001B[39;00m corner_name, (row, col) \u001B[38;5;129;01min\u001B[39;00m corners\u001B[38;5;241m.\u001B[39mitems():\n",
      "File \u001B[1;32m~\\anaconda3\\envs\\synthesis\\Lib\\site-packages\\scipy\\interpolate\\_ndgriddata.py:93\u001B[0m, in \u001B[0;36mNearestNDInterpolator.__init__\u001B[1;34m(self, x, y, rescale, tree_options)\u001B[0m\n\u001B[0;32m     92\u001B[0m \u001B[38;5;28;01mdef\u001B[39;00m \u001B[38;5;21m__init__\u001B[39m(\u001B[38;5;28mself\u001B[39m, x, y, rescale\u001B[38;5;241m=\u001B[39m\u001B[38;5;28;01mFalse\u001B[39;00m, tree_options\u001B[38;5;241m=\u001B[39m\u001B[38;5;28;01mNone\u001B[39;00m):\n\u001B[1;32m---> 93\u001B[0m     NDInterpolatorBase\u001B[38;5;241m.\u001B[39m\u001B[38;5;21m__init__\u001B[39m(\u001B[38;5;28mself\u001B[39m, x, y, rescale\u001B[38;5;241m=\u001B[39mrescale,\n\u001B[0;32m     94\u001B[0m                                 need_contiguous\u001B[38;5;241m=\u001B[39m\u001B[38;5;28;01mFalse\u001B[39;00m,\n\u001B[0;32m     95\u001B[0m                                 need_values\u001B[38;5;241m=\u001B[39m\u001B[38;5;28;01mFalse\u001B[39;00m)\n\u001B[0;32m     96\u001B[0m     \u001B[38;5;28;01mif\u001B[39;00m tree_options \u001B[38;5;129;01mis\u001B[39;00m \u001B[38;5;28;01mNone\u001B[39;00m:\n\u001B[0;32m     97\u001B[0m         tree_options \u001B[38;5;241m=\u001B[39m \u001B[38;5;28mdict\u001B[39m()\n",
      "File \u001B[1;32minterpnd.pyx:95\u001B[0m, in \u001B[0;36mscipy.interpolate.interpnd.NDInterpolatorBase.__init__\u001B[1;34m()\u001B[0m\n",
      "File \u001B[1;32minterpnd.pyx:104\u001B[0m, in \u001B[0;36mscipy.interpolate.interpnd.NDInterpolatorBase._set_values\u001B[1;34m()\u001B[0m\n",
      "File \u001B[1;32minterpnd.pyx:211\u001B[0m, in \u001B[0;36mscipy.interpolate.interpnd._check_init_shape\u001B[1;34m()\u001B[0m\n",
      "\u001B[1;31mValueError\u001B[0m: input data must be at least 2-D"
     ]
    }
   ],
   "execution_count": 7
  },
  {
   "metadata": {
    "ExecuteTime": {
     "end_time": "2024-10-07T09:04:07.836021Z",
     "start_time": "2024-10-07T08:53:16.517875Z"
    }
   },
   "cell_type": "code",
   "source": [
    "chm_folder = \"D:/Geomatics/CHM/25HZ2\"\n",
    "output_base_folder = \"D:/Geomatics/final\"\n",
    "\n",
    "chm_files = glob.glob(os.path.join(chm_folder, \"*.TIF\"))\n",
    "process_files(chm_files, geotiff_dtm, geotiff_dsm, buildings, output_base_folder)"
   ],
   "id": "a696c59abf8938ac",
   "outputs": [
    {
     "name": "stderr",
     "output_type": "stream",
     "text": [
      "Processing Files:   0%|          | 0/3 [00:00<?, ?file/s]"
     ]
    },
    {
     "name": "stdout",
     "output_type": "stream",
     "text": [
      "06\n",
      "\n",
      "Processing tile CHM_25HZ2_06.TIF\n",
      "cropped at 1.01\n",
      "dt\n",
      "filled dtm at 117.57\n",
      "dt\n",
      "filled dsm at 233.53\n",
      "filled buildings at 233.59\n"
     ]
    },
    {
     "name": "stderr",
     "output_type": "stream",
     "text": [
      "Processing Files:  33%|███▎      | 1/3 [03:54<07:49, 234.81s/file]"
     ]
    },
    {
     "name": "stdout",
     "output_type": "stream",
     "text": [
      "File written to 'D:/Geomatics/final\\25HZ2\\DSM_25HZ2_06.tif'\n",
      "File written to 'D:/Geomatics/final\\25HZ2\\CHM_25HZ2_06.tif'\n",
      "Processed CHM_25HZ2_06.TIF in 234.64 seconds and saved output to DSM_25HZ2_06.tif\n",
      "16\n",
      "\n",
      "Processing tile CHM_25HZ2_16.TIF\n",
      "cropped at 0.95\n",
      "dt\n",
      "filled dtm at 89.64\n",
      "dt\n",
      "filled dsm at 192.57\n",
      "filled buildings at 192.62\n"
     ]
    },
    {
     "name": "stderr",
     "output_type": "stream",
     "text": [
      "Processing Files:  67%|██████▋   | 2/3 [07:08<03:30, 210.62s/file]"
     ]
    },
    {
     "name": "stdout",
     "output_type": "stream",
     "text": [
      "File written to 'D:/Geomatics/final\\25HZ2\\DSM_25HZ2_16.tif'\n",
      "File written to 'D:/Geomatics/final\\25HZ2\\CHM_25HZ2_16.tif'\n",
      "Processed CHM_25HZ2_16.TIF in 193.65 seconds and saved output to DSM_25HZ2_16.tif\n",
      "11\n",
      "\n",
      "Processing tile CHM_25HZ2_11.TIF\n",
      "cropped at 0.97\n",
      "dt\n",
      "filled dtm at 100.75\n",
      "dt\n",
      "filled dsm at 220.04\n",
      "filled buildings at 220.09\n",
      "File written to 'D:/Geomatics/final\\25HZ2\\DSM_25HZ2_11.tif'\n"
     ]
    },
    {
     "name": "stderr",
     "output_type": "stream",
     "text": [
      "Processing Files: 100%|██████████| 3/3 [10:48<00:00, 216.26s/file]"
     ]
    },
    {
     "name": "stdout",
     "output_type": "stream",
     "text": [
      "File written to 'D:/Geomatics/final\\25HZ2\\CHM_25HZ2_11.tif'\n",
      "Processed CHM_25HZ2_11.TIF in 220.26 seconds and saved output to DSM_25HZ2_11.tif\n",
      "\n",
      "All files processed in 648.80 seconds.\n"
     ]
    },
    {
     "name": "stderr",
     "output_type": "stream",
     "text": [
      "\n"
     ]
    }
   ],
   "execution_count": 5
  },
  {
   "metadata": {
    "ExecuteTime": {
     "end_time": "2024-10-07T10:14:00.023795Z",
     "start_time": "2024-10-07T09:04:08.130799Z"
    }
   },
   "cell_type": "code",
   "source": [
    "chm_folder = \"D:/Geomatics/CHM/25HZ1\"\n",
    "output_base_folder = \"D:/Geomatics/final\"\n",
    "\n",
    "chm_files = glob.glob(os.path.join(chm_folder, \"*.TIF\"))\n",
    "process_files(chm_files, geotiff_dtm, geotiff_dsm, buildings, output_base_folder)"
   ],
   "id": "8914240baa434d1e",
   "outputs": [
    {
     "name": "stderr",
     "output_type": "stream",
     "text": [
      "Processing Files:   0%|          | 0/17 [00:00<?, ?file/s]"
     ]
    },
    {
     "name": "stdout",
     "output_type": "stream",
     "text": [
      "01\n",
      "\n",
      "Processing tile CHM_25HZ1_01.TIF\n",
      "cropped at 1.01\n",
      "dt\n",
      "filled dtm at 160.00\n",
      "dt\n",
      "filled dsm at 289.41\n",
      "filled buildings at 289.54\n",
      "File written to 'D:/Geomatics/final\\25HZ1\\DSM_25HZ1_01.tif'\n"
     ]
    },
    {
     "name": "stderr",
     "output_type": "stream",
     "text": [
      "Processing Files:   6%|▌         | 1/17 [04:49<1:17:15, 289.73s/file]"
     ]
    },
    {
     "name": "stdout",
     "output_type": "stream",
     "text": [
      "File written to 'D:/Geomatics/final\\25HZ1\\CHM_25HZ1_01.tif'\n",
      "Processed CHM_25HZ1_01.TIF in 289.72 seconds and saved output to DSM_25HZ1_01.tif\n",
      "20\n",
      "\n",
      "Processing tile CHM_25HZ1_20.TIF\n",
      "cropped at 0.98\n",
      "dt\n",
      "filled dtm at 106.18\n",
      "dt\n",
      "filled dsm at 188.55\n",
      "filled buildings at 188.66\n",
      "File written to 'D:/Geomatics/final\\25HZ1\\DSM_25HZ1_20.tif'\n"
     ]
    },
    {
     "name": "stderr",
     "output_type": "stream",
     "text": [
      "Processing Files:  12%|█▏        | 2/17 [07:58<57:35, 230.39s/file]  "
     ]
    },
    {
     "name": "stdout",
     "output_type": "stream",
     "text": [
      "File written to 'D:/Geomatics/final\\25HZ1\\CHM_25HZ1_20.tif'\n",
      "Processed CHM_25HZ1_20.TIF in 188.84 seconds and saved output to DSM_25HZ1_20.tif\n",
      "19\n",
      "\n",
      "Processing tile CHM_25HZ1_19.TIF\n",
      "cropped at 0.89\n",
      "dt\n",
      "filled dtm at 126.45\n",
      "dt\n",
      "filled dsm at 219.50\n",
      "filled buildings at 219.62\n",
      "File written to 'D:/Geomatics/final\\25HZ1\\DSM_25HZ1_19.tif'\n"
     ]
    },
    {
     "name": "stderr",
     "output_type": "stream",
     "text": [
      "Processing Files:  18%|█▊        | 3/17 [11:38<52:37, 225.56s/file]"
     ]
    },
    {
     "name": "stdout",
     "output_type": "stream",
     "text": [
      "File written to 'D:/Geomatics/final\\25HZ1\\CHM_25HZ1_19.tif'\n",
      "Processed CHM_25HZ1_19.TIF in 219.80 seconds and saved output to DSM_25HZ1_19.tif\n",
      "15\n",
      "\n",
      "Processing tile CHM_25HZ1_15.TIF\n",
      "cropped at 0.93\n",
      "dt\n",
      "filled dtm at 107.26\n",
      "dt\n",
      "filled dsm at 211.94\n",
      "filled buildings at 212.09\n"
     ]
    },
    {
     "name": "stderr",
     "output_type": "stream",
     "text": [
      "Processing Files:  24%|██▎       | 4/17 [15:10<47:44, 220.32s/file]"
     ]
    },
    {
     "name": "stdout",
     "output_type": "stream",
     "text": [
      "File written to 'D:/Geomatics/final\\25HZ1\\DSM_25HZ1_15.tif'\n",
      "File written to 'D:/Geomatics/final\\25HZ1\\CHM_25HZ1_15.tif'\n",
      "Processed CHM_25HZ1_15.TIF in 212.25 seconds and saved output to DSM_25HZ1_15.tif\n",
      "14\n",
      "\n",
      "Processing tile CHM_25HZ1_14.TIF\n",
      "cropped at 0.93\n",
      "dt\n",
      "filled dtm at 148.81\n",
      "dt\n",
      "filled dsm at 249.61\n",
      "filled buildings at 249.74\n"
     ]
    },
    {
     "name": "stderr",
     "output_type": "stream",
     "text": [
      "Processing Files:  29%|██▉       | 5/17 [19:21<46:15, 231.31s/file]"
     ]
    },
    {
     "name": "stdout",
     "output_type": "stream",
     "text": [
      "File written to 'D:/Geomatics/final\\25HZ1\\DSM_25HZ1_14.tif'\n",
      "File written to 'D:/Geomatics/final\\25HZ1\\CHM_25HZ1_14.tif'\n",
      "Processed CHM_25HZ1_14.TIF in 250.77 seconds and saved output to DSM_25HZ1_14.tif\n",
      "13\n",
      "\n",
      "Processing tile CHM_25HZ1_13.TIF\n",
      "cropped at 0.87\n",
      "dt\n",
      "filled dtm at 108.58\n",
      "dt\n",
      "filled dsm at 217.49\n",
      "filled buildings at 217.63\n"
     ]
    },
    {
     "name": "stderr",
     "output_type": "stream",
     "text": [
      "Processing Files:  35%|███▌      | 6/17 [22:59<41:33, 226.73s/file]"
     ]
    },
    {
     "name": "stdout",
     "output_type": "stream",
     "text": [
      "File written to 'D:/Geomatics/final\\25HZ1\\DSM_25HZ1_13.tif'\n",
      "File written to 'D:/Geomatics/final\\25HZ1\\CHM_25HZ1_13.tif'\n",
      "Processed CHM_25HZ1_13.TIF in 217.80 seconds and saved output to DSM_25HZ1_13.tif\n",
      "12\n",
      "\n",
      "Processing tile CHM_25HZ1_12.TIF\n",
      "cropped at 0.99\n",
      "dt\n",
      "filled dtm at 109.09\n",
      "dt\n",
      "filled dsm at 216.89\n",
      "filled buildings at 217.00\n"
     ]
    },
    {
     "name": "stderr",
     "output_type": "stream",
     "text": [
      "Processing Files:  41%|████      | 7/17 [26:37<37:18, 223.90s/file]"
     ]
    },
    {
     "name": "stdout",
     "output_type": "stream",
     "text": [
      "File written to 'D:/Geomatics/final\\25HZ1\\DSM_25HZ1_12.tif'\n",
      "File written to 'D:/Geomatics/final\\25HZ1\\CHM_25HZ1_12.tif'\n",
      "Processed CHM_25HZ1_12.TIF in 218.05 seconds and saved output to DSM_25HZ1_12.tif\n",
      "11\n",
      "\n",
      "Processing tile CHM_25HZ1_11.TIF\n",
      "cropped at 1.02\n",
      "dt\n",
      "filled dtm at 372.35\n",
      "dt\n",
      "filled dsm at 523.07\n",
      "filled buildings at 523.23\n"
     ]
    },
    {
     "name": "stderr",
     "output_type": "stream",
     "text": [
      "Processing Files:  47%|████▋     | 8/17 [35:21<47:55, 319.53s/file]"
     ]
    },
    {
     "name": "stdout",
     "output_type": "stream",
     "text": [
      "File written to 'D:/Geomatics/final\\25HZ1\\DSM_25HZ1_11.tif'\n",
      "File written to 'D:/Geomatics/final\\25HZ1\\CHM_25HZ1_11.tif'\n",
      "Processed CHM_25HZ1_11.TIF in 524.27 seconds and saved output to DSM_25HZ1_11.tif\n",
      "10\n",
      "\n",
      "Processing tile CHM_25HZ1_10.TIF\n",
      "cropped at 1.02\n",
      "dt\n",
      "filled dtm at 88.91\n",
      "dt\n",
      "filled dsm at 178.91\n",
      "filled buildings at 179.03\n"
     ]
    },
    {
     "name": "stderr",
     "output_type": "stream",
     "text": [
      "Processing Files:  53%|█████▎    | 9/17 [38:21<36:47, 275.95s/file]"
     ]
    },
    {
     "name": "stdout",
     "output_type": "stream",
     "text": [
      "File written to 'D:/Geomatics/final\\25HZ1\\DSM_25HZ1_10.tif'\n",
      "File written to 'D:/Geomatics/final\\25HZ1\\CHM_25HZ1_10.tif'\n",
      "Processed CHM_25HZ1_10.TIF in 180.08 seconds and saved output to DSM_25HZ1_10.tif\n",
      "09\n",
      "\n",
      "Processing tile CHM_25HZ1_09.TIF\n",
      "cropped at 0.97\n",
      "dt\n",
      "filled dtm at 93.93\n",
      "dt\n",
      "filled dsm at 185.18\n"
     ]
    },
    {
     "name": "stderr",
     "output_type": "stream",
     "text": [
      "Processing Files:  59%|█████▉    | 10/17 [41:27<28:56, 248.05s/file]"
     ]
    },
    {
     "name": "stdout",
     "output_type": "stream",
     "text": [
      "filled buildings at 185.39\n",
      "File written to 'D:/Geomatics/final\\25HZ1\\DSM_25HZ1_09.tif'\n",
      "File written to 'D:/Geomatics/final\\25HZ1\\CHM_25HZ1_09.tif'\n",
      "Processed CHM_25HZ1_09.TIF in 185.56 seconds and saved output to DSM_25HZ1_09.tif\n",
      "08\n",
      "\n",
      "Processing tile CHM_25HZ1_08.TIF\n",
      "cropped at 0.96\n",
      "dt\n",
      "filled dtm at 97.82\n",
      "dt\n",
      "filled dsm at 212.27\n",
      "filled buildings at 212.39\n"
     ]
    },
    {
     "name": "stderr",
     "output_type": "stream",
     "text": [
      "Processing Files:  65%|██████▍   | 11/17 [45:00<23:44, 237.46s/file]"
     ]
    },
    {
     "name": "stdout",
     "output_type": "stream",
     "text": [
      "File written to 'D:/Geomatics/final\\25HZ1\\DSM_25HZ1_08.tif'\n",
      "File written to 'D:/Geomatics/final\\25HZ1\\CHM_25HZ1_08.tif'\n",
      "Processed CHM_25HZ1_08.TIF in 213.43 seconds and saved output to DSM_25HZ1_08.tif\n",
      "07\n",
      "\n",
      "Processing tile CHM_25HZ1_07.TIF\n",
      "cropped at 1.20\n",
      "dt\n",
      "filled dtm at 89.25\n",
      "dt\n",
      "filled dsm at 210.36\n",
      "filled buildings at 210.48\n"
     ]
    },
    {
     "name": "stderr",
     "output_type": "stream",
     "text": [
      "Processing Files:  71%|███████   | 12/17 [48:32<19:07, 229.58s/file]"
     ]
    },
    {
     "name": "stdout",
     "output_type": "stream",
     "text": [
      "File written to 'D:/Geomatics/final\\25HZ1\\DSM_25HZ1_07.tif'\n",
      "File written to 'D:/Geomatics/final\\25HZ1\\CHM_25HZ1_07.tif'\n",
      "Processed CHM_25HZ1_07.TIF in 211.52 seconds and saved output to DSM_25HZ1_07.tif\n",
      "06\n",
      "\n",
      "Processing tile CHM_25HZ1_06.TIF\n",
      "cropped at 0.99\n",
      "dt\n",
      "filled dtm at 285.92\n",
      "dt\n",
      "filled dsm at 430.01\n",
      "filled buildings at 430.15\n"
     ]
    },
    {
     "name": "stderr",
     "output_type": "stream",
     "text": [
      "Processing Files:  76%|███████▋  | 13/17 [55:43<19:22, 290.66s/file]"
     ]
    },
    {
     "name": "stdout",
     "output_type": "stream",
     "text": [
      "File written to 'D:/Geomatics/final\\25HZ1\\DSM_25HZ1_06.tif'\n",
      "File written to 'D:/Geomatics/final\\25HZ1\\CHM_25HZ1_06.tif'\n",
      "Processed CHM_25HZ1_06.TIF in 431.19 seconds and saved output to DSM_25HZ1_06.tif\n",
      "05\n",
      "\n",
      "Processing tile CHM_25HZ1_05.TIF\n",
      "cropped at 1.03\n",
      "dt\n",
      "filled dtm at 104.68\n",
      "dt\n",
      "filled dsm at 211.19\n",
      "filled buildings at 211.33\n"
     ]
    },
    {
     "name": "stderr",
     "output_type": "stream",
     "text": [
      "Processing Files:  82%|████████▏ | 14/17 [59:15<13:21, 267.01s/file]"
     ]
    },
    {
     "name": "stdout",
     "output_type": "stream",
     "text": [
      "File written to 'D:/Geomatics/final\\25HZ1\\DSM_25HZ1_05.tif'\n",
      "File written to 'D:/Geomatics/final\\25HZ1\\CHM_25HZ1_05.tif'\n",
      "Processed CHM_25HZ1_05.TIF in 212.36 seconds and saved output to DSM_25HZ1_05.tif\n",
      "04\n",
      "\n",
      "Processing tile CHM_25HZ1_04.TIF\n",
      "cropped at 1.08\n",
      "dt\n",
      "filled dtm at 101.95\n",
      "dt\n",
      "filled dsm at 206.64\n",
      "filled buildings at 206.76\n"
     ]
    },
    {
     "name": "stderr",
     "output_type": "stream",
     "text": [
      "Processing Files:  88%|████████▊ | 15/17 [1:02:43<08:18, 249.17s/file]"
     ]
    },
    {
     "name": "stdout",
     "output_type": "stream",
     "text": [
      "File written to 'D:/Geomatics/final\\25HZ1\\DSM_25HZ1_04.tif'\n",
      "File written to 'D:/Geomatics/final\\25HZ1\\CHM_25HZ1_04.tif'\n",
      "Processed CHM_25HZ1_04.TIF in 207.78 seconds and saved output to DSM_25HZ1_04.tif\n",
      "03\n",
      "\n",
      "Processing tile CHM_25HZ1_03.TIF\n",
      "cropped at 1.45\n",
      "dt\n",
      "filled dtm at 112.97\n",
      "dt\n",
      "filled dsm at 223.50\n",
      "filled buildings at 223.63\n"
     ]
    },
    {
     "name": "stderr",
     "output_type": "stream",
     "text": [
      "Processing Files:  94%|█████████▍| 16/17 [1:06:28<04:01, 241.79s/file]"
     ]
    },
    {
     "name": "stdout",
     "output_type": "stream",
     "text": [
      "File written to 'D:/Geomatics/final\\25HZ1\\DSM_25HZ1_03.tif'\n",
      "File written to 'D:/Geomatics/final\\25HZ1\\CHM_25HZ1_03.tif'\n",
      "Processed CHM_25HZ1_03.TIF in 224.65 seconds and saved output to DSM_25HZ1_03.tif\n",
      "02\n",
      "\n",
      "Processing tile CHM_25HZ1_02.TIF\n",
      "cropped at 1.04\n",
      "dt\n",
      "filled dtm at 67.94\n",
      "dt\n",
      "filled dsm at 185.91\n",
      "filled buildings at 186.02\n"
     ]
    },
    {
     "name": "stderr",
     "output_type": "stream",
     "text": [
      "Processing Files: 100%|██████████| 17/17 [1:09:35<00:00, 245.62s/file]"
     ]
    },
    {
     "name": "stdout",
     "output_type": "stream",
     "text": [
      "File written to 'D:/Geomatics/final\\25HZ1\\DSM_25HZ1_02.tif'\n",
      "File written to 'D:/Geomatics/final\\25HZ1\\CHM_25HZ1_02.tif'\n",
      "Processed CHM_25HZ1_02.TIF in 187.07 seconds and saved output to DSM_25HZ1_02.tif\n",
      "\n",
      "All files processed in 4175.55 seconds.\n"
     ]
    },
    {
     "name": "stderr",
     "output_type": "stream",
     "text": [
      "\n"
     ]
    }
   ],
   "execution_count": 6
  },
  {
   "metadata": {},
   "cell_type": "code",
   "source": "import matplotlib.pyplot as plt",
   "id": "9b0389fe27388105",
   "outputs": [],
   "execution_count": null
  },
  {
   "metadata": {},
   "cell_type": "code",
   "source": [
    "def fill_raster2(cropped_data, mask, nodata_value, transform):\n",
    "    # creating delaunay\n",
    "    points = extract_center_cells(cropped_data, mask, no_data=nodata_value)\n",
    "    dt = startinpy.DT()\n",
    "    dt.insert(points, \"BBox\")\n",
    "    print(\"dt\")\n",
    "    \n",
    "\n",
    "    \n",
    "    pts = dt.points\n",
    "    trs = dt.triangles\n",
    "    \n",
    "    # Create a new figure with a specified size (width, height) in inches\n",
    "    plt.figure(figsize=(20, 25))  # Adjust the size as needed\n",
    "    \n",
    "    # Plot the triangles with thinner lines\n",
    "    plt.triplot(pts[:, 0], pts[:, 1], trs, linewidth=0.1)  # Adjust the linewidth as needed\n",
    "    \n",
    "    # Plot the points, skipping the vertex \"0\"\n",
    "    # plt.plot(pts[1:, 0], pts[1:, 1], 'o')\n",
    "    \n",
    "    # Show the plot\n",
    "    plt.show()\n",
    "\n",
    "    # now interpolation\n",
    "    new_data = np.copy(cropped_data)\n",
    "\n",
    "    # for interpolation, grid of all column and row positions, excluding the first and last rows/cols\n",
    "    cols, rows = np.meshgrid(\n",
    "        np.arange(1, cropped_data.shape[2] - 1),\n",
    "        np.arange(1, cropped_data.shape[1] - 1)\n",
    "\n",
    "    )\n",
    "\n",
    "    # flatten the grid to get a list of all (col, row) locations\n",
    "    locs = np.column_stack((cols.ravel(), rows.ravel()))\n",
    "\n",
    "    # laplace interpolation\n",
    "    interpolated_values = dt.interpolate({\"method\": \"Laplace\"}, locs)\n",
    "\n",
    "    # reshape interpolated grid back to og\n",
    "    interpolated_grid = np.reshape(interpolated_values, (cropped_data.shape[1] - 2, cropped_data.shape[2] - 2))\n",
    "\n",
    "    # fill new_data with interpolated values\n",
    "    new_data[0, 1:-1, 1:-1] = interpolated_grid\n",
    "    new_data = np.where(np.isnan(new_data), nodata_value, new_data)\n",
    "    \n",
    "    new_transform = transform * Affine.translation(1, 1)\n",
    "\n",
    "    return new_data[0, 1:-1, 1:-1], new_transform"
   ],
   "id": "9ba719b83be7c40b",
   "outputs": [],
   "execution_count": null
  },
  {
   "metadata": {},
   "cell_type": "code",
   "source": [
    "dtm_path = \"data/DTM_ams.tif\"\n",
    "dsm_path = \"data/DSM_ams.tif\"\n",
    "chm_path = \"D:/Geomatics/CHM/25DN2/CHM_25DN2_20.TIF\"\n",
    "nodata_value = -9999"
   ],
   "id": "55835a3c20b3e983",
   "outputs": [],
   "execution_count": null
  },
  {
   "metadata": {},
   "cell_type": "code",
   "source": [
    "raster_paths = [dtm_path, chm_path, dsm_path]\n",
    "overlapping_bbox = get_bbox(raster_paths)\n",
    "print(\"Processing tile testing\")\n",
    "\n",
    "# Cropping rasters to bbox\n",
    "dtm_cropped, dtm_transform, dtm_crs, dtm_mask = crop_raster(dtm_path, overlapping_bbox, no_data=nodata_value)\n",
    "dsm_cropped, dsm_transform, dsm_crs, dsm_mask = crop_raster(dsm_path, overlapping_bbox, no_data=nodata_value)\n",
    "chm_cropped, chm_transform, _, _ = crop_raster(chm_path, overlapping_bbox, no_data=nodata_value)"
   ],
   "id": "2a606f4b558fb14b",
   "outputs": [],
   "execution_count": null
  },
  {
   "metadata": {},
   "cell_type": "code",
   "source": "XYZ_FILLED = extract_center_cells(dtm_cropped, no_data=-9999)",
   "id": "c385d164a44a4d3e",
   "outputs": [],
   "execution_count": null
  },
  {
   "metadata": {},
   "cell_type": "code",
   "source": "XYZ_FILLED[0]",
   "id": "2ed1f497a00d9536",
   "outputs": [],
   "execution_count": null
  },
  {
   "metadata": {},
   "cell_type": "code",
   "source": [
    "dt = startinpy.DT()\n",
    "dt.insert(XYZ_FILLED, \"BBox\")"
   ],
   "id": "641789b78f92a495",
   "outputs": [],
   "execution_count": null
  },
  {
   "metadata": {},
   "cell_type": "code",
   "source": "dt.write_geojson(\"myfile.geojson\")",
   "id": "163224697f2983da",
   "outputs": [],
   "execution_count": null
  },
  {
   "metadata": {},
   "cell_type": "code",
   "source": [
    "pts = dt.points\n",
    "trs = dt.triangles\n",
    "\n",
    "# Create a new figure with a specified size (width, height) in inches\n",
    "plt.figure(figsize=(20, 25))  # Adjust the size as needed\n",
    "\n",
    "# Plot the triangles with thinner lines\n",
    "plt.triplot(pts[:, 0], pts[:, 1], trs, linewidth=0.1)  # Adjust the linewidth as needed\n",
    "\n",
    "# Plot the points, skipping the vertex \"0\"\n",
    "# plt.plot(pts[1:, 0], pts[1:, 1], 'o')\n",
    "\n",
    "# Show the plot\n",
    "plt.show()"
   ],
   "id": "371fe46f491674ee",
   "outputs": [],
   "execution_count": null
  },
  {
   "metadata": {},
   "cell_type": "code",
   "source": "convex = dt.convex_hull()",
   "id": "e8cca7a5a5f3e56",
   "outputs": [],
   "execution_count": null
  },
  {
   "metadata": {},
   "cell_type": "code",
   "source": "print(convex)",
   "id": "af9d01a39baec6e0",
   "outputs": [],
   "execution_count": null
  }
 ],
 "metadata": {
  "kernelspec": {
   "display_name": "Python 3",
   "language": "python",
   "name": "python3"
  },
  "language_info": {
   "codemirror_mode": {
    "name": "ipython",
    "version": 2
   },
   "file_extension": ".py",
   "mimetype": "text/x-python",
   "name": "python",
   "nbconvert_exporter": "python",
   "pygments_lexer": "ipython2",
   "version": "2.7.6"
  }
 },
 "nbformat": 4,
 "nbformat_minor": 5
}
