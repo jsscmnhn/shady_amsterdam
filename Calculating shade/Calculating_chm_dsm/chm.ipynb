{
 "cells": [
  {
   "cell_type": "code",
   "id": "initial_id",
   "metadata": {
    "collapsed": true,
    "ExecuteTime": {
     "end_time": "2024-09-23T20:48:33.972836Z",
     "start_time": "2024-09-23T20:48:33.964452Z"
    }
   },
   "source": [
    "import cProfile\n",
    "import io\n",
    "import os\n",
    "import requests\n",
    "import pstats\n",
    "\n",
    "import numpy as np\n",
    "\n",
    "import functions\n"
   ],
   "outputs": [],
   "execution_count": 12
  },
  {
   "cell_type": "code",
   "source": [
    "import laspy\n",
    "import numpy as np\n",
    "\n",
    "def extract_vegetation_points(LasData, ndvi_threshold=0.1):\n",
    "    \"\"\"\n",
    "    Extract vegetation points based on classification and NDVI threshold.\n",
    "    \n",
    "    Parameters:\n",
    "    - LasData (laspy.LasData): Input point cloud data.\n",
    "    - ndvi_threshold (float): The NDVI threshold to classify vegetation.\n",
    "    \n",
    "    Returns:\n",
    "    - veg_points (laspy.LasData): Filtered vegetation points as a new LasData object.\n",
    "    \"\"\"\n",
    "    \n",
    "    # Filter points based on classification (vegetation-related classes)\n",
    "    possible_vegetation_points = LasData[(LasData.classification == 1) |  # Unclassified\n",
    "                                         (LasData.classification == 3) |  # Low vegetation\n",
    "                                         (LasData.classification == 4) |  # Medium vegetation\n",
    "                                         (LasData.classification == 5)]   # High vegetation\n",
    "\n",
    "    # Calculate NDVI\n",
    "    red = possible_vegetation_points.red\n",
    "    nir = possible_vegetation_points.nir\n",
    "    ndvi = (nir.astype(float) - red) / (nir + red)\n",
    "\n",
    "    # Filter the points whose NDVI is greater than the threshold\n",
    "    veg_points = possible_vegetation_points[ndvi > ndvi_threshold]\n",
    "\n",
    "    return veg_points\n",
    "\n",
    "def save_vegetation_points_as_las(LasData, output_file, veg_points, ndvi_threshold=0.1):\n",
    "    \"\"\"\n",
    "    Extract vegetation points and save them as a new LAS file.\n",
    "    \n",
    "    Parameters:\n",
    "    - LasData (laspy.LasData): Input point cloud data.\n",
    "    - output_file (str): Path to the output LAS file.\n",
    "    - ndvi_threshold (float): NDVI threshold for vegetation points.\n",
    "    \n",
    "    Returns:\n",
    "    - None\n",
    "    \"\"\"\n",
    "    # Extract vegetation points\n",
    "    \n",
    "    # Check if any points were filtered\n",
    "    if len(veg_points) == 0:\n",
    "        print(\"No vegetation points found with the given NDVI threshold.\")\n",
    "        return\n",
    "    \n",
    "    # Create a new LasData object for the vegetation points\n",
    "    veg_las_data = laspy.LasData(LasData.header)\n",
    "    veg_las_data.points = veg_points.points  # Assign the filtered vegetation points\n",
    "\n",
    "    # Save the vegetation points to a new LAS file\n",
    "    with laspy.open(output_file, mode=\"w\", header=veg_las_data.header) as writer:\n",
    "        writer.write_points(veg_las_data.points)\n",
    "    \n",
    "    print(f\"Vegetation points saved to {output_file}\")\n",
    "\n",
    "\n",
    "file_path = \"data/25GN2/25GN2_12.LAZ\"\n",
    "output_las = \"data/output_vegetation.las\""
   ],
   "metadata": {
    "collapsed": false
   },
   "id": "2f57e08f5377567",
   "outputs": [],
   "execution_count": null
  },
  {
   "metadata": {},
   "cell_type": "code",
   "outputs": [],
   "execution_count": null,
   "source": [
    "import numpy as np\n",
    "import laspy\n",
    "\n",
    "def extract_lasData(LasData, ndvi_threshold=0.1):\n",
    "    red = LasData.red\n",
    "    nir = LasData.nir\n",
    "    ndvi = (nir.astype(float) - red) / (nir + red)\n",
    "\n",
    "    # Add NDVI as a new dimension/attribute to all points\n",
    "    if 'NDVI' not in LasData.point_format.dimension_names:\n",
    "        # Create an array to store NDVI values for all points\n",
    "        ndvi_dim = np.zeros(LasData.header.point_count, dtype=np.float32)\n",
    "        ndvi_dim = ndvi  # Assign NDVI values for all points\n",
    "\n",
    "        # Add this new dimension to LasData\n",
    "        LasData.add_extra_dim(laspy.ExtraBytesParams(name=\"NDVI\", type=np.float32))\n",
    "        LasData['NDVI'] = ndvi_dim  # Store NDVI for all points\n",
    "\n",
    "    # Filter points based on classification (vegetation-related classes)\n",
    "    possible_vegetation_points = LasData[(LasData.classification == 1) |  # Unclassified\n",
    "                                         (LasData.classification == 3) |  # Low vegetation\n",
    "                                         (LasData.classification == 4) |  # Medium vegetation\n",
    "                                         (LasData.classification == 5)]   # High vegetation\n",
    "\n",
    "\n",
    "    return LasData"
   ],
   "id": "868cbb33e221d75c"
  },
  {
   "cell_type": "code",
   "source": [
    "with laspy.open(file_path, laz_backend=laspy.LazBackend.Lazrs) as las_file:\n",
    "    las_data = las_file.read()\n",
    "\n",
    "veg_points = extract_vegetation_points(las_data, ndvi_threshold=0.1)"
   ],
   "metadata": {
    "collapsed": false
   },
   "id": "f698209d33d2b328",
   "outputs": [],
   "execution_count": null
  },
  {
   "cell_type": "code",
   "source": [
    "min_x, max_x = round(las_data.x.min()), round(las_data.x.max())\n",
    "min_y, max_y = round(las_data.y.min()), round(las_data.y.max())\n",
    "\n",
    "# Define size of the region\n",
    "x_length = max_x - min_x\n",
    "y_length = max_y - min_y"
   ],
   "metadata": {
    "collapsed": false,
    "ExecuteTime": {
     "end_time": "2024-10-05T12:13:14.935139Z",
     "start_time": "2024-10-05T12:13:14.322315Z"
    }
   },
   "id": "97f3eda85ddb3e8e",
   "outputs": [
    {
     "ename": "NameError",
     "evalue": "name 'las_data' is not defined",
     "output_type": "error",
     "traceback": [
      "\u001B[1;31m---------------------------------------------------------------------------\u001B[0m",
      "\u001B[1;31mNameError\u001B[0m                                 Traceback (most recent call last)",
      "Cell \u001B[1;32mIn[1], line 1\u001B[0m\n\u001B[1;32m----> 1\u001B[0m min_x, max_x \u001B[38;5;241m=\u001B[39m \u001B[38;5;28mround\u001B[39m(las_data\u001B[38;5;241m.\u001B[39mx\u001B[38;5;241m.\u001B[39mmin()), \u001B[38;5;28mround\u001B[39m(las_data\u001B[38;5;241m.\u001B[39mx\u001B[38;5;241m.\u001B[39mmax())\n\u001B[0;32m      2\u001B[0m min_y, max_y \u001B[38;5;241m=\u001B[39m \u001B[38;5;28mround\u001B[39m(las_data\u001B[38;5;241m.\u001B[39my\u001B[38;5;241m.\u001B[39mmin()), \u001B[38;5;28mround\u001B[39m(las_data\u001B[38;5;241m.\u001B[39my\u001B[38;5;241m.\u001B[39mmax())\n\u001B[0;32m      4\u001B[0m \u001B[38;5;66;03m# Define size of the region\u001B[39;00m\n",
      "\u001B[1;31mNameError\u001B[0m: name 'las_data' is not defined"
     ]
    }
   ],
   "execution_count": 1
  },
  {
   "cell_type": "code",
   "source": [
    "def vegetation_raster_idw(LasData, points, resolution, search_radius=1, power=2):\n",
    "    \"\"\"\n",
    "    Create a vegetation raster using Inverse Distance Weighting (IDW) interpolation.\n",
    "\n",
    "    Parameters:\n",
    "    - LasData (laspy.LasData): Input LAS data.\n",
    "    - points (laspy.LasData): Vegetation points to be interpolated.\n",
    "    - center_point (tuple): Center coordinates (x, y) of the region of interest.\n",
    "    - resolution (float): Resolution of the raster.\n",
    "    - half_size (float): Half of the size of the tile (defines the extent of the raster).\n",
    "    - search_radius (float): Radius for the IDW search. Default is 1.\n",
    "    - power (float): Power parameter for the IDW algorithm. Default is 2.\n",
    "\n",
    "    Returns:\n",
    "    - vege_raster (np.ndarray): Generated raster for vegetation.\n",
    "    - grid_center_xy (tuple): Grid of x, y center coordinates for each raster cell.\n",
    "    \"\"\"\n",
    "\n",
    "    # Extents of the pc\n",
    "    min_x, max_x = round(LasData.x.min()), round(LasData.x.max())\n",
    "    min_y, max_y = round(LasData.y.min()), round(LasData.y.max())\n",
    "\n",
    "    # Define size of the region\n",
    "    x_length = max_x - min_x\n",
    "    y_length = max_y - min_y\n",
    "\n",
    "    # Number of rows and columns\n",
    "    cols = round(x_length / resolution)\n",
    "    rows = round(y_length / resolution)\n",
    "\n",
    "    # Initialize raster grid\n",
    "    vege_raster = np.full((rows, cols), np.nan, dtype=np.float32)\n",
    "\n",
    "    # Calculate center coords for each grid cell\n",
    "    grid_center_xy = functions.raster_center_coords(min_x, max_x, min_y, max_y, resolution)\n",
    "\n",
    "    if len(points) == 0:\n",
    "        print(\"step4, vegetation_raster_idw: There are no vegetation points in the current area.\")\n",
    "        return vege_raster, grid_center_xy\n",
    "\n",
    "    # Convert LAS points to NumPy array for processing\n",
    "    points_list = np.array(points.xyz)\n",
    "\n",
    "    # Interpolation\n",
    "    functions.interpolation_idw_kdtree(points_list, vege_raster, grid_center_xy, search_radius, power)\n",
    "\n",
    "    return vege_raster, grid_center_xy"
   ],
   "metadata": {
    "collapsed": false
   },
   "id": "6bb75e9989f43236",
   "outputs": [],
   "execution_count": null
  },
  {
   "cell_type": "markdown",
   "source": [],
   "metadata": {
    "collapsed": false
   },
   "id": "243b877ff01d59f1"
  },
  {
   "cell_type": "code",
   "source": [
    "save_vegetation_points_as_las(las_data, output_las, veg_points, ndvi_threshold=0.1)"
   ],
   "metadata": {
    "collapsed": false
   },
   "id": "41f2181341c96e58",
   "outputs": [],
   "execution_count": null
  },
  {
   "cell_type": "code",
   "source": [
    "def step4_main(LasData, veg_points, resolution=0.5, search_radius=1.0, idw_power=2.0, write_output=True, show_fig=False):\n",
    "\n",
    "    vege_points = extract_vegetation_points(LasData)\n",
    "    vegetation_data = vegetation_raster_idw(LasData, veg_points, resolution,\n",
    "                                             search_radius, idw_power)\n",
    "    veg_raster = vegetation_data[0]\n",
    "    grid_centers = vegetation_data[1]\n",
    "    top_left_x = grid_centers[0][0, 0] - resolution / 2\n",
    "    top_left_y = grid_centers[1][0, 0] + resolution / 2\n",
    "    if write_output:\n",
    "        transform = functions.create_affine_transform(top_left_x, top_left_y, resolution)\n",
    "        functions.write_output(vege_points, veg_raster, transform, \"../data/chm.tiff\")"
   ],
   "metadata": {
    "collapsed": false
   },
   "id": "f2ea2ab514091310",
   "outputs": [],
   "execution_count": null
  },
  {
   "cell_type": "code",
   "source": [],
   "metadata": {
    "collapsed": false
   },
   "id": "54d9e0fbf2d1c2b0",
   "outputs": [],
   "execution_count": null
  },
  {
   "cell_type": "code",
   "source": [
    "step4_main(las_data, veg_points, resolution=0.5, search_radius=1.0, idw_power=2.0, write_output=True, show_fig=False)"
   ],
   "metadata": {
    "collapsed": false
   },
   "id": "281d972f707d3e44",
   "outputs": [],
   "execution_count": null
  },
  {
   "cell_type": "code",
   "source": [
    "import functions\n",
    "import os\n",
    "import laspy\n",
    "import time  # Import time module to track time\n",
    "from tqdm import tqdm\n",
    "import numpy as np\n",
    "\n",
    "def extract_vegetation_points(LasData, ndvi_threshold=0.1):\n",
    "    \"\"\"\n",
    "    Extract vegetation points based on classification and NDVI threshold.\n",
    "\n",
    "    Parameters:\n",
    "    - LasData (laspy.LasData): Input point cloud data.\n",
    "    - ndvi_threshold (float): The NDVI threshold to classify vegetation.\n",
    "\n",
    "    Returns:\n",
    "    - veg_points (laspy.LasData): Filtered vegetation points as a new LasData object.\n",
    "    \"\"\"\n",
    "\n",
    "    # Filter points based on classification (vegetation-related classes)\n",
    "    possible_vegetation_points = LasData[(LasData.classification == 1) |  # Unclassified\n",
    "                                         (LasData.classification == 3) |  # Low vegetation\n",
    "                                         (LasData.classification == 4) |  # Medium vegetation\n",
    "                                         (LasData.classification == 5)]  # High vegetation\n",
    "\n",
    "    # Calculate NDVI\n",
    "    red = possible_vegetation_points.red\n",
    "    nir = possible_vegetation_points.nir\n",
    "    ndvi = (nir.astype(float) - red) / (nir + red)\n",
    "\n",
    "    # Filter the points whose NDVI is greater than the threshold\n",
    "    veg_points = possible_vegetation_points[ndvi > ndvi_threshold]\n",
    "\n",
    "    return veg_points\n",
    "\n",
    "def chm_creation(LasData, veg_points, output_filename, resolution=0.5, search_radius=1.0, idw_power=2.0):\n",
    "\n",
    "    veg_points = extract_vegetation_points(LasData)\n",
    "    vegetation_data = vegetation_raster_idw(LasData, veg_points, resolution,\n",
    "                                                      search_radius, idw_power)\n",
    "    veg_raster = vegetation_data[0]\n",
    "    grid_centers = vegetation_data[1]\n",
    "    top_left_x = grid_centers[0][0, 0] - resolution / 2\n",
    "    top_left_y = grid_centers[1][0, 0] + resolution / 2\n",
    "\n",
    "    transform = functions.create_affine_transform(top_left_x, top_left_y, resolution)\n",
    "\n",
    "    functions.write_output(veg_points, veg_raster, transform, output_filename)\n",
    "\n",
    "\n",
    "def vegetation_raster_idw(LasData, points, resolution, search_radius=1, power=2):\n",
    "    \"\"\"\n",
    "    Create a vegetation raster using Inverse Distance Weighting (IDW) interpolation.\n",
    "\n",
    "    Parameters:\n",
    "    - LasData (laspy.LasData): Input LAS data.\n",
    "    - points (laspy.LasData): Vegetation points to be interpolated.\n",
    "    - center_point (tuple): Center coordinates (x, y) of the region of interest.\n",
    "    - resolution (float): Resolution of the raster.\n",
    "    - half_size (float): Half of the size of the tile (defines the extent of the raster).\n",
    "    - search_radius (float): Radius for the IDW search. Default is 1.\n",
    "    - power (float): Power parameter for the IDW algorithm. Default is 2.\n",
    "\n",
    "    Returns:\n",
    "    - vege_raster (np.ndarray): Generated raster for vegetation.\n",
    "    - grid_center_xy (tuple): Grid of x, y center coordinates for each raster cell.\n",
    "    \"\"\"\n",
    "\n",
    "    # Extents of the pc\n",
    "    min_x, max_x = round(LasData.x.min()), round(LasData.x.max())\n",
    "    min_y, max_y = round(LasData.y.min()), round(LasData.y.max())\n",
    "\n",
    "    # Define size of the region\n",
    "    x_length = max_x - min_x\n",
    "    y_length = max_y - min_y\n",
    "\n",
    "    # Number of rows and columns\n",
    "    cols = round(x_length / resolution)\n",
    "    rows = round(y_length / resolution)\n",
    "\n",
    "    # Initialize raster grid\n",
    "    vege_raster = np.full((rows, cols), np.nan, dtype=np.float32)\n",
    "\n",
    "    # Calculate center coords for each grid cell\n",
    "    grid_center_xy = functions.raster_center_coords(min_x, max_x, min_y, max_y, resolution)\n",
    "\n",
    "    if len(points) == 0:\n",
    "        print(\"step4, vegetation_raster_idw: There are no vegetation points in the current area.\")\n",
    "        return vege_raster, grid_center_xy\n",
    "\n",
    "    # Convert LAS points to NumPy array for processing\n",
    "    points_list = np.array(points.xyz)\n",
    "\n",
    "    # Interpolation\n",
    "    functions.interpolation_idw_kdtree(points_list, vege_raster, grid_center_xy, search_radius, power)\n",
    "\n",
    "    return vege_raster, grid_center_xy\n",
    "\n",
    "def process_laz_files(input_folder, output_folder, ndvi_threshold=0.1, resolution=0.5):\n",
    "    if not os.path.exists(output_folder):\n",
    "        os.makedirs(output_folder)\n",
    "\n",
    "    laz_files = [f for f in os.listdir(input_folder) if f.endswith(\".LAZ\")]\n",
    "\n",
    "    total_start_time = time.time()\n",
    "\n",
    "    # Iterate over files\n",
    "    for file_name in tqdm(laz_files, desc=\"Processing files\", unit=\"file\"):\n",
    "        file_path = os.path.join(input_folder, file_name)\n",
    "        tile_name = os.path.splitext(file_name)[0]\n",
    "        output_filename = os.path.join(output_folder, f\"CHM_{tile_name}.TIF\")\n",
    "\n",
    "        start_time = time.time()\n",
    "\n",
    "        # Load LAS data\n",
    "        with laspy.open(file_path) as las:\n",
    "            LasData = las.read()\n",
    "\n",
    "        # Extract vegetation points\n",
    "        veg_points = extract_vegetation_points(LasData, ndvi_threshold=ndvi_threshold)\n",
    "\n",
    "        # Create the CHM and save it\n",
    "        chm_creation(LasData, veg_points, output_filename, resolution=resolution)\n",
    "\n",
    "        # Calculate time taken for current file\n",
    "        elapsed_time = time.time() - start_time\n",
    "        print(f\"\\nProcessed {file_name} in {elapsed_time:.2f} seconds and saved output to {output_filename}\")\n",
    "\n",
    "        os.remove(file_path)\n",
    "        print(f\"Deleted file: {file_path}\")\n",
    "\n",
    "    # Calculate and print total processing time\n",
    "    total_elapsed_time = time.time() - total_start_time\n",
    "    print(f\"\\nAll files processed in {total_elapsed_time:.2f} seconds.\")"
   ],
   "metadata": {
    "collapsed": false,
    "ExecuteTime": {
     "end_time": "2024-09-23T20:48:41.549997Z",
     "start_time": "2024-09-23T20:48:41.426526Z"
    }
   },
   "id": "d7c93b249b72b03c",
   "outputs": [],
   "execution_count": 13
  },
  {
   "cell_type": "code",
   "source": "",
   "metadata": {
    "collapsed": false
   },
   "id": "80631a045c05f8d5",
   "outputs": [],
   "execution_count": null
  },
  {
   "cell_type": "code",
   "source": [
    "input_folder = \"data/25GZ2\"\n",
    "output_folder = \"output/25GZ2\"\n",
    "process_laz_files(input_folder, output_folder)"
   ],
   "metadata": {
    "collapsed": false,
    "ExecuteTime": {
     "end_time": "2024-09-23T20:55:39.501831Z",
     "start_time": "2024-09-23T20:48:47.091831Z"
    }
   },
   "id": "69f88fa68d2dc6a7",
   "outputs": [
    {
     "name": "stderr",
     "output_type": "stream",
     "text": [
      "Processing files: 100%|██████████| 1/1 [06:51<00:00, 411.64s/file]"
     ]
    },
    {
     "name": "stdout",
     "output_type": "stream",
     "text": [
      "File written to 'output/25GZ2\\CHM_25GZ2_05.TIF'\n",
      "\n",
      "Processed 25GZ2_05.LAZ in 411.61 seconds and saved output to output/25GZ2\\CHM_25GZ2_05.TIF\n",
      "Deleted file: data/25GZ2\\25GZ2_05.LAZ\n",
      "\n",
      "All files processed in 411.68 seconds.\n"
     ]
    },
    {
     "name": "stderr",
     "output_type": "stream",
     "text": [
      "\n"
     ]
    }
   ],
   "execution_count": 14
  },
  {
   "cell_type": "code",
   "source": [
    "input_folder = \"data/25BZ1\"\n",
    "output_folder = \"output/25BZ1\"\n",
    "process_laz_files(input_folder, output_folder)"
   ],
   "metadata": {
    "collapsed": false,
    "ExecuteTime": {
     "end_time": "2024-09-23T22:05:00.305307Z",
     "start_time": "2024-09-23T20:55:39.588127Z"
    }
   },
   "id": "9af7c687e663256e",
   "outputs": [
    {
     "name": "stderr",
     "output_type": "stream",
     "text": [
      "Processing files:   4%|▍         | 1/23 [04:19<1:35:04, 259.30s/file]"
     ]
    },
    {
     "name": "stdout",
     "output_type": "stream",
     "text": [
      "File written to 'output/25BZ1\\CHM_25BZ1_01.TIF'\n",
      "\n",
      "Processed 25BZ1_01.LAZ in 259.24 seconds and saved output to output/25BZ1\\CHM_25BZ1_01.TIF\n",
      "Deleted file: data/25BZ1\\25BZ1_01.LAZ\n"
     ]
    },
    {
     "name": "stderr",
     "output_type": "stream",
     "text": [
      "Processing files:   9%|▊         | 2/23 [05:56<57:23, 163.99s/file]  "
     ]
    },
    {
     "name": "stdout",
     "output_type": "stream",
     "text": [
      "File written to 'output/25BZ1\\CHM_25BZ1_02.TIF'\n",
      "\n",
      "Processed 25BZ1_02.LAZ in 97.25 seconds and saved output to output/25BZ1\\CHM_25BZ1_02.TIF\n",
      "Deleted file: data/25BZ1\\25BZ1_02.LAZ\n"
     ]
    },
    {
     "name": "stderr",
     "output_type": "stream",
     "text": [
      "Processing files:  13%|█▎        | 3/23 [07:31<44:04, 132.23s/file]"
     ]
    },
    {
     "name": "stdout",
     "output_type": "stream",
     "text": [
      "File written to 'output/25BZ1\\CHM_25BZ1_03.TIF'\n",
      "\n",
      "Processed 25BZ1_03.LAZ in 94.39 seconds and saved output to output/25BZ1\\CHM_25BZ1_03.TIF\n",
      "Deleted file: data/25BZ1\\25BZ1_03.LAZ\n"
     ]
    },
    {
     "name": "stderr",
     "output_type": "stream",
     "text": [
      "Processing files:  17%|█▋        | 4/23 [09:13<38:08, 120.47s/file]"
     ]
    },
    {
     "name": "stdout",
     "output_type": "stream",
     "text": [
      "File written to 'output/25BZ1\\CHM_25BZ1_04.TIF'\n",
      "\n",
      "Processed 25BZ1_04.LAZ in 102.40 seconds and saved output to output/25BZ1\\CHM_25BZ1_04.TIF\n",
      "Deleted file: data/25BZ1\\25BZ1_04.LAZ\n"
     ]
    },
    {
     "name": "stderr",
     "output_type": "stream",
     "text": [
      "Processing files:  22%|██▏       | 5/23 [11:17<36:31, 121.75s/file]"
     ]
    },
    {
     "name": "stdout",
     "output_type": "stream",
     "text": [
      "File written to 'output/25BZ1\\CHM_25BZ1_05.TIF'\n",
      "\n",
      "Processed 25BZ1_05.LAZ in 123.99 seconds and saved output to output/25BZ1\\CHM_25BZ1_05.TIF\n",
      "Deleted file: data/25BZ1\\25BZ1_05.LAZ\n"
     ]
    },
    {
     "name": "stderr",
     "output_type": "stream",
     "text": [
      "Processing files:  26%|██▌       | 6/23 [13:49<37:23, 131.99s/file]"
     ]
    },
    {
     "name": "stdout",
     "output_type": "stream",
     "text": [
      "File written to 'output/25BZ1\\CHM_25BZ1_06.TIF'\n",
      "\n",
      "Processed 25BZ1_06.LAZ in 151.84 seconds and saved output to output/25BZ1\\CHM_25BZ1_06.TIF\n",
      "Deleted file: data/25BZ1\\25BZ1_06.LAZ\n"
     ]
    },
    {
     "name": "stderr",
     "output_type": "stream",
     "text": [
      "Processing files:  30%|███       | 7/23 [15:42<33:33, 125.85s/file]"
     ]
    },
    {
     "name": "stdout",
     "output_type": "stream",
     "text": [
      "File written to 'output/25BZ1\\CHM_25BZ1_07.TIF'\n",
      "\n",
      "Processed 25BZ1_07.LAZ in 113.15 seconds and saved output to output/25BZ1\\CHM_25BZ1_07.TIF\n",
      "Deleted file: data/25BZ1\\25BZ1_07.LAZ\n"
     ]
    },
    {
     "name": "stderr",
     "output_type": "stream",
     "text": [
      "Processing files:  35%|███▍      | 8/23 [17:18<29:06, 116.41s/file]"
     ]
    },
    {
     "name": "stdout",
     "output_type": "stream",
     "text": [
      "File written to 'output/25BZ1\\CHM_25BZ1_08.TIF'\n",
      "\n",
      "Processed 25BZ1_08.LAZ in 96.18 seconds and saved output to output/25BZ1\\CHM_25BZ1_08.TIF\n",
      "Deleted file: data/25BZ1\\25BZ1_08.LAZ\n"
     ]
    },
    {
     "name": "stderr",
     "output_type": "stream",
     "text": [
      "Processing files:  39%|███▉      | 9/23 [18:39<24:35, 105.36s/file]"
     ]
    },
    {
     "name": "stdout",
     "output_type": "stream",
     "text": [
      "File written to 'output/25BZ1\\CHM_25BZ1_09.TIF'\n",
      "\n",
      "Processed 25BZ1_09.LAZ in 81.05 seconds and saved output to output/25BZ1\\CHM_25BZ1_09.TIF\n",
      "Deleted file: data/25BZ1\\25BZ1_09.LAZ\n"
     ]
    },
    {
     "name": "stderr",
     "output_type": "stream",
     "text": [
      "Processing files:  43%|████▎     | 10/23 [20:44<24:05, 111.20s/file]"
     ]
    },
    {
     "name": "stdout",
     "output_type": "stream",
     "text": [
      "File written to 'output/25BZ1\\CHM_25BZ1_10.TIF'\n",
      "\n",
      "Processed 25BZ1_10.LAZ in 124.23 seconds and saved output to output/25BZ1\\CHM_25BZ1_10.TIF\n",
      "Deleted file: data/25BZ1\\25BZ1_10.LAZ\n"
     ]
    },
    {
     "name": "stderr",
     "output_type": "stream",
     "text": [
      "Processing files:  48%|████▊     | 11/23 [24:41<29:59, 149.94s/file]"
     ]
    },
    {
     "name": "stdout",
     "output_type": "stream",
     "text": [
      "File written to 'output/25BZ1\\CHM_25BZ1_11.TIF'\n",
      "\n",
      "Processed 25BZ1_11.LAZ in 237.72 seconds and saved output to output/25BZ1\\CHM_25BZ1_11.TIF\n",
      "Deleted file: data/25BZ1\\25BZ1_11.LAZ\n"
     ]
    },
    {
     "name": "stderr",
     "output_type": "stream",
     "text": [
      "Processing files:  52%|█████▏    | 12/23 [27:34<28:46, 156.92s/file]"
     ]
    },
    {
     "name": "stdout",
     "output_type": "stream",
     "text": [
      "File written to 'output/25BZ1\\CHM_25BZ1_12.TIF'\n",
      "\n",
      "Processed 25BZ1_12.LAZ in 172.83 seconds and saved output to output/25BZ1\\CHM_25BZ1_12.TIF\n",
      "Deleted file: data/25BZ1\\25BZ1_12.LAZ\n"
     ]
    },
    {
     "name": "stderr",
     "output_type": "stream",
     "text": [
      "Processing files:  57%|█████▋    | 13/23 [30:34<27:17, 163.80s/file]"
     ]
    },
    {
     "name": "stdout",
     "output_type": "stream",
     "text": [
      "File written to 'output/25BZ1\\CHM_25BZ1_13.TIF'\n",
      "\n",
      "Processed 25BZ1_13.LAZ in 179.57 seconds and saved output to output/25BZ1\\CHM_25BZ1_13.TIF\n",
      "Deleted file: data/25BZ1\\25BZ1_13.LAZ\n"
     ]
    },
    {
     "name": "stderr",
     "output_type": "stream",
     "text": [
      "Processing files:  61%|██████    | 14/23 [32:31<22:26, 149.56s/file]"
     ]
    },
    {
     "name": "stdout",
     "output_type": "stream",
     "text": [
      "File written to 'output/25BZ1\\CHM_25BZ1_14.TIF'\n",
      "\n",
      "Processed 25BZ1_14.LAZ in 116.61 seconds and saved output to output/25BZ1\\CHM_25BZ1_14.TIF\n",
      "Deleted file: data/25BZ1\\25BZ1_14.LAZ\n"
     ]
    },
    {
     "name": "stderr",
     "output_type": "stream",
     "text": [
      "Processing files:  65%|██████▌   | 15/23 [34:46<19:23, 145.41s/file]"
     ]
    },
    {
     "name": "stdout",
     "output_type": "stream",
     "text": [
      "File written to 'output/25BZ1\\CHM_25BZ1_15.TIF'\n",
      "\n",
      "Processed 25BZ1_15.LAZ in 135.72 seconds and saved output to output/25BZ1\\CHM_25BZ1_15.TIF\n",
      "Deleted file: data/25BZ1\\25BZ1_15.LAZ\n"
     ]
    },
    {
     "name": "stderr",
     "output_type": "stream",
     "text": [
      "Processing files:  70%|██████▉   | 16/23 [38:00<18:40, 160.01s/file]"
     ]
    },
    {
     "name": "stdout",
     "output_type": "stream",
     "text": [
      "File written to 'output/25BZ1\\CHM_25BZ1_16.TIF'\n",
      "\n",
      "Processed 25BZ1_16.LAZ in 193.87 seconds and saved output to output/25BZ1\\CHM_25BZ1_16.TIF\n",
      "Deleted file: data/25BZ1\\25BZ1_16.LAZ\n"
     ]
    },
    {
     "name": "stderr",
     "output_type": "stream",
     "text": [
      "Processing files:  74%|███████▍  | 17/23 [44:51<23:32, 235.35s/file]"
     ]
    },
    {
     "name": "stdout",
     "output_type": "stream",
     "text": [
      "File written to 'output/25BZ1\\CHM_25BZ1_17.TIF'\n",
      "\n",
      "Processed 25BZ1_17.LAZ in 410.55 seconds and saved output to output/25BZ1\\CHM_25BZ1_17.TIF\n",
      "Deleted file: data/25BZ1\\25BZ1_17.LAZ\n"
     ]
    },
    {
     "name": "stderr",
     "output_type": "stream",
     "text": [
      "Processing files:  78%|███████▊  | 18/23 [51:08<23:09, 277.92s/file]"
     ]
    },
    {
     "name": "stdout",
     "output_type": "stream",
     "text": [
      "File written to 'output/25BZ1\\CHM_25BZ1_18.TIF'\n",
      "\n",
      "Processed 25BZ1_18.LAZ in 377.00 seconds and saved output to output/25BZ1\\CHM_25BZ1_18.TIF\n",
      "Deleted file: data/25BZ1\\25BZ1_18.LAZ\n"
     ]
    },
    {
     "name": "stderr",
     "output_type": "stream",
     "text": [
      "Processing files:  83%|████████▎ | 19/23 [55:16<17:56, 269.12s/file]"
     ]
    },
    {
     "name": "stdout",
     "output_type": "stream",
     "text": [
      "File written to 'output/25BZ1\\CHM_25BZ1_19.TIF'\n",
      "\n",
      "Processed 25BZ1_19.LAZ in 248.57 seconds and saved output to output/25BZ1\\CHM_25BZ1_19.TIF\n",
      "Deleted file: data/25BZ1\\25BZ1_19.LAZ\n"
     ]
    },
    {
     "name": "stderr",
     "output_type": "stream",
     "text": [
      "Processing files:  87%|████████▋ | 20/23 [58:31<12:19, 246.66s/file]"
     ]
    },
    {
     "name": "stdout",
     "output_type": "stream",
     "text": [
      "File written to 'output/25BZ1\\CHM_25BZ1_20.TIF'\n",
      "\n",
      "Processed 25BZ1_20.LAZ in 194.27 seconds and saved output to output/25BZ1\\CHM_25BZ1_20.TIF\n",
      "Deleted file: data/25BZ1\\25BZ1_20.LAZ\n"
     ]
    },
    {
     "name": "stderr",
     "output_type": "stream",
     "text": [
      "Processing files:  91%|█████████▏| 21/23 [1:01:53<07:46, 233.32s/file]"
     ]
    },
    {
     "name": "stdout",
     "output_type": "stream",
     "text": [
      "File written to 'output/25BZ1\\CHM_25BZ1_23.TIF'\n",
      "\n",
      "Processed 25BZ1_23.LAZ in 202.08 seconds and saved output to output/25BZ1\\CHM_25BZ1_23.TIF\n",
      "Deleted file: data/25BZ1\\25BZ1_23.LAZ\n"
     ]
    },
    {
     "name": "stderr",
     "output_type": "stream",
     "text": [
      "Processing files:  96%|█████████▌| 22/23 [1:05:53<03:55, 235.29s/file]"
     ]
    },
    {
     "name": "stdout",
     "output_type": "stream",
     "text": [
      "File written to 'output/25BZ1\\CHM_25BZ1_24.TIF'\n",
      "\n",
      "Processed 25BZ1_24.LAZ in 239.78 seconds and saved output to output/25BZ1\\CHM_25BZ1_24.TIF\n",
      "Deleted file: data/25BZ1\\25BZ1_24.LAZ\n"
     ]
    },
    {
     "name": "stderr",
     "output_type": "stream",
     "text": [
      "Processing files: 100%|██████████| 23/23 [1:09:20<00:00, 180.89s/file]"
     ]
    },
    {
     "name": "stdout",
     "output_type": "stream",
     "text": [
      "File written to 'output/25BZ1\\CHM_25BZ1_25.TIF'\n",
      "\n",
      "Processed 25BZ1_25.LAZ in 207.10 seconds and saved output to output/25BZ1\\CHM_25BZ1_25.TIF\n",
      "Deleted file: data/25BZ1\\25BZ1_25.LAZ\n",
      "\n",
      "All files processed in 4160.51 seconds.\n"
     ]
    },
    {
     "name": "stderr",
     "output_type": "stream",
     "text": [
      "\n"
     ]
    }
   ],
   "execution_count": 15
  },
  {
   "cell_type": "code",
   "source": [
    "input_folder = \"data/25EZ1\"\n",
    "output_folder = \"output/25EZ1\"\n",
    "process_laz_files(input_folder, output_folder)"
   ],
   "metadata": {
    "collapsed": false,
    "ExecuteTime": {
     "end_time": "2024-09-23T23:04:26.838650Z",
     "start_time": "2024-09-23T22:05:00.423928Z"
    }
   },
   "id": "750fa357ef458f4e",
   "outputs": [
    {
     "name": "stderr",
     "output_type": "stream",
     "text": [
      "Processing files:   4%|▍         | 1/23 [02:54<1:03:55, 174.33s/file]"
     ]
    },
    {
     "name": "stdout",
     "output_type": "stream",
     "text": [
      "File written to 'output/25EZ1\\CHM_25EZ1_01.TIF'\n",
      "\n",
      "Processed 25EZ1_01.LAZ in 174.26 seconds and saved output to output/25EZ1\\CHM_25EZ1_01.TIF\n",
      "Deleted file: data/25EZ1\\25EZ1_01.LAZ\n"
     ]
    },
    {
     "name": "stderr",
     "output_type": "stream",
     "text": [
      "Processing files:   9%|▊         | 2/23 [05:28<56:48, 162.33s/file]  "
     ]
    },
    {
     "name": "stdout",
     "output_type": "stream",
     "text": [
      "File written to 'output/25EZ1\\CHM_25EZ1_02.TIF'\n",
      "\n",
      "Processed 25EZ1_02.LAZ in 153.87 seconds and saved output to output/25EZ1\\CHM_25EZ1_02.TIF\n",
      "Deleted file: data/25EZ1\\25EZ1_02.LAZ\n"
     ]
    },
    {
     "name": "stderr",
     "output_type": "stream",
     "text": [
      "Processing files:  13%|█▎        | 3/23 [08:14<54:43, 164.19s/file]"
     ]
    },
    {
     "name": "stdout",
     "output_type": "stream",
     "text": [
      "File written to 'output/25EZ1\\CHM_25EZ1_03.TIF'\n",
      "\n",
      "Processed 25EZ1_03.LAZ in 166.34 seconds and saved output to output/25EZ1\\CHM_25EZ1_03.TIF\n",
      "Deleted file: data/25EZ1\\25EZ1_03.LAZ\n"
     ]
    },
    {
     "name": "stderr",
     "output_type": "stream",
     "text": [
      "Processing files:  17%|█▋        | 4/23 [11:11<53:31, 169.02s/file]"
     ]
    },
    {
     "name": "stdout",
     "output_type": "stream",
     "text": [
      "File written to 'output/25EZ1\\CHM_25EZ1_06.TIF'\n",
      "\n",
      "Processed 25EZ1_06.LAZ in 176.36 seconds and saved output to output/25EZ1\\CHM_25EZ1_06.TIF\n",
      "Deleted file: data/25EZ1\\25EZ1_06.LAZ\n"
     ]
    },
    {
     "name": "stderr",
     "output_type": "stream",
     "text": [
      "Processing files:  22%|██▏       | 5/23 [14:41<55:11, 183.97s/file]"
     ]
    },
    {
     "name": "stdout",
     "output_type": "stream",
     "text": [
      "File written to 'output/25EZ1\\CHM_25EZ1_07.TIF'\n",
      "\n",
      "Processed 25EZ1_07.LAZ in 210.40 seconds and saved output to output/25EZ1\\CHM_25EZ1_07.TIF\n",
      "Deleted file: data/25EZ1\\25EZ1_07.LAZ\n"
     ]
    },
    {
     "name": "stderr",
     "output_type": "stream",
     "text": [
      "Processing files:  26%|██▌       | 6/23 [17:39<51:32, 181.92s/file]"
     ]
    },
    {
     "name": "stdout",
     "output_type": "stream",
     "text": [
      "File written to 'output/25EZ1\\CHM_25EZ1_08.TIF'\n",
      "\n",
      "Processed 25EZ1_08.LAZ in 177.90 seconds and saved output to output/25EZ1\\CHM_25EZ1_08.TIF\n",
      "Deleted file: data/25EZ1\\25EZ1_08.LAZ\n"
     ]
    },
    {
     "name": "stderr",
     "output_type": "stream",
     "text": [
      "Processing files:  30%|███       | 7/23 [20:33<47:47, 179.21s/file]"
     ]
    },
    {
     "name": "stdout",
     "output_type": "stream",
     "text": [
      "File written to 'output/25EZ1\\CHM_25EZ1_09.TIF'\n",
      "\n",
      "Processed 25EZ1_09.LAZ in 173.56 seconds and saved output to output/25EZ1\\CHM_25EZ1_09.TIF\n",
      "Deleted file: data/25EZ1\\25EZ1_09.LAZ\n"
     ]
    },
    {
     "name": "stderr",
     "output_type": "stream",
     "text": [
      "Processing files:  35%|███▍      | 8/23 [23:02<42:27, 169.80s/file]"
     ]
    },
    {
     "name": "stdout",
     "output_type": "stream",
     "text": [
      "File written to 'output/25EZ1\\CHM_25EZ1_10.TIF'\n",
      "\n",
      "Processed 25EZ1_10.LAZ in 149.62 seconds and saved output to output/25EZ1\\CHM_25EZ1_10.TIF\n",
      "Deleted file: data/25EZ1\\25EZ1_10.LAZ\n"
     ]
    },
    {
     "name": "stderr",
     "output_type": "stream",
     "text": [
      "Processing files:  39%|███▉      | 9/23 [24:45<34:41, 148.70s/file]"
     ]
    },
    {
     "name": "stdout",
     "output_type": "stream",
     "text": [
      "File written to 'output/25EZ1\\CHM_25EZ1_11.TIF'\n",
      "\n",
      "Processed 25EZ1_11.LAZ in 102.27 seconds and saved output to output/25EZ1\\CHM_25EZ1_11.TIF\n",
      "Deleted file: data/25EZ1\\25EZ1_11.LAZ\n"
     ]
    },
    {
     "name": "stderr",
     "output_type": "stream",
     "text": [
      "Processing files:  43%|████▎     | 10/23 [26:33<29:31, 136.25s/file]"
     ]
    },
    {
     "name": "stdout",
     "output_type": "stream",
     "text": [
      "File written to 'output/25EZ1\\CHM_25EZ1_12.TIF'\n",
      "\n",
      "Processed 25EZ1_12.LAZ in 108.33 seconds and saved output to output/25EZ1\\CHM_25EZ1_12.TIF\n",
      "Deleted file: data/25EZ1\\25EZ1_12.LAZ\n"
     ]
    },
    {
     "name": "stderr",
     "output_type": "stream",
     "text": [
      "Processing files:  48%|████▊     | 11/23 [29:17<28:56, 144.74s/file]"
     ]
    },
    {
     "name": "stdout",
     "output_type": "stream",
     "text": [
      "File written to 'output/25EZ1\\CHM_25EZ1_13.TIF'\n",
      "\n",
      "Processed 25EZ1_13.LAZ in 163.94 seconds and saved output to output/25EZ1\\CHM_25EZ1_13.TIF\n",
      "Deleted file: data/25EZ1\\25EZ1_13.LAZ\n"
     ]
    },
    {
     "name": "stderr",
     "output_type": "stream",
     "text": [
      "Processing files:  52%|█████▏    | 12/23 [32:39<29:45, 162.28s/file]"
     ]
    },
    {
     "name": "stdout",
     "output_type": "stream",
     "text": [
      "File written to 'output/25EZ1\\CHM_25EZ1_14.TIF'\n",
      "\n",
      "Processed 25EZ1_14.LAZ in 202.33 seconds and saved output to output/25EZ1\\CHM_25EZ1_14.TIF\n",
      "Deleted file: data/25EZ1\\25EZ1_14.LAZ\n"
     ]
    },
    {
     "name": "stderr",
     "output_type": "stream",
     "text": [
      "Processing files:  57%|█████▋    | 13/23 [35:54<28:40, 172.01s/file]"
     ]
    },
    {
     "name": "stdout",
     "output_type": "stream",
     "text": [
      "File written to 'output/25EZ1\\CHM_25EZ1_15.TIF'\n",
      "\n",
      "Processed 25EZ1_15.LAZ in 194.37 seconds and saved output to output/25EZ1\\CHM_25EZ1_15.TIF\n",
      "Deleted file: data/25EZ1\\25EZ1_15.LAZ\n"
     ]
    },
    {
     "name": "stderr",
     "output_type": "stream",
     "text": [
      "Processing files:  61%|██████    | 14/23 [38:09<24:07, 160.81s/file]"
     ]
    },
    {
     "name": "stdout",
     "output_type": "stream",
     "text": [
      "File written to 'output/25EZ1\\CHM_25EZ1_16.TIF'\n",
      "\n",
      "Processed 25EZ1_16.LAZ in 134.87 seconds and saved output to output/25EZ1\\CHM_25EZ1_16.TIF\n",
      "Deleted file: data/25EZ1\\25EZ1_16.LAZ\n"
     ]
    },
    {
     "name": "stderr",
     "output_type": "stream",
     "text": [
      "Processing files:  65%|██████▌   | 15/23 [39:37<18:30, 138.83s/file]"
     ]
    },
    {
     "name": "stdout",
     "output_type": "stream",
     "text": [
      "File written to 'output/25EZ1\\CHM_25EZ1_17.TIF'\n",
      "\n",
      "Processed 25EZ1_17.LAZ in 87.87 seconds and saved output to output/25EZ1\\CHM_25EZ1_17.TIF\n",
      "Deleted file: data/25EZ1\\25EZ1_17.LAZ\n"
     ]
    },
    {
     "name": "stderr",
     "output_type": "stream",
     "text": [
      "Processing files:  70%|██████▉   | 16/23 [41:58<16:17, 139.63s/file]"
     ]
    },
    {
     "name": "stdout",
     "output_type": "stream",
     "text": [
      "File written to 'output/25EZ1\\CHM_25EZ1_18.TIF'\n",
      "\n",
      "Processed 25EZ1_18.LAZ in 141.44 seconds and saved output to output/25EZ1\\CHM_25EZ1_18.TIF\n",
      "Deleted file: data/25EZ1\\25EZ1_18.LAZ\n"
     ]
    },
    {
     "name": "stderr",
     "output_type": "stream",
     "text": [
      "Processing files:  74%|███████▍  | 17/23 [45:41<16:27, 164.56s/file]"
     ]
    },
    {
     "name": "stdout",
     "output_type": "stream",
     "text": [
      "File written to 'output/25EZ1\\CHM_25EZ1_19.TIF'\n",
      "\n",
      "Processed 25EZ1_19.LAZ in 222.48 seconds and saved output to output/25EZ1\\CHM_25EZ1_19.TIF\n",
      "Deleted file: data/25EZ1\\25EZ1_19.LAZ\n"
     ]
    },
    {
     "name": "stderr",
     "output_type": "stream",
     "text": [
      "Processing files:  78%|███████▊  | 18/23 [50:11<16:21, 196.28s/file]"
     ]
    },
    {
     "name": "stdout",
     "output_type": "stream",
     "text": [
      "File written to 'output/25EZ1\\CHM_25EZ1_20.TIF'\n",
      "\n",
      "Processed 25EZ1_20.LAZ in 270.03 seconds and saved output to output/25EZ1\\CHM_25EZ1_20.TIF\n",
      "Deleted file: data/25EZ1\\25EZ1_20.LAZ\n"
     ]
    },
    {
     "name": "stderr",
     "output_type": "stream",
     "text": [
      "Processing files:  83%|████████▎ | 19/23 [52:43<12:12, 183.03s/file]"
     ]
    },
    {
     "name": "stdout",
     "output_type": "stream",
     "text": [
      "File written to 'output/25EZ1\\CHM_25EZ1_21.TIF'\n",
      "\n",
      "Processed 25EZ1_21.LAZ in 152.12 seconds and saved output to output/25EZ1\\CHM_25EZ1_21.TIF\n",
      "Deleted file: data/25EZ1\\25EZ1_21.LAZ\n"
     ]
    },
    {
     "name": "stderr",
     "output_type": "stream",
     "text": [
      "Processing files:  87%|████████▋ | 20/23 [54:21<07:53, 157.67s/file]"
     ]
    },
    {
     "name": "stdout",
     "output_type": "stream",
     "text": [
      "File written to 'output/25EZ1\\CHM_25EZ1_22.TIF'\n",
      "\n",
      "Processed 25EZ1_22.LAZ in 98.52 seconds and saved output to output/25EZ1\\CHM_25EZ1_22.TIF\n",
      "Deleted file: data/25EZ1\\25EZ1_22.LAZ\n"
     ]
    },
    {
     "name": "stderr",
     "output_type": "stream",
     "text": [
      "Processing files:  91%|█████████▏| 21/23 [56:21<04:52, 146.14s/file]"
     ]
    },
    {
     "name": "stdout",
     "output_type": "stream",
     "text": [
      "File written to 'output/25EZ1\\CHM_25EZ1_23.TIF'\n",
      "\n",
      "Processed 25EZ1_23.LAZ in 119.22 seconds and saved output to output/25EZ1\\CHM_25EZ1_23.TIF\n",
      "Deleted file: data/25EZ1\\25EZ1_23.LAZ\n"
     ]
    },
    {
     "name": "stderr",
     "output_type": "stream",
     "text": [
      "Processing files:  96%|█████████▌| 22/23 [57:53<02:09, 129.96s/file]"
     ]
    },
    {
     "name": "stdout",
     "output_type": "stream",
     "text": [
      "File written to 'output/25EZ1\\CHM_25EZ1_24.TIF'\n",
      "\n",
      "Processed 25EZ1_24.LAZ in 92.19 seconds and saved output to output/25EZ1\\CHM_25EZ1_24.TIF\n",
      "Deleted file: data/25EZ1\\25EZ1_24.LAZ\n"
     ]
    },
    {
     "name": "stderr",
     "output_type": "stream",
     "text": [
      "Processing files: 100%|██████████| 23/23 [59:26<00:00, 155.06s/file]"
     ]
    },
    {
     "name": "stdout",
     "output_type": "stream",
     "text": [
      "File written to 'output/25EZ1\\CHM_25EZ1_25.TIF'\n",
      "\n",
      "Processed 25EZ1_25.LAZ in 92.82 seconds and saved output to output/25EZ1\\CHM_25EZ1_25.TIF\n",
      "Deleted file: data/25EZ1\\25EZ1_25.LAZ\n",
      "\n",
      "All files processed in 3566.30 seconds.\n"
     ]
    },
    {
     "name": "stderr",
     "output_type": "stream",
     "text": [
      "\n"
     ]
    }
   ],
   "execution_count": 16
  },
  {
   "metadata": {
    "ExecuteTime": {
     "end_time": "2024-09-23T23:54:27.759691Z",
     "start_time": "2024-09-23T23:04:26.881235Z"
    }
   },
   "cell_type": "code",
   "source": [
    "input_folder = \"data/25EZ2\"\n",
    "output_folder = \"output/25EZ2\"\n",
    "process_laz_files(input_folder, output_folder)"
   ],
   "id": "51935ffe2ba85de5",
   "outputs": [
    {
     "name": "stderr",
     "output_type": "stream",
     "text": [
      "Processing files:   4%|▍         | 1/24 [01:47<41:21, 107.91s/file]"
     ]
    },
    {
     "name": "stdout",
     "output_type": "stream",
     "text": [
      "File written to 'output/25EZ2\\CHM_25EZ2_01.TIF'\n",
      "\n",
      "Processed 25EZ2_01.LAZ in 107.86 seconds and saved output to output/25EZ2\\CHM_25EZ2_01.TIF\n",
      "Deleted file: data/25EZ2\\25EZ2_01.LAZ\n"
     ]
    },
    {
     "name": "stderr",
     "output_type": "stream",
     "text": [
      "Processing files:   8%|▊         | 2/24 [03:29<38:06, 103.95s/file]"
     ]
    },
    {
     "name": "stdout",
     "output_type": "stream",
     "text": [
      "File written to 'output/25EZ2\\CHM_25EZ2_02.TIF'\n",
      "\n",
      "Processed 25EZ2_02.LAZ in 101.14 seconds and saved output to output/25EZ2\\CHM_25EZ2_02.TIF\n",
      "Deleted file: data/25EZ2\\25EZ2_02.LAZ\n"
     ]
    },
    {
     "name": "stderr",
     "output_type": "stream",
     "text": [
      "Processing files:  12%|█▎        | 3/24 [05:20<37:34, 107.37s/file]"
     ]
    },
    {
     "name": "stdout",
     "output_type": "stream",
     "text": [
      "File written to 'output/25EZ2\\CHM_25EZ2_03.TIF'\n",
      "\n",
      "Processed 25EZ2_03.LAZ in 111.37 seconds and saved output to output/25EZ2\\CHM_25EZ2_03.TIF\n",
      "Deleted file: data/25EZ2\\25EZ2_03.LAZ\n"
     ]
    },
    {
     "name": "stderr",
     "output_type": "stream",
     "text": [
      "Processing files:  17%|█▋        | 4/24 [07:52<41:36, 124.85s/file]"
     ]
    },
    {
     "name": "stdout",
     "output_type": "stream",
     "text": [
      "File written to 'output/25EZ2\\CHM_25EZ2_04.TIF'\n",
      "\n",
      "Processed 25EZ2_04.LAZ in 151.57 seconds and saved output to output/25EZ2\\CHM_25EZ2_04.TIF\n",
      "Deleted file: data/25EZ2\\25EZ2_04.LAZ\n"
     ]
    },
    {
     "name": "stderr",
     "output_type": "stream",
     "text": [
      "Processing files:  21%|██        | 5/24 [09:39<37:29, 118.38s/file]"
     ]
    },
    {
     "name": "stdout",
     "output_type": "stream",
     "text": [
      "File written to 'output/25EZ2\\CHM_25EZ2_05.TIF'\n",
      "\n",
      "Processed 25EZ2_05.LAZ in 106.85 seconds and saved output to output/25EZ2\\CHM_25EZ2_05.TIF\n",
      "Deleted file: data/25EZ2\\25EZ2_05.LAZ\n"
     ]
    },
    {
     "name": "stderr",
     "output_type": "stream",
     "text": [
      "Processing files:  25%|██▌       | 6/24 [11:09<32:42, 109.02s/file]"
     ]
    },
    {
     "name": "stdout",
     "output_type": "stream",
     "text": [
      "File written to 'output/25EZ2\\CHM_25EZ2_06.TIF'\n",
      "\n",
      "Processed 25EZ2_06.LAZ in 90.79 seconds and saved output to output/25EZ2\\CHM_25EZ2_06.TIF\n",
      "Deleted file: data/25EZ2\\25EZ2_06.LAZ\n"
     ]
    },
    {
     "name": "stderr",
     "output_type": "stream",
     "text": [
      "Processing files:  29%|██▉       | 7/24 [12:52<30:19, 107.04s/file]"
     ]
    },
    {
     "name": "stdout",
     "output_type": "stream",
     "text": [
      "File written to 'output/25EZ2\\CHM_25EZ2_08.TIF'\n",
      "\n",
      "Processed 25EZ2_08.LAZ in 102.89 seconds and saved output to output/25EZ2\\CHM_25EZ2_08.TIF\n",
      "Deleted file: data/25EZ2\\25EZ2_08.LAZ\n"
     ]
    },
    {
     "name": "stderr",
     "output_type": "stream",
     "text": [
      "Processing files:  33%|███▎      | 8/24 [14:52<29:34, 110.92s/file]"
     ]
    },
    {
     "name": "stdout",
     "output_type": "stream",
     "text": [
      "File written to 'output/25EZ2\\CHM_25EZ2_09.TIF'\n",
      "\n",
      "Processed 25EZ2_09.LAZ in 119.14 seconds and saved output to output/25EZ2\\CHM_25EZ2_09.TIF\n",
      "Deleted file: data/25EZ2\\25EZ2_09.LAZ\n"
     ]
    },
    {
     "name": "stderr",
     "output_type": "stream",
     "text": [
      "Processing files:  38%|███▊      | 9/24 [16:30<26:46, 107.12s/file]"
     ]
    },
    {
     "name": "stdout",
     "output_type": "stream",
     "text": [
      "File written to 'output/25EZ2\\CHM_25EZ2_10.TIF'\n",
      "\n",
      "Processed 25EZ2_10.LAZ in 98.70 seconds and saved output to output/25EZ2\\CHM_25EZ2_10.TIF\n",
      "Deleted file: data/25EZ2\\25EZ2_10.LAZ\n"
     ]
    },
    {
     "name": "stderr",
     "output_type": "stream",
     "text": [
      "Processing files:  42%|████▏     | 10/24 [19:56<32:06, 137.58s/file]"
     ]
    },
    {
     "name": "stdout",
     "output_type": "stream",
     "text": [
      "File written to 'output/25EZ2\\CHM_25EZ2_11.TIF'\n",
      "\n",
      "Processed 25EZ2_11.LAZ in 205.71 seconds and saved output to output/25EZ2\\CHM_25EZ2_11.TIF\n",
      "Deleted file: data/25EZ2\\25EZ2_11.LAZ\n"
     ]
    },
    {
     "name": "stderr",
     "output_type": "stream",
     "text": [
      "Processing files:  46%|████▌     | 11/24 [21:41<27:39, 127.63s/file]"
     ]
    },
    {
     "name": "stdout",
     "output_type": "stream",
     "text": [
      "File written to 'output/25EZ2\\CHM_25EZ2_12.TIF'\n",
      "\n",
      "Processed 25EZ2_12.LAZ in 105.05 seconds and saved output to output/25EZ2\\CHM_25EZ2_12.TIF\n",
      "Deleted file: data/25EZ2\\25EZ2_12.LAZ\n"
     ]
    },
    {
     "name": "stderr",
     "output_type": "stream",
     "text": [
      "Processing files:  50%|█████     | 12/24 [23:15<23:28, 117.38s/file]"
     ]
    },
    {
     "name": "stdout",
     "output_type": "stream",
     "text": [
      "File written to 'output/25EZ2\\CHM_25EZ2_13.TIF'\n",
      "\n",
      "Processed 25EZ2_13.LAZ in 93.84 seconds and saved output to output/25EZ2\\CHM_25EZ2_13.TIF\n",
      "Deleted file: data/25EZ2\\25EZ2_13.LAZ\n"
     ]
    },
    {
     "name": "stderr",
     "output_type": "stream",
     "text": [
      "Processing files:  54%|█████▍    | 13/24 [24:59<20:46, 113.29s/file]"
     ]
    },
    {
     "name": "stdout",
     "output_type": "stream",
     "text": [
      "File written to 'output/25EZ2\\CHM_25EZ2_14.TIF'\n",
      "\n",
      "Processed 25EZ2_14.LAZ in 103.80 seconds and saved output to output/25EZ2\\CHM_25EZ2_14.TIF\n",
      "Deleted file: data/25EZ2\\25EZ2_14.LAZ\n"
     ]
    },
    {
     "name": "stderr",
     "output_type": "stream",
     "text": [
      "Processing files:  58%|█████▊    | 14/24 [26:55<19:01, 114.18s/file]"
     ]
    },
    {
     "name": "stdout",
     "output_type": "stream",
     "text": [
      "File written to 'output/25EZ2\\CHM_25EZ2_15.TIF'\n",
      "\n",
      "Processed 25EZ2_15.LAZ in 116.18 seconds and saved output to output/25EZ2\\CHM_25EZ2_15.TIF\n",
      "Deleted file: data/25EZ2\\25EZ2_15.LAZ\n"
     ]
    },
    {
     "name": "stderr",
     "output_type": "stream",
     "text": [
      "Processing files:  62%|██████▎   | 15/24 [30:37<22:00, 146.69s/file]"
     ]
    },
    {
     "name": "stdout",
     "output_type": "stream",
     "text": [
      "File written to 'output/25EZ2\\CHM_25EZ2_16.TIF'\n",
      "\n",
      "Processed 25EZ2_16.LAZ in 221.98 seconds and saved output to output/25EZ2\\CHM_25EZ2_16.TIF\n",
      "Deleted file: data/25EZ2\\25EZ2_16.LAZ\n"
     ]
    },
    {
     "name": "stderr",
     "output_type": "stream",
     "text": [
      "Processing files:  67%|██████▋   | 16/24 [34:13<22:18, 167.30s/file]"
     ]
    },
    {
     "name": "stdout",
     "output_type": "stream",
     "text": [
      "File written to 'output/25EZ2\\CHM_25EZ2_17.TIF'\n",
      "\n",
      "Processed 25EZ2_17.LAZ in 215.11 seconds and saved output to output/25EZ2\\CHM_25EZ2_17.TIF\n",
      "Deleted file: data/25EZ2\\25EZ2_17.LAZ\n"
     ]
    },
    {
     "name": "stderr",
     "output_type": "stream",
     "text": [
      "Processing files:  71%|███████   | 17/24 [35:50<17:04, 146.37s/file]"
     ]
    },
    {
     "name": "stdout",
     "output_type": "stream",
     "text": [
      "File written to 'output/25EZ2\\CHM_25EZ2_18.TIF'\n",
      "\n",
      "Processed 25EZ2_18.LAZ in 97.62 seconds and saved output to output/25EZ2\\CHM_25EZ2_18.TIF\n",
      "Deleted file: data/25EZ2\\25EZ2_18.LAZ\n"
     ]
    },
    {
     "name": "stderr",
     "output_type": "stream",
     "text": [
      "Processing files:  75%|███████▌  | 18/24 [37:57<14:02, 140.39s/file]"
     ]
    },
    {
     "name": "stdout",
     "output_type": "stream",
     "text": [
      "File written to 'output/25EZ2\\CHM_25EZ2_19.TIF'\n",
      "\n",
      "Processed 25EZ2_19.LAZ in 126.38 seconds and saved output to output/25EZ2\\CHM_25EZ2_19.TIF\n",
      "Deleted file: data/25EZ2\\25EZ2_19.LAZ\n"
     ]
    },
    {
     "name": "stderr",
     "output_type": "stream",
     "text": [
      "Processing files:  79%|███████▉  | 19/24 [39:27<10:26, 125.37s/file]"
     ]
    },
    {
     "name": "stdout",
     "output_type": "stream",
     "text": [
      "File written to 'output/25EZ2\\CHM_25EZ2_20.TIF'\n",
      "\n",
      "Processed 25EZ2_20.LAZ in 90.32 seconds and saved output to output/25EZ2\\CHM_25EZ2_20.TIF\n",
      "Deleted file: data/25EZ2\\25EZ2_20.LAZ\n"
     ]
    },
    {
     "name": "stderr",
     "output_type": "stream",
     "text": [
      "Processing files:  83%|████████▎ | 20/24 [41:06<07:50, 117.55s/file]"
     ]
    },
    {
     "name": "stdout",
     "output_type": "stream",
     "text": [
      "File written to 'output/25EZ2\\CHM_25EZ2_21.TIF'\n",
      "\n",
      "Processed 25EZ2_21.LAZ in 99.32 seconds and saved output to output/25EZ2\\CHM_25EZ2_21.TIF\n",
      "Deleted file: data/25EZ2\\25EZ2_21.LAZ\n"
     ]
    },
    {
     "name": "stderr",
     "output_type": "stream",
     "text": [
      "Processing files:  88%|████████▊ | 21/24 [44:09<06:50, 136.99s/file]"
     ]
    },
    {
     "name": "stdout",
     "output_type": "stream",
     "text": [
      "File written to 'output/25EZ2\\CHM_25EZ2_22.TIF'\n",
      "\n",
      "Processed 25EZ2_22.LAZ in 182.27 seconds and saved output to output/25EZ2\\CHM_25EZ2_22.TIF\n",
      "Deleted file: data/25EZ2\\25EZ2_22.LAZ\n"
     ]
    },
    {
     "name": "stderr",
     "output_type": "stream",
     "text": [
      "Processing files:  92%|█████████▏| 22/24 [46:07<04:22, 131.26s/file]"
     ]
    },
    {
     "name": "stdout",
     "output_type": "stream",
     "text": [
      "File written to 'output/25EZ2\\CHM_25EZ2_23.TIF'\n",
      "\n",
      "Processed 25EZ2_23.LAZ in 117.82 seconds and saved output to output/25EZ2\\CHM_25EZ2_23.TIF\n",
      "Deleted file: data/25EZ2\\25EZ2_23.LAZ\n"
     ]
    },
    {
     "name": "stderr",
     "output_type": "stream",
     "text": [
      "Processing files:  96%|█████████▌| 23/24 [48:00<02:05, 125.78s/file]"
     ]
    },
    {
     "name": "stdout",
     "output_type": "stream",
     "text": [
      "File written to 'output/25EZ2\\CHM_25EZ2_24.TIF'\n",
      "\n",
      "Processed 25EZ2_24.LAZ in 112.92 seconds and saved output to output/25EZ2\\CHM_25EZ2_24.TIF\n",
      "Deleted file: data/25EZ2\\25EZ2_24.LAZ\n"
     ]
    },
    {
     "name": "stderr",
     "output_type": "stream",
     "text": [
      "Processing files: 100%|██████████| 24/24 [50:00<00:00, 125.03s/file]"
     ]
    },
    {
     "name": "stdout",
     "output_type": "stream",
     "text": [
      "File written to 'output/25EZ2\\CHM_25EZ2_25.TIF'\n",
      "\n",
      "Processed 25EZ2_25.LAZ in 120.55 seconds and saved output to output/25EZ2\\CHM_25EZ2_25.TIF\n",
      "Deleted file: data/25EZ2\\25EZ2_25.LAZ\n",
      "\n",
      "All files processed in 3000.71 seconds.\n"
     ]
    },
    {
     "name": "stderr",
     "output_type": "stream",
     "text": [
      "\n"
     ]
    }
   ],
   "execution_count": 17
  },
  {
   "metadata": {
    "ExecuteTime": {
     "end_time": "2024-09-24T01:14:46.974637Z",
     "start_time": "2024-09-23T23:54:28.020874Z"
    }
   },
   "cell_type": "code",
   "source": [
    "input_folder = \"data/25GN2\"\n",
    "output_folder = \"output/25GN2\"\n",
    "process_laz_files(input_folder, output_folder)"
   ],
   "id": "a5ef067ba05b5409",
   "outputs": [
    {
     "name": "stderr",
     "output_type": "stream",
     "text": [
      "Processing files:   4%|▍         | 1/24 [02:24<55:13, 144.06s/file]"
     ]
    },
    {
     "name": "stdout",
     "output_type": "stream",
     "text": [
      "File written to 'output/25GN2\\CHM_25GN2_01.TIF'\n",
      "\n",
      "Processed 25GN2_01.LAZ in 144.03 seconds and saved output to output/25GN2\\CHM_25GN2_01.TIF\n",
      "Deleted file: data/25GN2\\25GN2_01.LAZ\n"
     ]
    },
    {
     "name": "stderr",
     "output_type": "stream",
     "text": [
      "Processing files:   8%|▊         | 2/24 [03:57<41:55, 114.35s/file]"
     ]
    },
    {
     "name": "stdout",
     "output_type": "stream",
     "text": [
      "File written to 'output/25GN2\\CHM_25GN2_02.TIF'\n",
      "\n",
      "Processed 25GN2_02.LAZ in 93.53 seconds and saved output to output/25GN2\\CHM_25GN2_02.TIF\n",
      "Deleted file: data/25GN2\\25GN2_02.LAZ\n"
     ]
    },
    {
     "name": "stderr",
     "output_type": "stream",
     "text": [
      "Processing files:  12%|█▎        | 3/24 [05:13<33:55, 96.91s/file] "
     ]
    },
    {
     "name": "stdout",
     "output_type": "stream",
     "text": [
      "File written to 'output/25GN2\\CHM_25GN2_03.TIF'\n",
      "\n",
      "Processed 25GN2_03.LAZ in 76.12 seconds and saved output to output/25GN2\\CHM_25GN2_03.TIF\n",
      "Deleted file: data/25GN2\\25GN2_03.LAZ\n"
     ]
    },
    {
     "name": "stderr",
     "output_type": "stream",
     "text": [
      "Processing files:  17%|█▋        | 4/24 [06:26<29:08, 87.43s/file]"
     ]
    },
    {
     "name": "stdout",
     "output_type": "stream",
     "text": [
      "File written to 'output/25GN2\\CHM_25GN2_04.TIF'\n",
      "\n",
      "Processed 25GN2_04.LAZ in 72.87 seconds and saved output to output/25GN2\\CHM_25GN2_04.TIF\n",
      "Deleted file: data/25GN2\\25GN2_04.LAZ\n"
     ]
    },
    {
     "name": "stderr",
     "output_type": "stream",
     "text": [
      "Processing files:  21%|██        | 5/24 [07:38<25:53, 81.74s/file]"
     ]
    },
    {
     "name": "stdout",
     "output_type": "stream",
     "text": [
      "File written to 'output/25GN2\\CHM_25GN2_05.TIF'\n",
      "\n",
      "Processed 25GN2_05.LAZ in 71.63 seconds and saved output to output/25GN2\\CHM_25GN2_05.TIF\n",
      "Deleted file: data/25GN2\\25GN2_05.LAZ\n"
     ]
    },
    {
     "name": "stderr",
     "output_type": "stream",
     "text": [
      "Processing files:  25%|██▌       | 6/24 [10:32<34:00, 113.34s/file]"
     ]
    },
    {
     "name": "stdout",
     "output_type": "stream",
     "text": [
      "File written to 'output/25GN2\\CHM_25GN2_06.TIF'\n",
      "\n",
      "Processed 25GN2_06.LAZ in 174.63 seconds and saved output to output/25GN2\\CHM_25GN2_06.TIF\n",
      "Deleted file: data/25GN2\\25GN2_06.LAZ\n"
     ]
    },
    {
     "name": "stderr",
     "output_type": "stream",
     "text": [
      "Processing files:  29%|██▉       | 7/24 [13:11<36:15, 127.96s/file]"
     ]
    },
    {
     "name": "stdout",
     "output_type": "stream",
     "text": [
      "File written to 'output/25GN2\\CHM_25GN2_08.TIF'\n",
      "\n",
      "Processed 25GN2_08.LAZ in 158.00 seconds and saved output to output/25GN2\\CHM_25GN2_08.TIF\n",
      "Deleted file: data/25GN2\\25GN2_08.LAZ\n"
     ]
    },
    {
     "name": "stderr",
     "output_type": "stream",
     "text": [
      "Processing files:  33%|███▎      | 8/24 [15:14<33:45, 126.59s/file]"
     ]
    },
    {
     "name": "stdout",
     "output_type": "stream",
     "text": [
      "File written to 'output/25GN2\\CHM_25GN2_09.TIF'\n",
      "\n",
      "Processed 25GN2_09.LAZ in 123.57 seconds and saved output to output/25GN2\\CHM_25GN2_09.TIF\n",
      "Deleted file: data/25GN2\\25GN2_09.LAZ\n"
     ]
    },
    {
     "name": "stderr",
     "output_type": "stream",
     "text": [
      "Processing files:  38%|███▊      | 9/24 [16:21<26:59, 107.96s/file]"
     ]
    },
    {
     "name": "stdout",
     "output_type": "stream",
     "text": [
      "File written to 'output/25GN2\\CHM_25GN2_10.TIF'\n",
      "\n",
      "Processed 25GN2_10.LAZ in 66.97 seconds and saved output to output/25GN2\\CHM_25GN2_10.TIF\n",
      "Deleted file: data/25GN2\\25GN2_10.LAZ\n"
     ]
    },
    {
     "name": "stderr",
     "output_type": "stream",
     "text": [
      "Processing files:  42%|████▏     | 10/24 [19:37<31:29, 135.00s/file]"
     ]
    },
    {
     "name": "stdout",
     "output_type": "stream",
     "text": [
      "File written to 'output/25GN2\\CHM_25GN2_11.TIF'\n",
      "\n",
      "Processed 25GN2_11.LAZ in 195.49 seconds and saved output to output/25GN2\\CHM_25GN2_11.TIF\n",
      "Deleted file: data/25GN2\\25GN2_11.LAZ\n"
     ]
    },
    {
     "name": "stderr",
     "output_type": "stream",
     "text": [
      "Processing files:  46%|████▌     | 11/24 [23:22<35:12, 162.50s/file]"
     ]
    },
    {
     "name": "stdout",
     "output_type": "stream",
     "text": [
      "File written to 'output/25GN2\\CHM_25GN2_12.TIF'\n",
      "\n",
      "Processed 25GN2_12.LAZ in 224.79 seconds and saved output to output/25GN2\\CHM_25GN2_12.TIF\n",
      "Deleted file: data/25GN2\\25GN2_12.LAZ\n"
     ]
    },
    {
     "name": "stderr",
     "output_type": "stream",
     "text": [
      "Processing files:  50%|█████     | 12/24 [27:20<37:05, 185.46s/file]"
     ]
    },
    {
     "name": "stdout",
     "output_type": "stream",
     "text": [
      "File written to 'output/25GN2\\CHM_25GN2_13.TIF'\n",
      "\n",
      "Processed 25GN2_13.LAZ in 237.99 seconds and saved output to output/25GN2\\CHM_25GN2_13.TIF\n",
      "Deleted file: data/25GN2\\25GN2_13.LAZ\n"
     ]
    },
    {
     "name": "stderr",
     "output_type": "stream",
     "text": [
      "Processing files:  54%|█████▍    | 13/24 [31:28<37:28, 204.40s/file]"
     ]
    },
    {
     "name": "stdout",
     "output_type": "stream",
     "text": [
      "File written to 'output/25GN2\\CHM_25GN2_14.TIF'\n",
      "\n",
      "Processed 25GN2_14.LAZ in 247.87 seconds and saved output to output/25GN2\\CHM_25GN2_14.TIF\n",
      "Deleted file: data/25GN2\\25GN2_14.LAZ\n"
     ]
    },
    {
     "name": "stderr",
     "output_type": "stream",
     "text": [
      "Processing files:  58%|█████▊    | 14/24 [34:31<32:59, 197.99s/file]"
     ]
    },
    {
     "name": "stdout",
     "output_type": "stream",
     "text": [
      "File written to 'output/25GN2\\CHM_25GN2_15.TIF'\n",
      "\n",
      "Processed 25GN2_15.LAZ in 183.11 seconds and saved output to output/25GN2\\CHM_25GN2_15.TIF\n",
      "Deleted file: data/25GN2\\25GN2_15.LAZ\n"
     ]
    },
    {
     "name": "stderr",
     "output_type": "stream",
     "text": [
      "Processing files:  62%|██████▎   | 15/24 [37:56<30:02, 200.23s/file]"
     ]
    },
    {
     "name": "stdout",
     "output_type": "stream",
     "text": [
      "File written to 'output/25GN2\\CHM_25GN2_16.TIF'\n",
      "\n",
      "Processed 25GN2_16.LAZ in 205.36 seconds and saved output to output/25GN2\\CHM_25GN2_16.TIF\n",
      "Deleted file: data/25GN2\\25GN2_16.LAZ\n"
     ]
    },
    {
     "name": "stderr",
     "output_type": "stream",
     "text": [
      "Processing files:  67%|██████▋   | 16/24 [40:34<24:59, 187.42s/file]"
     ]
    },
    {
     "name": "stdout",
     "output_type": "stream",
     "text": [
      "File written to 'output/25GN2\\CHM_25GN2_17.TIF'\n",
      "\n",
      "Processed 25GN2_17.LAZ in 157.61 seconds and saved output to output/25GN2\\CHM_25GN2_17.TIF\n",
      "Deleted file: data/25GN2\\25GN2_17.LAZ\n"
     ]
    },
    {
     "name": "stderr",
     "output_type": "stream",
     "text": [
      "Processing files:  71%|███████   | 17/24 [44:33<23:40, 203.00s/file]"
     ]
    },
    {
     "name": "stdout",
     "output_type": "stream",
     "text": [
      "File written to 'output/25GN2\\CHM_25GN2_18.TIF'\n",
      "\n",
      "Processed 25GN2_18.LAZ in 239.12 seconds and saved output to output/25GN2\\CHM_25GN2_18.TIF\n",
      "Deleted file: data/25GN2\\25GN2_18.LAZ\n"
     ]
    },
    {
     "name": "stderr",
     "output_type": "stream",
     "text": [
      "Processing files:  75%|███████▌  | 18/24 [50:08<24:15, 242.59s/file]"
     ]
    },
    {
     "name": "stdout",
     "output_type": "stream",
     "text": [
      "File written to 'output/25GN2\\CHM_25GN2_19.TIF'\n",
      "\n",
      "Processed 25GN2_19.LAZ in 334.76 seconds and saved output to output/25GN2\\CHM_25GN2_19.TIF\n",
      "Deleted file: data/25GN2\\25GN2_19.LAZ\n"
     ]
    },
    {
     "name": "stderr",
     "output_type": "stream",
     "text": [
      "Processing files:  79%|███████▉  | 19/24 [53:46<19:36, 235.26s/file]"
     ]
    },
    {
     "name": "stdout",
     "output_type": "stream",
     "text": [
      "File written to 'output/25GN2\\CHM_25GN2_20.TIF'\n",
      "\n",
      "Processed 25GN2_20.LAZ in 218.08 seconds and saved output to output/25GN2\\CHM_25GN2_20.TIF\n",
      "Deleted file: data/25GN2\\25GN2_20.LAZ\n"
     ]
    },
    {
     "name": "stderr",
     "output_type": "stream",
     "text": [
      "Processing files:  83%|████████▎ | 20/24 [56:52<14:42, 220.53s/file]"
     ]
    },
    {
     "name": "stdout",
     "output_type": "stream",
     "text": [
      "File written to 'output/25GN2\\CHM_25GN2_21.TIF'\n",
      "\n",
      "Processed 25GN2_21.LAZ in 186.15 seconds and saved output to output/25GN2\\CHM_25GN2_21.TIF\n",
      "Deleted file: data/25GN2\\25GN2_21.LAZ\n"
     ]
    },
    {
     "name": "stderr",
     "output_type": "stream",
     "text": [
      "Processing files:  88%|████████▊ | 21/24 [1:00:04<10:36, 212.05s/file]"
     ]
    },
    {
     "name": "stdout",
     "output_type": "stream",
     "text": [
      "File written to 'output/25GN2\\CHM_25GN2_22.TIF'\n",
      "\n",
      "Processed 25GN2_22.LAZ in 192.23 seconds and saved output to output/25GN2\\CHM_25GN2_22.TIF\n",
      "Deleted file: data/25GN2\\25GN2_22.LAZ\n"
     ]
    },
    {
     "name": "stderr",
     "output_type": "stream",
     "text": [
      "Processing files:  92%|█████████▏| 22/24 [1:05:31<08:12, 246.34s/file]"
     ]
    },
    {
     "name": "stdout",
     "output_type": "stream",
     "text": [
      "File written to 'output/25GN2\\CHM_25GN2_23.TIF'\n",
      "\n",
      "Processed 25GN2_23.LAZ in 326.30 seconds and saved output to output/25GN2\\CHM_25GN2_23.TIF\n",
      "Deleted file: data/25GN2\\25GN2_23.LAZ\n"
     ]
    },
    {
     "name": "stderr",
     "output_type": "stream",
     "text": [
      "Processing files:  96%|█████████▌| 23/24 [1:15:29<05:52, 352.03s/file]"
     ]
    },
    {
     "name": "stdout",
     "output_type": "stream",
     "text": [
      "File written to 'output/25GN2\\CHM_25GN2_24.TIF'\n",
      "\n",
      "Processed 25GN2_24.LAZ in 598.52 seconds and saved output to output/25GN2\\CHM_25GN2_24.TIF\n",
      "Deleted file: data/25GN2\\25GN2_24.LAZ\n"
     ]
    },
    {
     "name": "stderr",
     "output_type": "stream",
     "text": [
      "Processing files: 100%|██████████| 24/24 [1:20:18<00:00, 200.78s/file]"
     ]
    },
    {
     "name": "stdout",
     "output_type": "stream",
     "text": [
      "File written to 'output/25GN2\\CHM_25GN2_25.TIF'\n",
      "\n",
      "Processed 25GN2_25.LAZ in 288.69 seconds and saved output to output/25GN2\\CHM_25GN2_25.TIF\n",
      "Deleted file: data/25GN2\\25GN2_25.LAZ\n",
      "\n",
      "All files processed in 4818.64 seconds.\n"
     ]
    },
    {
     "name": "stderr",
     "output_type": "stream",
     "text": [
      "\n"
     ]
    }
   ],
   "execution_count": 18
  },
  {
   "metadata": {},
   "cell_type": "code",
   "outputs": [],
   "execution_count": null,
   "source": "",
   "id": "ddfc0fe29bfe7c5a"
  }
 ],
 "metadata": {
  "kernelspec": {
   "display_name": "Python 3",
   "language": "python",
   "name": "python3"
  },
  "language_info": {
   "codemirror_mode": {
    "name": "ipython",
    "version": 2
   },
   "file_extension": ".py",
   "mimetype": "text/x-python",
   "name": "python",
   "nbconvert_exporter": "python",
   "pygments_lexer": "ipython2",
   "version": "2.7.6"
  }
 },
 "nbformat": 4,
 "nbformat_minor": 5
}
