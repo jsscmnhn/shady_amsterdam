{
 "cells": [
  {
   "metadata": {
    "ExecuteTime": {
     "end_time": "2024-10-08T07:49:45.836435Z",
     "start_time": "2024-10-08T07:49:45.246238Z"
    }
   },
   "cell_type": "code",
   "source": [
    "import os\n",
    "import numpy as np\n",
    "import rasterio\n",
    "\n",
    "chm_folder = 'C:/Geomatics/data/25FZ1/'  # Update this to your folder path\n",
    "\n",
    "for filename in os.listdir(chm_folder):\n",
    "    if filename.endswith(\".tif\"): \n",
    "        chm_path = os.path.join(chm_folder, filename)\n",
    "\n",
    "        with rasterio.open(chm_path, 'r+') as chm:\n",
    "            chm_data = chm.read(1)  #\n",
    "            \n",
    "            if np.isnan(chm_data).any():\n",
    "                print(f\"NaN values found in {filename}. Replacing NaNs with 0.\")\n",
    "                \n",
    "                chm_data[np.isnan(chm_data)] = 0\n",
    "\n",
    "                chm.write(chm_data, 1) \n",
    "            else:\n",
    "                print(f\"No NaN values found in {filename}.\")\n",
    "                \n",
    "        print(f\"Finished processing {filename}.\")"
   ],
   "id": "bf4c920295564753",
   "outputs": [
    {
     "name": "stdout",
     "output_type": "stream",
     "text": [
      "NaN values found in CHM_25FZ1_06.tif. Replacing NaNs with 0.\n",
      "Finished processing CHM_25FZ1_06.tif.\n",
      "NaN values found in CHM_25FZ1_07.tif. Replacing NaNs with 0.\n",
      "Finished processing CHM_25FZ1_07.tif.\n",
      "NaN values found in CHM_25FZ1_08.tif. Replacing NaNs with 0.\n",
      "Finished processing CHM_25FZ1_08.tif.\n",
      "NaN values found in CHM_25FZ1_09.tif. Replacing NaNs with 0.\n",
      "Finished processing CHM_25FZ1_09.tif.\n",
      "No NaN values found in DSM_25FZ1_06.tif.\n",
      "Finished processing DSM_25FZ1_06.tif.\n",
      "No NaN values found in DSM_25FZ1_07.tif.\n",
      "Finished processing DSM_25FZ1_07.tif.\n",
      "No NaN values found in DSM_25FZ1_08.tif.\n",
      "Finished processing DSM_25FZ1_08.tif.\n",
      "No NaN values found in DSM_25FZ1_09.tif.\n",
      "Finished processing DSM_25FZ1_09.tif.\n"
     ]
    }
   ],
   "execution_count": 2
  }
 ],
 "metadata": {
  "kernelspec": {
   "display_name": "Python 3",
   "language": "python",
   "name": "python3"
  },
  "language_info": {
   "codemirror_mode": {
    "name": "ipython",
    "version": 2
   },
   "file_extension": ".py",
   "mimetype": "text/x-python",
   "name": "python",
   "nbconvert_exporter": "python",
   "pygments_lexer": "ipython2",
   "version": "2.7.6"
  }
 },
 "nbformat": 4,
 "nbformat_minor": 5
}
