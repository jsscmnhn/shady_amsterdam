{
 "cells": [
  {
   "cell_type": "code",
   "id": "initial_id",
   "metadata": {
    "collapsed": true,
    "ExecuteTime": {
     "end_time": "2024-10-07T15:28:39.479420Z",
     "start_time": "2024-10-07T15:28:37.787433Z"
    }
   },
   "source": [
    "import os\n",
    "import glob\n",
    "import re\n",
    "import geopandas as gpd\n",
    "import numpy as np\n",
    "import rasterio\n",
    "from shapely.geometry import mapping\n",
    "from rasterio.features import geometry_mask\n",
    "from scipy.interpolate import NearestNDInterpolator\n",
    "from functions import write_output\n",
    "import tqdm\n",
    "import startinpy\n",
    "import time\n",
    "from rasterio import Affine\n",
    "from concurrent.futures import ProcessPoolExecutor, as_completed"
   ],
   "outputs": [],
   "execution_count": 1
  },
  {
   "metadata": {
    "ExecuteTime": {
     "end_time": "2024-10-07T15:28:39.506321Z",
     "start_time": "2024-10-07T15:28:39.489943Z"
    }
   },
   "cell_type": "code",
   "source": [
    "def get_bbox(raster_paths):\n",
    "    bboxes = []\n",
    "    for raster_path in raster_paths:\n",
    "        with rasterio.open(raster_path) as src:\n",
    "            bbox = src.bounds\n",
    "            bboxes.append(bbox)\n",
    "    left = max([bbox.left for bbox in bboxes])\n",
    "    bottom = max([bbox.bottom for bbox in bboxes])\n",
    "    right = min([bbox.right for bbox in bboxes])\n",
    "    top = min([bbox.top for bbox in bboxes])\n",
    "    return rasterio.coords.BoundingBox(left, bottom, right, top)\n",
    "\n",
    "def crop_raster(raster_path, bbox, no_data=-9999, file_number=None, tile=None):\n",
    "    with rasterio.open(raster_path) as src:\n",
    "        window = src.window(bbox.left, bbox.bottom, bbox.right, bbox.top)\n",
    "\n",
    "        # Read the data for the specified window\n",
    "        cropped_data = src.read(window=window)\n",
    "\n",
    "        # Ensure window attributes are integers (sometimes bbox in float)\n",
    "        row_off = int(window.row_off)\n",
    "        col_off = int(window.col_off)\n",
    "        height = int(window.height)\n",
    "        width = int(window.width)\n",
    "\n",
    "        # Replace no-data values in the data\n",
    "        if src.nodata is not None:\n",
    "            cropped_data[cropped_data == src.nodata] = no_data\n",
    "\n",
    "        # Check for specific tile conditions for cropping\n",
    "        if tile == \"25DN2\" and file_number in [\"25\", \"24\"]:\n",
    "            cropped_data = cropped_data[:, :2150, :]  \n",
    "\n",
    "        return cropped_data, src.window_transform(window), src.crs\n",
    "    \n",
    "def extract_center_cells(cropped_data, no_data=-9999):\n",
    "    # Get coordinates of center cells\n",
    "    cropped_data = cropped_data[0, :, :]\n",
    "\n",
    "    # Get the indices of the rows and columns\n",
    "    rows, cols = np.indices(cropped_data.shape)\n",
    "\n",
    "    # Identify corner coordinates\n",
    "    corners = {\n",
    "        \"top_left\": (0, 0),\n",
    "        \"top_right\": (0, cropped_data.shape[1] - 1),\n",
    "        \"bottom_left\": (cropped_data.shape[0] - 1, 0),\n",
    "        \"bottom_right\": (cropped_data.shape[0] - 1, cropped_data.shape[1] - 1)\n",
    "    }\n",
    "    \n",
    "    # Mask for valid center cells (non-no_data)\n",
    "    valid_center_cells = (cropped_data != no_data) \n",
    "\n",
    "    # Extract x, y, z values for valid cells\n",
    "    x_valid = cols[valid_center_cells]\n",
    "    y_valid = rows[valid_center_cells]\n",
    "    z_valid = cropped_data[valid_center_cells]\n",
    "\n",
    "    # Create interpolator from valid points\n",
    "    interpolator = NearestNDInterpolator(list(zip(x_valid, y_valid)), z_valid)\n",
    "\n",
    "    # Check each corner for no data and interpolate if necessary\n",
    "    for corner_name, (row, col) in corners.items():\n",
    "        if cropped_data[row, col] == no_data:\n",
    "            # Interpolate the nearest valid value\n",
    "            cropped_data[row, col] = interpolator((col, row))\n",
    "\n",
    "    # Extract non-no_data and center cells again after filling corners\n",
    "    valid_center_cells = (cropped_data != no_data)\n",
    "\n",
    "    # Extract final x, y, z values after filling corners\n",
    "    x_filled = cols[valid_center_cells]\n",
    "    y_filled = rows[valid_center_cells]\n",
    "    z_filled = cropped_data[valid_center_cells]\n",
    "\n",
    "    # Prepare final list of [x, y, z]\n",
    "    xyz_filled = []\n",
    "    for x_i, y_i, z_i in zip(x_filled, y_filled, z_filled):\n",
    "        xyz_filled.append([x_i, y_i, z_i])\n",
    "\n",
    "    return xyz_filled\n",
    "\n",
    "\n",
    "def fill_raster(cropped_data, nodata_value, transform):\n",
    "    # creating delaunay\n",
    "    points = extract_center_cells(cropped_data, no_data=nodata_value)\n",
    "    dt = startinpy.DT()\n",
    "    dt.insert(points, \"BBox\")\n",
    "    print(\"dt\")\n",
    "\n",
    "    # now interpolation\n",
    "    new_data = np.copy(cropped_data)\n",
    "\n",
    "    # for interpolation, grid of all column and row positions, excluding the first and last rows/cols\n",
    "    cols, rows = np.meshgrid(\n",
    "        np.arange(1, cropped_data.shape[2] - 1),\n",
    "        np.arange(1, cropped_data.shape[1] - 1)\n",
    "\n",
    "    )\n",
    "\n",
    "    # flatten the grid to get a list of all (col, row) locations\n",
    "    locs = np.column_stack((cols.ravel(), rows.ravel()))\n",
    "\n",
    "    # laplace interpolation\n",
    "    interpolated_values = dt.interpolate({\"method\": \"Laplace\"}, locs)\n",
    "\n",
    "    # reshape interpolated grid back to og\n",
    "    interpolated_grid = np.reshape(interpolated_values, (cropped_data.shape[1] - 2, cropped_data.shape[2] - 2))\n",
    "\n",
    "    # fill new_data with interpolated values\n",
    "    new_data[0, 1:-1, 1:-1] = interpolated_grid\n",
    "    new_data = np.where(np.isnan(new_data), nodata_value, new_data)\n",
    "    \n",
    "    new_transform = transform * Affine.translation(1, 1)\n",
    "\n",
    "    return new_data[0, 1:-1, 1:-1], new_transform\n",
    "\n",
    "def chm_finish(chm_array, dtm_array, transform):\n",
    "    result_array = chm_array[0, 1:-1, 1:-1] - dtm_array\n",
    "    result_array[(result_array < 2) | (result_array > 40)] = 0\n",
    "    \n",
    "    new_transform = transform * Affine.translation(1, 1)\n",
    "\n",
    "    return result_array, new_transform\n",
    "\n",
    "def replace_buildings(filled_dtm, dsm_buildings, buildings_geometries, transform, nodata_value=-9999):\n",
    "\n",
    "    building_mask = geometry_mask(buildings_geometries, transform=transform, invert=False, out_shape=filled_dtm.shape)\n",
    "\n",
    "    # Apply the mask to the filled DTM\n",
    "    final_dtm = np.where((building_mask), filled_dtm, dsm_buildings)\n",
    "\n",
    "    return final_dtm\n",
    "\n",
    "\n",
    "def load_buildings(buildings_path, layer):\n",
    "     buildings_gdf = gpd.read_file(buildings_path, layer = layer)\n",
    "     return [mapping(geom) for geom in buildings_gdf.geometry]\n",
    "\n",
    "def extract_tilename(filename):\n",
    "    match = re.match(r'CHM_(\\w+)_\\d+\\.TIF', filename)\n",
    "    if match:\n",
    "        return match.group(1)\n",
    "    return None"
   ],
   "id": "93ef9ed6fb1716fe",
   "outputs": [],
   "execution_count": 2
  },
  {
   "metadata": {
    "ExecuteTime": {
     "end_time": "2024-10-07T15:42:00.599507Z",
     "start_time": "2024-10-07T15:42:00.589791Z"
    }
   },
   "cell_type": "code",
   "source": [
    "def process_single_file(chm_path, dtm_path, dsm_path, buildings_path, output_base_folder, nodata_value=-9999):\n",
    "    \"\"\"Process a single CHM file.\"\"\"\n",
    "    chm_filename = os.path.basename(chm_path)\n",
    "    tile = extract_tilename(chm_filename)\n",
    "\n",
    "    if not tile:\n",
    "        print(f\"Skipping {chm_filename}, couldn't extract common part.\")\n",
    "        return\n",
    "\n",
    "    # building geometry loaded once\n",
    "    building_geometries = load_buildings(buildings_path, layer=tile)\n",
    "\n",
    "    # output folder for tile\n",
    "    output_folder = os.path.join(output_base_folder, tile)\n",
    "    os.makedirs(output_folder, exist_ok=True)\n",
    "\n",
    "    # overlap BBOX dtm, dsm & chm\n",
    "    raster_paths = [dtm_path, chm_path, dsm_path]\n",
    "    overlapping_bbox = get_bbox(raster_paths)\n",
    "\n",
    "    # Cropping rasters to bbox\n",
    "    dtm_cropped, dtm_transform, dtm_crs = crop_raster(dtm_path, overlapping_bbox, no_data=nodata_value, tile=tile)\n",
    "    dsm_cropped, dsm_transform, dsm_crs = crop_raster(dsm_path, overlapping_bbox, no_data=nodata_value, tile=tile)\n",
    "    chm_cropped, chm_transform, _ = crop_raster(chm_path, overlapping_bbox, no_data=nodata_value, tile=tile)\n",
    "\n",
    "    # Fill no data values\n",
    "    filled_dtm, _ = fill_raster(dtm_cropped, nodata_value, dtm_transform)\n",
    "    filled_dsm, new_dsm_transform = fill_raster(dsm_cropped, nodata_value, dsm_transform)\n",
    "    chm_result, new_chm_transform = chm_finish(chm_cropped, filled_dtm, chm_transform)\n",
    "    final_dsm_with_buildings = replace_buildings(filled_dtm, filled_dsm, building_geometries, new_dsm_transform, nodata_value)\n",
    "\n",
    "    # Saving final DTM + buildings\n",
    "    file_number_match = re.search(r'_(\\d+)\\.TIF', chm_filename)\n",
    "    file_number = file_number_match.group(1) if file_number_match else \"unknown\"\n",
    "\n",
    "    output_dtm_filename = f\"DSM_{tile}_{file_number}.tif\"\n",
    "    output_chm_filename = f\"CHM_{tile}_{file_number}.tif\"\n",
    "\n",
    "    output_dtm_path = os.path.join(output_folder, output_dtm_filename)\n",
    "    output_chm_path = os.path.join(output_folder, output_chm_filename)\n",
    "\n",
    "    write_output(rasterio.open(dtm_path), final_dsm_with_buildings, new_dsm_transform, output_dtm_path, True)\n",
    "    write_output(rasterio.open(chm_path), chm_result, new_chm_transform, output_chm_path, True)\n",
    "\n",
    "    print(f\"Processed {chm_filename} and saved output to {output_dtm_filename} and {output_chm_filename}\")\n",
    "\n",
    "def process_files_in_parallel(chm_files, dtm_path, dsm_path, buildings_path, output_base_folder, nodata_value=-9999):\n",
    "    \"\"\"Process all CHM files in parallel.\"\"\"\n",
    "    with ProcessPoolExecutor(max_workers=2) as executor:\n",
    "        futures = {executor.submit(process_single_file, chm_path, dtm_path, dsm_path, buildings_path, output_base_folder, nodata_value): chm_path for chm_path in chm_files}\n",
    "        for future in tqdm.tqdm(as_completed(futures), total=len(futures), desc=\"Processing Files\"):\n",
    "            chm_path = futures[future]\n",
    "            try:\n",
    "                future.result()  # This will raise exceptions if any occurred\n",
    "            except Exception as e:\n",
    "                print(f\"Error processing {chm_path}: {e}\")\n"
   ],
   "id": "8e78f9f636f9c8b8",
   "outputs": [],
   "execution_count": 10
  },
  {
   "metadata": {
    "ExecuteTime": {
     "end_time": "2024-10-07T15:42:02.120173Z",
     "start_time": "2024-10-07T15:42:02.116669Z"
    }
   },
   "cell_type": "code",
   "source": [
    "geotiff_dtm = \"data/DTM_ams.tif\"\n",
    "geotiff_dsm = \"data/DSM_ams.tif\"\n",
    "buildings = \"data/ams_buildings.gpkg\""
   ],
   "id": "7d7be5836f627cbe",
   "outputs": [],
   "execution_count": 11
  },
  {
   "metadata": {
    "ExecuteTime": {
     "end_time": "2024-10-07T15:42:03.920619Z",
     "start_time": "2024-10-07T15:42:03.815530Z"
    }
   },
   "cell_type": "code",
   "source": [
    "if __name__ == \"__main__\":\n",
    "    chm_folder = \"F:/SA/JESSICA/CHM/25DN2\"\n",
    "    output_base_folder = \"F:/SA/JESSICA/final\"\n",
    "    \n",
    "    chm_files = glob.glob(os.path.join(chm_folder, \"*.TIF\"))\n",
    "    process_files_in_parallel(chm_files, geotiff_dtm, geotiff_dsm, buildings, output_base_folder)"
   ],
   "id": "41e2a8f29b19d471",
   "outputs": [
    {
     "name": "stderr",
     "output_type": "stream",
     "text": [
      "Processing Files: 100%|██████████| 3/3 [00:00<00:00, 34.08it/s]"
     ]
    },
    {
     "name": "stdout",
     "output_type": "stream",
     "text": [
      "Error processing F:/SA/JESSICA/CHM/25DN2\\CHM_25DN2_01.TIF: A process in the process pool was terminated abruptly while the future was running or pending.\n",
      "Error processing F:/SA/JESSICA/CHM/25DN2\\CHM_25DN2_02.TIF: A process in the process pool was terminated abruptly while the future was running or pending.\n",
      "Error processing F:/SA/JESSICA/CHM/25DN2\\CHM_25DN2_03.TIF: A process in the process pool was terminated abruptly while the future was running or pending.\n"
     ]
    },
    {
     "name": "stderr",
     "output_type": "stream",
     "text": [
      "Traceback (most recent call last):\n",
      "  File \"C:\\Users\\vrlab\\anaconda3\\envs\\synthesis\\Lib\\multiprocessing\\queues.py\", line 246, in _feed\n",
      "    send_bytes(obj)\n",
      "  File \"C:\\Users\\vrlab\\anaconda3\\envs\\synthesis\\Lib\\multiprocessing\\connection.py\", line 184, in send_bytes\n",
      "    self._check_closed()\n",
      "  File \"C:\\Users\\vrlab\\anaconda3\\envs\\synthesis\\Lib\\multiprocessing\\connection.py\", line 137, in _check_closed\n",
      "    raise OSError(\"handle is closed\")\n",
      "OSError: handle is closed\n",
      "\n"
     ]
    }
   ],
   "execution_count": 12
  },
  {
   "metadata": {
    "ExecuteTime": {
     "end_time": "2024-10-07T15:41:55.133135Z",
     "start_time": "2024-10-07T15:40:37.558282Z"
    }
   },
   "cell_type": "code",
   "source": "process_single_file(\"F:/SA/JESSICA/CHM/25DN2/CHM_25DN2_01.TIF\", geotiff_dtm, geotiff_dsm, \"data/ams_buildings.gpkg\",  \"F:/SA/JESSICA/final\", nodata_value=-9999)",
   "id": "32cb36ebbb7b08a5",
   "outputs": [
    {
     "name": "stdout",
     "output_type": "stream",
     "text": [
      "dt\n"
     ]
    },
    {
     "ename": "KeyboardInterrupt",
     "evalue": "",
     "output_type": "error",
     "traceback": [
      "\u001B[1;31m---------------------------------------------------------------------------\u001B[0m",
      "\u001B[1;31mKeyboardInterrupt\u001B[0m                         Traceback (most recent call last)",
      "Cell \u001B[1;32mIn[9], line 1\u001B[0m\n\u001B[1;32m----> 1\u001B[0m process_single_file(\u001B[38;5;124m\"\u001B[39m\u001B[38;5;124mF:/SA/JESSICA/CHM/25DN2/CHM_25DN2_01.TIF\u001B[39m\u001B[38;5;124m\"\u001B[39m, geotiff_dtm, geotiff_dsm, \u001B[38;5;124m\"\u001B[39m\u001B[38;5;124mdata/ams_buildings.gpkg\u001B[39m\u001B[38;5;124m\"\u001B[39m,  \u001B[38;5;124m\"\u001B[39m\u001B[38;5;124mF:/SA/JESSICA/final\u001B[39m\u001B[38;5;124m\"\u001B[39m, nodata_value\u001B[38;5;241m=\u001B[39m\u001B[38;5;241m-\u001B[39m\u001B[38;5;241m9999\u001B[39m)\n",
      "Cell \u001B[1;32mIn[3], line 27\u001B[0m, in \u001B[0;36mprocess_single_file\u001B[1;34m(chm_path, dtm_path, dsm_path, buildings_path, output_base_folder, nodata_value)\u001B[0m\n\u001B[0;32m     24\u001B[0m chm_cropped, chm_transform, _ \u001B[38;5;241m=\u001B[39m crop_raster(chm_path, overlapping_bbox, no_data\u001B[38;5;241m=\u001B[39mnodata_value, tile\u001B[38;5;241m=\u001B[39mtile)\n\u001B[0;32m     26\u001B[0m \u001B[38;5;66;03m# Fill no data values\u001B[39;00m\n\u001B[1;32m---> 27\u001B[0m filled_dtm, _ \u001B[38;5;241m=\u001B[39m fill_raster(dtm_cropped, nodata_value, dtm_transform)\n\u001B[0;32m     28\u001B[0m filled_dsm, new_dsm_transform \u001B[38;5;241m=\u001B[39m fill_raster(dsm_cropped, nodata_value, dsm_transform)\n\u001B[0;32m     29\u001B[0m chm_result, new_chm_transform \u001B[38;5;241m=\u001B[39m chm_finish(chm_cropped, filled_dtm, chm_transform)\n",
      "Cell \u001B[1;32mIn[2], line 108\u001B[0m, in \u001B[0;36mfill_raster\u001B[1;34m(cropped_data, nodata_value, transform)\u001B[0m\n\u001B[0;32m    105\u001B[0m interpolated_values \u001B[38;5;241m=\u001B[39m dt\u001B[38;5;241m.\u001B[39minterpolate({\u001B[38;5;124m\"\u001B[39m\u001B[38;5;124mmethod\u001B[39m\u001B[38;5;124m\"\u001B[39m: \u001B[38;5;124m\"\u001B[39m\u001B[38;5;124mLaplace\u001B[39m\u001B[38;5;124m\"\u001B[39m}, locs)\n\u001B[0;32m    107\u001B[0m \u001B[38;5;66;03m# reshape interpolated grid back to og\u001B[39;00m\n\u001B[1;32m--> 108\u001B[0m interpolated_grid \u001B[38;5;241m=\u001B[39m np\u001B[38;5;241m.\u001B[39mreshape(interpolated_values, (cropped_data\u001B[38;5;241m.\u001B[39mshape[\u001B[38;5;241m1\u001B[39m] \u001B[38;5;241m-\u001B[39m \u001B[38;5;241m2\u001B[39m, cropped_data\u001B[38;5;241m.\u001B[39mshape[\u001B[38;5;241m2\u001B[39m] \u001B[38;5;241m-\u001B[39m \u001B[38;5;241m2\u001B[39m))\n\u001B[0;32m    110\u001B[0m \u001B[38;5;66;03m# fill new_data with interpolated values\u001B[39;00m\n\u001B[0;32m    111\u001B[0m new_data[\u001B[38;5;241m0\u001B[39m, \u001B[38;5;241m1\u001B[39m:\u001B[38;5;241m-\u001B[39m\u001B[38;5;241m1\u001B[39m, \u001B[38;5;241m1\u001B[39m:\u001B[38;5;241m-\u001B[39m\u001B[38;5;241m1\u001B[39m] \u001B[38;5;241m=\u001B[39m interpolated_grid\n",
      "File \u001B[1;32m~\\anaconda3\\envs\\synthesis\\Lib\\site-packages\\numpy\\core\\fromnumeric.py:195\u001B[0m, in \u001B[0;36m_reshape_dispatcher\u001B[1;34m(a, newshape, order)\u001B[0m\n\u001B[0;32m     97\u001B[0m \u001B[38;5;250m    \u001B[39m\u001B[38;5;124;03m\"\"\"\u001B[39;00m\n\u001B[0;32m     98\u001B[0m \u001B[38;5;124;03m    Take elements from an array along an axis.\u001B[39;00m\n\u001B[0;32m     99\u001B[0m \n\u001B[1;32m   (...)\u001B[0m\n\u001B[0;32m    190\u001B[0m \u001B[38;5;124;03m           [5, 7]])\u001B[39;00m\n\u001B[0;32m    191\u001B[0m \u001B[38;5;124;03m    \"\"\"\u001B[39;00m\n\u001B[0;32m    192\u001B[0m     \u001B[38;5;28;01mreturn\u001B[39;00m _wrapfunc(a, \u001B[38;5;124m'\u001B[39m\u001B[38;5;124mtake\u001B[39m\u001B[38;5;124m'\u001B[39m, indices, axis\u001B[38;5;241m=\u001B[39maxis, out\u001B[38;5;241m=\u001B[39mout, mode\u001B[38;5;241m=\u001B[39mmode)\n\u001B[1;32m--> 195\u001B[0m \u001B[38;5;28;01mdef\u001B[39;00m \u001B[38;5;21m_reshape_dispatcher\u001B[39m(a, newshape, order\u001B[38;5;241m=\u001B[39m\u001B[38;5;28;01mNone\u001B[39;00m):\n\u001B[0;32m    196\u001B[0m     \u001B[38;5;28;01mreturn\u001B[39;00m (a,)\n\u001B[0;32m    199\u001B[0m \u001B[38;5;66;03m# not deprecated --- copy if necessary, view otherwise\u001B[39;00m\n",
      "\u001B[1;31mKeyboardInterrupt\u001B[0m: "
     ]
    }
   ],
   "execution_count": 9
  }
 ],
 "metadata": {
  "kernelspec": {
   "display_name": "Python 3",
   "language": "python",
   "name": "python3"
  },
  "language_info": {
   "codemirror_mode": {
    "name": "ipython",
    "version": 2
   },
   "file_extension": ".py",
   "mimetype": "text/x-python",
   "name": "python",
   "nbconvert_exporter": "python",
   "pygments_lexer": "ipython2",
   "version": "2.7.6"
  }
 },
 "nbformat": 4,
 "nbformat_minor": 5
}
