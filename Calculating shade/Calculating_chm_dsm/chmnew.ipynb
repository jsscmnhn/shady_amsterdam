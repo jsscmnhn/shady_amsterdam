{
 "cells": [
  {
   "cell_type": "code",
   "id": "initial_id",
   "metadata": {
    "collapsed": true,
    "ExecuteTime": {
     "end_time": "2024-10-06T08:06:05.083183Z",
     "start_time": "2024-10-06T08:06:02.651293Z"
    }
   },
   "source": [
    "import cProfile\n",
    "import io\n",
    "import os\n",
    "from venv import create\n",
    "\n",
    "import requests\n",
    "import pstats\n",
    "\n",
    "import numpy as np\n",
    "from laspy import LasData\n",
    "\n",
    "import functions\n",
    "from scipy.spatial import cKDTree \n",
    "from scipy.interpolate import griddata\n",
    "import startinpy\n"
   ],
   "outputs": [],
   "execution_count": 1
  },
  {
   "cell_type": "code",
   "source": [
    "import laspy\n",
    "import numpy as np\n",
    "\n",
    "def extract_vegetation_points(LasData, ndvi_threshold=0.1):\n",
    "    \"\"\"\n",
    "    Extract vegetation points based on classification and NDVI threshold.\n",
    "    \n",
    "    Parameters:\n",
    "    - LasData (laspy.LasData): Input point cloud data.\n",
    "    - ndvi_threshold (float): The NDVI threshold to classify vegetation.\n",
    "    \n",
    "    Returns:\n",
    "    - veg_points (laspy.LasData): Filtered vegetation points as a new LasData object.\n",
    "    \"\"\"\n",
    "    \n",
    "    # Filter points based on classification (vegetation-related classes)\n",
    "    possible_vegetation_points = LasData[(LasData.classification == 1) |  # Unclassified\n",
    "                                         (LasData.classification == 3) |  # Low vegetation\n",
    "                                         (LasData.classification == 4) |  # Medium vegetation\n",
    "                                         (LasData.classification == 5)]   # High vegetation\n",
    "\n",
    "    # Calculate NDVI\n",
    "    red = possible_vegetation_points.red\n",
    "    nir = possible_vegetation_points.nir\n",
    "    ndvi = (nir.astype(float) - red) / (nir + red)\n",
    "\n",
    "    # Filter the points whose NDVI is greater than the threshold\n",
    "    veg_points = possible_vegetation_points[ndvi > ndvi_threshold]\n",
    "\n",
    "    return veg_points\n",
    "\n",
    "def save_vegetation_points_as_las(LasData, output_file, veg_points, ndvi_threshold=0.1):\n",
    "    \"\"\"\n",
    "    Extract vegetation points and save them as a new LAS file.\n",
    "    \n",
    "    Parameters:\n",
    "    - LasData (laspy.LasData): Input point cloud data.\n",
    "    - output_file (str): Path to the output LAS file.\n",
    "    - ndvi_threshold (float): NDVI threshold for vegetation points.\n",
    "    \n",
    "    Returns:\n",
    "    - None\n",
    "    \"\"\"\n",
    "    # Extract vegetation points\n",
    "    \n",
    "    # Check if any points were filtered\n",
    "    if len(veg_points) == 0:\n",
    "        print(\"No vegetation points found with the given NDVI threshold.\")\n",
    "        return\n",
    "    \n",
    "    # Create a new LasData object for the vegetation points\n",
    "    veg_las_data = laspy.LasData(LasData.header)\n",
    "    veg_las_data.points = veg_points.points  # Assign the filtered vegetation points\n",
    "\n",
    "    # Save the vegetation points to a new LAS file\n",
    "    with laspy.open(output_file, mode=\"w\", header=veg_las_data.header) as writer:\n",
    "        writer.write_points(veg_las_data.points)\n",
    "    \n",
    "    print(f\"Vegetation points saved to {output_file}\")\n",
    "\n",
    "\n",
    "file_path = \"data/25GN2/25GN2_12.LAZ\"\n",
    "output_las = \"data/output_vegetation_newest.las\""
   ],
   "metadata": {
    "collapsed": false,
    "ExecuteTime": {
     "end_time": "2024-10-05T11:56:24.857594Z",
     "start_time": "2024-10-05T11:56:23.952103Z"
    }
   },
   "id": "2f57e08f5377567",
   "outputs": [],
   "execution_count": 1
  },
  {
   "metadata": {},
   "cell_type": "code",
   "source": [
    "import numpy as np\n",
    "import laspy\n",
    "\n",
    "def extract_lasData(LasData, ndvi_threshold=0.1):\n",
    "    red = LasData.red\n",
    "    nir = LasData.nir\n",
    "    ndvi = (nir.astype(float) - red) / (nir + red)\n",
    "\n",
    "    # Add NDVI as a new dimension/attribute to all points\n",
    "    if 'NDVI' not in LasData.point_format.dimension_names:\n",
    "        # Create an array to store NDVI values for all points\n",
    "        ndvi_dim = np.zeros(LasData.header.point_count, dtype=np.float32)\n",
    "        ndvi_dim = ndvi  # Assign NDVI values for all points\n",
    "\n",
    "        # Add this new dimension to LasData\n",
    "        LasData.add_extra_dim(laspy.ExtraBytesParams(name=\"NDVI\", type=np.float32))\n",
    "        LasData['NDVI'] = ndvi_dim  # Store NDVI for all points\n",
    "\n",
    "    # Filter points based on classification (vegetation-related classes)\n",
    "    possible_vegetation_points = LasData[(LasData.classification == 1) |  # Unclassified\n",
    "                                         (LasData.classification == 3) |  # Low vegetation\n",
    "                                         (LasData.classification == 4) |  # Medium vegetation\n",
    "                                         (LasData.classification == 5)]   # High vegetation\n",
    "\n",
    "\n",
    "    return LasData"
   ],
   "id": "868cbb33e221d75c",
   "outputs": [],
   "execution_count": null
  },
  {
   "cell_type": "code",
   "source": [
    "with laspy.open(file_path, laz_backend=laspy.LazBackend.Lazrs) as las_file:\n",
    "    las_data = las_file.read()\n",
    "\n",
    "veg_points = extract_vegetation_points(las_data, ndvi_threshold=0.0)"
   ],
   "metadata": {
    "collapsed": false,
    "ExecuteTime": {
     "end_time": "2024-10-05T11:57:39.518643Z",
     "start_time": "2024-10-05T11:56:44.396386Z"
    }
   },
   "id": "f698209d33d2b328",
   "outputs": [],
   "execution_count": 3
  },
  {
   "cell_type": "code",
   "source": "las_data.header.mins",
   "metadata": {
    "collapsed": false,
    "ExecuteTime": {
     "end_time": "2024-10-05T12:11:16.247812Z",
     "start_time": "2024-10-05T12:11:16.232026Z"
    }
   },
   "id": "97f3eda85ddb3e8e",
   "outputs": [
    {
     "data": {
      "text/plain": [
       "array([ 1.2598e+05,  4.8373e+05, -5.4670e+00])"
      ]
     },
     "execution_count": 6,
     "metadata": {},
     "output_type": "execute_result"
    }
   ],
   "execution_count": 6
  },
  {
   "metadata": {
    "ExecuteTime": {
     "end_time": "2024-10-05T12:13:33.203654Z",
     "start_time": "2024-10-05T12:13:32.031933Z"
    }
   },
   "cell_type": "code",
   "source": [
    "min_x, max_x = round(las_data.x.min()), round(las_data.x.max())\n",
    "min_y, max_y = round(las_data.y.min()), round(las_data.y.max())\n",
    "\n",
    "# Define size of the region\n",
    "x_length = max_x - min_x\n",
    "y_length = max_y - min_y"
   ],
   "id": "e934e680fb38f948",
   "outputs": [],
   "execution_count": 7
  },
  {
   "metadata": {
    "ExecuteTime": {
     "end_time": "2024-10-05T12:16:16.481258Z",
     "start_time": "2024-10-05T12:16:15.515906Z"
    }
   },
   "cell_type": "code",
   "source": "veg_points.xyz",
   "id": "d0c819b3b96bd541",
   "outputs": [
    {
     "data": {
      "text/plain": [
       "array([[1.25999463e+05, 4.83730062e+05, 1.37900000e+00],\n",
       "       [1.25999147e+05, 4.83730237e+05, 1.41600000e+00],\n",
       "       [1.25999136e+05, 4.83730003e+05, 1.42600000e+00],\n",
       "       ...,\n",
       "       [1.27002546e+05, 4.85014363e+05, 1.89900000e+00],\n",
       "       [1.27002497e+05, 4.85014584e+05, 2.21000000e+00],\n",
       "       [1.27002423e+05, 4.85014274e+05, 2.04800000e+00]])"
      ]
     },
     "execution_count": 14,
     "metadata": {},
     "output_type": "execute_result"
    }
   ],
   "execution_count": 14
  },
  {
   "metadata": {
    "ExecuteTime": {
     "end_time": "2024-10-05T12:16:31.823987Z",
     "start_time": "2024-10-05T12:16:30.980205Z"
    }
   },
   "cell_type": "code",
   "source": "points_list = np.array(veg_points.xyz)",
   "id": "7ab169c631081eb",
   "outputs": [],
   "execution_count": 15
  },
  {
   "metadata": {
    "ExecuteTime": {
     "end_time": "2024-10-05T12:17:41.289895Z",
     "start_time": "2024-10-05T12:17:40.055910Z"
    }
   },
   "cell_type": "code",
   "source": [
    "min_x, max_x = round(las_data.x.min()), round(las_data.x.max())\n",
    "min_y, max_y = round(las_data.y.min()), round(las_data.y.max())\n",
    "\n",
    "bounding_box_points = np.array([\n",
    "    [min_x, min_y, 0],  # Bottom-left corner\n",
    "    [min_x, max_y, 0],  # Top-left corner\n",
    "    [max_x, min_y, 0],  # Bottom-right corner\n",
    "    [max_x, max_y, 0]   # Top-right corner\n",
    "])\n",
    "\n",
    "updated_points_list = np.concatenate((points_list, bounding_box_points), axis=0)\n"
   ],
   "id": "cc05a348bd4ede79",
   "outputs": [],
   "execution_count": 16
  },
  {
   "metadata": {
    "ExecuteTime": {
     "end_time": "2024-10-05T12:20:02.463872Z",
     "start_time": "2024-10-05T12:20:02.445534Z"
    }
   },
   "cell_type": "code",
   "source": "import startinpy",
   "id": "56ee14e2f4787ef8",
   "outputs": [],
   "execution_count": 17
  },
  {
   "metadata": {
    "ExecuteTime": {
     "end_time": "2024-10-05T12:20:16.075910Z",
     "start_time": "2024-10-05T12:20:16.063607Z"
    }
   },
   "cell_type": "code",
   "source": "dt = startinpy.DT()",
   "id": "965e000195373659",
   "outputs": [],
   "execution_count": 18
  },
  {
   "metadata": {
    "ExecuteTime": {
     "end_time": "2024-10-05T12:21:18.290328Z",
     "start_time": "2024-10-05T12:20:33.297290Z"
    }
   },
   "cell_type": "code",
   "source": "dt.insert(updated_points_list, \"BBox\")",
   "id": "c743a895bae18d1d",
   "outputs": [],
   "execution_count": 19
  },
  {
   "metadata": {
    "ExecuteTime": {
     "end_time": "2024-10-05T12:23:31.035919Z",
     "start_time": "2024-10-05T12:23:31.029955Z"
    }
   },
   "cell_type": "code",
   "source": "dt2 = startinpy.DT()",
   "id": "d74dbeca2c78bca7",
   "outputs": [],
   "execution_count": 21
  },
  {
   "metadata": {
    "ExecuteTime": {
     "end_time": "2024-10-05T12:24:27.210022Z",
     "start_time": "2024-10-05T12:23:31.062940Z"
    }
   },
   "cell_type": "code",
   "source": "dt2.insert(veg_points.xyz)",
   "id": "cd6f44134cd65956",
   "outputs": [],
   "execution_count": 22
  },
  {
   "metadata": {
    "ExecuteTime": {
     "end_time": "2024-10-05T12:24:48.206811Z",
     "start_time": "2024-10-05T12:24:48.191098Z"
    }
   },
   "cell_type": "code",
   "source": "dt3 = startinpy.DT()",
   "id": "13308cba4a30167e",
   "outputs": [],
   "execution_count": 23
  },
  {
   "metadata": {
    "ExecuteTime": {
     "end_time": "2024-10-05T12:26:22.829760Z",
     "start_time": "2024-10-05T12:25:32.656499Z"
    }
   },
   "cell_type": "code",
   "source": "dt3.insert(veg_points.xyz, \"BBox\")",
   "id": "bc52314938f59093",
   "outputs": [],
   "execution_count": 25
  },
  {
   "metadata": {},
   "cell_type": "code",
   "outputs": [],
   "execution_count": null,
   "source": "",
   "id": "ec7deca6354b746e"
  },
  {
   "metadata": {
    "ExecuteTime": {
     "end_time": "2024-10-05T12:23:16.704753Z",
     "start_time": "2024-10-05T12:21:47.578817Z"
    }
   },
   "cell_type": "code",
   "source": [
    "import matplotlib.pyplot as plt\n",
    "pts = dt.points\n",
    "trs = dt.triangles\n",
    "\n",
    "# Create a new figure with a specified size (width, height) in inches\n",
    "plt.figure(figsize=(20, 25))  # Adjust the size as needed\n",
    "\n",
    "# Plot the triangles\n",
    "plt.triplot(pts[:, 0], pts[:, 1], trs)\n",
    "\n",
    "# Plot the points, skipping the vertex \"0\"\n",
    "# plt.plot(pts[1:, 0], pts[1:, 1], 'o')\n",
    "\n",
    "# Show the plot\n",
    "plt.show()"
   ],
   "id": "a2dfab268a6259cf",
   "outputs": [
    {
     "ename": "OverflowError",
     "evalue": "Exceeded cell block limit in Agg.  Please set the value of rcParams['agg.path.chunksize'], (currently 0) to be greater than 100 or increase the path simplification threshold(rcParams['path.simplify_threshold'] = 0.111111111111 by default and path.simplify_threshold = 0.111111111111 on the input).",
     "output_type": "error",
     "traceback": [
      "\u001B[1;31m---------------------------------------------------------------------------\u001B[0m",
      "\u001B[1;31mOverflowError\u001B[0m                             Traceback (most recent call last)",
      "File \u001B[1;32m~\\anaconda3\\envs\\synthesis\\Lib\\site-packages\\IPython\\core\\formatters.py:343\u001B[0m, in \u001B[0;36mBaseFormatter.__call__\u001B[1;34m(self, obj)\u001B[0m\n\u001B[0;32m    341\u001B[0m     \u001B[38;5;28;01mpass\u001B[39;00m\n\u001B[0;32m    342\u001B[0m \u001B[38;5;28;01melse\u001B[39;00m:\n\u001B[1;32m--> 343\u001B[0m     \u001B[38;5;28;01mreturn\u001B[39;00m printer(obj)\n\u001B[0;32m    344\u001B[0m \u001B[38;5;66;03m# Finally look for special method names\u001B[39;00m\n\u001B[0;32m    345\u001B[0m method \u001B[38;5;241m=\u001B[39m get_real_method(obj, \u001B[38;5;28mself\u001B[39m\u001B[38;5;241m.\u001B[39mprint_method)\n",
      "File \u001B[1;32m~\\anaconda3\\envs\\synthesis\\Lib\\site-packages\\IPython\\core\\pylabtools.py:170\u001B[0m, in \u001B[0;36mprint_figure\u001B[1;34m(fig, fmt, bbox_inches, base64, **kwargs)\u001B[0m\n\u001B[0;32m    167\u001B[0m     \u001B[38;5;28;01mfrom\u001B[39;00m \u001B[38;5;21;01mmatplotlib\u001B[39;00m\u001B[38;5;21;01m.\u001B[39;00m\u001B[38;5;21;01mbackend_bases\u001B[39;00m \u001B[38;5;28;01mimport\u001B[39;00m FigureCanvasBase\n\u001B[0;32m    168\u001B[0m     FigureCanvasBase(fig)\n\u001B[1;32m--> 170\u001B[0m fig\u001B[38;5;241m.\u001B[39mcanvas\u001B[38;5;241m.\u001B[39mprint_figure(bytes_io, \u001B[38;5;241m*\u001B[39m\u001B[38;5;241m*\u001B[39mkw)\n\u001B[0;32m    171\u001B[0m data \u001B[38;5;241m=\u001B[39m bytes_io\u001B[38;5;241m.\u001B[39mgetvalue()\n\u001B[0;32m    172\u001B[0m \u001B[38;5;28;01mif\u001B[39;00m fmt \u001B[38;5;241m==\u001B[39m \u001B[38;5;124m'\u001B[39m\u001B[38;5;124msvg\u001B[39m\u001B[38;5;124m'\u001B[39m:\n",
      "File \u001B[1;32m~\\anaconda3\\envs\\synthesis\\Lib\\site-packages\\matplotlib\\backend_bases.py:2193\u001B[0m, in \u001B[0;36mFigureCanvasBase.print_figure\u001B[1;34m(self, filename, dpi, facecolor, edgecolor, orientation, format, bbox_inches, pad_inches, bbox_extra_artists, backend, **kwargs)\u001B[0m\n\u001B[0;32m   2189\u001B[0m \u001B[38;5;28;01mtry\u001B[39;00m:\n\u001B[0;32m   2190\u001B[0m     \u001B[38;5;66;03m# _get_renderer may change the figure dpi (as vector formats\u001B[39;00m\n\u001B[0;32m   2191\u001B[0m     \u001B[38;5;66;03m# force the figure dpi to 72), so we need to set it again here.\u001B[39;00m\n\u001B[0;32m   2192\u001B[0m     \u001B[38;5;28;01mwith\u001B[39;00m cbook\u001B[38;5;241m.\u001B[39m_setattr_cm(\u001B[38;5;28mself\u001B[39m\u001B[38;5;241m.\u001B[39mfigure, dpi\u001B[38;5;241m=\u001B[39mdpi):\n\u001B[1;32m-> 2193\u001B[0m         result \u001B[38;5;241m=\u001B[39m print_method(\n\u001B[0;32m   2194\u001B[0m             filename,\n\u001B[0;32m   2195\u001B[0m             facecolor\u001B[38;5;241m=\u001B[39mfacecolor,\n\u001B[0;32m   2196\u001B[0m             edgecolor\u001B[38;5;241m=\u001B[39medgecolor,\n\u001B[0;32m   2197\u001B[0m             orientation\u001B[38;5;241m=\u001B[39morientation,\n\u001B[0;32m   2198\u001B[0m             bbox_inches_restore\u001B[38;5;241m=\u001B[39m_bbox_inches_restore,\n\u001B[0;32m   2199\u001B[0m             \u001B[38;5;241m*\u001B[39m\u001B[38;5;241m*\u001B[39mkwargs)\n\u001B[0;32m   2200\u001B[0m \u001B[38;5;28;01mfinally\u001B[39;00m:\n\u001B[0;32m   2201\u001B[0m     \u001B[38;5;28;01mif\u001B[39;00m bbox_inches \u001B[38;5;129;01mand\u001B[39;00m restore_bbox:\n",
      "File \u001B[1;32m~\\anaconda3\\envs\\synthesis\\Lib\\site-packages\\matplotlib\\backend_bases.py:2043\u001B[0m, in \u001B[0;36mFigureCanvasBase._switch_canvas_and_return_print_method.<locals>.<lambda>\u001B[1;34m(*args, **kwargs)\u001B[0m\n\u001B[0;32m   2039\u001B[0m     optional_kws \u001B[38;5;241m=\u001B[39m {  \u001B[38;5;66;03m# Passed by print_figure for other renderers.\u001B[39;00m\n\u001B[0;32m   2040\u001B[0m         \u001B[38;5;124m\"\u001B[39m\u001B[38;5;124mdpi\u001B[39m\u001B[38;5;124m\"\u001B[39m, \u001B[38;5;124m\"\u001B[39m\u001B[38;5;124mfacecolor\u001B[39m\u001B[38;5;124m\"\u001B[39m, \u001B[38;5;124m\"\u001B[39m\u001B[38;5;124medgecolor\u001B[39m\u001B[38;5;124m\"\u001B[39m, \u001B[38;5;124m\"\u001B[39m\u001B[38;5;124morientation\u001B[39m\u001B[38;5;124m\"\u001B[39m,\n\u001B[0;32m   2041\u001B[0m         \u001B[38;5;124m\"\u001B[39m\u001B[38;5;124mbbox_inches_restore\u001B[39m\u001B[38;5;124m\"\u001B[39m}\n\u001B[0;32m   2042\u001B[0m     skip \u001B[38;5;241m=\u001B[39m optional_kws \u001B[38;5;241m-\u001B[39m {\u001B[38;5;241m*\u001B[39minspect\u001B[38;5;241m.\u001B[39msignature(meth)\u001B[38;5;241m.\u001B[39mparameters}\n\u001B[1;32m-> 2043\u001B[0m     print_method \u001B[38;5;241m=\u001B[39m functools\u001B[38;5;241m.\u001B[39mwraps(meth)(\u001B[38;5;28;01mlambda\u001B[39;00m \u001B[38;5;241m*\u001B[39margs, \u001B[38;5;241m*\u001B[39m\u001B[38;5;241m*\u001B[39mkwargs: meth(\n\u001B[0;32m   2044\u001B[0m         \u001B[38;5;241m*\u001B[39margs, \u001B[38;5;241m*\u001B[39m\u001B[38;5;241m*\u001B[39m{k: v \u001B[38;5;28;01mfor\u001B[39;00m k, v \u001B[38;5;129;01min\u001B[39;00m kwargs\u001B[38;5;241m.\u001B[39mitems() \u001B[38;5;28;01mif\u001B[39;00m k \u001B[38;5;129;01mnot\u001B[39;00m \u001B[38;5;129;01min\u001B[39;00m skip}))\n\u001B[0;32m   2045\u001B[0m \u001B[38;5;28;01melse\u001B[39;00m:  \u001B[38;5;66;03m# Let third-parties do as they see fit.\u001B[39;00m\n\u001B[0;32m   2046\u001B[0m     print_method \u001B[38;5;241m=\u001B[39m meth\n",
      "File \u001B[1;32m~\\anaconda3\\envs\\synthesis\\Lib\\site-packages\\matplotlib\\backends\\backend_agg.py:497\u001B[0m, in \u001B[0;36mFigureCanvasAgg.print_png\u001B[1;34m(self, filename_or_obj, metadata, pil_kwargs)\u001B[0m\n\u001B[0;32m    450\u001B[0m \u001B[38;5;28;01mdef\u001B[39;00m \u001B[38;5;21mprint_png\u001B[39m(\u001B[38;5;28mself\u001B[39m, filename_or_obj, \u001B[38;5;241m*\u001B[39m, metadata\u001B[38;5;241m=\u001B[39m\u001B[38;5;28;01mNone\u001B[39;00m, pil_kwargs\u001B[38;5;241m=\u001B[39m\u001B[38;5;28;01mNone\u001B[39;00m):\n\u001B[0;32m    451\u001B[0m \u001B[38;5;250m    \u001B[39m\u001B[38;5;124;03m\"\"\"\u001B[39;00m\n\u001B[0;32m    452\u001B[0m \u001B[38;5;124;03m    Write the figure to a PNG file.\u001B[39;00m\n\u001B[0;32m    453\u001B[0m \n\u001B[1;32m   (...)\u001B[0m\n\u001B[0;32m    495\u001B[0m \u001B[38;5;124;03m        *metadata*, including the default 'Software' key.\u001B[39;00m\n\u001B[0;32m    496\u001B[0m \u001B[38;5;124;03m    \"\"\"\u001B[39;00m\n\u001B[1;32m--> 497\u001B[0m     \u001B[38;5;28mself\u001B[39m\u001B[38;5;241m.\u001B[39m_print_pil(filename_or_obj, \u001B[38;5;124m\"\u001B[39m\u001B[38;5;124mpng\u001B[39m\u001B[38;5;124m\"\u001B[39m, pil_kwargs, metadata)\n",
      "File \u001B[1;32m~\\anaconda3\\envs\\synthesis\\Lib\\site-packages\\matplotlib\\backends\\backend_agg.py:445\u001B[0m, in \u001B[0;36mFigureCanvasAgg._print_pil\u001B[1;34m(self, filename_or_obj, fmt, pil_kwargs, metadata)\u001B[0m\n\u001B[0;32m    440\u001B[0m \u001B[38;5;28;01mdef\u001B[39;00m \u001B[38;5;21m_print_pil\u001B[39m(\u001B[38;5;28mself\u001B[39m, filename_or_obj, fmt, pil_kwargs, metadata\u001B[38;5;241m=\u001B[39m\u001B[38;5;28;01mNone\u001B[39;00m):\n\u001B[0;32m    441\u001B[0m \u001B[38;5;250m    \u001B[39m\u001B[38;5;124;03m\"\"\"\u001B[39;00m\n\u001B[0;32m    442\u001B[0m \u001B[38;5;124;03m    Draw the canvas, then save it using `.image.imsave` (to which\u001B[39;00m\n\u001B[0;32m    443\u001B[0m \u001B[38;5;124;03m    *pil_kwargs* and *metadata* are forwarded).\u001B[39;00m\n\u001B[0;32m    444\u001B[0m \u001B[38;5;124;03m    \"\"\"\u001B[39;00m\n\u001B[1;32m--> 445\u001B[0m     FigureCanvasAgg\u001B[38;5;241m.\u001B[39mdraw(\u001B[38;5;28mself\u001B[39m)\n\u001B[0;32m    446\u001B[0m     mpl\u001B[38;5;241m.\u001B[39mimage\u001B[38;5;241m.\u001B[39mimsave(\n\u001B[0;32m    447\u001B[0m         filename_or_obj, \u001B[38;5;28mself\u001B[39m\u001B[38;5;241m.\u001B[39mbuffer_rgba(), \u001B[38;5;28mformat\u001B[39m\u001B[38;5;241m=\u001B[39mfmt, origin\u001B[38;5;241m=\u001B[39m\u001B[38;5;124m\"\u001B[39m\u001B[38;5;124mupper\u001B[39m\u001B[38;5;124m\"\u001B[39m,\n\u001B[0;32m    448\u001B[0m         dpi\u001B[38;5;241m=\u001B[39m\u001B[38;5;28mself\u001B[39m\u001B[38;5;241m.\u001B[39mfigure\u001B[38;5;241m.\u001B[39mdpi, metadata\u001B[38;5;241m=\u001B[39mmetadata, pil_kwargs\u001B[38;5;241m=\u001B[39mpil_kwargs)\n",
      "File \u001B[1;32m~\\anaconda3\\envs\\synthesis\\Lib\\site-packages\\matplotlib\\backends\\backend_agg.py:388\u001B[0m, in \u001B[0;36mFigureCanvasAgg.draw\u001B[1;34m(self)\u001B[0m\n\u001B[0;32m    385\u001B[0m \u001B[38;5;66;03m# Acquire a lock on the shared font cache.\u001B[39;00m\n\u001B[0;32m    386\u001B[0m \u001B[38;5;28;01mwith\u001B[39;00m (\u001B[38;5;28mself\u001B[39m\u001B[38;5;241m.\u001B[39mtoolbar\u001B[38;5;241m.\u001B[39m_wait_cursor_for_draw_cm() \u001B[38;5;28;01mif\u001B[39;00m \u001B[38;5;28mself\u001B[39m\u001B[38;5;241m.\u001B[39mtoolbar\n\u001B[0;32m    387\u001B[0m       \u001B[38;5;28;01melse\u001B[39;00m nullcontext()):\n\u001B[1;32m--> 388\u001B[0m     \u001B[38;5;28mself\u001B[39m\u001B[38;5;241m.\u001B[39mfigure\u001B[38;5;241m.\u001B[39mdraw(\u001B[38;5;28mself\u001B[39m\u001B[38;5;241m.\u001B[39mrenderer)\n\u001B[0;32m    389\u001B[0m     \u001B[38;5;66;03m# A GUI class may be need to update a window using this draw, so\u001B[39;00m\n\u001B[0;32m    390\u001B[0m     \u001B[38;5;66;03m# don't forget to call the superclass.\u001B[39;00m\n\u001B[0;32m    391\u001B[0m     \u001B[38;5;28msuper\u001B[39m()\u001B[38;5;241m.\u001B[39mdraw()\n",
      "File \u001B[1;32m~\\anaconda3\\envs\\synthesis\\Lib\\site-packages\\matplotlib\\artist.py:95\u001B[0m, in \u001B[0;36m_finalize_rasterization.<locals>.draw_wrapper\u001B[1;34m(artist, renderer, *args, **kwargs)\u001B[0m\n\u001B[0;32m     93\u001B[0m \u001B[38;5;129m@wraps\u001B[39m(draw)\n\u001B[0;32m     94\u001B[0m \u001B[38;5;28;01mdef\u001B[39;00m \u001B[38;5;21mdraw_wrapper\u001B[39m(artist, renderer, \u001B[38;5;241m*\u001B[39margs, \u001B[38;5;241m*\u001B[39m\u001B[38;5;241m*\u001B[39mkwargs):\n\u001B[1;32m---> 95\u001B[0m     result \u001B[38;5;241m=\u001B[39m draw(artist, renderer, \u001B[38;5;241m*\u001B[39margs, \u001B[38;5;241m*\u001B[39m\u001B[38;5;241m*\u001B[39mkwargs)\n\u001B[0;32m     96\u001B[0m     \u001B[38;5;28;01mif\u001B[39;00m renderer\u001B[38;5;241m.\u001B[39m_rasterizing:\n\u001B[0;32m     97\u001B[0m         renderer\u001B[38;5;241m.\u001B[39mstop_rasterizing()\n",
      "File \u001B[1;32m~\\anaconda3\\envs\\synthesis\\Lib\\site-packages\\matplotlib\\artist.py:72\u001B[0m, in \u001B[0;36mallow_rasterization.<locals>.draw_wrapper\u001B[1;34m(artist, renderer)\u001B[0m\n\u001B[0;32m     69\u001B[0m     \u001B[38;5;28;01mif\u001B[39;00m artist\u001B[38;5;241m.\u001B[39mget_agg_filter() \u001B[38;5;129;01mis\u001B[39;00m \u001B[38;5;129;01mnot\u001B[39;00m \u001B[38;5;28;01mNone\u001B[39;00m:\n\u001B[0;32m     70\u001B[0m         renderer\u001B[38;5;241m.\u001B[39mstart_filter()\n\u001B[1;32m---> 72\u001B[0m     \u001B[38;5;28;01mreturn\u001B[39;00m draw(artist, renderer)\n\u001B[0;32m     73\u001B[0m \u001B[38;5;28;01mfinally\u001B[39;00m:\n\u001B[0;32m     74\u001B[0m     \u001B[38;5;28;01mif\u001B[39;00m artist\u001B[38;5;241m.\u001B[39mget_agg_filter() \u001B[38;5;129;01mis\u001B[39;00m \u001B[38;5;129;01mnot\u001B[39;00m \u001B[38;5;28;01mNone\u001B[39;00m:\n",
      "File \u001B[1;32m~\\anaconda3\\envs\\synthesis\\Lib\\site-packages\\matplotlib\\figure.py:3154\u001B[0m, in \u001B[0;36mFigure.draw\u001B[1;34m(self, renderer)\u001B[0m\n\u001B[0;32m   3151\u001B[0m         \u001B[38;5;66;03m# ValueError can occur when resizing a window.\u001B[39;00m\n\u001B[0;32m   3153\u001B[0m \u001B[38;5;28mself\u001B[39m\u001B[38;5;241m.\u001B[39mpatch\u001B[38;5;241m.\u001B[39mdraw(renderer)\n\u001B[1;32m-> 3154\u001B[0m mimage\u001B[38;5;241m.\u001B[39m_draw_list_compositing_images(\n\u001B[0;32m   3155\u001B[0m     renderer, \u001B[38;5;28mself\u001B[39m, artists, \u001B[38;5;28mself\u001B[39m\u001B[38;5;241m.\u001B[39msuppressComposite)\n\u001B[0;32m   3157\u001B[0m \u001B[38;5;28;01mfor\u001B[39;00m sfig \u001B[38;5;129;01min\u001B[39;00m \u001B[38;5;28mself\u001B[39m\u001B[38;5;241m.\u001B[39msubfigs:\n\u001B[0;32m   3158\u001B[0m     sfig\u001B[38;5;241m.\u001B[39mdraw(renderer)\n",
      "File \u001B[1;32m~\\anaconda3\\envs\\synthesis\\Lib\\site-packages\\matplotlib\\image.py:132\u001B[0m, in \u001B[0;36m_draw_list_compositing_images\u001B[1;34m(renderer, parent, artists, suppress_composite)\u001B[0m\n\u001B[0;32m    130\u001B[0m \u001B[38;5;28;01mif\u001B[39;00m not_composite \u001B[38;5;129;01mor\u001B[39;00m \u001B[38;5;129;01mnot\u001B[39;00m has_images:\n\u001B[0;32m    131\u001B[0m     \u001B[38;5;28;01mfor\u001B[39;00m a \u001B[38;5;129;01min\u001B[39;00m artists:\n\u001B[1;32m--> 132\u001B[0m         a\u001B[38;5;241m.\u001B[39mdraw(renderer)\n\u001B[0;32m    133\u001B[0m \u001B[38;5;28;01melse\u001B[39;00m:\n\u001B[0;32m    134\u001B[0m     \u001B[38;5;66;03m# Composite any adjacent images together\u001B[39;00m\n\u001B[0;32m    135\u001B[0m     image_group \u001B[38;5;241m=\u001B[39m []\n",
      "File \u001B[1;32m~\\anaconda3\\envs\\synthesis\\Lib\\site-packages\\matplotlib\\artist.py:72\u001B[0m, in \u001B[0;36mallow_rasterization.<locals>.draw_wrapper\u001B[1;34m(artist, renderer)\u001B[0m\n\u001B[0;32m     69\u001B[0m     \u001B[38;5;28;01mif\u001B[39;00m artist\u001B[38;5;241m.\u001B[39mget_agg_filter() \u001B[38;5;129;01mis\u001B[39;00m \u001B[38;5;129;01mnot\u001B[39;00m \u001B[38;5;28;01mNone\u001B[39;00m:\n\u001B[0;32m     70\u001B[0m         renderer\u001B[38;5;241m.\u001B[39mstart_filter()\n\u001B[1;32m---> 72\u001B[0m     \u001B[38;5;28;01mreturn\u001B[39;00m draw(artist, renderer)\n\u001B[0;32m     73\u001B[0m \u001B[38;5;28;01mfinally\u001B[39;00m:\n\u001B[0;32m     74\u001B[0m     \u001B[38;5;28;01mif\u001B[39;00m artist\u001B[38;5;241m.\u001B[39mget_agg_filter() \u001B[38;5;129;01mis\u001B[39;00m \u001B[38;5;129;01mnot\u001B[39;00m \u001B[38;5;28;01mNone\u001B[39;00m:\n",
      "File \u001B[1;32m~\\anaconda3\\envs\\synthesis\\Lib\\site-packages\\matplotlib\\axes\\_base.py:3070\u001B[0m, in \u001B[0;36m_AxesBase.draw\u001B[1;34m(self, renderer)\u001B[0m\n\u001B[0;32m   3067\u001B[0m \u001B[38;5;28;01mif\u001B[39;00m artists_rasterized:\n\u001B[0;32m   3068\u001B[0m     _draw_rasterized(\u001B[38;5;28mself\u001B[39m\u001B[38;5;241m.\u001B[39mfigure, artists_rasterized, renderer)\n\u001B[1;32m-> 3070\u001B[0m mimage\u001B[38;5;241m.\u001B[39m_draw_list_compositing_images(\n\u001B[0;32m   3071\u001B[0m     renderer, \u001B[38;5;28mself\u001B[39m, artists, \u001B[38;5;28mself\u001B[39m\u001B[38;5;241m.\u001B[39mfigure\u001B[38;5;241m.\u001B[39msuppressComposite)\n\u001B[0;32m   3073\u001B[0m renderer\u001B[38;5;241m.\u001B[39mclose_group(\u001B[38;5;124m'\u001B[39m\u001B[38;5;124maxes\u001B[39m\u001B[38;5;124m'\u001B[39m)\n\u001B[0;32m   3074\u001B[0m \u001B[38;5;28mself\u001B[39m\u001B[38;5;241m.\u001B[39mstale \u001B[38;5;241m=\u001B[39m \u001B[38;5;28;01mFalse\u001B[39;00m\n",
      "File \u001B[1;32m~\\anaconda3\\envs\\synthesis\\Lib\\site-packages\\matplotlib\\image.py:132\u001B[0m, in \u001B[0;36m_draw_list_compositing_images\u001B[1;34m(renderer, parent, artists, suppress_composite)\u001B[0m\n\u001B[0;32m    130\u001B[0m \u001B[38;5;28;01mif\u001B[39;00m not_composite \u001B[38;5;129;01mor\u001B[39;00m \u001B[38;5;129;01mnot\u001B[39;00m has_images:\n\u001B[0;32m    131\u001B[0m     \u001B[38;5;28;01mfor\u001B[39;00m a \u001B[38;5;129;01min\u001B[39;00m artists:\n\u001B[1;32m--> 132\u001B[0m         a\u001B[38;5;241m.\u001B[39mdraw(renderer)\n\u001B[0;32m    133\u001B[0m \u001B[38;5;28;01melse\u001B[39;00m:\n\u001B[0;32m    134\u001B[0m     \u001B[38;5;66;03m# Composite any adjacent images together\u001B[39;00m\n\u001B[0;32m    135\u001B[0m     image_group \u001B[38;5;241m=\u001B[39m []\n",
      "File \u001B[1;32m~\\anaconda3\\envs\\synthesis\\Lib\\site-packages\\matplotlib\\artist.py:72\u001B[0m, in \u001B[0;36mallow_rasterization.<locals>.draw_wrapper\u001B[1;34m(artist, renderer)\u001B[0m\n\u001B[0;32m     69\u001B[0m     \u001B[38;5;28;01mif\u001B[39;00m artist\u001B[38;5;241m.\u001B[39mget_agg_filter() \u001B[38;5;129;01mis\u001B[39;00m \u001B[38;5;129;01mnot\u001B[39;00m \u001B[38;5;28;01mNone\u001B[39;00m:\n\u001B[0;32m     70\u001B[0m         renderer\u001B[38;5;241m.\u001B[39mstart_filter()\n\u001B[1;32m---> 72\u001B[0m     \u001B[38;5;28;01mreturn\u001B[39;00m draw(artist, renderer)\n\u001B[0;32m     73\u001B[0m \u001B[38;5;28;01mfinally\u001B[39;00m:\n\u001B[0;32m     74\u001B[0m     \u001B[38;5;28;01mif\u001B[39;00m artist\u001B[38;5;241m.\u001B[39mget_agg_filter() \u001B[38;5;129;01mis\u001B[39;00m \u001B[38;5;129;01mnot\u001B[39;00m \u001B[38;5;28;01mNone\u001B[39;00m:\n",
      "File \u001B[1;32m~\\anaconda3\\envs\\synthesis\\Lib\\site-packages\\matplotlib\\lines.py:801\u001B[0m, in \u001B[0;36mLine2D.draw\u001B[1;34m(self, renderer)\u001B[0m\n\u001B[0;32m    798\u001B[0m         gc\u001B[38;5;241m.\u001B[39mset_foreground(lc_rgba, isRGBA\u001B[38;5;241m=\u001B[39m\u001B[38;5;28;01mTrue\u001B[39;00m)\n\u001B[0;32m    800\u001B[0m         gc\u001B[38;5;241m.\u001B[39mset_dashes(\u001B[38;5;241m*\u001B[39m\u001B[38;5;28mself\u001B[39m\u001B[38;5;241m.\u001B[39m_dash_pattern)\n\u001B[1;32m--> 801\u001B[0m         renderer\u001B[38;5;241m.\u001B[39mdraw_path(gc, tpath, affine\u001B[38;5;241m.\u001B[39mfrozen())\n\u001B[0;32m    802\u001B[0m         gc\u001B[38;5;241m.\u001B[39mrestore()\n\u001B[0;32m    804\u001B[0m \u001B[38;5;28;01mif\u001B[39;00m \u001B[38;5;28mself\u001B[39m\u001B[38;5;241m.\u001B[39m_marker \u001B[38;5;129;01mand\u001B[39;00m \u001B[38;5;28mself\u001B[39m\u001B[38;5;241m.\u001B[39m_markersize \u001B[38;5;241m>\u001B[39m \u001B[38;5;241m0\u001B[39m:\n",
      "File \u001B[1;32m~\\anaconda3\\envs\\synthesis\\Lib\\site-packages\\matplotlib\\backends\\backend_agg.py:173\u001B[0m, in \u001B[0;36mRendererAgg.draw_path\u001B[1;34m(self, gc, path, transform, rgbFace)\u001B[0m\n\u001B[0;32m    165\u001B[0m     \u001B[38;5;28;01melse\u001B[39;00m:\n\u001B[0;32m    166\u001B[0m         msg \u001B[38;5;241m=\u001B[39m (\n\u001B[0;32m    167\u001B[0m             \u001B[38;5;124m\"\u001B[39m\u001B[38;5;124mExceeded cell block limit in Agg.  Please set \u001B[39m\u001B[38;5;124m\"\u001B[39m\n\u001B[0;32m    168\u001B[0m             \u001B[38;5;124m\"\u001B[39m\u001B[38;5;124mthe value of rcParams[\u001B[39m\u001B[38;5;124m'\u001B[39m\u001B[38;5;124magg.path.chunksize\u001B[39m\u001B[38;5;124m'\u001B[39m\u001B[38;5;124m], \u001B[39m\u001B[38;5;124m\"\u001B[39m\n\u001B[0;32m    169\u001B[0m             \u001B[38;5;124mf\u001B[39m\u001B[38;5;124m\"\u001B[39m\u001B[38;5;124m(currently \u001B[39m\u001B[38;5;132;01m{\u001B[39;00mnmax\u001B[38;5;132;01m}\u001B[39;00m\u001B[38;5;124m) to be greater than 100 \u001B[39m\u001B[38;5;124m\"\u001B[39m\n\u001B[0;32m    170\u001B[0m             \u001B[38;5;241m+\u001B[39m inc_threshold\n\u001B[0;32m    171\u001B[0m         )\n\u001B[1;32m--> 173\u001B[0m \u001B[38;5;28;01mraise\u001B[39;00m \u001B[38;5;167;01mOverflowError\u001B[39;00m(msg) \u001B[38;5;28;01mfrom\u001B[39;00m \u001B[38;5;28;01mNone\u001B[39;00m\n",
      "\u001B[1;31mOverflowError\u001B[0m: Exceeded cell block limit in Agg.  Please set the value of rcParams['agg.path.chunksize'], (currently 0) to be greater than 100 or increase the path simplification threshold(rcParams['path.simplify_threshold'] = 0.111111111111 by default and path.simplify_threshold = 0.111111111111 on the input)."
     ]
    },
    {
     "data": {
      "text/plain": [
       "<Figure size 2000x2500 with 1 Axes>"
      ]
     },
     "metadata": {},
     "output_type": "display_data"
    }
   ],
   "execution_count": 20
  },
  {
   "metadata": {
    "ExecuteTime": {
     "end_time": "2024-10-05T17:12:35.962668Z",
     "start_time": "2024-10-05T17:12:35.934181Z"
    }
   },
   "cell_type": "code",
   "source": "",
   "id": "1c3e3e8e71772b1a",
   "outputs": [],
   "execution_count": 53
  },
  {
   "cell_type": "code",
   "source": [
    "def interpolation_vegetation(LasData, veg_points, resolution, dt, no_data_value=-9999):\n",
    "    \"\"\"\n",
    "    Create a vegetation raster using Inverse Distance Weighting (IDW) interpolation.\n",
    "\n",
    "    Parameters:\n",
    "    - LasData (laspy.LasData): Input LAS data.\n",
    "    - points (laspy.LasData): Vegetation points to be interpolated.\n",
    "    - center_point (tuple): Center coordinates (x, y) of the region of interest.\n",
    "    - resolution (float): Resolution of the raster.\n",
    "    - half_size (float): Half of the size of the tile (defines the extent of the raster).\n",
    "    - search_radius (float): Radius for the IDW search. Default is 1.\n",
    "    - power (float): Power parameter for the IDW algorithm. Default is 2.\n",
    "\n",
    "    Returns:\n",
    "    - vege_raster (np.ndarray): Generated raster for vegetation.\n",
    "    - grid_center_xy (tuple): Grid of x, y center coordinates for each raster cell.\n",
    "    \"\"\"\n",
    "\n",
    "    # Extents of the pc\n",
    "    min_x, max_x = round(LasData.x.min()), round(LasData.x.max())\n",
    "    min_y, max_y = round(LasData.y.min()), round(LasData.y.max())\n",
    "\n",
    "    # Define size of the region\n",
    "    x_length = max_x - min_x\n",
    "    y_length = max_y - min_y\n",
    "\n",
    "    # Number of rows and columns\n",
    "    cols = round(x_length / resolution)\n",
    "    rows = round(y_length / resolution)\n",
    "\n",
    "    # Initialize raster grid\n",
    "    vege_raster = np.full((rows, cols), no_data_value, dtype=np.float32)\n",
    "\n",
    "    # Calculate center coords for each grid cell\n",
    "    grid_center_xy = functions.raster_center_coords(min_x, max_x, min_y, max_y, resolution)\n",
    "    \n",
    "\n",
    "\n",
    "    if dt.number_of_vertices == 0:\n",
    "        print(\" There are no vegetation points in the current area.\")\n",
    "        return vege_raster, grid_center_xy\n",
    "    \n",
    "    # Flatten the grid to get a list of all (col, row) locations\n",
    "    locs = np.column_stack((grid_center_xy[0].ravel(), grid_center_xy[1].ravel()))\n",
    "    \n",
    "    vegetation_points = np.column_stack((veg_points.x, veg_points.y))\n",
    "    tree = cKDTree(vegetation_points)\n",
    "\n",
    "    # Find the distance to the nearest vegetation point for each grid cell\n",
    "    distances, _ = tree.query(locs, k=1)  # Find nearest neighbor distances\n",
    "    \n",
    "    distance_threshold = 1\n",
    "    # Mask cells where the distance to the nearest point exceeds the threshold\n",
    "    within_threshold_mask = distances <= distance_threshold\n",
    "\n",
    "    # Perform interpolation only for locations within the distance threshold\n",
    "    valid_locs = locs[within_threshold_mask]\n",
    "\n",
    "    # laplace interpolation\n",
    "    interpolated_values = dt.interpolate({\"method\": \"Laplace\"}, valid_locs)\n",
    "\n",
    "    # reshape interpolated grid back to og\n",
    "    interpolated_grid = np.full_like(vege_raster, no_data_value, dtype=np.float32)  # Start with no_data\n",
    "    interpolated_grid.ravel()[within_threshold_mask] = interpolated_values \n",
    "\n",
    "    return interpolated_grid, grid_center_xy"
   ],
   "metadata": {
    "collapsed": false,
    "ExecuteTime": {
     "end_time": "2024-10-05T18:05:03.820298Z",
     "start_time": "2024-10-05T18:05:03.747617Z"
    }
   },
   "id": "6bb75e9989f43236",
   "outputs": [],
   "execution_count": 76
  },
  {
   "metadata": {
    "ExecuteTime": {
     "end_time": "2024-10-05T17:53:57.097027Z",
     "start_time": "2024-10-05T17:52:52.873401Z"
    }
   },
   "cell_type": "code",
   "source": "vegetation_data = interpolation_vegetation(las_data, veg_points, 0.5, dt3)",
   "id": "244790e7f8240f39",
   "outputs": [],
   "execution_count": 74
  },
  {
   "metadata": {
    "ExecuteTime": {
     "end_time": "2024-10-05T17:44:49.623025Z",
     "start_time": "2024-10-05T17:44:49.509711Z"
    }
   },
   "cell_type": "code",
   "source": "vegetation_data[0]",
   "id": "9eccc566746a2604",
   "outputs": [
    {
     "data": {
      "text/plain": [
       "array([[-9.99900000e+03, -9.99900000e+03, -9.99900000e+03, ...,\n",
       "         1.14863224e-01, -4.00468677e-01,             nan],\n",
       "       [-9.99900000e+03, -9.99900000e+03, -9.99900000e+03, ...,\n",
       "        -1.55634314e-01, -1.87330991e-01,             nan],\n",
       "       [-9.99900000e+03, -9.99900000e+03, -9.99900000e+03, ...,\n",
       "        -9.99900000e+03, -9.99900000e+03, -9.99900000e+03],\n",
       "       ...,\n",
       "       [ 4.44815934e-01,  8.68079290e-02,  1.89682758e+00, ...,\n",
       "        -9.99900000e+03,             nan,             nan],\n",
       "       [ 2.31232214e+00, -5.39936088e-02,  7.85766006e-01, ...,\n",
       "        -9.99900000e+03, -9.99900000e+03, -9.99900000e+03],\n",
       "       [            nan,  1.97609425e+00,  1.22713971e+00, ...,\n",
       "        -9.99900000e+03, -9.99900000e+03, -9.99900000e+03]], dtype=float32)"
      ]
     },
     "execution_count": 67,
     "metadata": {},
     "output_type": "execute_result"
    }
   ],
   "execution_count": 67
  },
  {
   "metadata": {
    "ExecuteTime": {
     "end_time": "2024-10-05T17:11:38.312635Z",
     "start_time": "2024-10-05T17:11:36.835627Z"
    }
   },
   "cell_type": "code",
   "source": "",
   "id": "cbd133f2e31fb600",
   "outputs": [],
   "execution_count": 52
  },
  {
   "metadata": {
    "ExecuteTime": {
     "end_time": "2024-10-05T18:35:53.617799Z",
     "start_time": "2024-10-05T18:35:53.607713Z"
    }
   },
   "cell_type": "code",
   "source": [
    "def chm_creation(LasData, vegetation_data, output_filename, resolution=0.5):\n",
    "\n",
    "    veg_raster = vegetation_data[0]\n",
    "    grid_centers = vegetation_data[1]\n",
    "    top_left_x = grid_centers[0][0, 0] - resolution / 2\n",
    "    top_left_y = grid_centers[1][0, 0] + resolution / 2\n",
    "\n",
    "    transform = functions.create_affine_transform(top_left_x, top_left_y, resolution)\n",
    "\n",
    "    functions.write_output(veg_points, veg_raster, transform, output_filename, True)"
   ],
   "id": "9a0266112b694a8b",
   "outputs": [],
   "execution_count": 3
  },
  {
   "metadata": {},
   "cell_type": "code",
   "outputs": [],
   "execution_count": null,
   "source": "",
   "id": "253e93ae90993996"
  },
  {
   "metadata": {
    "ExecuteTime": {
     "end_time": "2024-10-05T17:53:57.701634Z",
     "start_time": "2024-10-05T17:53:57.326919Z"
    }
   },
   "cell_type": "code",
   "source": "chm_creation(las_data, vegetation_data, \"tryout/chm5.TIF\")",
   "id": "3e4307164510a51d",
   "outputs": [
    {
     "name": "stdout",
     "output_type": "stream",
     "text": [
      "File written to 'tryout/chm5.TIF'\n"
     ]
    }
   ],
   "execution_count": 75
  },
  {
   "cell_type": "markdown",
   "source": [],
   "metadata": {
    "collapsed": false
   },
   "id": "243b877ff01d59f1"
  },
  {
   "cell_type": "code",
   "source": "save_vegetation_points_as_las(las_data, output_las, veg_points, ndvi_threshold=0.0)",
   "metadata": {
    "collapsed": false,
    "ExecuteTime": {
     "end_time": "2024-10-05T11:57:41.926726Z",
     "start_time": "2024-10-05T11:57:39.551873Z"
    }
   },
   "id": "41f2181341c96e58",
   "outputs": [
    {
     "name": "stdout",
     "output_type": "stream",
     "text": [
      "Vegetation points saved to data/output_vegetation_newest.las\n"
     ]
    }
   ],
   "execution_count": 5
  },
  {
   "cell_type": "code",
   "source": [
    "import functions\n",
    "import os\n",
    "import laspy\n",
    "import time  # Import time module to track time\n",
    "from tqdm import tqdm\n",
    "import numpy as np\n",
    "\n",
    "def extract_vegetation_points(LasData, ndvi_threshold=0.1):\n",
    "    \"\"\"\n",
    "    Extract vegetation points based on classification and NDVI threshold.\n",
    "\n",
    "    Parameters:\n",
    "    - LasData (laspy.LasData): Input point cloud data.\n",
    "    - ndvi_threshold (float): The NDVI threshold to classify vegetation.\n",
    "\n",
    "    Returns:\n",
    "    - veg_points (laspy.LasData): Filtered vegetation points as a new LasData object.\n",
    "    \"\"\"\n",
    "\n",
    "    # Filter points based on classification (vegetation-related classes)\n",
    "    possible_vegetation_points = LasData[(LasData.classification == 1) |  # Unclassified\n",
    "                                         (LasData.classification == 3) |  # Low vegetation\n",
    "                                         (LasData.classification == 4) |  # Medium vegetation\n",
    "                                         (LasData.classification == 5)]  # High vegetation\n",
    "\n",
    "    # Calculate NDVI\n",
    "    red = possible_vegetation_points.red\n",
    "    nir = possible_vegetation_points.nir\n",
    "    ndvi = (nir.astype(float) - red) / (nir + red)\n",
    "\n",
    "    # Filter the points whose NDVI is greater than the threshold\n",
    "    veg_points = possible_vegetation_points[ndvi > ndvi_threshold]\n",
    "    print(\"extracted vegetation points\")\n",
    "\n",
    "    return veg_points\n",
    "\n",
    "def chm_creation(LasData, vegetation_data, output_filename, resolution=0.5):\n",
    "\n",
    "    veg_raster = vegetation_data[0]\n",
    "    grid_centers = vegetation_data[1]\n",
    "    top_left_x = grid_centers[0][0, 0] - resolution / 2\n",
    "    top_left_y = grid_centers[1][0, 0] + resolution / 2\n",
    "\n",
    "    transform = functions.create_affine_transform(top_left_x, top_left_y, resolution)\n",
    "\n",
    "    functions.write_output(LasData, veg_raster, transform, output_filename, True)\n",
    "\n",
    "def interpolation_vegetation(LasData, veg_points, resolution, no_data_value=-9999):\n",
    "    \"\"\"\n",
    "    Create a vegetation raster using Inverse Distance Weighting (IDW) interpolation.\n",
    "\n",
    "    Parameters:\n",
    "    - LasData (laspy.LasData): Input LAS data.\n",
    "    - veg_points (laspy.LasData): Vegetation points to be interpolated.\n",
    "    - resolution (float): Resolution of the raster.\n",
    "    - no_data_value (int): Value for no data\n",
    "\n",
    "    Returns:\n",
    "    - interpolated_grid (np.ndarray): Generated raster for vegetation.\n",
    "    - grid_center_xy (tuple): Grid of x, y center coordinates for each raster cell.\n",
    "    \"\"\"\n",
    "\n",
    "    # Extents of the pc\n",
    "    min_x, max_x = round(LasData.x.min()), round(LasData.x.max())\n",
    "    min_y, max_y = round(LasData.y.min()), round(LasData.y.max())\n",
    "\n",
    "    # Define size of the region\n",
    "    x_length = max_x - min_x\n",
    "    y_length = max_y - min_y\n",
    "\n",
    "    # Number of rows and columns\n",
    "    cols = round(x_length / resolution)\n",
    "    rows = round(y_length / resolution)\n",
    "\n",
    "    # Initialize raster grid\n",
    "    vege_raster = np.full((rows, cols), no_data_value, dtype=np.float32)\n",
    "\n",
    "    # Calculate center coords for each grid cell\n",
    "    grid_center_xy = functions.raster_center_coords(min_x, max_x, min_y, max_y, resolution)\n",
    "    \n",
    "    if  veg_points.x.shape[0] == 0:\n",
    "        print(\"There are no vegetation points in the current area.\")\n",
    "        return vege_raster, grid_center_xy\n",
    "    \n",
    "    # create the delaunay triangulation\n",
    "    dt = startinpy.DT()\n",
    "    dt.insert(veg_points.xyz, \"BBox\")\n",
    "    \n",
    "    print(\"finished DT\")\n",
    "    \n",
    "    # Flatten the grid to get a list of all center coords\n",
    "    locs = np.column_stack((grid_center_xy[0].ravel(), grid_center_xy[1].ravel()))\n",
    "    \n",
    "    vegetation_points = np.column_stack((veg_points.x, veg_points.y))\n",
    "    tree = cKDTree(vegetation_points)\n",
    "\n",
    "    # Find the distance to the nearest vegetation point for each grid cell\n",
    "    distances, _ = tree.query(locs, k=1) \n",
    "    \n",
    "    distance_threshold = 1\n",
    "    # masking cells that exceed threshold\n",
    "    within_threshold_mask = distances <= distance_threshold\n",
    "    print(\"masked\")\n",
    "    # Interpolation only for those near\n",
    "    valid_locs = locs[within_threshold_mask]\n",
    "\n",
    "    # laplace interpolation\n",
    "    interpolated_values = dt.interpolate({\"method\": \"Laplace\"}, valid_locs)\n",
    "\n",
    "    # reshape interpolated grid back to og\n",
    "    interpolated_grid = np.full_like(vege_raster, no_data_value, dtype=np.float32)  # Start with no_data\n",
    "    interpolated_grid.ravel()[within_threshold_mask] = interpolated_values \n",
    "    print(\"interpolated\")\n",
    "\n",
    "    return interpolated_grid, grid_center_xy\n",
    "\n",
    "\n",
    "def process_laz_files(input_folder, output_folder, ndvi_threshold=0.0, resolution=0.5):\n",
    "    if not os.path.exists(output_folder):\n",
    "        os.makedirs(output_folder)\n",
    "\n",
    "    laz_files = [f for f in os.listdir(input_folder) if f.endswith(\".LAZ\")]\n",
    "\n",
    "    total_start_time = time.time()\n",
    "\n",
    "    # Iterate over files\n",
    "    for file_name in tqdm(laz_files, desc=\"Processing files\", unit=\"file\"):\n",
    "        file_path = os.path.join(input_folder, file_name)\n",
    "        tile_name = os.path.splitext(file_name)[0]\n",
    "        output_filename = os.path.join(output_folder, f\"CHM_{tile_name}.TIF\")\n",
    "        print(f\"processing tile {tile_name}\")\n",
    "        start_time = time.time()\n",
    "\n",
    "        # Load LAS data\n",
    "        with laspy.open(file_path) as las:\n",
    "            LasData = las.read()\n",
    "\n",
    "        # Extract vegetation points\n",
    "        veg_points = extract_vegetation_points(LasData, ndvi_threshold=ndvi_threshold)\n",
    "        \n",
    "        vegetation_data = interpolation_vegetation(LasData, veg_points, 0.5)\n",
    "\n",
    "        # Create the CHM and save it\n",
    "        chm_creation(LasData, vegetation_data, output_filename, resolution=resolution)\n",
    "\n",
    "        # Calculate time taken for current file\n",
    "        elapsed_time = time.time() - start_time\n",
    "        print(f\"\\nProcessed {file_name} in {elapsed_time:.2f} seconds and saved output to {output_filename}\")\n",
    "\n",
    "        # os.remove(file_path)\n",
    "        # print(f\"Deleted file: {file_path}\")\n",
    "\n",
    "    # Calculate and print total processing time\n",
    "    total_elapsed_time = time.time() - total_start_time\n",
    "    print(f\"\\nAll files processed in {total_elapsed_time:.2f} seconds.\")"
   ],
   "metadata": {
    "collapsed": false,
    "ExecuteTime": {
     "end_time": "2024-10-06T08:06:05.138182Z",
     "start_time": "2024-10-06T08:06:05.098195Z"
    }
   },
   "id": "d7c93b249b72b03c",
   "outputs": [],
   "execution_count": 2
  },
  {
   "cell_type": "code",
   "source": [
    "input_folder = \"D:/Geomatics/LAZ_TILES/25HZ2\"\n",
    "output_folder = \"D:/Geomatics/CHM/25HZ2\"\n",
    "process_laz_files(input_folder, output_folder)"
   ],
   "metadata": {
    "collapsed": false,
    "jupyter": {
     "is_executing": true
    },
    "ExecuteTime": {
     "start_time": "2024-10-05T18:15:54.235799Z"
    }
   },
   "id": "80631a045c05f8d5",
   "outputs": [
    {
     "name": "stderr",
     "output_type": "stream",
     "text": [
      "Processing files:   0%|          | 0/3 [00:00<?, ?file/s]"
     ]
    }
   ],
   "execution_count": null
  },
  {
   "cell_type": "code",
   "source": [
    "input_folder = \"D:/Geomatics/LAZ_TILES/25BZ2\"\n",
    "output_folder = \"D:/Geomatics/CHM/25BZ2\"\n",
    "process_laz_files(input_folder, output_folder)"
   ],
   "metadata": {
    "collapsed": false
   },
   "id": "69f88fa68d2dc6a7",
   "outputs": [],
   "execution_count": null
  },
  {
   "cell_type": "code",
   "source": [
    "input_folder = \"D:/Geomatics/LAZ_TILES/25BZ1\"\n",
    "output_folder = \"D:/Geomatics/CHM/25BZ1\"\n",
    "process_laz_files(input_folder, output_folder)"
   ],
   "metadata": {
    "collapsed": false
   },
   "id": "9af7c687e663256e",
   "outputs": [],
   "execution_count": null
  },
  {
   "cell_type": "code",
   "source": [
    "input_folder = \"D:/Geomatics/LAZ_TILES/25DN1\"\n",
    "output_folder = \"D:/Geomatics/CHM/25DN1\"\n",
    "process_laz_files(input_folder, output_folder)"
   ],
   "metadata": {
    "collapsed": false
   },
   "id": "750fa357ef458f4e",
   "outputs": [],
   "execution_count": null
  },
  {
   "metadata": {},
   "cell_type": "code",
   "source": [
    "input_folder = \"D:/Geomatics/LAZ_TILES/25DN2\"\n",
    "output_folder = \"D:/Geomatics/CHM/25DN2\"\n",
    "process_laz_files(input_folder, output_folder)"
   ],
   "id": "51935ffe2ba85de5",
   "outputs": [],
   "execution_count": null
  },
  {
   "metadata": {},
   "cell_type": "code",
   "source": [
    "input_folder = \"D:/Geomatics/LAZ_TILES/25EZ1\"\n",
    "output_folder = \"D:/Geomatics/CHM/25EZ1\"\n",
    "process_laz_files(input_folder, output_folder)"
   ],
   "id": "a5ef067ba05b5409",
   "outputs": [],
   "execution_count": null
  },
  {
   "metadata": {},
   "cell_type": "code",
   "source": [
    "input_folder = \"D:/Geomatics/LAZ_TILES/25EZ2\"\n",
    "output_folder = \"D:/Geomatics/CHM/25EZ2\"\n",
    "process_laz_files(input_folder, output_folder)"
   ],
   "id": "ddfc0fe29bfe7c5a",
   "outputs": [],
   "execution_count": null
  },
  {
   "metadata": {},
   "cell_type": "code",
   "source": [
    "input_folder = \"D:/Geomatics/LAZ_TILES/25FZ1\"\n",
    "output_folder = \"D:/Geomatics/CHM/25FZ1\"\n",
    "process_laz_files(input_folder, output_folder)"
   ],
   "id": "c0a82ff013e34e8f",
   "outputs": [],
   "execution_count": null
  },
  {
   "metadata": {},
   "cell_type": "code",
   "source": [
    "input_folder = \"D:/Geomatics/LAZ_TILES/25GN1\"\n",
    "output_folder = \"D:/Geomatics/CHM/25GN1\"\n",
    "process_laz_files(input_folder, output_folder)"
   ],
   "id": "c242c60e0681be74",
   "outputs": [],
   "execution_count": null
  },
  {
   "metadata": {
    "ExecuteTime": {
     "end_time": "2024-10-06T08:44:26.783731Z",
     "start_time": "2024-10-06T08:06:05.267681Z"
    }
   },
   "cell_type": "code",
   "source": [
    "input_folder = \"D:/Geomatics/LAZ_TILES/25GN2\"\n",
    "output_folder = \"D:/Geomatics/CHM/25GN2\"\n",
    "process_laz_files(input_folder, output_folder)"
   ],
   "id": "1e0ac15bf8dfb55c",
   "outputs": [
    {
     "name": "stderr",
     "output_type": "stream",
     "text": [
      "Processing files:   0%|          | 0/22 [00:00<?, ?file/s]"
     ]
    },
    {
     "name": "stdout",
     "output_type": "stream",
     "text": [
      "processing tile 25GN2_23\n",
      "extracted vegetation points\n",
      "finished DT\n",
      "masked\n",
      "interpolated\n"
     ]
    },
    {
     "name": "stderr",
     "output_type": "stream",
     "text": [
      "Processing files:   5%|▍         | 1/22 [04:20<1:31:14, 260.69s/file]"
     ]
    },
    {
     "name": "stdout",
     "output_type": "stream",
     "text": [
      "File written to 'D:/Geomatics/CHM/25GN2\\CHM_25GN2_23.TIF'\n",
      "\n",
      "Processed 25GN2_23.LAZ in 260.69 seconds and saved output to D:/Geomatics/CHM/25GN2\\CHM_25GN2_23.TIF\n",
      "processing tile 25GN2_22\n",
      "extracted vegetation points\n",
      "finished DT\n",
      "masked\n"
     ]
    },
    {
     "name": "stderr",
     "output_type": "stream",
     "text": [
      "Processing files:   9%|▉         | 2/22 [05:35<50:29, 151.48s/file]  "
     ]
    },
    {
     "name": "stdout",
     "output_type": "stream",
     "text": [
      "interpolated\n",
      "File written to 'D:/Geomatics/CHM/25GN2\\CHM_25GN2_22.TIF'\n",
      "\n",
      "Processed 25GN2_22.LAZ in 75.01 seconds and saved output to D:/Geomatics/CHM/25GN2\\CHM_25GN2_22.TIF\n",
      "processing tile 25GN2_21\n",
      "extracted vegetation points\n",
      "finished DT\n",
      "masked\n",
      "interpolated\n"
     ]
    },
    {
     "name": "stderr",
     "output_type": "stream",
     "text": [
      "Processing files:  14%|█▎        | 3/22 [06:42<35:39, 112.63s/file]"
     ]
    },
    {
     "name": "stdout",
     "output_type": "stream",
     "text": [
      "File written to 'D:/Geomatics/CHM/25GN2\\CHM_25GN2_21.TIF'\n",
      "\n",
      "Processed 25GN2_21.LAZ in 66.41 seconds and saved output to D:/Geomatics/CHM/25GN2\\CHM_25GN2_21.TIF\n",
      "processing tile 25GN2_20\n",
      "extracted vegetation points\n",
      "finished DT\n",
      "masked\n",
      "interpolated\n"
     ]
    },
    {
     "name": "stderr",
     "output_type": "stream",
     "text": [
      "Processing files:  18%|█▊        | 4/22 [08:27<32:56, 109.81s/file]"
     ]
    },
    {
     "name": "stdout",
     "output_type": "stream",
     "text": [
      "File written to 'D:/Geomatics/CHM/25GN2\\CHM_25GN2_20.TIF'\n",
      "\n",
      "Processed 25GN2_20.LAZ in 105.49 seconds and saved output to D:/Geomatics/CHM/25GN2\\CHM_25GN2_20.TIF\n",
      "processing tile 25GN2_19\n",
      "extracted vegetation points\n",
      "finished DT\n",
      "masked\n",
      "interpolated\n"
     ]
    },
    {
     "name": "stderr",
     "output_type": "stream",
     "text": [
      "Processing files:  23%|██▎       | 5/22 [13:00<47:45, 168.58s/file]"
     ]
    },
    {
     "name": "stdout",
     "output_type": "stream",
     "text": [
      "File written to 'D:/Geomatics/CHM/25GN2\\CHM_25GN2_19.TIF'\n",
      "\n",
      "Processed 25GN2_19.LAZ in 272.78 seconds and saved output to D:/Geomatics/CHM/25GN2\\CHM_25GN2_19.TIF\n",
      "processing tile 25GN2_18\n",
      "extracted vegetation points\n",
      "finished DT\n",
      "masked\n",
      "interpolated\n"
     ]
    },
    {
     "name": "stderr",
     "output_type": "stream",
     "text": [
      "Processing files:  27%|██▋       | 6/22 [15:23<42:39, 159.95s/file]"
     ]
    },
    {
     "name": "stdout",
     "output_type": "stream",
     "text": [
      "File written to 'D:/Geomatics/CHM/25GN2\\CHM_25GN2_18.TIF'\n",
      "\n",
      "Processed 25GN2_18.LAZ in 143.21 seconds and saved output to D:/Geomatics/CHM/25GN2\\CHM_25GN2_18.TIF\n",
      "processing tile 25GN2_17\n",
      "extracted vegetation points\n",
      "finished DT\n",
      "masked\n"
     ]
    },
    {
     "name": "stderr",
     "output_type": "stream",
     "text": [
      "Processing files:  32%|███▏      | 7/22 [16:21<31:41, 126.74s/file]"
     ]
    },
    {
     "name": "stdout",
     "output_type": "stream",
     "text": [
      "interpolated\n",
      "File written to 'D:/Geomatics/CHM/25GN2\\CHM_25GN2_17.TIF'\n",
      "\n",
      "Processed 25GN2_17.LAZ in 58.35 seconds and saved output to D:/Geomatics/CHM/25GN2\\CHM_25GN2_17.TIF\n",
      "processing tile 25GN2_16\n",
      "extracted vegetation points\n",
      "finished DT\n",
      "masked\n",
      "interpolated\n"
     ]
    },
    {
     "name": "stderr",
     "output_type": "stream",
     "text": [
      "Processing files:  36%|███▋      | 8/22 [17:38<25:50, 110.75s/file]"
     ]
    },
    {
     "name": "stdout",
     "output_type": "stream",
     "text": [
      "File written to 'D:/Geomatics/CHM/25GN2\\CHM_25GN2_16.TIF'\n",
      "\n",
      "Processed 25GN2_16.LAZ in 76.50 seconds and saved output to D:/Geomatics/CHM/25GN2\\CHM_25GN2_16.TIF\n",
      "processing tile 25GN2_15\n",
      "extracted vegetation points\n",
      "finished DT\n",
      "masked\n",
      "interpolated\n"
     ]
    },
    {
     "name": "stderr",
     "output_type": "stream",
     "text": [
      "Processing files:  41%|████      | 9/22 [19:17<23:12, 107.13s/file]"
     ]
    },
    {
     "name": "stdout",
     "output_type": "stream",
     "text": [
      "File written to 'D:/Geomatics/CHM/25GN2\\CHM_25GN2_15.TIF'\n",
      "\n",
      "Processed 25GN2_15.LAZ in 99.19 seconds and saved output to D:/Geomatics/CHM/25GN2\\CHM_25GN2_15.TIF\n",
      "processing tile 25GN2_14\n",
      "extracted vegetation points\n",
      "finished DT\n",
      "masked\n",
      "interpolated\n"
     ]
    },
    {
     "name": "stderr",
     "output_type": "stream",
     "text": [
      "Processing files:  45%|████▌     | 10/22 [22:15<25:46, 128.88s/file]"
     ]
    },
    {
     "name": "stdout",
     "output_type": "stream",
     "text": [
      "File written to 'D:/Geomatics/CHM/25GN2\\CHM_25GN2_14.TIF'\n",
      "\n",
      "Processed 25GN2_14.LAZ in 177.58 seconds and saved output to D:/Geomatics/CHM/25GN2\\CHM_25GN2_14.TIF\n",
      "processing tile 25GN2_13\n",
      "extracted vegetation points\n",
      "finished DT\n",
      "masked\n",
      "interpolated\n"
     ]
    },
    {
     "name": "stderr",
     "output_type": "stream",
     "text": [
      "Processing files:  50%|█████     | 11/22 [24:31<24:02, 131.16s/file]"
     ]
    },
    {
     "name": "stdout",
     "output_type": "stream",
     "text": [
      "File written to 'D:/Geomatics/CHM/25GN2\\CHM_25GN2_13.TIF'\n",
      "\n",
      "Processed 25GN2_13.LAZ in 136.31 seconds and saved output to D:/Geomatics/CHM/25GN2\\CHM_25GN2_13.TIF\n",
      "processing tile 25GN2_12\n",
      "extracted vegetation points\n",
      "finished DT\n",
      "masked\n",
      "interpolated\n"
     ]
    },
    {
     "name": "stderr",
     "output_type": "stream",
     "text": [
      "Processing files:  55%|█████▍    | 12/22 [26:01<19:46, 118.68s/file]"
     ]
    },
    {
     "name": "stdout",
     "output_type": "stream",
     "text": [
      "File written to 'D:/Geomatics/CHM/25GN2\\CHM_25GN2_12.TIF'\n",
      "\n",
      "Processed 25GN2_12.LAZ in 90.13 seconds and saved output to D:/Geomatics/CHM/25GN2\\CHM_25GN2_12.TIF\n",
      "processing tile 25GN2_11\n",
      "extracted vegetation points\n",
      "finished DT\n",
      "masked\n",
      "interpolated\n"
     ]
    },
    {
     "name": "stderr",
     "output_type": "stream",
     "text": [
      "Processing files:  59%|█████▉    | 13/22 [27:17<15:50, 105.60s/file]"
     ]
    },
    {
     "name": "stdout",
     "output_type": "stream",
     "text": [
      "File written to 'D:/Geomatics/CHM/25GN2\\CHM_25GN2_11.TIF'\n",
      "\n",
      "Processed 25GN2_11.LAZ in 75.51 seconds and saved output to D:/Geomatics/CHM/25GN2\\CHM_25GN2_11.TIF\n",
      "processing tile 25GN2_10\n",
      "extracted vegetation points\n",
      "finished DT\n",
      "masked\n"
     ]
    },
    {
     "name": "stderr",
     "output_type": "stream",
     "text": [
      "Processing files:  64%|██████▎   | 14/22 [28:10<11:58, 89.76s/file] "
     ]
    },
    {
     "name": "stdout",
     "output_type": "stream",
     "text": [
      "interpolated\n",
      "File written to 'D:/Geomatics/CHM/25GN2\\CHM_25GN2_10.TIF'\n",
      "\n",
      "Processed 25GN2_10.LAZ in 53.16 seconds and saved output to D:/Geomatics/CHM/25GN2\\CHM_25GN2_10.TIF\n",
      "processing tile 25GN2_09\n",
      "extracted vegetation points\n",
      "finished DT\n",
      "masked\n",
      "interpolated\n"
     ]
    },
    {
     "name": "stderr",
     "output_type": "stream",
     "text": [
      "Processing files:  68%|██████▊   | 15/22 [30:01<11:13, 96.23s/file]"
     ]
    },
    {
     "name": "stdout",
     "output_type": "stream",
     "text": [
      "File written to 'D:/Geomatics/CHM/25GN2\\CHM_25GN2_09.TIF'\n",
      "\n",
      "Processed 25GN2_09.LAZ in 111.21 seconds and saved output to D:/Geomatics/CHM/25GN2\\CHM_25GN2_09.TIF\n",
      "processing tile 25GN2_08\n",
      "extracted vegetation points\n",
      "finished DT\n",
      "masked\n",
      "interpolated\n"
     ]
    },
    {
     "name": "stderr",
     "output_type": "stream",
     "text": [
      "Processing files:  73%|███████▎  | 16/22 [31:15<08:57, 89.63s/file]"
     ]
    },
    {
     "name": "stdout",
     "output_type": "stream",
     "text": [
      "File written to 'D:/Geomatics/CHM/25GN2\\CHM_25GN2_08.TIF'\n",
      "\n",
      "Processed 25GN2_08.LAZ in 74.29 seconds and saved output to D:/Geomatics/CHM/25GN2\\CHM_25GN2_08.TIF\n",
      "processing tile 25GN2_07\n",
      "extracted vegetation points\n",
      "finished DT\n",
      "masked\n",
      "interpolated\n"
     ]
    },
    {
     "name": "stderr",
     "output_type": "stream",
     "text": [
      "Processing files:  77%|███████▋  | 17/22 [32:39<07:18, 87.70s/file]"
     ]
    },
    {
     "name": "stdout",
     "output_type": "stream",
     "text": [
      "File written to 'D:/Geomatics/CHM/25GN2\\CHM_25GN2_07.TIF'\n",
      "\n",
      "Processed 25GN2_07.LAZ in 83.21 seconds and saved output to D:/Geomatics/CHM/25GN2\\CHM_25GN2_07.TIF\n",
      "processing tile 25GN2_06\n",
      "extracted vegetation points\n",
      "finished DT\n",
      "masked\n",
      "interpolated\n"
     ]
    },
    {
     "name": "stderr",
     "output_type": "stream",
     "text": [
      "Processing files:  82%|████████▏ | 18/22 [33:46<05:26, 81.57s/file]"
     ]
    },
    {
     "name": "stdout",
     "output_type": "stream",
     "text": [
      "File written to 'D:/Geomatics/CHM/25GN2\\CHM_25GN2_06.TIF'\n",
      "\n",
      "Processed 25GN2_06.LAZ in 67.31 seconds and saved output to D:/Geomatics/CHM/25GN2\\CHM_25GN2_06.TIF\n",
      "processing tile 25GN2_05\n",
      "extracted vegetation points\n",
      "finished DT\n",
      "masked\n"
     ]
    },
    {
     "name": "stderr",
     "output_type": "stream",
     "text": [
      "Processing files:  86%|████████▋ | 19/22 [34:34<03:34, 71.45s/file]"
     ]
    },
    {
     "name": "stdout",
     "output_type": "stream",
     "text": [
      "interpolated\n",
      "File written to 'D:/Geomatics/CHM/25GN2\\CHM_25GN2_05.TIF'\n",
      "\n",
      "Processed 25GN2_05.LAZ in 47.89 seconds and saved output to D:/Geomatics/CHM/25GN2\\CHM_25GN2_05.TIF\n",
      "processing tile 25GN2_04\n",
      "extracted vegetation points\n",
      "finished DT\n",
      "masked\n",
      "interpolated\n"
     ]
    },
    {
     "name": "stderr",
     "output_type": "stream",
     "text": [
      "Processing files:  91%|█████████ | 20/22 [36:14<02:40, 80.23s/file]"
     ]
    },
    {
     "name": "stdout",
     "output_type": "stream",
     "text": [
      "File written to 'D:/Geomatics/CHM/25GN2\\CHM_25GN2_04.TIF'\n",
      "\n",
      "Processed 25GN2_04.LAZ in 100.67 seconds and saved output to D:/Geomatics/CHM/25GN2\\CHM_25GN2_04.TIF\n",
      "processing tile 25GN2_03\n",
      "extracted vegetation points\n",
      "finished DT\n",
      "masked\n",
      "interpolated\n"
     ]
    },
    {
     "name": "stderr",
     "output_type": "stream",
     "text": [
      "Processing files:  95%|█████████▌| 21/22 [37:47<01:24, 84.02s/file]"
     ]
    },
    {
     "name": "stdout",
     "output_type": "stream",
     "text": [
      "File written to 'D:/Geomatics/CHM/25GN2\\CHM_25GN2_03.TIF'\n",
      "\n",
      "Processed 25GN2_03.LAZ in 92.86 seconds and saved output to D:/Geomatics/CHM/25GN2\\CHM_25GN2_03.TIF\n",
      "processing tile 25GN2_02\n",
      "extracted vegetation points\n",
      "finished DT\n",
      "masked\n"
     ]
    },
    {
     "name": "stderr",
     "output_type": "stream",
     "text": [
      "Processing files: 100%|██████████| 22/22 [38:20<00:00, 104.57s/file]"
     ]
    },
    {
     "name": "stdout",
     "output_type": "stream",
     "text": [
      "interpolated\n",
      "File written to 'D:/Geomatics/CHM/25GN2\\CHM_25GN2_02.TIF'\n",
      "\n",
      "Processed 25GN2_02.LAZ in 32.63 seconds and saved output to D:/Geomatics/CHM/25GN2\\CHM_25GN2_02.TIF\n",
      "\n",
      "All files processed in 2300.46 seconds.\n"
     ]
    },
    {
     "name": "stderr",
     "output_type": "stream",
     "text": [
      "\n"
     ]
    }
   ],
   "execution_count": 3
  },
  {
   "metadata": {},
   "cell_type": "code",
   "source": [
    "input_folder = \"D:/Geomatics/LAZ_TILES/25GZ1\"\n",
    "output_folder = \"D:/Geomatics/CHM/25GZ1\"\n",
    "process_laz_files(input_folder, output_folder)"
   ],
   "id": "6cdf1a1f741c5a7d",
   "outputs": [],
   "execution_count": null
  },
  {
   "metadata": {},
   "cell_type": "code",
   "source": [
    "input_folder = \"D:/Geomatics/LAZ_TILES/25GZ2\"\n",
    "output_folder = \"D:/Geomatics/CHM/25GZ2\"\n",
    "process_laz_files(input_folder, output_folder)"
   ],
   "id": "a7e9d77b9c2d2815",
   "outputs": [],
   "execution_count": null
  },
  {
   "metadata": {},
   "cell_type": "code",
   "source": [
    "input_folder = \"D:/Geomatics/LAZ_TILES/25HN1\"\n",
    "output_folder = \"D:/Geomatics/CHM/25HN1\"\n",
    "process_laz_files(input_folder, output_folder)"
   ],
   "id": "64e6e0cecca5a621",
   "outputs": [],
   "execution_count": null
  },
  {
   "metadata": {},
   "cell_type": "code",
   "source": [
    "input_folder = \"D:/Geomatics/LAZ_TILES/25HZ1\"\n",
    "output_folder = \"D:/Geomatics/CHM/25HZ1\"\n",
    "process_laz_files(input_folder, output_folder)"
   ],
   "id": "a500ec229e7a285",
   "outputs": [],
   "execution_count": null
  },
  {
   "metadata": {},
   "cell_type": "code",
   "source": [
    "input_folder = \"D:/Geomatics/LAZ_TILES/25HZ2\"\n",
    "output_folder = \"D:/Geomatics/CHM/25HZ2\"\n",
    "process_laz_files(input_folder, output_folder)"
   ],
   "id": "559f6aee3822aa16",
   "outputs": [],
   "execution_count": null
  }
 ],
 "metadata": {
  "kernelspec": {
   "display_name": "Python 3",
   "language": "python",
   "name": "python3"
  },
  "language_info": {
   "codemirror_mode": {
    "name": "ipython",
    "version": 2
   },
   "file_extension": ".py",
   "mimetype": "text/x-python",
   "name": "python",
   "nbconvert_exporter": "python",
   "pygments_lexer": "ipython2",
   "version": "2.7.6"
  }
 },
 "nbformat": 4,
 "nbformat_minor": 5
}
