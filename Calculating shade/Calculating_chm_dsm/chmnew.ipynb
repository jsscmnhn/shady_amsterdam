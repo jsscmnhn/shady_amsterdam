{
 "cells": [
  {
   "cell_type": "code",
   "id": "initial_id",
   "metadata": {
    "collapsed": true,
    "ExecuteTime": {
     "end_time": "2024-10-08T16:01:47.888567Z",
     "start_time": "2024-10-08T16:01:42.035682Z"
    }
   },
   "source": [
    "import cProfile\n",
    "import io\n",
    "import os\n",
    "from venv import create\n",
    "\n",
    "import requests\n",
    "import pstats\n",
    "\n",
    "import numpy as np\n",
    "from laspy import LasData\n",
    "\n",
    "import functions\n",
    "from scipy.spatial import cKDTree \n",
    "from scipy.interpolate import griddata\n",
    "import startinpy\n",
    "import rasterio\n"
   ],
   "outputs": [],
   "execution_count": 1
  },
  {
   "cell_type": "code",
   "source": [
    "import laspy\n",
    "import numpy as np\n",
    "\n",
    "def extract_vegetation_points(LasData, ndvi_threshold=0.1):\n",
    "    \"\"\"\n",
    "    Extract vegetation points based on classification and NDVI threshold.\n",
    "    \n",
    "    Parameters:\n",
    "    - LasData (laspy.LasData): Input point cloud data.\n",
    "    - ndvi_threshold (float): The NDVI threshold to classify vegetation.\n",
    "    \n",
    "    Returns:\n",
    "    - veg_points (laspy.LasData): Filtered vegetation points as a new LasData object.\n",
    "    \"\"\"\n",
    "    \n",
    "    # Filter points based on classification (vegetation-related classes)\n",
    "    possible_vegetation_points = LasData[(LasData.classification == 1) |  # Unclassified\n",
    "                                         (LasData.classification == 3) |  # Low vegetation\n",
    "                                         (LasData.classification == 4) |  # Medium vegetation\n",
    "                                         (LasData.classification == 5)]   # High vegetation\n",
    "\n",
    "    # Calculate NDVI\n",
    "    red = possible_vegetation_points.red\n",
    "    nir = possible_vegetation_points.nir\n",
    "    ndvi = (nir.astype(float) - red) / (nir + red)\n",
    "\n",
    "    # Filter the points whose NDVI is greater than the threshold\n",
    "    veg_points = possible_vegetation_points[ndvi > ndvi_threshold]\n",
    "    \n",
    "    # EDIT THIS, ONLY FOR THE TILE WITH ISSUES (25GN224LAZ)\n",
    "    heights =veg_points.z\n",
    "    min_height = heights.min()\n",
    "    \n",
    "    # Filter out points with heights between the minimum height and 1.5 meters\n",
    "    filtered_veg_points = veg_points[(heights <= min_height) | (heights > 1.5)]\n",
    "\n",
    "    return filtered_veg_points\n",
    "\n",
    "def save_vegetation_points_as_las(LasData, output_file, veg_points, ndvi_threshold=0.1):\n",
    "    \"\"\"\n",
    "    Extract vegetation points and save them as a new LAS file.\n",
    "    \n",
    "    Parameters:\n",
    "    - LasData (laspy.LasData): Input point cloud data.\n",
    "    - output_file (str): Path to the output LAS file.\n",
    "    - ndvi_threshold (float): NDVI threshold for vegetation points.\n",
    "    \n",
    "    Returns:\n",
    "    - None\n",
    "    \"\"\"\n",
    "    # Extract vegetation points\n",
    "    \n",
    "    # Check if any points were filtered\n",
    "    if len(veg_points) == 0:\n",
    "        print(\"No vegetation points found with the given NDVI threshold.\")\n",
    "        return\n",
    "    \n",
    "    # Create a new LasData object for the vegetation points\n",
    "    veg_las_data = laspy.LasData(LasData.header)\n",
    "    veg_las_data.points = veg_points.points  # Assign the filtered vegetation points\n",
    "\n",
    "    # Save the vegetation points to a new LAS file\n",
    "    with laspy.open(output_file, mode=\"w\", header=veg_las_data.header) as writer:\n",
    "        writer.write_points(veg_las_data.points)\n",
    "    \n",
    "    print(f\"Vegetation points saved to {output_file}\")\n",
    "\n",
    "\n",
    "file_path = \"C:/Geomatics/data/25GN2_24.LAZ\"\n",
    "output_las = \"data/output_25gn224.las\""
   ],
   "metadata": {
    "collapsed": false,
    "ExecuteTime": {
     "end_time": "2024-10-08T16:01:47.992653Z",
     "start_time": "2024-10-08T16:01:47.968475Z"
    }
   },
   "id": "2f57e08f5377567",
   "outputs": [],
   "execution_count": 2
  },
  {
   "metadata": {
    "ExecuteTime": {
     "end_time": "2024-10-08T16:01:48.023977Z",
     "start_time": "2024-10-08T16:01:48.000180Z"
    }
   },
   "cell_type": "code",
   "source": [
    "import numpy as np\n",
    "import laspy\n",
    "\n",
    "def extract_lasData(LasData, ndvi_threshold=0.1):\n",
    "    red = LasData.red\n",
    "    nir = LasData.nir\n",
    "    ndvi = (nir.astype(float) - red) / (nir + red)\n",
    "\n",
    "    # Add NDVI as a new dimension/attribute to all points\n",
    "    if 'NDVI' not in LasData.point_format.dimension_names:\n",
    "        # Create an array to store NDVI values for all points\n",
    "        ndvi_dim = np.zeros(LasData.header.point_count, dtype=np.float32)\n",
    "        ndvi_dim = ndvi  # Assign NDVI values for all points\n",
    "\n",
    "        # Add this new dimension to LasData\n",
    "        LasData.add_extra_dim(laspy.ExtraBytesParams(name=\"NDVI\", type=np.float32))\n",
    "        LasData['NDVI'] = ndvi_dim  # Store NDVI for all points\n",
    "\n",
    "    # Filter points based on classification (vegetation-related classes)\n",
    "    possible_vegetation_points = LasData[(LasData.classification == 1) |  # Unclassified\n",
    "                                         (LasData.classification == 3) |  # Low vegetation\n",
    "                                         (LasData.classification == 4) |  # Medium vegetation\n",
    "                                         (LasData.classification == 5)]   # High vegetation\n",
    "\n",
    "\n",
    "    return LasData"
   ],
   "id": "868cbb33e221d75c",
   "outputs": [],
   "execution_count": 3
  },
  {
   "cell_type": "code",
   "source": [
    "with laspy.open(file_path, laz_backend=laspy.LazBackend.Lazrs) as las_file:\n",
    "    las_data = las_file.read()\n",
    "\n",
    "veg_points = extract_vegetation_points(las_data, ndvi_threshold=0.0)"
   ],
   "metadata": {
    "collapsed": false,
    "ExecuteTime": {
     "end_time": "2024-10-08T15:32:40.293106Z",
     "start_time": "2024-10-08T15:29:10.539966Z"
    }
   },
   "id": "f698209d33d2b328",
   "outputs": [],
   "execution_count": 4
  },
  {
   "cell_type": "code",
   "source": "las_data.header.mins",
   "metadata": {
    "collapsed": false,
    "ExecuteTime": {
     "end_time": "2024-10-05T12:11:16.247812Z",
     "start_time": "2024-10-05T12:11:16.232026Z"
    }
   },
   "id": "97f3eda85ddb3e8e",
   "outputs": [
    {
     "data": {
      "text/plain": [
       "array([ 1.2598e+05,  4.8373e+05, -5.4670e+00])"
      ]
     },
     "execution_count": 6,
     "metadata": {},
     "output_type": "execute_result"
    }
   ],
   "execution_count": 6
  },
  {
   "metadata": {
    "ExecuteTime": {
     "end_time": "2024-10-05T12:13:33.203654Z",
     "start_time": "2024-10-05T12:13:32.031933Z"
    }
   },
   "cell_type": "code",
   "source": [
    "min_x, max_x = round(las_data.x.min()), round(las_data.x.max())\n",
    "min_y, max_y = round(las_data.y.min()), round(las_data.y.max())\n",
    "\n",
    "# Define size of the region\n",
    "x_length = max_x - min_x\n",
    "y_length = max_y - min_y"
   ],
   "id": "e934e680fb38f948",
   "outputs": [],
   "execution_count": 7
  },
  {
   "metadata": {
    "ExecuteTime": {
     "end_time": "2024-10-05T12:16:16.481258Z",
     "start_time": "2024-10-05T12:16:15.515906Z"
    }
   },
   "cell_type": "code",
   "source": "veg_points.xyz",
   "id": "d0c819b3b96bd541",
   "outputs": [
    {
     "data": {
      "text/plain": [
       "array([[1.25999463e+05, 4.83730062e+05, 1.37900000e+00],\n",
       "       [1.25999147e+05, 4.83730237e+05, 1.41600000e+00],\n",
       "       [1.25999136e+05, 4.83730003e+05, 1.42600000e+00],\n",
       "       ...,\n",
       "       [1.27002546e+05, 4.85014363e+05, 1.89900000e+00],\n",
       "       [1.27002497e+05, 4.85014584e+05, 2.21000000e+00],\n",
       "       [1.27002423e+05, 4.85014274e+05, 2.04800000e+00]])"
      ]
     },
     "execution_count": 14,
     "metadata": {},
     "output_type": "execute_result"
    }
   ],
   "execution_count": 14
  },
  {
   "metadata": {
    "ExecuteTime": {
     "end_time": "2024-10-05T12:16:31.823987Z",
     "start_time": "2024-10-05T12:16:30.980205Z"
    }
   },
   "cell_type": "code",
   "source": "points_list = np.array(veg_points.xyz)",
   "id": "7ab169c631081eb",
   "outputs": [],
   "execution_count": 15
  },
  {
   "metadata": {
    "ExecuteTime": {
     "end_time": "2024-10-05T12:20:02.463872Z",
     "start_time": "2024-10-05T12:20:02.445534Z"
    }
   },
   "cell_type": "code",
   "source": "import startinpy",
   "id": "56ee14e2f4787ef8",
   "outputs": [],
   "execution_count": 17
  },
  {
   "metadata": {
    "ExecuteTime": {
     "end_time": "2024-10-05T12:20:16.075910Z",
     "start_time": "2024-10-05T12:20:16.063607Z"
    }
   },
   "cell_type": "code",
   "source": "dt = startinpy.DT()",
   "id": "965e000195373659",
   "outputs": [],
   "execution_count": 18
  },
  {
   "metadata": {
    "ExecuteTime": {
     "end_time": "2024-10-05T12:21:18.290328Z",
     "start_time": "2024-10-05T12:20:33.297290Z"
    }
   },
   "cell_type": "code",
   "source": "dt.insert(veg_points.xyz, \"BBox\")",
   "id": "c743a895bae18d1d",
   "outputs": [],
   "execution_count": 19
  },
  {
   "cell_type": "code",
   "source": [
    "def interpolation_vegetation(LasData, veg_points, resolution, dt, no_data_value=-9999):\n",
    "    \"\"\"\n",
    "    Create a vegetation raster using Inverse Distance Weighting (IDW) interpolation.\n",
    "\n",
    "    Parameters:\n",
    "    - LasData (laspy.LasData): Input LAS data.\n",
    "    - points (laspy.LasData): Vegetation points to be interpolated.\n",
    "    - center_point (tuple): Center coordinates (x, y) of the region of interest.\n",
    "    - resolution (float): Resolution of the raster.\n",
    "    - half_size (float): Half of the size of the tile (defines the extent of the raster).\n",
    "    - search_radius (float): Radius for the IDW search. Default is 1.\n",
    "    - power (float): Power parameter for the IDW algorithm. Default is 2.\n",
    "\n",
    "    Returns:\n",
    "    - vege_raster (np.ndarray): Generated raster for vegetation.\n",
    "    - grid_center_xy (tuple): Grid of x, y center coordinates for each raster cell.\n",
    "    \"\"\"\n",
    "\n",
    "    # Extents of the pc\n",
    "    min_x, max_x = round(LasData.x.min()), round(LasData.x.max())\n",
    "    min_y, max_y = round(LasData.y.min()), round(LasData.y.max())\n",
    "\n",
    "    # Define size of the region\n",
    "    x_length = max_x - min_x\n",
    "    y_length = max_y - min_y\n",
    "\n",
    "    # Number of rows and columns\n",
    "    cols = round(x_length / resolution)\n",
    "    rows = round(y_length / resolution)\n",
    "\n",
    "    # Initialize raster grid\n",
    "    vege_raster = np.full((rows, cols), no_data_value, dtype=np.float32)\n",
    "\n",
    "    # Calculate center coords for each grid cell\n",
    "    grid_center_xy = functions.raster_center_coords(min_x, max_x, min_y, max_y, resolution)\n",
    "    \n",
    "\n",
    "\n",
    "    if dt.number_of_vertices == 0:\n",
    "        print(\" There are no vegetation points in the current area.\")\n",
    "        return vege_raster, grid_center_xy\n",
    "    \n",
    "    # Flatten the grid to get a list of all (col, row) locations\n",
    "    locs = np.column_stack((grid_center_xy[0].ravel(), grid_center_xy[1].ravel()))\n",
    "    \n",
    "    vegetation_points = np.column_stack((veg_points.x, veg_points.y))\n",
    "    tree = cKDTree(vegetation_points)\n",
    "\n",
    "    # Find the distance to the nearest vegetation point for each grid cell\n",
    "    distances, _ = tree.query(locs, k=1)  # Find nearest neighbor distances\n",
    "    \n",
    "    distance_threshold = 1\n",
    "    # Mask cells where the distance to the nearest point exceeds the threshold\n",
    "    within_threshold_mask = distances <= distance_threshold\n",
    "\n",
    "    # Perform interpolation only for locations within the distance threshold\n",
    "    valid_locs = locs[within_threshold_mask]\n",
    "\n",
    "    # laplace interpolation\n",
    "    interpolated_values = dt.interpolate({\"method\": \"Laplace\"}, valid_locs)\n",
    "\n",
    "    # reshape interpolated grid back to og\n",
    "    interpolated_grid = np.full_like(vege_raster, no_data_value, dtype=np.float32)  # Start with no_data\n",
    "    interpolated_grid.ravel()[within_threshold_mask] = interpolated_values \n",
    "\n",
    "    return interpolated_grid, grid_center_xy"
   ],
   "metadata": {
    "collapsed": false,
    "ExecuteTime": {
     "end_time": "2024-10-05T18:05:03.820298Z",
     "start_time": "2024-10-05T18:05:03.747617Z"
    }
   },
   "id": "6bb75e9989f43236",
   "outputs": [],
   "execution_count": 76
  },
  {
   "metadata": {
    "ExecuteTime": {
     "end_time": "2024-10-05T17:53:57.097027Z",
     "start_time": "2024-10-05T17:52:52.873401Z"
    }
   },
   "cell_type": "code",
   "source": "# vegetation_data = interpolation_vegetation(las_data, veg_points, 0.5, dt3)",
   "id": "244790e7f8240f39",
   "outputs": [],
   "execution_count": 74
  },
  {
   "metadata": {
    "ExecuteTime": {
     "end_time": "2024-10-05T17:44:49.623025Z",
     "start_time": "2024-10-05T17:44:49.509711Z"
    }
   },
   "cell_type": "code",
   "source": "# vegetation_data[0]",
   "id": "9eccc566746a2604",
   "outputs": [
    {
     "data": {
      "text/plain": [
       "array([[-9.99900000e+03, -9.99900000e+03, -9.99900000e+03, ...,\n",
       "         1.14863224e-01, -4.00468677e-01,             nan],\n",
       "       [-9.99900000e+03, -9.99900000e+03, -9.99900000e+03, ...,\n",
       "        -1.55634314e-01, -1.87330991e-01,             nan],\n",
       "       [-9.99900000e+03, -9.99900000e+03, -9.99900000e+03, ...,\n",
       "        -9.99900000e+03, -9.99900000e+03, -9.99900000e+03],\n",
       "       ...,\n",
       "       [ 4.44815934e-01,  8.68079290e-02,  1.89682758e+00, ...,\n",
       "        -9.99900000e+03,             nan,             nan],\n",
       "       [ 2.31232214e+00, -5.39936088e-02,  7.85766006e-01, ...,\n",
       "        -9.99900000e+03, -9.99900000e+03, -9.99900000e+03],\n",
       "       [            nan,  1.97609425e+00,  1.22713971e+00, ...,\n",
       "        -9.99900000e+03, -9.99900000e+03, -9.99900000e+03]], dtype=float32)"
      ]
     },
     "execution_count": 67,
     "metadata": {},
     "output_type": "execute_result"
    }
   ],
   "execution_count": 67
  },
  {
   "metadata": {
    "ExecuteTime": {
     "end_time": "2024-10-05T17:11:38.312635Z",
     "start_time": "2024-10-05T17:11:36.835627Z"
    }
   },
   "cell_type": "code",
   "source": "",
   "id": "cbd133f2e31fb600",
   "outputs": [],
   "execution_count": 52
  },
  {
   "metadata": {
    "ExecuteTime": {
     "end_time": "2024-10-05T18:35:53.617799Z",
     "start_time": "2024-10-05T18:35:53.607713Z"
    }
   },
   "cell_type": "code",
   "source": [
    "def chm_creation(LasData, vegetation_data, output_filename, resolution=0.5):\n",
    "\n",
    "    veg_raster = vegetation_data[0]\n",
    "    grid_centers = vegetation_data[1]\n",
    "    top_left_x = grid_centers[0][0, 0] - resolution / 2\n",
    "    top_left_y = grid_centers[1][0, 0] + resolution / 2\n",
    "\n",
    "    transform = functions.create_affine_transform(top_left_x, top_left_y, resolution)\n",
    "\n",
    "    functions.write_output(veg_points, veg_raster, transform, output_filename, True)"
   ],
   "id": "9a0266112b694a8b",
   "outputs": [],
   "execution_count": 3
  },
  {
   "metadata": {},
   "cell_type": "code",
   "outputs": [],
   "execution_count": null,
   "source": "",
   "id": "253e93ae90993996"
  },
  {
   "metadata": {
    "ExecuteTime": {
     "end_time": "2024-10-05T17:53:57.701634Z",
     "start_time": "2024-10-05T17:53:57.326919Z"
    }
   },
   "cell_type": "code",
   "source": "chm_creation(las_data, vegetation_data, \"tryout/chm5.TIF\")",
   "id": "3e4307164510a51d",
   "outputs": [
    {
     "name": "stdout",
     "output_type": "stream",
     "text": [
      "File written to 'tryout/chm5.TIF'\n"
     ]
    }
   ],
   "execution_count": 75
  },
  {
   "cell_type": "markdown",
   "source": [],
   "metadata": {
    "collapsed": false
   },
   "id": "243b877ff01d59f1"
  },
  {
   "cell_type": "code",
   "source": "save_vegetation_points_as_las(las_data, output_las, veg_points, ndvi_threshold=0.0)",
   "metadata": {
    "collapsed": false,
    "ExecuteTime": {
     "end_time": "2024-10-08T15:34:56.296494Z",
     "start_time": "2024-10-08T15:34:46.777628Z"
    }
   },
   "id": "41f2181341c96e58",
   "outputs": [
    {
     "name": "stdout",
     "output_type": "stream",
     "text": [
      "Vegetation points saved to data/output_25gn224.las\n"
     ]
    }
   ],
   "execution_count": 5
  },
  {
   "metadata": {},
   "cell_type": "code",
   "outputs": [],
   "execution_count": null,
   "source": "",
   "id": "8fc3f3627abf23c1"
  },
  {
   "cell_type": "code",
   "source": [
    "import functions\n",
    "import os\n",
    "import laspy\n",
    "import time  # Import time module to track time\n",
    "from tqdm import tqdm\n",
    "import numpy as np\n",
    "\n",
    "def extract_vegetation_points(LasData, ndvi_threshold=0.1):\n",
    "    \"\"\"\n",
    "    Extract vegetation points based on classification and NDVI threshold.\n",
    "\n",
    "    Parameters:\n",
    "    - LasData (laspy.LasData): Input point cloud data.\n",
    "    - ndvi_threshold (float): The NDVI threshold to classify vegetation.\n",
    "\n",
    "    Returns:\n",
    "    - veg_points (laspy.LasData): Filtered vegetation points as a new LasData object.\n",
    "    \"\"\"\n",
    "\n",
    "    # Filter points based on classification (vegetation-related classes)\n",
    "    possible_vegetation_points = LasData[(LasData.classification == 1) |  # Unclassified\n",
    "                                         (LasData.classification == 3) |  # Low vegetation\n",
    "                                         (LasData.classification == 4) |  # Medium vegetation\n",
    "                                         (LasData.classification == 5)]  # High vegetation\n",
    "\n",
    "    # Calculate NDVI\n",
    "    red = possible_vegetation_points.red\n",
    "    nir = possible_vegetation_points.nir\n",
    "    ndvi = (nir.astype(float) - red) / (nir + red)\n",
    "\n",
    "    # Filter the points whose NDVI is greater than the threshold\n",
    "    veg_points = possible_vegetation_points[ndvi > ndvi_threshold]\n",
    "    print(\"extracted vegetation points\")\n",
    "    \n",
    "      # EDIT THIS, ONLY FOR THE TILE WITH ISSUES (25GN224LAZ)\n",
    "    heights =veg_points.z\n",
    "    min_height = heights.min()\n",
    "    \n",
    "    # Filter out points with heights between the minimum height and 1.5 meters\n",
    "    filtered_veg_points = veg_points[(heights <= min_height) | (heights > 1.5)]\n",
    "\n",
    "    return filtered_veg_points\n",
    "\n",
    "def chm_creation(LasData, vegetation_data, output_filename, resolution=0.5):\n",
    "\n",
    "    veg_raster = vegetation_data[0]\n",
    "    grid_centers = vegetation_data[1]\n",
    "    top_left_x = grid_centers[0][0, 0] - resolution / 2\n",
    "    top_left_y = grid_centers[1][0, 0] + resolution / 2\n",
    "\n",
    "    transform = functions.create_affine_transform(top_left_x, top_left_y, resolution)\n",
    "\n",
    "    functions.write_output(LasData, veg_raster, transform, output_filename, True)\n",
    "\n",
    "def interpolation_vegetation(LasData, veg_points, resolution, no_data_value=-9999):\n",
    "    \"\"\"\n",
    "    Create a vegetation raster using Inverse Distance Weighting (IDW) interpolation.\n",
    "\n",
    "    Parameters:\n",
    "    - LasData (laspy.LasData): Input LAS data.\n",
    "    - veg_points (laspy.LasData): Vegetation points to be interpolated.\n",
    "    - resolution (float): Resolution of the raster.\n",
    "    - no_data_value (int): Value for no data\n",
    "\n",
    "    Returns:\n",
    "    - interpolated_grid (np.ndarray): Generated raster for vegetation.\n",
    "    - grid_center_xy (tuple): Grid of x, y center coordinates for each raster cell.\n",
    "    \"\"\"\n",
    "\n",
    "    # Extents of the pc\n",
    "    min_x, max_x = round(LasData.x.min()), round(LasData.x.max())\n",
    "    min_y, max_y = round(LasData.y.min()), round(LasData.y.max())\n",
    "\n",
    "    # Define size of the region\n",
    "    x_length = max_x - min_x\n",
    "    y_length = max_y - min_y\n",
    "\n",
    "    # Number of rows and columns\n",
    "    cols = round(x_length / resolution)\n",
    "    rows = round(y_length / resolution)\n",
    "\n",
    "    # Initialize raster grid\n",
    "    vege_raster = np.full((rows, cols), no_data_value, dtype=np.float32)\n",
    "\n",
    "    # Calculate center coords for each grid cell\n",
    "    grid_center_xy = functions.raster_center_coords(min_x, max_x, min_y, max_y, resolution)\n",
    "    \n",
    "    if  veg_points.x.shape[0] == 0:\n",
    "        print(\"There are no vegetation points in the current area.\")\n",
    "        vege_raster = np.full((rows, cols), 0, dtype=np.float32)\n",
    "        return vege_raster, grid_center_xy\n",
    "    \n",
    "    # create the delaunay triangulation\n",
    "    dt = startinpy.DT()\n",
    "    dt.insert(veg_points.xyz, \"BBox\")\n",
    "    \n",
    "    print(\"finished DT\")\n",
    "    \n",
    "    # Flatten the grid to get a list of all center coords\n",
    "    locs = np.column_stack((grid_center_xy[0].ravel(), grid_center_xy[1].ravel()))\n",
    "    \n",
    "    vegetation_points = np.column_stack((veg_points.x, veg_points.y))\n",
    "    tree = cKDTree(vegetation_points)\n",
    "\n",
    "    # Find the distance to the nearest vegetation point for each grid cell\n",
    "    distances, _ = tree.query(locs, k=1) \n",
    "    \n",
    "    distance_threshold = 1\n",
    "    # masking cells that exceed threshold\n",
    "    within_threshold_mask = distances <= distance_threshold\n",
    "    print(\"masked\")\n",
    "    # Interpolation only for those near\n",
    "    valid_locs = locs[within_threshold_mask]\n",
    "\n",
    "    # laplace interpolation\n",
    "    interpolated_values = dt.interpolate({\"method\": \"Laplace\"}, valid_locs)\n",
    "\n",
    "    # reshape interpolated grid back to og\n",
    "    interpolated_grid = np.full_like(vege_raster, no_data_value, dtype=np.float32)  # Start with no_data\n",
    "    interpolated_grid.ravel()[within_threshold_mask] = interpolated_values \n",
    "    print(\"interpolated\")\n",
    "\n",
    "    return interpolated_grid, grid_center_xy\n",
    "\n",
    "\n",
    "def process_laz_files(input_folder, output_folder, ndvi_threshold=0.0, resolution=0.5):\n",
    "    if not os.path.exists(output_folder):\n",
    "        os.makedirs(output_folder)\n",
    "\n",
    "    laz_files = [f for f in os.listdir(input_folder) if f.endswith(\".LAZ\")]\n",
    "\n",
    "    total_start_time = time.time()\n",
    "\n",
    "    # Iterate over files\n",
    "    for file_name in tqdm(laz_files, desc=\"Processing files\", unit=\"file\"):\n",
    "        file_path = os.path.join(input_folder, file_name)\n",
    "        tile_name = os.path.splitext(file_name)[0]\n",
    "        output_filename = os.path.join(output_folder, f\"CHM_{tile_name}.TIF\")\n",
    "        print(f\"processing tile {tile_name}\")\n",
    "        start_time = time.time()\n",
    "\n",
    "        # Load LAS data\n",
    "        with laspy.open(file_path) as las:\n",
    "            LasData = las.read()\n",
    "\n",
    "        # Extract vegetation points\n",
    "        veg_points = extract_vegetation_points(LasData, ndvi_threshold=ndvi_threshold)\n",
    "        \n",
    "        vegetation_data = interpolation_vegetation(LasData, veg_points, 0.5)\n",
    "\n",
    "        # Create the CHM and save it\n",
    "        chm_creation(LasData, vegetation_data, output_filename, resolution=resolution)\n",
    "\n",
    "        # Calculate time taken for current file\n",
    "        elapsed_time = time.time() - start_time\n",
    "        print(f\"\\nProcessed {file_name} in {elapsed_time:.2f} seconds and saved output to {output_filename}\")\n",
    "\n",
    "        # os.remove(file_path)\n",
    "        # print(f\"Deleted file: {file_path}\")\n",
    "\n",
    "    # Calculate and print total processing time\n",
    "    total_elapsed_time = time.time() - total_start_time\n",
    "    print(f\"\\nAll files processed in {total_elapsed_time:.2f} seconds.\")"
   ],
   "metadata": {
    "collapsed": false,
    "ExecuteTime": {
     "end_time": "2024-10-08T16:03:02.120536Z",
     "start_time": "2024-10-08T16:03:02.072590Z"
    }
   },
   "id": "d7c93b249b72b03c",
   "outputs": [],
   "execution_count": 4
  },
  {
   "metadata": {},
   "cell_type": "code",
   "outputs": [],
   "execution_count": null,
   "source": "",
   "id": "1a08fe863ed53a4b"
  },
  {
   "metadata": {
    "ExecuteTime": {
     "end_time": "2024-10-08T11:13:14.913718Z",
     "start_time": "2024-10-08T11:11:50.440564Z"
    }
   },
   "cell_type": "code",
   "source": [
    "input_folder = \"C:/Geomatics/data/FORGOTTENLAZ/25BZ2\"\n",
    "output_folder = \"C:\\Geomatics\\data\\output_forgotten\"\n",
    "process_laz_files(input_folder, output_folder)"
   ],
   "id": "fbfc34c4637772a6",
   "outputs": [
    {
     "name": "stderr",
     "output_type": "stream",
     "text": [
      "Processing files:   0%|          | 0/2 [00:00<?, ?file/s]"
     ]
    },
    {
     "name": "stdout",
     "output_type": "stream",
     "text": [
      "processing tile 25BZ2_09\n",
      "extracted vegetation points\n",
      "finished DT\n",
      "masked\n"
     ]
    },
    {
     "name": "stderr",
     "output_type": "stream",
     "text": [
      "Processing files:  50%|█████     | 1/2 [00:32<00:32, 32.79s/file]"
     ]
    },
    {
     "name": "stdout",
     "output_type": "stream",
     "text": [
      "interpolated\n",
      "File written to 'C:\\Geomatics\\data\\output_forgotten\\CHM_25BZ2_09.TIF'\n",
      "\n",
      "Processed 25BZ2_09.LAZ in 32.79 seconds and saved output to C:\\Geomatics\\data\\output_forgotten\\CHM_25BZ2_09.TIF\n",
      "processing tile 25BZ2_16\n",
      "extracted vegetation points\n",
      "finished DT\n",
      "masked\n"
     ]
    },
    {
     "name": "stderr",
     "output_type": "stream",
     "text": [
      "Processing files: 100%|██████████| 2/2 [01:24<00:00, 42.11s/file]"
     ]
    },
    {
     "name": "stdout",
     "output_type": "stream",
     "text": [
      "interpolated\n",
      "File written to 'C:\\Geomatics\\data\\output_forgotten\\CHM_25BZ2_16.TIF'\n",
      "\n",
      "Processed 25BZ2_16.LAZ in 51.44 seconds and saved output to C:\\Geomatics\\data\\output_forgotten\\CHM_25BZ2_16.TIF\n",
      "\n",
      "All files processed in 84.25 seconds.\n"
     ]
    },
    {
     "name": "stderr",
     "output_type": "stream",
     "text": [
      "\n"
     ]
    }
   ],
   "execution_count": 4
  },
  {
   "metadata": {
    "ExecuteTime": {
     "end_time": "2024-10-08T11:13:40.883220Z",
     "start_time": "2024-10-08T11:13:23.035895Z"
    }
   },
   "cell_type": "code",
   "source": [
    "input_folder = \"C:/Geomatics/data/FORGOTTENLAZ/25GZ1\"\n",
    "output_folder = \"C:\\Geomatics\\data\\output_forgotten\"\n",
    "process_laz_files(input_folder, output_folder)"
   ],
   "id": "50900b55200fc8ca",
   "outputs": [
    {
     "name": "stderr",
     "output_type": "stream",
     "text": [
      "Processing files:   0%|          | 0/1 [00:00<?, ?file/s]"
     ]
    },
    {
     "name": "stdout",
     "output_type": "stream",
     "text": [
      "processing tile 25GZ1_20\n",
      "extracted vegetation points\n",
      "finished DT\n",
      "masked\n"
     ]
    },
    {
     "name": "stderr",
     "output_type": "stream",
     "text": [
      "Processing files: 100%|██████████| 1/1 [00:17<00:00, 17.69s/file]"
     ]
    },
    {
     "name": "stdout",
     "output_type": "stream",
     "text": [
      "interpolated\n",
      "File written to 'C:\\Geomatics\\data\\output_forgotten\\CHM_25GZ1_20.TIF'\n",
      "\n",
      "Processed 25GZ1_20.LAZ in 17.69 seconds and saved output to C:\\Geomatics\\data\\output_forgotten\\CHM_25GZ1_20.TIF\n",
      "\n",
      "All files processed in 17.70 seconds.\n"
     ]
    },
    {
     "name": "stderr",
     "output_type": "stream",
     "text": [
      "\n"
     ]
    }
   ],
   "execution_count": 5
  },
  {
   "metadata": {
    "ExecuteTime": {
     "end_time": "2024-10-08T11:19:48.290200Z",
     "start_time": "2024-10-08T11:13:51.166615Z"
    }
   },
   "cell_type": "code",
   "source": [
    "input_folder = \"C:/Geomatics/data/FORGOTTENLAZ/25DN2\"\n",
    "output_folder = \"C:\\Geomatics\\data\\output_forgotten\"\n",
    "process_laz_files(input_folder, output_folder)"
   ],
   "id": "d0b2e5043ce072e9",
   "outputs": [
    {
     "name": "stderr",
     "output_type": "stream",
     "text": [
      "Processing files:   0%|          | 0/2 [00:00<?, ?file/s]"
     ]
    },
    {
     "name": "stdout",
     "output_type": "stream",
     "text": [
      "processing tile 25DN2_22\n",
      "extracted vegetation points\n",
      "finished DT\n",
      "masked\n"
     ]
    },
    {
     "name": "stderr",
     "output_type": "stream",
     "text": [
      "Processing files:  50%|█████     | 1/2 [02:25<02:25, 145.20s/file]"
     ]
    },
    {
     "name": "stdout",
     "output_type": "stream",
     "text": [
      "interpolated\n",
      "File written to 'C:\\Geomatics\\data\\output_forgotten\\CHM_25DN2_22.TIF'\n",
      "\n",
      "Processed 25DN2_22.LAZ in 145.20 seconds and saved output to C:\\Geomatics\\data\\output_forgotten\\CHM_25DN2_22.TIF\n",
      "processing tile 25DN2_23\n",
      "extracted vegetation points\n",
      "finished DT\n",
      "masked\n"
     ]
    },
    {
     "name": "stderr",
     "output_type": "stream",
     "text": [
      "Processing files: 100%|██████████| 2/2 [05:56<00:00, 178.41s/file]"
     ]
    },
    {
     "name": "stdout",
     "output_type": "stream",
     "text": [
      "interpolated\n",
      "File written to 'C:\\Geomatics\\data\\output_forgotten\\CHM_25DN2_23.TIF'\n",
      "\n",
      "Processed 25DN2_23.LAZ in 211.60 seconds and saved output to C:\\Geomatics\\data\\output_forgotten\\CHM_25DN2_23.TIF\n",
      "\n",
      "All files processed in 356.82 seconds.\n"
     ]
    },
    {
     "name": "stderr",
     "output_type": "stream",
     "text": [
      "\n"
     ]
    }
   ],
   "execution_count": 6
  },
  {
   "metadata": {
    "ExecuteTime": {
     "end_time": "2024-10-08T11:20:33.155487Z",
     "start_time": "2024-10-08T11:19:48.541168Z"
    }
   },
   "cell_type": "code",
   "source": [
    "input_folder = \"C:/Geomatics/data/FORGOTTENLAZ/25HN1\"\n",
    "output_folder = \"C:\\Geomatics\\data\\output_forgotten\"\n",
    "process_laz_files(input_folder, output_folder)"
   ],
   "id": "2ba60a645fea6dfb",
   "outputs": [
    {
     "name": "stderr",
     "output_type": "stream",
     "text": [
      "Processing files:   0%|          | 0/1 [00:00<?, ?file/s]"
     ]
    },
    {
     "name": "stdout",
     "output_type": "stream",
     "text": [
      "processing tile 25HN1_24\n",
      "extracted vegetation points\n",
      "finished DT\n",
      "masked\n"
     ]
    },
    {
     "name": "stderr",
     "output_type": "stream",
     "text": [
      "Processing files: 100%|██████████| 1/1 [00:44<00:00, 44.50s/file]"
     ]
    },
    {
     "name": "stdout",
     "output_type": "stream",
     "text": [
      "interpolated\n",
      "File written to 'C:\\Geomatics\\data\\output_forgotten\\CHM_25HN1_24.TIF'\n",
      "\n",
      "Processed 25HN1_24.LAZ in 44.50 seconds and saved output to C:\\Geomatics\\data\\output_forgotten\\CHM_25HN1_24.TIF\n",
      "\n",
      "All files processed in 44.51 seconds.\n"
     ]
    },
    {
     "name": "stderr",
     "output_type": "stream",
     "text": [
      "\n"
     ]
    }
   ],
   "execution_count": 7
  },
  {
   "metadata": {
    "ExecuteTime": {
     "end_time": "2024-10-08T16:10:54.236314Z",
     "start_time": "2024-10-08T16:03:23.790939Z"
    }
   },
   "cell_type": "code",
   "source": [
    "input_folder = \"C:/Geomatics/data/FORGOTTENLAZ/25GN2\"\n",
    "output_folder = \"C:\\Geomatics\\data\\output_forgotten\"\n",
    "process_laz_files(input_folder, output_folder)"
   ],
   "id": "2aa14ad0383e3be0",
   "outputs": [
    {
     "name": "stderr",
     "output_type": "stream",
     "text": [
      "Processing files:   0%|          | 0/1 [00:00<?, ?file/s]"
     ]
    },
    {
     "name": "stdout",
     "output_type": "stream",
     "text": [
      "processing tile 25GN2_24\n",
      "extracted vegetation points\n",
      "finished DT\n",
      "masked\n",
      "interpolated\n"
     ]
    },
    {
     "name": "stderr",
     "output_type": "stream",
     "text": [
      "Processing files: 100%|██████████| 1/1 [07:29<00:00, 449.69s/file]"
     ]
    },
    {
     "name": "stdout",
     "output_type": "stream",
     "text": [
      "File written to 'C:\\Geomatics\\data\\output_forgotten\\CHM_25GN2_24.TIF'\n",
      "\n",
      "Processed 25GN2_24.LAZ in 449.67 seconds and saved output to C:\\Geomatics\\data\\output_forgotten\\CHM_25GN2_24.TIF\n",
      "\n",
      "All files processed in 449.71 seconds.\n"
     ]
    },
    {
     "name": "stderr",
     "output_type": "stream",
     "text": [
      "\n"
     ]
    }
   ],
   "execution_count": 5
  },
  {
   "metadata": {
    "ExecuteTime": {
     "end_time": "2024-10-07T18:52:21.868581Z",
     "start_time": "2024-10-07T18:52:12.349Z"
    }
   },
   "cell_type": "code",
   "source": [
    "input_folder = \"D:/Geomatics/LAZ_TILES/25HN1_special\"\n",
    "output_folder = \"D:/Geomatics/CHM/25HN1_special\"\n",
    "process_laz_files(input_folder, output_folder)"
   ],
   "id": "36ea6415b47c3166",
   "outputs": [
    {
     "name": "stderr",
     "output_type": "stream",
     "text": [
      "Processing files:   0%|          | 0/2 [00:00<?, ?file/s]"
     ]
    },
    {
     "name": "stdout",
     "output_type": "stream",
     "text": [
      "processing tile 25HN1_07\n",
      "extracted vegetation points\n"
     ]
    },
    {
     "name": "stderr",
     "output_type": "stream",
     "text": [
      "Processing files:  50%|█████     | 1/2 [00:02<00:02,  2.42s/file]"
     ]
    },
    {
     "name": "stdout",
     "output_type": "stream",
     "text": [
      "There are no vegetation points in the current area.\n",
      "File written to 'D:/Geomatics/CHM/25HN1_special\\CHM_25HN1_07.TIF'\n",
      "\n",
      "Processed 25HN1_07.LAZ in 2.42 seconds and saved output to D:/Geomatics/CHM/25HN1_special\\CHM_25HN1_07.TIF\n",
      "processing tile 25HN1_06\n",
      "extracted vegetation points\n"
     ]
    },
    {
     "name": "stderr",
     "output_type": "stream",
     "text": [
      "Processing files: 100%|██████████| 2/2 [00:09<00:00,  4.69s/file]"
     ]
    },
    {
     "name": "stdout",
     "output_type": "stream",
     "text": [
      "There are no vegetation points in the current area.\n",
      "File written to 'D:/Geomatics/CHM/25HN1_special\\CHM_25HN1_06.TIF'\n",
      "\n",
      "Processed 25HN1_06.LAZ in 6.97 seconds and saved output to D:/Geomatics/CHM/25HN1_special\\CHM_25HN1_06.TIF\n",
      "\n",
      "All files processed in 9.39 seconds.\n"
     ]
    },
    {
     "name": "stderr",
     "output_type": "stream",
     "text": [
      "\n"
     ]
    }
   ],
   "execution_count": 29
  },
  {
   "cell_type": "code",
   "source": [
    "input_folder = \"D:/Geomatics/LAZ_TILES/25HZ2\"\n",
    "output_folder = \"D:/Geomatics/CHM/25HZ2\"\n",
    "process_laz_files(input_folder, output_folder)"
   ],
   "metadata": {
    "collapsed": false,
    "jupyter": {
     "is_executing": true
    },
    "ExecuteTime": {
     "start_time": "2024-10-05T18:15:54.235799Z"
    }
   },
   "id": "80631a045c05f8d5",
   "outputs": [
    {
     "name": "stderr",
     "output_type": "stream",
     "text": [
      "Processing files:   0%|          | 0/3 [00:00<?, ?file/s]"
     ]
    }
   ],
   "execution_count": null
  },
  {
   "cell_type": "code",
   "source": [
    "input_folder = \"D:/Geomatics/LAZ_TILES/25BZ2\"\n",
    "output_folder = \"D:/Geomatics/CHM/25BZ2\"\n",
    "process_laz_files(input_folder, output_folder)"
   ],
   "metadata": {
    "collapsed": false
   },
   "id": "69f88fa68d2dc6a7",
   "outputs": [],
   "execution_count": null
  },
  {
   "cell_type": "code",
   "source": [
    "input_folder = \"D:/Geomatics/LAZ_TILES/25BZ1\"\n",
    "output_folder = \"D:/Geomatics/CHM/25BZ1\"\n",
    "process_laz_files(input_folder, output_folder)"
   ],
   "metadata": {
    "collapsed": false
   },
   "id": "9af7c687e663256e",
   "outputs": [],
   "execution_count": null
  },
  {
   "cell_type": "code",
   "source": [
    "input_folder = \"D:/Geomatics/LAZ_TILES/25DN1\"\n",
    "output_folder = \"D:/Geomatics/CHM/25DN1\"\n",
    "process_laz_files(input_folder, output_folder)"
   ],
   "metadata": {
    "collapsed": false
   },
   "id": "750fa357ef458f4e",
   "outputs": [],
   "execution_count": null
  },
  {
   "metadata": {},
   "cell_type": "code",
   "source": [
    "input_folder = \"D:/Geomatics/LAZ_TILES/25DN2\"\n",
    "output_folder = \"D:/Geomatics/CHM/25DN2\"\n",
    "process_laz_files(input_folder, output_folder)"
   ],
   "id": "51935ffe2ba85de5",
   "outputs": [],
   "execution_count": null
  },
  {
   "metadata": {},
   "cell_type": "code",
   "source": [
    "input_folder = \"D:/Geomatics/LAZ_TILES/25EZ1\"\n",
    "output_folder = \"D:/Geomatics/CHM/25EZ1\"\n",
    "process_laz_files(input_folder, output_folder)"
   ],
   "id": "a5ef067ba05b5409",
   "outputs": [],
   "execution_count": null
  },
  {
   "metadata": {},
   "cell_type": "code",
   "source": [
    "input_folder = \"D:/Geomatics/LAZ_TILES/25EZ2\"\n",
    "output_folder = \"D:/Geomatics/CHM/25EZ2\"\n",
    "process_laz_files(input_folder, output_folder)"
   ],
   "id": "ddfc0fe29bfe7c5a",
   "outputs": [],
   "execution_count": null
  },
  {
   "metadata": {},
   "cell_type": "code",
   "source": [
    "input_folder = \"D:/Geomatics/LAZ_TILES/25FZ1\"\n",
    "output_folder = \"D:/Geomatics/CHM/25FZ1\"\n",
    "process_laz_files(input_folder, output_folder)"
   ],
   "id": "c0a82ff013e34e8f",
   "outputs": [],
   "execution_count": null
  },
  {
   "metadata": {},
   "cell_type": "code",
   "source": [
    "input_folder = \"D:/Geomatics/LAZ_TILES/25GN1\"\n",
    "output_folder = \"D:/Geomatics/CHM/25GN1\"\n",
    "process_laz_files(input_folder, output_folder)"
   ],
   "id": "c242c60e0681be74",
   "outputs": [],
   "execution_count": null
  },
  {
   "metadata": {
    "ExecuteTime": {
     "end_time": "2024-10-06T08:44:26.783731Z",
     "start_time": "2024-10-06T08:06:05.267681Z"
    }
   },
   "cell_type": "code",
   "source": [
    "input_folder = \"D:/Geomatics/LAZ_TILES/25GN2\"\n",
    "output_folder = \"D:/Geomatics/CHM/25GN2\"\n",
    "process_laz_files(input_folder, output_folder)"
   ],
   "id": "1e0ac15bf8dfb55c",
   "outputs": [
    {
     "name": "stderr",
     "output_type": "stream",
     "text": [
      "Processing files:   0%|          | 0/22 [00:00<?, ?file/s]"
     ]
    },
    {
     "name": "stdout",
     "output_type": "stream",
     "text": [
      "processing tile 25GN2_23\n",
      "extracted vegetation points\n",
      "finished DT\n",
      "masked\n",
      "interpolated\n"
     ]
    },
    {
     "name": "stderr",
     "output_type": "stream",
     "text": [
      "Processing files:   5%|▍         | 1/22 [04:20<1:31:14, 260.69s/file]"
     ]
    },
    {
     "name": "stdout",
     "output_type": "stream",
     "text": [
      "File written to 'D:/Geomatics/CHM/25GN2\\CHM_25GN2_23.TIF'\n",
      "\n",
      "Processed 25GN2_23.LAZ in 260.69 seconds and saved output to D:/Geomatics/CHM/25GN2\\CHM_25GN2_23.TIF\n",
      "processing tile 25GN2_22\n",
      "extracted vegetation points\n",
      "finished DT\n",
      "masked\n"
     ]
    },
    {
     "name": "stderr",
     "output_type": "stream",
     "text": [
      "Processing files:   9%|▉         | 2/22 [05:35<50:29, 151.48s/file]  "
     ]
    },
    {
     "name": "stdout",
     "output_type": "stream",
     "text": [
      "interpolated\n",
      "File written to 'D:/Geomatics/CHM/25GN2\\CHM_25GN2_22.TIF'\n",
      "\n",
      "Processed 25GN2_22.LAZ in 75.01 seconds and saved output to D:/Geomatics/CHM/25GN2\\CHM_25GN2_22.TIF\n",
      "processing tile 25GN2_21\n",
      "extracted vegetation points\n",
      "finished DT\n",
      "masked\n",
      "interpolated\n"
     ]
    },
    {
     "name": "stderr",
     "output_type": "stream",
     "text": [
      "Processing files:  14%|█▎        | 3/22 [06:42<35:39, 112.63s/file]"
     ]
    },
    {
     "name": "stdout",
     "output_type": "stream",
     "text": [
      "File written to 'D:/Geomatics/CHM/25GN2\\CHM_25GN2_21.TIF'\n",
      "\n",
      "Processed 25GN2_21.LAZ in 66.41 seconds and saved output to D:/Geomatics/CHM/25GN2\\CHM_25GN2_21.TIF\n",
      "processing tile 25GN2_20\n",
      "extracted vegetation points\n",
      "finished DT\n",
      "masked\n",
      "interpolated\n"
     ]
    },
    {
     "name": "stderr",
     "output_type": "stream",
     "text": [
      "Processing files:  18%|█▊        | 4/22 [08:27<32:56, 109.81s/file]"
     ]
    },
    {
     "name": "stdout",
     "output_type": "stream",
     "text": [
      "File written to 'D:/Geomatics/CHM/25GN2\\CHM_25GN2_20.TIF'\n",
      "\n",
      "Processed 25GN2_20.LAZ in 105.49 seconds and saved output to D:/Geomatics/CHM/25GN2\\CHM_25GN2_20.TIF\n",
      "processing tile 25GN2_19\n",
      "extracted vegetation points\n",
      "finished DT\n",
      "masked\n",
      "interpolated\n"
     ]
    },
    {
     "name": "stderr",
     "output_type": "stream",
     "text": [
      "Processing files:  23%|██▎       | 5/22 [13:00<47:45, 168.58s/file]"
     ]
    },
    {
     "name": "stdout",
     "output_type": "stream",
     "text": [
      "File written to 'D:/Geomatics/CHM/25GN2\\CHM_25GN2_19.TIF'\n",
      "\n",
      "Processed 25GN2_19.LAZ in 272.78 seconds and saved output to D:/Geomatics/CHM/25GN2\\CHM_25GN2_19.TIF\n",
      "processing tile 25GN2_18\n",
      "extracted vegetation points\n",
      "finished DT\n",
      "masked\n",
      "interpolated\n"
     ]
    },
    {
     "name": "stderr",
     "output_type": "stream",
     "text": [
      "Processing files:  27%|██▋       | 6/22 [15:23<42:39, 159.95s/file]"
     ]
    },
    {
     "name": "stdout",
     "output_type": "stream",
     "text": [
      "File written to 'D:/Geomatics/CHM/25GN2\\CHM_25GN2_18.TIF'\n",
      "\n",
      "Processed 25GN2_18.LAZ in 143.21 seconds and saved output to D:/Geomatics/CHM/25GN2\\CHM_25GN2_18.TIF\n",
      "processing tile 25GN2_17\n",
      "extracted vegetation points\n",
      "finished DT\n",
      "masked\n"
     ]
    },
    {
     "name": "stderr",
     "output_type": "stream",
     "text": [
      "Processing files:  32%|███▏      | 7/22 [16:21<31:41, 126.74s/file]"
     ]
    },
    {
     "name": "stdout",
     "output_type": "stream",
     "text": [
      "interpolated\n",
      "File written to 'D:/Geomatics/CHM/25GN2\\CHM_25GN2_17.TIF'\n",
      "\n",
      "Processed 25GN2_17.LAZ in 58.35 seconds and saved output to D:/Geomatics/CHM/25GN2\\CHM_25GN2_17.TIF\n",
      "processing tile 25GN2_16\n",
      "extracted vegetation points\n",
      "finished DT\n",
      "masked\n",
      "interpolated\n"
     ]
    },
    {
     "name": "stderr",
     "output_type": "stream",
     "text": [
      "Processing files:  36%|███▋      | 8/22 [17:38<25:50, 110.75s/file]"
     ]
    },
    {
     "name": "stdout",
     "output_type": "stream",
     "text": [
      "File written to 'D:/Geomatics/CHM/25GN2\\CHM_25GN2_16.TIF'\n",
      "\n",
      "Processed 25GN2_16.LAZ in 76.50 seconds and saved output to D:/Geomatics/CHM/25GN2\\CHM_25GN2_16.TIF\n",
      "processing tile 25GN2_15\n",
      "extracted vegetation points\n",
      "finished DT\n",
      "masked\n",
      "interpolated\n"
     ]
    },
    {
     "name": "stderr",
     "output_type": "stream",
     "text": [
      "Processing files:  41%|████      | 9/22 [19:17<23:12, 107.13s/file]"
     ]
    },
    {
     "name": "stdout",
     "output_type": "stream",
     "text": [
      "File written to 'D:/Geomatics/CHM/25GN2\\CHM_25GN2_15.TIF'\n",
      "\n",
      "Processed 25GN2_15.LAZ in 99.19 seconds and saved output to D:/Geomatics/CHM/25GN2\\CHM_25GN2_15.TIF\n",
      "processing tile 25GN2_14\n",
      "extracted vegetation points\n",
      "finished DT\n",
      "masked\n",
      "interpolated\n"
     ]
    },
    {
     "name": "stderr",
     "output_type": "stream",
     "text": [
      "Processing files:  45%|████▌     | 10/22 [22:15<25:46, 128.88s/file]"
     ]
    },
    {
     "name": "stdout",
     "output_type": "stream",
     "text": [
      "File written to 'D:/Geomatics/CHM/25GN2\\CHM_25GN2_14.TIF'\n",
      "\n",
      "Processed 25GN2_14.LAZ in 177.58 seconds and saved output to D:/Geomatics/CHM/25GN2\\CHM_25GN2_14.TIF\n",
      "processing tile 25GN2_13\n",
      "extracted vegetation points\n",
      "finished DT\n",
      "masked\n",
      "interpolated\n"
     ]
    },
    {
     "name": "stderr",
     "output_type": "stream",
     "text": [
      "Processing files:  50%|█████     | 11/22 [24:31<24:02, 131.16s/file]"
     ]
    },
    {
     "name": "stdout",
     "output_type": "stream",
     "text": [
      "File written to 'D:/Geomatics/CHM/25GN2\\CHM_25GN2_13.TIF'\n",
      "\n",
      "Processed 25GN2_13.LAZ in 136.31 seconds and saved output to D:/Geomatics/CHM/25GN2\\CHM_25GN2_13.TIF\n",
      "processing tile 25GN2_12\n",
      "extracted vegetation points\n",
      "finished DT\n",
      "masked\n",
      "interpolated\n"
     ]
    },
    {
     "name": "stderr",
     "output_type": "stream",
     "text": [
      "Processing files:  55%|█████▍    | 12/22 [26:01<19:46, 118.68s/file]"
     ]
    },
    {
     "name": "stdout",
     "output_type": "stream",
     "text": [
      "File written to 'D:/Geomatics/CHM/25GN2\\CHM_25GN2_12.TIF'\n",
      "\n",
      "Processed 25GN2_12.LAZ in 90.13 seconds and saved output to D:/Geomatics/CHM/25GN2\\CHM_25GN2_12.TIF\n",
      "processing tile 25GN2_11\n",
      "extracted vegetation points\n",
      "finished DT\n",
      "masked\n",
      "interpolated\n"
     ]
    },
    {
     "name": "stderr",
     "output_type": "stream",
     "text": [
      "Processing files:  59%|█████▉    | 13/22 [27:17<15:50, 105.60s/file]"
     ]
    },
    {
     "name": "stdout",
     "output_type": "stream",
     "text": [
      "File written to 'D:/Geomatics/CHM/25GN2\\CHM_25GN2_11.TIF'\n",
      "\n",
      "Processed 25GN2_11.LAZ in 75.51 seconds and saved output to D:/Geomatics/CHM/25GN2\\CHM_25GN2_11.TIF\n",
      "processing tile 25GN2_10\n",
      "extracted vegetation points\n",
      "finished DT\n",
      "masked\n"
     ]
    },
    {
     "name": "stderr",
     "output_type": "stream",
     "text": [
      "Processing files:  64%|██████▎   | 14/22 [28:10<11:58, 89.76s/file] "
     ]
    },
    {
     "name": "stdout",
     "output_type": "stream",
     "text": [
      "interpolated\n",
      "File written to 'D:/Geomatics/CHM/25GN2\\CHM_25GN2_10.TIF'\n",
      "\n",
      "Processed 25GN2_10.LAZ in 53.16 seconds and saved output to D:/Geomatics/CHM/25GN2\\CHM_25GN2_10.TIF\n",
      "processing tile 25GN2_09\n",
      "extracted vegetation points\n",
      "finished DT\n",
      "masked\n",
      "interpolated\n"
     ]
    },
    {
     "name": "stderr",
     "output_type": "stream",
     "text": [
      "Processing files:  68%|██████▊   | 15/22 [30:01<11:13, 96.23s/file]"
     ]
    },
    {
     "name": "stdout",
     "output_type": "stream",
     "text": [
      "File written to 'D:/Geomatics/CHM/25GN2\\CHM_25GN2_09.TIF'\n",
      "\n",
      "Processed 25GN2_09.LAZ in 111.21 seconds and saved output to D:/Geomatics/CHM/25GN2\\CHM_25GN2_09.TIF\n",
      "processing tile 25GN2_08\n",
      "extracted vegetation points\n",
      "finished DT\n",
      "masked\n",
      "interpolated\n"
     ]
    },
    {
     "name": "stderr",
     "output_type": "stream",
     "text": [
      "Processing files:  73%|███████▎  | 16/22 [31:15<08:57, 89.63s/file]"
     ]
    },
    {
     "name": "stdout",
     "output_type": "stream",
     "text": [
      "File written to 'D:/Geomatics/CHM/25GN2\\CHM_25GN2_08.TIF'\n",
      "\n",
      "Processed 25GN2_08.LAZ in 74.29 seconds and saved output to D:/Geomatics/CHM/25GN2\\CHM_25GN2_08.TIF\n",
      "processing tile 25GN2_07\n",
      "extracted vegetation points\n",
      "finished DT\n",
      "masked\n",
      "interpolated\n"
     ]
    },
    {
     "name": "stderr",
     "output_type": "stream",
     "text": [
      "Processing files:  77%|███████▋  | 17/22 [32:39<07:18, 87.70s/file]"
     ]
    },
    {
     "name": "stdout",
     "output_type": "stream",
     "text": [
      "File written to 'D:/Geomatics/CHM/25GN2\\CHM_25GN2_07.TIF'\n",
      "\n",
      "Processed 25GN2_07.LAZ in 83.21 seconds and saved output to D:/Geomatics/CHM/25GN2\\CHM_25GN2_07.TIF\n",
      "processing tile 25GN2_06\n",
      "extracted vegetation points\n",
      "finished DT\n",
      "masked\n",
      "interpolated\n"
     ]
    },
    {
     "name": "stderr",
     "output_type": "stream",
     "text": [
      "Processing files:  82%|████████▏ | 18/22 [33:46<05:26, 81.57s/file]"
     ]
    },
    {
     "name": "stdout",
     "output_type": "stream",
     "text": [
      "File written to 'D:/Geomatics/CHM/25GN2\\CHM_25GN2_06.TIF'\n",
      "\n",
      "Processed 25GN2_06.LAZ in 67.31 seconds and saved output to D:/Geomatics/CHM/25GN2\\CHM_25GN2_06.TIF\n",
      "processing tile 25GN2_05\n",
      "extracted vegetation points\n",
      "finished DT\n",
      "masked\n"
     ]
    },
    {
     "name": "stderr",
     "output_type": "stream",
     "text": [
      "Processing files:  86%|████████▋ | 19/22 [34:34<03:34, 71.45s/file]"
     ]
    },
    {
     "name": "stdout",
     "output_type": "stream",
     "text": [
      "interpolated\n",
      "File written to 'D:/Geomatics/CHM/25GN2\\CHM_25GN2_05.TIF'\n",
      "\n",
      "Processed 25GN2_05.LAZ in 47.89 seconds and saved output to D:/Geomatics/CHM/25GN2\\CHM_25GN2_05.TIF\n",
      "processing tile 25GN2_04\n",
      "extracted vegetation points\n",
      "finished DT\n",
      "masked\n",
      "interpolated\n"
     ]
    },
    {
     "name": "stderr",
     "output_type": "stream",
     "text": [
      "Processing files:  91%|█████████ | 20/22 [36:14<02:40, 80.23s/file]"
     ]
    },
    {
     "name": "stdout",
     "output_type": "stream",
     "text": [
      "File written to 'D:/Geomatics/CHM/25GN2\\CHM_25GN2_04.TIF'\n",
      "\n",
      "Processed 25GN2_04.LAZ in 100.67 seconds and saved output to D:/Geomatics/CHM/25GN2\\CHM_25GN2_04.TIF\n",
      "processing tile 25GN2_03\n",
      "extracted vegetation points\n",
      "finished DT\n",
      "masked\n",
      "interpolated\n"
     ]
    },
    {
     "name": "stderr",
     "output_type": "stream",
     "text": [
      "Processing files:  95%|█████████▌| 21/22 [37:47<01:24, 84.02s/file]"
     ]
    },
    {
     "name": "stdout",
     "output_type": "stream",
     "text": [
      "File written to 'D:/Geomatics/CHM/25GN2\\CHM_25GN2_03.TIF'\n",
      "\n",
      "Processed 25GN2_03.LAZ in 92.86 seconds and saved output to D:/Geomatics/CHM/25GN2\\CHM_25GN2_03.TIF\n",
      "processing tile 25GN2_02\n",
      "extracted vegetation points\n",
      "finished DT\n",
      "masked\n"
     ]
    },
    {
     "name": "stderr",
     "output_type": "stream",
     "text": [
      "Processing files: 100%|██████████| 22/22 [38:20<00:00, 104.57s/file]"
     ]
    },
    {
     "name": "stdout",
     "output_type": "stream",
     "text": [
      "interpolated\n",
      "File written to 'D:/Geomatics/CHM/25GN2\\CHM_25GN2_02.TIF'\n",
      "\n",
      "Processed 25GN2_02.LAZ in 32.63 seconds and saved output to D:/Geomatics/CHM/25GN2\\CHM_25GN2_02.TIF\n",
      "\n",
      "All files processed in 2300.46 seconds.\n"
     ]
    },
    {
     "name": "stderr",
     "output_type": "stream",
     "text": [
      "\n"
     ]
    }
   ],
   "execution_count": 3
  },
  {
   "metadata": {},
   "cell_type": "code",
   "source": [
    "input_folder = \"D:/Geomatics/LAZ_TILES/25GZ1\"\n",
    "output_folder = \"D:/Geomatics/CHM/25GZ1\"\n",
    "process_laz_files(input_folder, output_folder)"
   ],
   "id": "6cdf1a1f741c5a7d",
   "outputs": [],
   "execution_count": null
  },
  {
   "metadata": {},
   "cell_type": "code",
   "source": [
    "input_folder = \"D:/Geomatics/LAZ_TILES/25GZ2\"\n",
    "output_folder = \"D:/Geomatics/CHM/25GZ2\"\n",
    "process_laz_files(input_folder, output_folder)"
   ],
   "id": "a7e9d77b9c2d2815",
   "outputs": [],
   "execution_count": null
  },
  {
   "metadata": {},
   "cell_type": "code",
   "source": [
    "input_folder = \"D:/Geomatics/LAZ_TILES/25HN1\"\n",
    "output_folder = \"D:/Geomatics/CHM/25HN1\"\n",
    "process_laz_files(input_folder, output_folder)"
   ],
   "id": "64e6e0cecca5a621",
   "outputs": [],
   "execution_count": null
  },
  {
   "metadata": {},
   "cell_type": "code",
   "source": [
    "input_folder = \"D:/Geomatics/LAZ_TILES/25HZ1\"\n",
    "output_folder = \"D:/Geomatics/CHM/25HZ1\"\n",
    "process_laz_files(input_folder, output_folder)"
   ],
   "id": "a500ec229e7a285",
   "outputs": [],
   "execution_count": null
  },
  {
   "metadata": {},
   "cell_type": "code",
   "source": [
    "input_folder = \"D:/Geomatics/LAZ_TILES/25HZ2\"\n",
    "output_folder = \"D:/Geomatics/CHM/25HZ2\"\n",
    "process_laz_files(input_folder, output_folder)"
   ],
   "id": "559f6aee3822aa16",
   "outputs": [],
   "execution_count": null
  }
 ],
 "metadata": {
  "kernelspec": {
   "display_name": "Python 3",
   "language": "python",
   "name": "python3"
  },
  "language_info": {
   "codemirror_mode": {
    "name": "ipython",
    "version": 2
   },
   "file_extension": ".py",
   "mimetype": "text/x-python",
   "name": "python",
   "nbconvert_exporter": "python",
   "pygments_lexer": "ipython2",
   "version": "2.7.6"
  }
 },
 "nbformat": 4,
 "nbformat_minor": 5
}
