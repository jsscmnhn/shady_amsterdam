{
 "cells": [
  {
   "metadata": {
    "ExecuteTime": {
     "end_time": "2024-10-02T14:09:17.063832Z",
     "start_time": "2024-10-02T14:09:14.280037Z"
    }
   },
   "cell_type": "code",
   "source": [
    "import os\n",
    "import glob\n",
    "import re\n",
    "import geopandas as gpd\n",
    "import startinpy\n",
    "import numpy as np\n",
    "import rasterio\n",
    "from rasterio.fill import fillnodata\n",
    "from shapely.geometry import mapping\n",
    "from rasterio.features import geometry_mask\n",
    "from functions import write_output\n",
    "import tqdm\n",
    "\n",
    "def get_bbox(raster_paths):\n",
    "    bboxes = []\n",
    "    for raster_path in raster_paths:\n",
    "        with rasterio.open(raster_path) as src:\n",
    "            bbox = src.bounds\n",
    "            bboxes.append(bbox)\n",
    "    left = max([bbox.left for bbox in bboxes])\n",
    "    bottom = max([bbox.bottom for bbox in bboxes])\n",
    "    right = min([bbox.right for bbox in bboxes])\n",
    "    top = min([bbox.top for bbox in bboxes])\n",
    "    return rasterio.coords.BoundingBox(left, bottom, right, top)\n",
    "\n",
    "def crop_raster(raster_path, bbox, no_data=-9999):\n",
    "    with rasterio.open(raster_path) as src:\n",
    "        window = src.window(bbox.left, bbox.bottom, bbox.right, bbox.top)\n",
    "\n",
    "        # Read the data for the specified window\n",
    "        cropped_data = src.read(window=window)\n",
    "\n",
    "        # Read the full mask for the entire dataset\n",
    "        full_mask = src.read_masks(1)\n",
    "\n",
    "        # Ensure window attributes are integers\n",
    "        row_off = int(window.row_off)\n",
    "        col_off = int(window.col_off)\n",
    "        height = int(window.height)\n",
    "        width = int(window.width)\n",
    "\n",
    "        # Slice the mask to match the window dimensions\n",
    "        cropped_mask = full_mask[row_off:row_off + height, col_off:col_off + width]\n",
    "\n",
    "        # Replace no-data values in the data\n",
    "        if src.nodata is not None:\n",
    "            cropped_data[cropped_data == src.nodata] = no_data\n",
    "        return cropped_data, src.window_transform(window), src.crs, cropped_mask"
   ],
   "id": "a10eefd8c1ce742c",
   "outputs": [],
   "execution_count": 1
  },
  {
   "metadata": {
    "ExecuteTime": {
     "end_time": "2024-10-02T14:09:17.087097Z",
     "start_time": "2024-10-02T14:09:17.079200Z"
    }
   },
   "cell_type": "code",
   "source": [
    "def extract_center_cells(cropped_data, mask, no_data=-9999):\n",
    "    # Get coordinates of center cells\n",
    "    cropped_data = cropped_data[0, :, :]\n",
    "\n",
    "    rows, cols = np.indices(cropped_data.shape)\n",
    "    center_cells = (cropped_data != no_data) & (mask != 0)  # Only non-nodata and valid masked cells\n",
    "    \n",
    "    # Extract x, y, z values\n",
    "    x = cols[center_cells]\n",
    "    y = rows[center_cells]\n",
    "    z = cropped_data[center_cells]\n",
    "    \n",
    "    # Create the list of points [x, y, z]\n",
    "    xyz = []\n",
    "    for x_i, y_i, z_i in zip(x, y, z):\n",
    "        xyz.append([x_i, y_i, z_i])\n",
    "    \n",
    "    return xyz\n",
    "\n"
   ],
   "id": "74ec78a961c1c1cc",
   "outputs": [],
   "execution_count": 2
  },
  {
   "metadata": {
    "ExecuteTime": {
     "end_time": "2024-10-02T14:09:17.109959Z",
     "start_time": "2024-10-02T14:09:17.102487Z"
    }
   },
   "cell_type": "code",
   "source": [
    "def fill_dtm(cropped_data, transform, crs, src_mask, max_dis, smooth_it, nodata=-9999):\n",
    "    # Replace any specified no_data values with np.nan for filling\n",
    "\n",
    "    cropped_data = np.where(cropped_data == nodata, np.nan, cropped_data)\n",
    "\n",
    "    filled_array = fillnodata(cropped_data, mask=src_mask, max_search_distance=max_dis, smoothing_iterations=smooth_it)\n",
    "\n",
    "    # Optionally, set filled values back to the nodata value\n",
    "    # filled_array[np.isnan(filled_array)] = nodata\n",
    "\n",
    "    return filled_array[0]"
   ],
   "id": "babe8f7fcbd71180",
   "outputs": [],
   "execution_count": 3
  },
  {
   "metadata": {
    "ExecuteTime": {
     "end_time": "2024-10-02T14:09:17.127770Z",
     "start_time": "2024-10-02T14:09:17.121387Z"
    }
   },
   "cell_type": "code",
   "source": [
    "chm_path = \"output/25GN2/CHM_25GN2_12.TIF\"\n",
    "dtm_path = \"data/DTM_ams.TIF\"\n",
    "dsm_path = \"data/DSM_ams.TIF\"\n",
    "buildings_path =  \"data/ams_buildings.gpkg\"\n",
    "output_base_folder = \"tryout\"\n",
    "nodata_value =-9999"
   ],
   "id": "cffa6794da64b372",
   "outputs": [],
   "execution_count": 4
  },
  {
   "metadata": {
    "ExecuteTime": {
     "end_time": "2024-10-02T14:10:34.122894Z",
     "start_time": "2024-10-02T14:09:17.248640Z"
    }
   },
   "cell_type": "code",
   "source": [
    "raster_paths = [dtm_path, chm_path, dsm_path]\n",
    "overlapping_bbox = get_bbox(raster_paths)\n",
    "\n",
    "# Cropping rasters to bbox\n",
    "dtm_cropped, dtm_transform, dtm_crs, dtm_mask = crop_raster(dtm_path, overlapping_bbox, no_data=nodata_value)\n",
    "dsm_cropped, _, _, _ = crop_raster(dsm_path, overlapping_bbox, no_data=nodata_value)\n",
    "chm_cropped, _, _, _ = crop_raster(chm_path, overlapping_bbox, no_data=nodata_value)"
   ],
   "id": "9d4cdcd91938034a",
   "outputs": [],
   "execution_count": 5
  },
  {
   "metadata": {
    "ExecuteTime": {
     "end_time": "2024-10-02T14:10:38.413424Z",
     "start_time": "2024-10-02T14:10:34.278566Z"
    }
   },
   "cell_type": "code",
   "source": "points = extract_center_cells(dtm_cropped, dtm_mask, no_data=nodata_value)",
   "id": "e49ed71575d589f0",
   "outputs": [],
   "execution_count": 6
  },
  {
   "metadata": {
    "ExecuteTime": {
     "end_time": "2024-10-02T14:10:38.434855Z",
     "start_time": "2024-10-02T14:10:38.425777Z"
    }
   },
   "cell_type": "code",
   "source": "dt = startinpy.DT()",
   "id": "763c68cb40b277c5",
   "outputs": [],
   "execution_count": 7
  },
  {
   "metadata": {
    "ExecuteTime": {
     "end_time": "2024-10-02T14:10:42.576556Z",
     "start_time": "2024-10-02T14:10:38.456545Z"
    }
   },
   "cell_type": "code",
   "source": "print(points)",
   "id": "42ecfcfd14935383",
   "outputs": [
    {
     "name": "stderr",
     "output_type": "stream",
     "text": [
      "IOPub data rate exceeded.\n",
      "The Jupyter server will temporarily stop sending output\n",
      "to the client in order to avoid crashing it.\n",
      "To change this limit, set the config variable\n",
      "`--ServerApp.iopub_data_rate_limit`.\n",
      "\n",
      "Current values:\n",
      "ServerApp.iopub_data_rate_limit=1000000.0 (bytes/sec)\n",
      "ServerApp.rate_limit_window=3.0 (secs)\n",
      "\n"
     ]
    }
   ],
   "execution_count": 8
  },
  {
   "metadata": {
    "ExecuteTime": {
     "end_time": "2024-10-02T14:10:43.471400Z",
     "start_time": "2024-10-02T14:10:43.450378Z"
    }
   },
   "cell_type": "code",
   "source": "print(points[0])",
   "id": "bd493ab5cade86b2",
   "outputs": [
    {
     "name": "stdout",
     "output_type": "stream",
     "text": [
      "[0, 0, -2.8482]\n"
     ]
    }
   ],
   "execution_count": 9
  },
  {
   "metadata": {
    "jupyter": {
     "is_executing": true
    }
   },
   "cell_type": "code",
   "source": "dt.insert(points)",
   "id": "3040317153e1847d",
   "outputs": [],
   "execution_count": null
  },
  {
   "metadata": {
    "ExecuteTime": {
     "end_time": "2024-10-02T14:10:45.728262Z",
     "start_time": "2024-10-02T14:10:43.623389Z"
    }
   },
   "cell_type": "code",
   "source": [
    "pts = dt.points\n",
    "trs = dt.triangles\n",
    "#-- plot\n",
    "import matplotlib.pyplot as plt\n",
    "plt.triplot(pts[:,0], pts[:,1], trs)\n",
    "#-- the vertex \"0\" shouldn't be plotted, so start at 1\n",
    "plt.plot(pts[1:,0], pts[1:,1], 'o')\n",
    "plt.show()"
   ],
   "id": "f9d896cd1319bf6",
   "outputs": [
    {
     "ename": "ValueError",
     "evalue": "x and y arrays must have a length of at least 3",
     "output_type": "error",
     "traceback": [
      "\u001B[1;31m---------------------------------------------------------------------------\u001B[0m",
      "\u001B[1;31mValueError\u001B[0m                                Traceback (most recent call last)",
      "Cell \u001B[1;32mIn[10], line 5\u001B[0m\n\u001B[0;32m      3\u001B[0m \u001B[38;5;66;03m#-- plot\u001B[39;00m\n\u001B[0;32m      4\u001B[0m \u001B[38;5;28;01mimport\u001B[39;00m \u001B[38;5;21;01mmatplotlib\u001B[39;00m\u001B[38;5;21;01m.\u001B[39;00m\u001B[38;5;21;01mpyplot\u001B[39;00m \u001B[38;5;28;01mas\u001B[39;00m \u001B[38;5;21;01mplt\u001B[39;00m\n\u001B[1;32m----> 5\u001B[0m plt\u001B[38;5;241m.\u001B[39mtriplot(pts[:,\u001B[38;5;241m0\u001B[39m], pts[:,\u001B[38;5;241m1\u001B[39m], trs)\n\u001B[0;32m      6\u001B[0m \u001B[38;5;66;03m#-- the vertex \"0\" shouldn't be plotted, so start at 1\u001B[39;00m\n\u001B[0;32m      7\u001B[0m plt\u001B[38;5;241m.\u001B[39mplot(pts[\u001B[38;5;241m1\u001B[39m:,\u001B[38;5;241m0\u001B[39m], pts[\u001B[38;5;241m1\u001B[39m:,\u001B[38;5;241m1\u001B[39m], \u001B[38;5;124m'\u001B[39m\u001B[38;5;124mo\u001B[39m\u001B[38;5;124m'\u001B[39m)\n",
      "File \u001B[1;32m~\\anaconda3\\envs\\synthesis\\Lib\\site-packages\\matplotlib\\pyplot.py:4033\u001B[0m, in \u001B[0;36mtriplot\u001B[1;34m(*args, **kwargs)\u001B[0m\n\u001B[0;32m   4031\u001B[0m \u001B[38;5;129m@_copy_docstring_and_deprecators\u001B[39m(Axes\u001B[38;5;241m.\u001B[39mtriplot)\n\u001B[0;32m   4032\u001B[0m \u001B[38;5;28;01mdef\u001B[39;00m \u001B[38;5;21mtriplot\u001B[39m(\u001B[38;5;241m*\u001B[39margs, \u001B[38;5;241m*\u001B[39m\u001B[38;5;241m*\u001B[39mkwargs):\n\u001B[1;32m-> 4033\u001B[0m     \u001B[38;5;28;01mreturn\u001B[39;00m gca()\u001B[38;5;241m.\u001B[39mtriplot(\u001B[38;5;241m*\u001B[39margs, \u001B[38;5;241m*\u001B[39m\u001B[38;5;241m*\u001B[39mkwargs)\n",
      "File \u001B[1;32m~\\anaconda3\\envs\\synthesis\\Lib\\site-packages\\matplotlib\\tri\\_triplot.py:40\u001B[0m, in \u001B[0;36mtriplot\u001B[1;34m(ax, *args, **kwargs)\u001B[0m\n\u001B[0;32m      8\u001B[0m \u001B[38;5;250m\u001B[39m\u001B[38;5;124;03m\"\"\"\u001B[39;00m\n\u001B[0;32m      9\u001B[0m \u001B[38;5;124;03mDraw an unstructured triangular grid as lines and/or markers.\u001B[39;00m\n\u001B[0;32m     10\u001B[0m \n\u001B[1;32m   (...)\u001B[0m\n\u001B[0;32m     36\u001B[0m \u001B[38;5;124;03m    The drawn marker nodes.\u001B[39;00m\n\u001B[0;32m     37\u001B[0m \u001B[38;5;124;03m\"\"\"\u001B[39;00m\n\u001B[0;32m     38\u001B[0m \u001B[38;5;28;01mimport\u001B[39;00m \u001B[38;5;21;01mmatplotlib\u001B[39;00m\u001B[38;5;21;01m.\u001B[39;00m\u001B[38;5;21;01maxes\u001B[39;00m\n\u001B[1;32m---> 40\u001B[0m tri, args, kwargs \u001B[38;5;241m=\u001B[39m Triangulation\u001B[38;5;241m.\u001B[39mget_from_args_and_kwargs(\u001B[38;5;241m*\u001B[39margs, \u001B[38;5;241m*\u001B[39m\u001B[38;5;241m*\u001B[39mkwargs)\n\u001B[0;32m     41\u001B[0m x, y, edges \u001B[38;5;241m=\u001B[39m (tri\u001B[38;5;241m.\u001B[39mx, tri\u001B[38;5;241m.\u001B[39my, tri\u001B[38;5;241m.\u001B[39medges)\n\u001B[0;32m     43\u001B[0m \u001B[38;5;66;03m# Decode plot format string, e.g., 'ro-'\u001B[39;00m\n",
      "File \u001B[1;32m~\\anaconda3\\envs\\synthesis\\Lib\\site-packages\\matplotlib\\tri\\_triangulation.py:167\u001B[0m, in \u001B[0;36mTriangulation.get_from_args_and_kwargs\u001B[1;34m(*args, **kwargs)\u001B[0m\n\u001B[0;32m    164\u001B[0m \u001B[38;5;28;01melse\u001B[39;00m:\n\u001B[0;32m    165\u001B[0m     x, y, triangles, mask, args, kwargs \u001B[38;5;241m=\u001B[39m \\\n\u001B[0;32m    166\u001B[0m         Triangulation\u001B[38;5;241m.\u001B[39m_extract_triangulation_params(args, kwargs)\n\u001B[1;32m--> 167\u001B[0m     triangulation \u001B[38;5;241m=\u001B[39m Triangulation(x, y, triangles, mask)\n\u001B[0;32m    168\u001B[0m \u001B[38;5;28;01mreturn\u001B[39;00m triangulation, args, kwargs\n",
      "File \u001B[1;32m~\\anaconda3\\envs\\synthesis\\Lib\\site-packages\\matplotlib\\tri\\_triangulation.py:60\u001B[0m, in \u001B[0;36mTriangulation.__init__\u001B[1;34m(self, x, y, triangles, mask)\u001B[0m\n\u001B[0;32m     55\u001B[0m \u001B[38;5;28mself\u001B[39m\u001B[38;5;241m.\u001B[39mis_delaunay \u001B[38;5;241m=\u001B[39m \u001B[38;5;28;01mFalse\u001B[39;00m\n\u001B[0;32m     57\u001B[0m \u001B[38;5;28;01mif\u001B[39;00m triangles \u001B[38;5;129;01mis\u001B[39;00m \u001B[38;5;28;01mNone\u001B[39;00m:\n\u001B[0;32m     58\u001B[0m     \u001B[38;5;66;03m# No triangulation specified, so use matplotlib._qhull to obtain\u001B[39;00m\n\u001B[0;32m     59\u001B[0m     \u001B[38;5;66;03m# Delaunay triangulation.\u001B[39;00m\n\u001B[1;32m---> 60\u001B[0m     \u001B[38;5;28mself\u001B[39m\u001B[38;5;241m.\u001B[39mtriangles, \u001B[38;5;28mself\u001B[39m\u001B[38;5;241m.\u001B[39m_neighbors \u001B[38;5;241m=\u001B[39m _qhull\u001B[38;5;241m.\u001B[39mdelaunay(x, y, sys\u001B[38;5;241m.\u001B[39mflags\u001B[38;5;241m.\u001B[39mverbose)\n\u001B[0;32m     61\u001B[0m     \u001B[38;5;28mself\u001B[39m\u001B[38;5;241m.\u001B[39mis_delaunay \u001B[38;5;241m=\u001B[39m \u001B[38;5;28;01mTrue\u001B[39;00m\n\u001B[0;32m     62\u001B[0m \u001B[38;5;28;01melse\u001B[39;00m:\n\u001B[0;32m     63\u001B[0m     \u001B[38;5;66;03m# Triangulation specified. Copy, since we may correct triangle\u001B[39;00m\n\u001B[0;32m     64\u001B[0m     \u001B[38;5;66;03m# orientation.\u001B[39;00m\n",
      "\u001B[1;31mValueError\u001B[0m: x and y arrays must have a length of at least 3"
     ]
    },
    {
     "data": {
      "text/plain": [
       "<Figure size 640x480 with 1 Axes>"
      ],
      "image/png": "[encoded data removed]"
     },
     "metadata": {},
     "output_type": "display_data"
    }
   ],
   "execution_count": 10
  }
 ],
 "metadata": {
  "kernelspec": {
   "display_name": "Python 3",
   "language": "python",
   "name": "python3"
  },
  "language_info": {
   "codemirror_mode": {
    "name": "ipython",
    "version": 2
   },
   "file_extension": ".py",
   "mimetype": "text/x-python",
   "name": "python",
   "nbconvert_exporter": "python",
   "pygments_lexer": "ipython2",
   "version": "2.7.6"
  }
 },
 "nbformat": 4,
 "nbformat_minor": 5
}
