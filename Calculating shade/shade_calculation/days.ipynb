{
 "cells": [
  {
   "cell_type": "code",
   "id": "initial_id",
   "metadata": {
    "collapsed": true,
    "ExecuteTime": {
     "end_time": "2024-09-23T13:21:32.936309Z",
     "start_time": "2024-09-23T13:21:32.926273Z"
    }
   },
   "source": [
    "import pandas as pd\n",
    "import matplotlib.pyplot as plt"
   ],
   "outputs": [],
   "execution_count": 18
  },
  {
   "metadata": {
    "ExecuteTime": {
     "end_time": "2024-09-23T13:03:21.931330Z",
     "start_time": "2024-09-23T13:03:21.856237Z"
    }
   },
   "cell_type": "code",
   "source": [
    "file_path = 'jaar.txt'  # replace with actual file path\n",
    "columns = ['STN', 'YYYYMMDD', 'DDVEC', 'FHVEC', 'FG', 'FHX', 'FHXH', 'FHN', 'FHNH', 'FXX', 'FXXH', 'TG', 'TN', 'TNH', 'TX', 'TXH', 'T10N', 'T10NH', 'SQ', 'SP', 'Q', 'DR', 'RH', 'RHX', 'RHXH', 'PG', 'PX', 'PXH', 'PN', 'PNH', 'VVN', 'VVNH', 'VVX', 'VVXH', 'NG', 'UG', 'UX', 'UXH', 'UN', 'UNH', 'EV24']\n",
    "\n",
    "# Load data with relevant columns\n",
    "df = pd.read_csv(file_path, header=None, names=columns, usecols=['YYYYMMDD', 'TX'])\n",
    "\n",
    "# Ensure 'YYYYMMDD' column is treated as string (in case of any numeric type conversion)\n",
    "df['YYYYMMDD'] = df['YYYYMMDD'].astype(str)\n",
    "\n",
    "# Remove rows where 'YYYYMMDD' contains non-numeric or missing values\n",
    "df = df[df['YYYYMMDD'].str.isdigit()]\n",
    "\n",
    "# Convert date from YYYYMMDD to datetime\n",
    "df['YYYYMMDD'] = pd.to_datetime(df['YYYYMMDD'], format='%Y%m%d', errors='coerce')\n",
    "\n",
    "# Drop rows where date conversion failed (invalid dates)\n",
    "df = df.dropna(subset=['YYYYMMDD'])\n",
    "\n",
    "# Convert the 'TX' column to numeric (handling any non-numeric values by coercing them to NaN)\n",
    "df['TX'] = pd.to_numeric(df['TX'], errors='coerce')\n",
    "\n",
    "# Drop rows with missing or invalid temperature values (NaN)\n",
    "df = df.dropna(subset=['TX'])\n",
    "\n",
    "# Convert TX from 0.1 degrees Celsius to Celsius\n",
    "df['TX'] = df['TX'] / 10.0\n",
    "\n",
    "# Find the first and last dates when TX is greater than or equal to 20°C\n",
    "first_20_deg_day = df[df['TX'] >= 20].iloc[0]\n",
    "last_20_deg_day = df[df['TX'] >= 20].iloc[-1]\n",
    "\n",
    "# Output the results\n",
    "print(f\"First day when temperature hit or exceeded 20°C: {first_20_deg_day['YYYYMMDD'].date()} with temperature {first_20_deg_day['TX']}°C\")\n",
    "print(f\"Last day when temperature hit or exceeded 20°C: {last_20_deg_day['YYYYMMDD'].date()} with temperature {last_20_deg_day['TX']}°C\")"
   ],
   "id": "4755f317c624b89d",
   "outputs": [
    {
     "name": "stdout",
     "output_type": "stream",
     "text": [
      "First day when temperature hit or exceeded 20°C: 2024-04-06 with temperature 22.6°C\n",
      "Last day when temperature hit or exceeded 20°C: 2024-09-22 with temperature 24.2°C\n"
     ]
    }
   ],
   "execution_count": 6
  },
  {
   "metadata": {
    "ExecuteTime": {
     "end_time": "2024-09-23T13:24:42.289872Z",
     "start_time": "2024-09-23T13:24:42.131237Z"
    }
   },
   "cell_type": "code",
   "source": [
    "file_path = 'etmgeg.txt'  # Replace with your file path\n",
    "df = pd.read_csv(file_path, sep='\\t')\n",
    "\n",
    "df.columns = df.columns.str.strip()\n",
    "\n",
    "# Convert 'YYYYMMDD' column to datetime\n",
    "df['YYYYMMDD'] = pd.to_datetime(df['YYYYMMDD'], format='%Y%m%d')\n",
    "\n",
    "# Convert temperature (TX) from tenths of a degree Celsius to degrees Celsius\n",
    "df['TX'] = df['TX'] / 10\n",
    "\n",
    "# Filter for temperatures above 20°C\n",
    "df_above_20 = df[df['TX'] > 20]\n",
    "\n",
    "# Group by year and find the first and last date where temperature exceeds 20°C\n",
    "result = df_above_20.groupby(df_above_20['YYYYMMDD'].dt.year).agg(\n",
    "    first_above_20=('YYYYMMDD', 'first'),\n",
    "    last_above_20=('YYYYMMDD', 'last')\n",
    ").reset_index()\n",
    "\n",
    "# Format the dates to show only month and day, but keep the year\n",
    "result['first_above_20'] = result['first_above_20'].dt.strftime('%Y-%m-%d')\n",
    "result['last_above_20'] = result['last_above_20'].dt.strftime('%Y-%m-%d')\n",
    "\n",
    "# Create a summary table\n",
    "summary_table = result[['YYYYMMDD', 'first_above_20', 'last_above_20']]\n",
    "summary_table.columns = ['Year', 'First Day Above 20°C', 'Last Day Above 20°C']\n",
    "\n",
    "# Convert to LaTeX table format\n",
    "latex_table = summary_table.to_latex(index=False)\n",
    "\n",
    "# Display the LaTeX table\n",
    "print(latex_table)"
   ],
   "id": "6fcbfaf8fe554e1d",
   "outputs": [
    {
     "name": "stdout",
     "output_type": "stream",
     "text": [
      "\\begin{tabular}{rll}\n",
      "\\toprule\n",
      "Year & First Day Above 20°C & Last Day Above 20°C \\\\\n",
      "\\midrule\n",
      "2010 & 2010-04-25 & 2010-10-04 \\\\\n",
      "2011 & 2011-04-02 & 2011-10-03 \\\\\n",
      "2012 & 2012-04-30 & 2012-10-22 \\\\\n",
      "2013 & 2013-04-14 & 2013-10-22 \\\\\n",
      "2014 & 2014-03-20 & 2014-10-19 \\\\\n",
      "2015 & 2015-04-15 & 2015-09-12 \\\\\n",
      "2016 & 2016-04-03 & 2016-09-28 \\\\\n",
      "2017 & 2017-03-30 & 2017-10-19 \\\\\n",
      "2018 & 2018-04-07 & 2018-10-17 \\\\\n",
      "2019 & 2019-04-07 & 2019-10-13 \\\\\n",
      "2020 & 2020-04-06 & 2020-10-21 \\\\\n",
      "2021 & 2021-03-30 & 2021-09-27 \\\\\n",
      "2022 & 2022-04-12 & 2022-10-30 \\\\\n",
      "2023 & 2023-05-04 & 2023-10-13 \\\\\n",
      "\\bottomrule\n",
      "\\end{tabular}\n",
      "\n"
     ]
    }
   ],
   "execution_count": 26
  },
  {
   "metadata": {
    "ExecuteTime": {
     "end_time": "2024-09-23T13:19:46.690519Z",
     "start_time": "2024-09-23T13:19:46.465151Z"
    }
   },
   "cell_type": "code",
   "source": [
    "import pandas as pd\n",
    "import matplotlib.pyplot as plt\n",
    "\n",
    "file_path = 'etmgeg_260.txt'  # Replace with your file path\n",
    "df = pd.read_csv(file_path, sep='\\t', skiprows=54)\n",
    "\n",
    "# Clean column names\n",
    "df.columns = df.columns.str.strip()\n",
    "\n",
    "# Convert 'YYYYMMDD' column to datetime\n",
    "if 'YYYYMMDD' in df.columns:\n",
    "    df['YYYYMMDD'] = pd.to_datetime(df['YYYYMMDD'], format='%Y%m%d')\n",
    "\n",
    "# Convert temperature (TX) from tenths of a degree Celsius to degrees Celsius\n",
    "if 'TX' in df.columns:\n",
    "    df['TX'] = df['TX'] / 10\n",
    "\n",
    "# Filter for temperatures above 20°C\n",
    "df_above_20 = df[df['TX'] > 20]\n",
    "\n",
    "# Extract the year from the 'YYYYMMDD' column\n",
    "df_above_20.loc[:, 'Year'] = df_above_20['YYYYMMDD'].dt.year\n",
    "\n",
    "# Group by year and find the first and last date where temperature exceeds 20°C\n",
    "result = df_above_20.groupby('Year').agg(\n",
    "    first_above_20=('YYYYMMDD', 'first'),\n",
    "    last_above_20=('YYYYMMDD', 'last')\n",
    ").reset_index()\n",
    "\n",
    "# Print the result\n",
    "print(result)\n",
    "\n"
   ],
   "id": "ce47ffd8b33e1d96",
   "outputs": [
    {
     "ename": "KeyError",
     "evalue": "'TX'",
     "output_type": "error",
     "traceback": [
      "\u001B[1;31m---------------------------------------------------------------------------\u001B[0m",
      "\u001B[1;31mKeyError\u001B[0m                                  Traceback (most recent call last)",
      "File \u001B[1;32m~\\anaconda3\\envs\\synthesis\\Lib\\site-packages\\pandas\\core\\indexes\\base.py:3805\u001B[0m, in \u001B[0;36mIndex.get_loc\u001B[1;34m(self, key)\u001B[0m\n\u001B[0;32m   3804\u001B[0m \u001B[38;5;28;01mtry\u001B[39;00m:\n\u001B[1;32m-> 3805\u001B[0m     \u001B[38;5;28;01mreturn\u001B[39;00m \u001B[38;5;28mself\u001B[39m\u001B[38;5;241m.\u001B[39m_engine\u001B[38;5;241m.\u001B[39mget_loc(casted_key)\n\u001B[0;32m   3806\u001B[0m \u001B[38;5;28;01mexcept\u001B[39;00m \u001B[38;5;167;01mKeyError\u001B[39;00m \u001B[38;5;28;01mas\u001B[39;00m err:\n",
      "File \u001B[1;32mindex.pyx:167\u001B[0m, in \u001B[0;36mpandas._libs.index.IndexEngine.get_loc\u001B[1;34m()\u001B[0m\n",
      "File \u001B[1;32mindex.pyx:196\u001B[0m, in \u001B[0;36mpandas._libs.index.IndexEngine.get_loc\u001B[1;34m()\u001B[0m\n",
      "File \u001B[1;32mpandas\\\\_libs\\\\hashtable_class_helper.pxi:7081\u001B[0m, in \u001B[0;36mpandas._libs.hashtable.PyObjectHashTable.get_item\u001B[1;34m()\u001B[0m\n",
      "File \u001B[1;32mpandas\\\\_libs\\\\hashtable_class_helper.pxi:7089\u001B[0m, in \u001B[0;36mpandas._libs.hashtable.PyObjectHashTable.get_item\u001B[1;34m()\u001B[0m\n",
      "\u001B[1;31mKeyError\u001B[0m: 'TX'",
      "\nThe above exception was the direct cause of the following exception:\n",
      "\u001B[1;31mKeyError\u001B[0m                                  Traceback (most recent call last)",
      "Cell \u001B[1;32mIn[16], line 19\u001B[0m\n\u001B[0;32m     16\u001B[0m     df[\u001B[38;5;124m'\u001B[39m\u001B[38;5;124mTX\u001B[39m\u001B[38;5;124m'\u001B[39m] \u001B[38;5;241m=\u001B[39m df[\u001B[38;5;124m'\u001B[39m\u001B[38;5;124mTX\u001B[39m\u001B[38;5;124m'\u001B[39m] \u001B[38;5;241m/\u001B[39m \u001B[38;5;241m10\u001B[39m\n\u001B[0;32m     18\u001B[0m \u001B[38;5;66;03m# Filter for temperatures above 20°C\u001B[39;00m\n\u001B[1;32m---> 19\u001B[0m df_above_20 \u001B[38;5;241m=\u001B[39m df[df[\u001B[38;5;124m'\u001B[39m\u001B[38;5;124mTX\u001B[39m\u001B[38;5;124m'\u001B[39m] \u001B[38;5;241m>\u001B[39m \u001B[38;5;241m20\u001B[39m]\n\u001B[0;32m     21\u001B[0m \u001B[38;5;66;03m# Extract the year from the 'YYYYMMDD' column\u001B[39;00m\n\u001B[0;32m     22\u001B[0m df_above_20\u001B[38;5;241m.\u001B[39mloc[:, \u001B[38;5;124m'\u001B[39m\u001B[38;5;124mYear\u001B[39m\u001B[38;5;124m'\u001B[39m] \u001B[38;5;241m=\u001B[39m df_above_20[\u001B[38;5;124m'\u001B[39m\u001B[38;5;124mYYYYMMDD\u001B[39m\u001B[38;5;124m'\u001B[39m]\u001B[38;5;241m.\u001B[39mdt\u001B[38;5;241m.\u001B[39myear\n",
      "File \u001B[1;32m~\\anaconda3\\envs\\synthesis\\Lib\\site-packages\\pandas\\core\\frame.py:4102\u001B[0m, in \u001B[0;36mDataFrame.__getitem__\u001B[1;34m(self, key)\u001B[0m\n\u001B[0;32m   4100\u001B[0m \u001B[38;5;28;01mif\u001B[39;00m \u001B[38;5;28mself\u001B[39m\u001B[38;5;241m.\u001B[39mcolumns\u001B[38;5;241m.\u001B[39mnlevels \u001B[38;5;241m>\u001B[39m \u001B[38;5;241m1\u001B[39m:\n\u001B[0;32m   4101\u001B[0m     \u001B[38;5;28;01mreturn\u001B[39;00m \u001B[38;5;28mself\u001B[39m\u001B[38;5;241m.\u001B[39m_getitem_multilevel(key)\n\u001B[1;32m-> 4102\u001B[0m indexer \u001B[38;5;241m=\u001B[39m \u001B[38;5;28mself\u001B[39m\u001B[38;5;241m.\u001B[39mcolumns\u001B[38;5;241m.\u001B[39mget_loc(key)\n\u001B[0;32m   4103\u001B[0m \u001B[38;5;28;01mif\u001B[39;00m is_integer(indexer):\n\u001B[0;32m   4104\u001B[0m     indexer \u001B[38;5;241m=\u001B[39m [indexer]\n",
      "File \u001B[1;32m~\\anaconda3\\envs\\synthesis\\Lib\\site-packages\\pandas\\core\\indexes\\base.py:3812\u001B[0m, in \u001B[0;36mIndex.get_loc\u001B[1;34m(self, key)\u001B[0m\n\u001B[0;32m   3807\u001B[0m     \u001B[38;5;28;01mif\u001B[39;00m \u001B[38;5;28misinstance\u001B[39m(casted_key, \u001B[38;5;28mslice\u001B[39m) \u001B[38;5;129;01mor\u001B[39;00m (\n\u001B[0;32m   3808\u001B[0m         \u001B[38;5;28misinstance\u001B[39m(casted_key, abc\u001B[38;5;241m.\u001B[39mIterable)\n\u001B[0;32m   3809\u001B[0m         \u001B[38;5;129;01mand\u001B[39;00m \u001B[38;5;28many\u001B[39m(\u001B[38;5;28misinstance\u001B[39m(x, \u001B[38;5;28mslice\u001B[39m) \u001B[38;5;28;01mfor\u001B[39;00m x \u001B[38;5;129;01min\u001B[39;00m casted_key)\n\u001B[0;32m   3810\u001B[0m     ):\n\u001B[0;32m   3811\u001B[0m         \u001B[38;5;28;01mraise\u001B[39;00m InvalidIndexError(key)\n\u001B[1;32m-> 3812\u001B[0m     \u001B[38;5;28;01mraise\u001B[39;00m \u001B[38;5;167;01mKeyError\u001B[39;00m(key) \u001B[38;5;28;01mfrom\u001B[39;00m \u001B[38;5;21;01merr\u001B[39;00m\n\u001B[0;32m   3813\u001B[0m \u001B[38;5;28;01mexcept\u001B[39;00m \u001B[38;5;167;01mTypeError\u001B[39;00m:\n\u001B[0;32m   3814\u001B[0m     \u001B[38;5;66;03m# If we have a listlike key, _check_indexing_error will raise\u001B[39;00m\n\u001B[0;32m   3815\u001B[0m     \u001B[38;5;66;03m#  InvalidIndexError. Otherwise we fall through and re-raise\u001B[39;00m\n\u001B[0;32m   3816\u001B[0m     \u001B[38;5;66;03m#  the TypeError.\u001B[39;00m\n\u001B[0;32m   3817\u001B[0m     \u001B[38;5;28mself\u001B[39m\u001B[38;5;241m.\u001B[39m_check_indexing_error(key)\n",
      "\u001B[1;31mKeyError\u001B[0m: 'TX'"
     ]
    }
   ],
   "execution_count": 16
  }
 ],
 "metadata": {
  "kernelspec": {
   "display_name": "Python 3",
   "language": "python",
   "name": "python3"
  },
  "language_info": {
   "codemirror_mode": {
    "name": "ipython",
    "version": 2
   },
   "file_extension": ".py",
   "mimetype": "text/x-python",
   "name": "python",
   "nbconvert_exporter": "python",
   "pygments_lexer": "ipython2",
   "version": "2.7.6"
  }
 },
 "nbformat": 4,
 "nbformat_minor": 5
}
