{
 "cells": [
  {
   "cell_type": "code",
   "id": "initial_id",
   "metadata": {
    "collapsed": true,
    "ExecuteTime": {
     "end_time": "2024-10-09T14:11:43.243347Z",
     "start_time": "2024-10-09T14:11:43.239331Z"
    }
   },
   "source": [
    "import os\n",
    "import glob\n",
    "import rasterio\n",
    "from rasterio.merge import merge\n",
    "import numpy as np\n",
    "from tqdm import tqdm"
   ],
   "outputs": [],
   "execution_count": 94
  },
  {
   "metadata": {
    "ExecuteTime": {
     "end_time": "2024-10-09T14:11:44.662818Z",
     "start_time": "2024-10-09T14:11:44.649430Z"
    }
   },
   "cell_type": "code",
   "source": [
    "\n",
    "def merge_tif_files_by_time(main_folder, output_folder, nodata_value=-9999, start_time=900, end_time=2000):\n",
    "    os.makedirs(output_folder, exist_ok=True)\n",
    "    tile_folders = os.listdir(main_folder)\n",
    "\n",
    "    for tile_folder in tqdm(tile_folders, desc=\"Processing Tile Folders\"):\n",
    "        tile_path = os.path.join(main_folder, tile_folder)\n",
    "\n",
    "        if not os.path.isdir(tile_path):\n",
    "            continue \n",
    "        \n",
    "        tif_files = glob.glob(os.path.join(tile_path, '*.TIF'))\n",
    "        \n",
    "        files_by_time = {}\n",
    "\n",
    "        for tif_file in tif_files:\n",
    "            file_name = os.path.basename(tif_file)\n",
    "            parts = file_name.split('_')\n",
    "            \n",
    "            # skip the agglomerated file\n",
    "            if len(parts) < 5:\n",
    "                continue\n",
    "            \n",
    "            time_str = parts[4]\n",
    "            time = int(time_str)\n",
    "                    \n",
    "            if start_time <= time <= end_time:\n",
    "                if time not in files_by_time:\n",
    "                    files_by_time[time] = []\n",
    "                files_by_time[time].append(tif_file)\n",
    "        \n",
    "        for time, files in tqdm(files_by_time.items(), desc=f\"Merging by time for {tile_folder}\", leave=False):\n",
    "            if not files:\n",
    "                continue \n",
    "            \n",
    "            src_files_to_mosaic = []\n",
    "            bounds = []\n",
    "            resolutions = []\n",
    "\n",
    "            # open all files and save bounds\n",
    "            for file in files:\n",
    "                src = rasterio.open(file)\n",
    "                src_files_to_mosaic.append(src)\n",
    "                bounds.append(src.bounds)\n",
    "                resolutions.append(src.res[0])  # pixels should be square\n",
    "\n",
    "            # calculating merged bounds\n",
    "            min_x = min(b[0] for b in bounds)\n",
    "            min_y = min(b[1] for b in bounds)\n",
    "            max_x = max(b[2] for b in bounds)\n",
    "            max_y = max(b[3] for b in bounds)\n",
    "\n",
    "            # Output shape based on the merged bounds and resolution\n",
    "            out_shape = (1, int((max_y - min_y) / resolutions[0]), int((max_x - min_x) / resolutions[0]))  # (bands, height, width)\n",
    "            out_transform = rasterio.transform.from_bounds(min_x, min_y, max_x, max_y, out_shape[2], out_shape[1])\n",
    "            \n",
    "            # init mosaic\n",
    "            mosaic = np.full(out_shape, nodata_value)\n",
    "            print(f\" moasic {mosaic[0].shape}\")\n",
    "\n",
    "            for src in src_files_to_mosaic:\n",
    "                data = src.read(1)  # Read the first band\n",
    "                \n",
    "                # getting start position of columns and rows\n",
    "                col_start, row_start = ~out_transform * (src.bounds.left, src.bounds.top)\n",
    "                row_start, col_start = int(round(row_start)), int(round(col_start))\n",
    "\n",
    "                # Ensure indices are within bounds\n",
    "                if (0 <= row_start < mosaic.shape[1] and 0 <= col_start < mosaic.shape[2]):\n",
    "                    \n",
    "                    window_height, window_width = data.shape\n",
    "                                    \n",
    "                    end_row = min(row_start + window_height, mosaic.shape[1])\n",
    "                    end_col = min(col_start + window_width, mosaic.shape[2])\n",
    "\n",
    "                    data_slice = data[:end_row - row_start, :end_col - col_start]\n",
    "\n",
    "                    mosaic[0, row_start:end_row, col_start:end_col] = np.where(\n",
    "                        mosaic[0, row_start:end_row, col_start:end_col],  # Only replace nodata\n",
    "                        data_slice,\n",
    "                        np.minimum(mosaic[0, row_start:end_row, col_start:end_col], data_slice)\n",
    "                    )\n",
    "\n",
    "                else:\n",
    "                    print(f\"Warning: Data for {src.name} is outside the bounds of the mosaic, skipping.\")\n",
    "\n",
    "            # Replace any remaining NaN values with nodata_value\n",
    "            mosaic = np.nan_to_num(mosaic, nan=nodata_value)\n",
    "\n",
    "            out_meta = src_files_to_mosaic[0].meta.copy()\n",
    "            out_meta.update({\n",
    "                \"driver\": \"GTiff\",\n",
    "                \"height\": mosaic.shape[1],\n",
    "                \"width\": mosaic.shape[2],\n",
    "                \"transform\": out_transform,\n",
    "                \"count\": mosaic.shape[0],  # Band count\n",
    "                \"nodata\": nodata_value\n",
    "            })\n",
    "            \n",
    "            # Create output\n",
    "            output_file = os.path.join(output_folder, f\"{tile_folder}_time_{time}.TIF\")\n",
    "            with rasterio.open(output_file, \"w\", **out_meta) as dest:\n",
    "                dest.write(mosaic)\n",
    "            \n",
    "            print(f\"Merged {len(files)} TIF files for tile {tile_folder} at time {time} into {output_file}\")\n",
    "\n",
    "# Execute the function"
   ],
   "id": "5a1699a8c9f70d15",
   "outputs": [],
   "execution_count": 95
  },
  {
   "metadata": {
    "ExecuteTime": {
     "end_time": "2024-10-09T14:13:30.906708Z",
     "start_time": "2024-10-09T14:11:48.043957Z"
    }
   },
   "cell_type": "code",
   "source": [
    "main_folder = \"G:/Geomatics/rerun\"\n",
    "output_folder = \"G:\\Geomatics\\merged_tiles\"\n",
    "merge_tif_files_by_time(main_folder, output_folder)"
   ],
   "id": "438a7947afb927e8",
   "outputs": [
    {
     "name": "stderr",
     "output_type": "stream",
     "text": [
      "Processing Tile Folders:   0%|          | 0/2 [00:00<?, ?it/s]\n",
      "Merging by time for 25GZ1:   0%|          | 0/23 [00:00<?, ?it/s]\u001B[A"
     ]
    },
    {
     "name": "stdout",
     "output_type": "stream",
     "text": [
      " moasic (10078, 4078)\n"
     ]
    },
    {
     "name": "stderr",
     "output_type": "stream",
     "text": [
      "\n",
      "Merging by time for 25GZ1:   4%|▍         | 1/23 [00:02<00:49,  2.25s/it]\u001B[A"
     ]
    },
    {
     "name": "stdout",
     "output_type": "stream",
     "text": [
      "Merged 6 TIF files for tile 25GZ1 at time 900 into G:\\Geomatics\\merged_tiles\\25GZ1_time_900.TIF\n",
      " moasic (10078, 4078)\n"
     ]
    },
    {
     "name": "stderr",
     "output_type": "stream",
     "text": [
      "\n",
      "Merging by time for 25GZ1:   9%|▊         | 2/23 [00:04<00:47,  2.27s/it]\u001B[A"
     ]
    },
    {
     "name": "stdout",
     "output_type": "stream",
     "text": [
      "Merged 6 TIF files for tile 25GZ1 at time 930 into G:\\Geomatics\\merged_tiles\\25GZ1_time_930.TIF\n",
      " moasic (10078, 4078)\n"
     ]
    },
    {
     "name": "stderr",
     "output_type": "stream",
     "text": [
      "\n",
      "Merging by time for 25GZ1:  13%|█▎        | 3/23 [00:06<00:44,  2.25s/it]\u001B[A"
     ]
    },
    {
     "name": "stdout",
     "output_type": "stream",
     "text": [
      "Merged 6 TIF files for tile 25GZ1 at time 1000 into G:\\Geomatics\\merged_tiles\\25GZ1_time_1000.TIF\n",
      " moasic (10078, 4078)\n"
     ]
    },
    {
     "name": "stderr",
     "output_type": "stream",
     "text": [
      "\n",
      "Merging by time for 25GZ1:  17%|█▋        | 4/23 [00:09<00:42,  2.26s/it]\u001B[A"
     ]
    },
    {
     "name": "stdout",
     "output_type": "stream",
     "text": [
      "Merged 6 TIF files for tile 25GZ1 at time 1030 into G:\\Geomatics\\merged_tiles\\25GZ1_time_1030.TIF\n",
      " moasic (10078, 4078)\n"
     ]
    },
    {
     "name": "stderr",
     "output_type": "stream",
     "text": [
      "\n",
      "Merging by time for 25GZ1:  22%|██▏       | 5/23 [00:11<00:40,  2.24s/it]\u001B[A"
     ]
    },
    {
     "name": "stdout",
     "output_type": "stream",
     "text": [
      "Merged 6 TIF files for tile 25GZ1 at time 1100 into G:\\Geomatics\\merged_tiles\\25GZ1_time_1100.TIF\n",
      " moasic (10078, 4078)\n"
     ]
    },
    {
     "name": "stderr",
     "output_type": "stream",
     "text": [
      "\n",
      "Merging by time for 25GZ1:  26%|██▌       | 6/23 [00:12<00:33,  1.98s/it]\u001B[A"
     ]
    },
    {
     "name": "stdout",
     "output_type": "stream",
     "text": [
      "Merged 6 TIF files for tile 25GZ1 at time 1130 into G:\\Geomatics\\merged_tiles\\25GZ1_time_1130.TIF\n",
      " moasic (10078, 4078)\n"
     ]
    },
    {
     "name": "stderr",
     "output_type": "stream",
     "text": [
      "\n",
      "Merging by time for 25GZ1:  30%|███       | 7/23 [00:14<00:28,  1.81s/it]\u001B[A"
     ]
    },
    {
     "name": "stdout",
     "output_type": "stream",
     "text": [
      "Merged 6 TIF files for tile 25GZ1 at time 1200 into G:\\Geomatics\\merged_tiles\\25GZ1_time_1200.TIF\n",
      " moasic (10078, 4078)\n"
     ]
    },
    {
     "name": "stderr",
     "output_type": "stream",
     "text": [
      "\n",
      "Merging by time for 25GZ1:  35%|███▍      | 8/23 [00:15<00:25,  1.70s/it]\u001B[A"
     ]
    },
    {
     "name": "stdout",
     "output_type": "stream",
     "text": [
      "Merged 6 TIF files for tile 25GZ1 at time 1230 into G:\\Geomatics\\merged_tiles\\25GZ1_time_1230.TIF\n",
      " moasic (10078, 4078)\n"
     ]
    },
    {
     "name": "stderr",
     "output_type": "stream",
     "text": [
      "\n",
      "Merging by time for 25GZ1:  39%|███▉      | 9/23 [00:17<00:22,  1.62s/it]\u001B[A"
     ]
    },
    {
     "name": "stdout",
     "output_type": "stream",
     "text": [
      "Merged 6 TIF files for tile 25GZ1 at time 1300 into G:\\Geomatics\\merged_tiles\\25GZ1_time_1300.TIF\n",
      " moasic (10078, 4078)\n"
     ]
    },
    {
     "name": "stderr",
     "output_type": "stream",
     "text": [
      "\n",
      "Merging by time for 25GZ1:  43%|████▎     | 10/23 [00:18<00:20,  1.56s/it]\u001B[A"
     ]
    },
    {
     "name": "stdout",
     "output_type": "stream",
     "text": [
      "Merged 6 TIF files for tile 25GZ1 at time 1330 into G:\\Geomatics\\merged_tiles\\25GZ1_time_1330.TIF\n",
      " moasic (10078, 4078)\n"
     ]
    },
    {
     "name": "stderr",
     "output_type": "stream",
     "text": [
      "\n",
      "Merging by time for 25GZ1:  48%|████▊     | 11/23 [00:19<00:18,  1.52s/it]\u001B[A"
     ]
    },
    {
     "name": "stdout",
     "output_type": "stream",
     "text": [
      "Merged 6 TIF files for tile 25GZ1 at time 1400 into G:\\Geomatics\\merged_tiles\\25GZ1_time_1400.TIF\n",
      " moasic (10078, 4078)\n"
     ]
    },
    {
     "name": "stderr",
     "output_type": "stream",
     "text": [
      "\n",
      "Merging by time for 25GZ1:  52%|█████▏    | 12/23 [00:21<00:16,  1.50s/it]\u001B[A"
     ]
    },
    {
     "name": "stdout",
     "output_type": "stream",
     "text": [
      "Merged 6 TIF files for tile 25GZ1 at time 1430 into G:\\Geomatics\\merged_tiles\\25GZ1_time_1430.TIF\n",
      " moasic (10078, 4078)\n"
     ]
    },
    {
     "name": "stderr",
     "output_type": "stream",
     "text": [
      "\n",
      "Merging by time for 25GZ1:  57%|█████▋    | 13/23 [00:22<00:14,  1.48s/it]\u001B[A"
     ]
    },
    {
     "name": "stdout",
     "output_type": "stream",
     "text": [
      "Merged 6 TIF files for tile 25GZ1 at time 1500 into G:\\Geomatics\\merged_tiles\\25GZ1_time_1500.TIF\n",
      " moasic (10078, 4078)\n"
     ]
    },
    {
     "name": "stderr",
     "output_type": "stream",
     "text": [
      "\n",
      "Merging by time for 25GZ1:  61%|██████    | 14/23 [00:24<00:13,  1.45s/it]\u001B[A"
     ]
    },
    {
     "name": "stdout",
     "output_type": "stream",
     "text": [
      "Merged 6 TIF files for tile 25GZ1 at time 1530 into G:\\Geomatics\\merged_tiles\\25GZ1_time_1530.TIF\n",
      " moasic (10078, 4078)\n"
     ]
    },
    {
     "name": "stderr",
     "output_type": "stream",
     "text": [
      "\n",
      "Merging by time for 25GZ1:  65%|██████▌   | 15/23 [00:25<00:11,  1.42s/it]\u001B[A"
     ]
    },
    {
     "name": "stdout",
     "output_type": "stream",
     "text": [
      "Merged 6 TIF files for tile 25GZ1 at time 1600 into G:\\Geomatics\\merged_tiles\\25GZ1_time_1600.TIF\n",
      " moasic (10078, 4078)\n"
     ]
    },
    {
     "name": "stderr",
     "output_type": "stream",
     "text": [
      "\n",
      "Merging by time for 25GZ1:  70%|██████▉   | 16/23 [00:26<00:09,  1.41s/it]\u001B[A"
     ]
    },
    {
     "name": "stdout",
     "output_type": "stream",
     "text": [
      "Merged 6 TIF files for tile 25GZ1 at time 1630 into G:\\Geomatics\\merged_tiles\\25GZ1_time_1630.TIF\n",
      " moasic (10078, 4078)\n"
     ]
    },
    {
     "name": "stderr",
     "output_type": "stream",
     "text": [
      "\n",
      "Merging by time for 25GZ1:  74%|███████▍  | 17/23 [00:28<00:08,  1.40s/it]\u001B[A"
     ]
    },
    {
     "name": "stdout",
     "output_type": "stream",
     "text": [
      "Merged 6 TIF files for tile 25GZ1 at time 1700 into G:\\Geomatics\\merged_tiles\\25GZ1_time_1700.TIF\n",
      " moasic (10078, 4078)\n"
     ]
    },
    {
     "name": "stderr",
     "output_type": "stream",
     "text": [
      "\n",
      "Merging by time for 25GZ1:  78%|███████▊  | 18/23 [00:29<00:06,  1.39s/it]\u001B[A"
     ]
    },
    {
     "name": "stdout",
     "output_type": "stream",
     "text": [
      "Merged 6 TIF files for tile 25GZ1 at time 1730 into G:\\Geomatics\\merged_tiles\\25GZ1_time_1730.TIF\n",
      " moasic (10078, 4078)\n"
     ]
    },
    {
     "name": "stderr",
     "output_type": "stream",
     "text": [
      "\n",
      "Merging by time for 25GZ1:  83%|████████▎ | 19/23 [00:31<00:05,  1.39s/it]\u001B[A"
     ]
    },
    {
     "name": "stdout",
     "output_type": "stream",
     "text": [
      "Merged 6 TIF files for tile 25GZ1 at time 1800 into G:\\Geomatics\\merged_tiles\\25GZ1_time_1800.TIF\n",
      " moasic (10078, 4078)\n"
     ]
    },
    {
     "name": "stderr",
     "output_type": "stream",
     "text": [
      "\n",
      "Merging by time for 25GZ1:  87%|████████▋ | 20/23 [00:32<00:04,  1.39s/it]\u001B[A"
     ]
    },
    {
     "name": "stdout",
     "output_type": "stream",
     "text": [
      "Merged 6 TIF files for tile 25GZ1 at time 1830 into G:\\Geomatics\\merged_tiles\\25GZ1_time_1830.TIF\n",
      " moasic (10078, 4078)\n"
     ]
    },
    {
     "name": "stderr",
     "output_type": "stream",
     "text": [
      "\n",
      "Merging by time for 25GZ1:  91%|█████████▏| 21/23 [00:33<00:02,  1.39s/it]\u001B[A"
     ]
    },
    {
     "name": "stdout",
     "output_type": "stream",
     "text": [
      "Merged 6 TIF files for tile 25GZ1 at time 1900 into G:\\Geomatics\\merged_tiles\\25GZ1_time_1900.TIF\n",
      " moasic (10078, 4078)\n"
     ]
    },
    {
     "name": "stderr",
     "output_type": "stream",
     "text": [
      "\n",
      "Merging by time for 25GZ1:  96%|█████████▌| 22/23 [00:35<00:01,  1.38s/it]\u001B[A"
     ]
    },
    {
     "name": "stdout",
     "output_type": "stream",
     "text": [
      "Merged 6 TIF files for tile 25GZ1 at time 1930 into G:\\Geomatics\\merged_tiles\\25GZ1_time_1930.TIF\n",
      " moasic (10078, 4078)\n"
     ]
    },
    {
     "name": "stderr",
     "output_type": "stream",
     "text": [
      "\n",
      "Merging by time for 25GZ1: 100%|██████████| 23/23 [00:36<00:00,  1.39s/it]\u001B[A\n",
      "Processing Tile Folders:  50%|█████     | 1/2 [00:36<00:36, 36.63s/it]    \u001B[A"
     ]
    },
    {
     "name": "stdout",
     "output_type": "stream",
     "text": [
      "Merged 6 TIF files for tile 25GZ1 at time 2000 into G:\\Geomatics\\merged_tiles\\25GZ1_time_2000.TIF\n"
     ]
    },
    {
     "name": "stderr",
     "output_type": "stream",
     "text": [
      "\n",
      "Merging by time for 25DN1:   0%|          | 0/23 [00:00<?, ?it/s]\u001B[A"
     ]
    },
    {
     "name": "stdout",
     "output_type": "stream",
     "text": [
      " moasic (10078, 8078)\n"
     ]
    },
    {
     "name": "stderr",
     "output_type": "stream",
     "text": [
      "\n",
      "Merging by time for 25DN1:   4%|▍         | 1/23 [00:02<01:00,  2.75s/it]\u001B[A"
     ]
    },
    {
     "name": "stdout",
     "output_type": "stream",
     "text": [
      "Merged 12 TIF files for tile 25DN1 at time 900 into G:\\Geomatics\\merged_tiles\\25DN1_time_900.TIF\n",
      " moasic (10078, 8078)\n"
     ]
    },
    {
     "name": "stderr",
     "output_type": "stream",
     "text": [
      "\n",
      "Merging by time for 25DN1:   9%|▊         | 2/23 [00:05<00:58,  2.78s/it]\u001B[A"
     ]
    },
    {
     "name": "stdout",
     "output_type": "stream",
     "text": [
      "Merged 12 TIF files for tile 25DN1 at time 930 into G:\\Geomatics\\merged_tiles\\25DN1_time_930.TIF\n",
      " moasic (10078, 8078)\n"
     ]
    },
    {
     "name": "stderr",
     "output_type": "stream",
     "text": [
      "\n",
      "Merging by time for 25DN1:  13%|█▎        | 3/23 [00:08<00:54,  2.72s/it]\u001B[A"
     ]
    },
    {
     "name": "stdout",
     "output_type": "stream",
     "text": [
      "Merged 12 TIF files for tile 25DN1 at time 1000 into G:\\Geomatics\\merged_tiles\\25DN1_time_1000.TIF\n",
      " moasic (10078, 8078)\n"
     ]
    },
    {
     "name": "stderr",
     "output_type": "stream",
     "text": [
      "\n",
      "Merging by time for 25DN1:  17%|█▋        | 4/23 [00:10<00:50,  2.68s/it]\u001B[A"
     ]
    },
    {
     "name": "stdout",
     "output_type": "stream",
     "text": [
      "Merged 12 TIF files for tile 25DN1 at time 1030 into G:\\Geomatics\\merged_tiles\\25DN1_time_1030.TIF\n",
      " moasic (10078, 8078)\n"
     ]
    },
    {
     "name": "stderr",
     "output_type": "stream",
     "text": [
      "\n",
      "Merging by time for 25DN1:  22%|██▏       | 5/23 [00:13<00:47,  2.65s/it]\u001B[A"
     ]
    },
    {
     "name": "stdout",
     "output_type": "stream",
     "text": [
      "Merged 12 TIF files for tile 25DN1 at time 1100 into G:\\Geomatics\\merged_tiles\\25DN1_time_1100.TIF\n",
      " moasic (10078, 8078)\n"
     ]
    },
    {
     "name": "stderr",
     "output_type": "stream",
     "text": [
      "\n",
      "Merging by time for 25DN1:  26%|██▌       | 6/23 [00:16<00:44,  2.65s/it]\u001B[A"
     ]
    },
    {
     "name": "stdout",
     "output_type": "stream",
     "text": [
      "Merged 12 TIF files for tile 25DN1 at time 1130 into G:\\Geomatics\\merged_tiles\\25DN1_time_1130.TIF\n",
      " moasic (10078, 8078)\n"
     ]
    },
    {
     "name": "stderr",
     "output_type": "stream",
     "text": [
      "\n",
      "Merging by time for 25DN1:  30%|███       | 7/23 [00:18<00:42,  2.65s/it]\u001B[A"
     ]
    },
    {
     "name": "stdout",
     "output_type": "stream",
     "text": [
      "Merged 12 TIF files for tile 25DN1 at time 1200 into G:\\Geomatics\\merged_tiles\\25DN1_time_1200.TIF\n",
      " moasic (10078, 8078)\n"
     ]
    },
    {
     "name": "stderr",
     "output_type": "stream",
     "text": [
      "\n",
      "Merging by time for 25DN1:  35%|███▍      | 8/23 [00:21<00:39,  2.65s/it]\u001B[A"
     ]
    },
    {
     "name": "stdout",
     "output_type": "stream",
     "text": [
      "Merged 12 TIF files for tile 25DN1 at time 1230 into G:\\Geomatics\\merged_tiles\\25DN1_time_1230.TIF\n",
      " moasic (10078, 8078)\n"
     ]
    },
    {
     "name": "stderr",
     "output_type": "stream",
     "text": [
      "\n",
      "Merging by time for 25DN1:  39%|███▉      | 9/23 [00:24<00:37,  2.68s/it]\u001B[A"
     ]
    },
    {
     "name": "stdout",
     "output_type": "stream",
     "text": [
      "Merged 12 TIF files for tile 25DN1 at time 1300 into G:\\Geomatics\\merged_tiles\\25DN1_time_1300.TIF\n",
      " moasic (10078, 8078)\n"
     ]
    },
    {
     "name": "stderr",
     "output_type": "stream",
     "text": [
      "\n",
      "Merging by time for 25DN1:  43%|████▎     | 10/23 [00:26<00:34,  2.66s/it]\u001B[A"
     ]
    },
    {
     "name": "stdout",
     "output_type": "stream",
     "text": [
      "Merged 12 TIF files for tile 25DN1 at time 1330 into G:\\Geomatics\\merged_tiles\\25DN1_time_1330.TIF\n",
      " moasic (10078, 8078)\n"
     ]
    },
    {
     "name": "stderr",
     "output_type": "stream",
     "text": [
      "\n",
      "Merging by time for 25DN1:  48%|████▊     | 11/23 [00:29<00:31,  2.64s/it]\u001B[A"
     ]
    },
    {
     "name": "stdout",
     "output_type": "stream",
     "text": [
      "Merged 12 TIF files for tile 25DN1 at time 1400 into G:\\Geomatics\\merged_tiles\\25DN1_time_1400.TIF\n",
      " moasic (10078, 8078)\n"
     ]
    },
    {
     "name": "stderr",
     "output_type": "stream",
     "text": [
      "\n",
      "Merging by time for 25DN1:  52%|█████▏    | 12/23 [00:31<00:28,  2.63s/it]\u001B[A"
     ]
    },
    {
     "name": "stdout",
     "output_type": "stream",
     "text": [
      "Merged 12 TIF files for tile 25DN1 at time 1430 into G:\\Geomatics\\merged_tiles\\25DN1_time_1430.TIF\n",
      " moasic (10078, 8078)\n"
     ]
    },
    {
     "name": "stderr",
     "output_type": "stream",
     "text": [
      "\n",
      "Merging by time for 25DN1:  57%|█████▋    | 13/23 [00:34<00:26,  2.63s/it]\u001B[A"
     ]
    },
    {
     "name": "stdout",
     "output_type": "stream",
     "text": [
      "Merged 12 TIF files for tile 25DN1 at time 1500 into G:\\Geomatics\\merged_tiles\\25DN1_time_1500.TIF\n",
      " moasic (10078, 8078)\n"
     ]
    },
    {
     "name": "stderr",
     "output_type": "stream",
     "text": [
      "\n",
      "Merging by time for 25DN1:  61%|██████    | 14/23 [00:37<00:23,  2.64s/it]\u001B[A"
     ]
    },
    {
     "name": "stdout",
     "output_type": "stream",
     "text": [
      "Merged 12 TIF files for tile 25DN1 at time 1530 into G:\\Geomatics\\merged_tiles\\25DN1_time_1530.TIF\n",
      " moasic (10078, 8078)\n"
     ]
    },
    {
     "name": "stderr",
     "output_type": "stream",
     "text": [
      "\n",
      "Merging by time for 25DN1:  65%|██████▌   | 15/23 [00:39<00:21,  2.64s/it]\u001B[A"
     ]
    },
    {
     "name": "stdout",
     "output_type": "stream",
     "text": [
      "Merged 12 TIF files for tile 25DN1 at time 1600 into G:\\Geomatics\\merged_tiles\\25DN1_time_1600.TIF\n",
      " moasic (10078, 8078)\n"
     ]
    },
    {
     "name": "stderr",
     "output_type": "stream",
     "text": [
      "\n",
      "Merging by time for 25DN1:  70%|██████▉   | 16/23 [00:42<00:18,  2.64s/it]\u001B[A"
     ]
    },
    {
     "name": "stdout",
     "output_type": "stream",
     "text": [
      "Merged 12 TIF files for tile 25DN1 at time 1630 into G:\\Geomatics\\merged_tiles\\25DN1_time_1630.TIF\n",
      " moasic (10078, 8078)\n"
     ]
    },
    {
     "name": "stderr",
     "output_type": "stream",
     "text": [
      "\n",
      "Merging by time for 25DN1:  74%|███████▍  | 17/23 [00:45<00:15,  2.65s/it]\u001B[A"
     ]
    },
    {
     "name": "stdout",
     "output_type": "stream",
     "text": [
      "Merged 12 TIF files for tile 25DN1 at time 1700 into G:\\Geomatics\\merged_tiles\\25DN1_time_1700.TIF\n",
      " moasic (10078, 8078)\n"
     ]
    },
    {
     "name": "stderr",
     "output_type": "stream",
     "text": [
      "\n",
      "Merging by time for 25DN1:  78%|███████▊  | 18/23 [00:47<00:13,  2.71s/it]\u001B[A"
     ]
    },
    {
     "name": "stdout",
     "output_type": "stream",
     "text": [
      "Merged 12 TIF files for tile 25DN1 at time 1730 into G:\\Geomatics\\merged_tiles\\25DN1_time_1730.TIF\n",
      " moasic (10078, 8078)\n"
     ]
    },
    {
     "name": "stderr",
     "output_type": "stream",
     "text": [
      "\n",
      "Merging by time for 25DN1:  83%|████████▎ | 19/23 [00:50<00:10,  2.72s/it]\u001B[A"
     ]
    },
    {
     "name": "stdout",
     "output_type": "stream",
     "text": [
      "Merged 12 TIF files for tile 25DN1 at time 1800 into G:\\Geomatics\\merged_tiles\\25DN1_time_1800.TIF\n",
      " moasic (10078, 8078)\n"
     ]
    },
    {
     "name": "stderr",
     "output_type": "stream",
     "text": [
      "\n",
      "Merging by time for 25DN1:  87%|████████▋ | 20/23 [00:55<00:09,  3.20s/it]\u001B[A"
     ]
    },
    {
     "name": "stdout",
     "output_type": "stream",
     "text": [
      "Merged 12 TIF files for tile 25DN1 at time 1830 into G:\\Geomatics\\merged_tiles\\25DN1_time_1830.TIF\n",
      " moasic (10078, 8078)\n"
     ]
    },
    {
     "name": "stderr",
     "output_type": "stream",
     "text": [
      "\n",
      "Merging by time for 25DN1:  91%|█████████▏| 21/23 [00:59<00:07,  3.53s/it]\u001B[A"
     ]
    },
    {
     "name": "stdout",
     "output_type": "stream",
     "text": [
      "Merged 12 TIF files for tile 25DN1 at time 1900 into G:\\Geomatics\\merged_tiles\\25DN1_time_1900.TIF\n",
      " moasic (10078, 8078)\n"
     ]
    },
    {
     "name": "stderr",
     "output_type": "stream",
     "text": [
      "\n",
      "Merging by time for 25DN1:  96%|█████████▌| 22/23 [01:03<00:03,  3.73s/it]\u001B[A"
     ]
    },
    {
     "name": "stdout",
     "output_type": "stream",
     "text": [
      "Merged 12 TIF files for tile 25DN1 at time 1930 into G:\\Geomatics\\merged_tiles\\25DN1_time_1930.TIF\n",
      " moasic (10078, 8078)\n"
     ]
    },
    {
     "name": "stderr",
     "output_type": "stream",
     "text": [
      "\n",
      "Merging by time for 25DN1: 100%|██████████| 23/23 [01:06<00:00,  3.40s/it]\u001B[A\n",
      "Processing Tile Folders: 100%|██████████| 2/2 [01:42<00:00, 51.41s/it]    \u001B[A"
     ]
    },
    {
     "name": "stdout",
     "output_type": "stream",
     "text": [
      "Merged 12 TIF files for tile 25DN1 at time 2000 into G:\\Geomatics\\merged_tiles\\25DN1_time_2000.TIF\n"
     ]
    },
    {
     "name": "stderr",
     "output_type": "stream",
     "text": [
      "\n"
     ]
    }
   ],
   "execution_count": 96
  }
 ],
 "metadata": {
  "kernelspec": {
   "display_name": "Python 3",
   "language": "python",
   "name": "python3"
  },
  "language_info": {
   "codemirror_mode": {
    "name": "ipython",
    "version": 2
   },
   "file_extension": ".py",
   "mimetype": "text/x-python",
   "name": "python",
   "nbconvert_exporter": "python",
   "pygments_lexer": "ipython2",
   "version": "2.7.6"
  }
 },
 "nbformat": 4,
 "nbformat_minor": 5
}
