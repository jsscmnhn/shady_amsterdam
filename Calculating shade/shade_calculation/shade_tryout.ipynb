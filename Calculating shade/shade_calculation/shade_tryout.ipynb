{
 "cells": [
  {
   "cell_type": "code",
   "execution_count": 40,
   "id": "initial_id",
   "metadata": {
    "collapsed": true,
    "ExecuteTime": {
     "end_time": "2024-09-18T20:11:37.348777900Z",
     "start_time": "2024-09-18T20:11:37.338146300Z"
    }
   },
   "outputs": [],
   "source": [
    "import argparse\n",
    "import os\n",
    "import re\n",
    "import glob\n",
    "import importlib\n",
    "import rasterio\n",
    "\n",
    "import datetime as dt\n",
    "import shade_setup as shade\n",
    "\n",
    "\n"
   ]
  },
  {
   "cell_type": "code",
   "execution_count": 41,
   "outputs": [],
   "source": [
    "buildings_dsm = \"../Calculating_chm_dsm/final/fin_DTM_25DN2.TIF\"\n",
    "chm = \"../Calculating_chm_dsm/final/fin_CHM_25DN2.TIF\"\n",
    "\n",
    "# buildings_dsm = \"../Calculating_chm_dsm/final/DTM_TEST.tif\"\n",
    "# chm = \"../Calculating_chm_dsm/final/CHM_TEST.tif\""
   ],
   "metadata": {
    "collapsed": false,
    "ExecuteTime": {
     "end_time": "2024-09-18T20:11:38.022987400Z",
     "start_time": "2024-09-18T20:11:38.016685700Z"
    }
   },
   "id": "b8a3031ab8c3985b"
  },
  {
   "cell_type": "code",
   "execution_count": 41,
   "outputs": [],
   "source": [],
   "metadata": {
    "collapsed": false,
    "ExecuteTime": {
     "end_time": "2024-09-18T20:11:38.446943300Z",
     "start_time": "2024-09-18T20:11:38.441341500Z"
    }
   },
   "id": "da51bf59b3ef3677"
  },
  {
   "cell_type": "code",
   "execution_count": 42,
   "outputs": [],
   "source": [
    "date = dt.datetime(2024, 9, 17, 13, 0) "
   ],
   "metadata": {
    "collapsed": false,
    "ExecuteTime": {
     "end_time": "2024-09-18T20:11:38.808789700Z",
     "start_time": "2024-09-18T20:11:38.803412100Z"
    }
   },
   "id": "951264fafd6819d6"
  },
  {
   "cell_type": "code",
   "execution_count": 43,
   "outputs": [
    {
     "name": "stdout",
     "output_type": "stream",
     "text": [
      "2024-09-17 13:00:00\n",
      "PROJCS[\"Amersfoort / RD New\",GEOGCS[\"Amersfoort\",DATUM[\"Amersfoort\",SPHEROID[\"Bessel 1841\",6377397.155,299.1528128,AUTHORITY[\"EPSG\",\"7004\"]],AUTHORITY[\"EPSG\",\"6289\"]],PRIMEM[\"Greenwich\",0,AUTHORITY[\"EPSG\",\"8901\"]],UNIT[\"degree\",0.0174532925199433,AUTHORITY[\"EPSG\",\"9122\"]],AUTHORITY[\"EPSG\",\"4289\"]],PROJECTION[\"Oblique_Stereographic\"],PARAMETER[\"latitude_of_origin\",52.1561605555556],PARAMETER[\"central_meridian\",5.38763888888889],PARAMETER[\"scale_factor\",0.9999079],PARAMETER[\"false_easting\",155000],PARAMETER[\"false_northing\",463000],UNIT[\"metre\",1,AUTHORITY[\"EPSG\",\"9001\"]],AXIS[\"Easting\",EAST],AXIS[\"Northing\",NORTH],AUTHORITY[\"EPSG\",\"28992\"]]\n",
      "13:00:00\n"
     ]
    }
   ],
   "source": [
    "shade_veg = shade.shadecalculation_setup(filepath_dsm = buildings_dsm, filepath_veg = chm, tile_no='1', date = date, intervalTime = 30, onetime =1, filepath_save=\"output/test\", UTC=2, dst=1, useveg=1, trunkheight=25, transmissivity=3)"
   ],
   "metadata": {
    "collapsed": false,
    "ExecuteTime": {
     "end_time": "2024-09-18T20:12:22.344472200Z",
     "start_time": "2024-09-18T20:11:39.202670700Z"
    }
   },
   "id": "5f3dec7b9b01456a"
  },
  {
   "cell_type": "code",
   "execution_count": null,
   "outputs": [],
   "source": [],
   "metadata": {
    "collapsed": false
   },
   "id": "ca4ce914a1349690"
  }
 ],
 "metadata": {
  "kernelspec": {
   "display_name": "Python 3",
   "language": "python",
   "name": "python3"
  },
  "language_info": {
   "codemirror_mode": {
    "name": "ipython",
    "version": 2
   },
   "file_extension": ".py",
   "mimetype": "text/x-python",
   "name": "python",
   "nbconvert_exporter": "python",
   "pygments_lexer": "ipython2",
   "version": "2.7.6"
  }
 },
 "nbformat": 4,
 "nbformat_minor": 5
}
