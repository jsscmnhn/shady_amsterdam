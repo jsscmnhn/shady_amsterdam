{
 "cells": [
  {
   "cell_type": "code",
   "id": "initial_id",
   "metadata": {
    "collapsed": true,
    "ExecuteTime": {
     "end_time": "2024-10-14T16:13:48.033160Z",
     "start_time": "2024-10-14T16:13:47.397143Z"
    }
   },
   "source": [
    "import tqdm\n",
    "import os\n",
    "import datetime as dt\n",
    "from shade_calculation.src import shade_setup as shade\n"
   ],
   "outputs": [],
   "execution_count": 2
  },
  {
   "metadata": {
    "ExecuteTime": {
     "end_time": "2024-10-14T16:30:44.739247Z",
     "start_time": "2024-10-14T16:14:03.121752Z"
    }
   },
   "cell_type": "code",
   "source": [
    "dsm_path = \"../archive/output/output_chmdsm_hole/25GN2/DSM_25GN2_12.tif\"\n",
    "chm_path = \"../archive/output/output_chmdsm_hole/25GN2/CHM_25GN2_12.tif\"\n",
    "title = \"smoothed\"\n",
    "date = dt.datetime(2015, 7, 1)\n",
    "output_dir = \"../archive/output/output_chmdsm_hole/25GN2\"\n",
    "\n",
    "shade.shadecalculation_setup(\n",
    "    filepath_dsm=dsm_path,\n",
    "    filepath_veg=chm_path,\n",
    "    tile_no=title,\n",
    "    date=date,\n",
    "    intervalTime=30,\n",
    "    onetime=0,\n",
    "    filepath_save=output_dir,\n",
    "    UTC=2,\n",
    "    dst=1,\n",
    "    useveg=1,\n",
    "    trunkheight=25,\n",
    "    transmissivity=10,\n",
    "    start_time=10,\n",
    "    end_time=21\n",
    "    )"
   ],
   "id": "447c59e71ce9f6c4",
   "outputs": [
    {
     "name": "stdout",
     "output_type": "stream",
     "text": [
      "2015-07-01 00:00:00\n",
      "PROJCS[\"Amersfoort / RD New\",GEOGCS[\"Amersfoort\",DATUM[\"Amersfoort\",SPHEROID[\"Bessel 1841\",6377397.155,299.1528128,AUTHORITY[\"EPSG\",\"7004\"]],AUTHORITY[\"EPSG\",\"6289\"]],PRIMEM[\"Greenwich\",0,AUTHORITY[\"EPSG\",\"8901\"]],UNIT[\"degree\",0.0174532925199433,AUTHORITY[\"EPSG\",\"9122\"]],AUTHORITY[\"EPSG\",\"4289\"]],PROJECTION[\"Oblique_Stereographic\"],PARAMETER[\"latitude_of_origin\",52.1561605555556],PARAMETER[\"central_meridian\",5.38763888888889],PARAMETER[\"scale_factor\",0.9999079],PARAMETER[\"false_easting\",155000],PARAMETER[\"false_northing\",463000],UNIT[\"metre\",1,AUTHORITY[\"EPSG\",\"9001\"]],AXIS[\"Easting\",EAST],AXIS[\"Northing\",NORTH],AUTHORITY[\"EPSG\",\"28992\"]]\n"
     ]
    }
   ],
   "execution_count": 4
  },
  {
   "metadata": {
    "ExecuteTime": {
     "end_time": "2024-10-07T14:29:01.328313Z",
     "start_time": "2024-10-07T14:29:01.324442Z"
    }
   },
   "cell_type": "code",
   "source": [
    "date = dt.datetime(2025, 6)\n",
    "start_time = dt.datetime(date.year, date.month, date.day, 9, 0)\n",
    "end_time = dt.datetime(date.year, date.month, date.day, 20, 0)"
   ],
   "id": "c8909fe58374aa14",
   "outputs": [],
   "execution_count": 126
  },
  {
   "cell_type": "code",
   "source": [
    "# buildings_dsm = \"../Calculating_chm_dsm/final/25DN2/DTM_25DN2_10.TIF\"\n",
    "# chm = \"../Calculating_chm_dsm/final/25DN2/CHM_25DN2_10.TIF\"\n",
    "date = dt.datetime(2015, 7, 1)\n",
    "buildings_dsm =  \"G:/Geomatics/LAZ_TILES/forgot/DSM_25GZ1_15.TIF\"\n",
    "chm =  \"G:/Geomatics/LAZ_TILES/forgot/CHM_25GZ1_15.TIF\""
   ],
   "metadata": {
    "collapsed": false,
    "ExecuteTime": {
     "end_time": "2024-10-09T13:52:05.449257Z",
     "start_time": "2024-10-09T13:52:05.445236Z"
    }
   },
   "id": "b8a3031ab8c3985b",
   "outputs": [],
   "execution_count": 3
  },
  {
   "cell_type": "code",
   "source": [],
   "metadata": {
    "collapsed": false
   },
   "id": "da51bf59b3ef3677",
   "outputs": [],
   "execution_count": null
  },
  {
   "metadata": {
    "ExecuteTime": {
     "end_time": "2024-10-09T14:04:02.212012Z",
     "start_time": "2024-10-09T13:53:28.653546Z"
    }
   },
   "cell_type": "code",
   "source": [
    "shade.shadecalculation_setup(\n",
    "    filepath_dsm=buildings_dsm,\n",
    "    filepath_veg=chm,\n",
    "    tile_no=\"25GNZ1_15\",\n",
    "    date=date,\n",
    "    intervalTime=30,\n",
    "    onetime=0,\n",
    "    filepath_save=\"G:/Geomatics/LAZ_TILES/forgot\",\n",
    "    UTC=2,\n",
    "    dst=1,\n",
    "    useveg=1,\n",
    "    trunkheight=25,\n",
    "    transmissivity=10,\n",
    "    start_time=10, \n",
    "    end_time=21\n",
    ")\n"
   ],
   "id": "34223e56ec59becb",
   "outputs": [
    {
     "name": "stdout",
     "output_type": "stream",
     "text": [
      "2015-07-01 00:00:00\n",
      "PROJCS[\"Amersfoort / RD New\",GEOGCS[\"Amersfoort\",DATUM[\"Amersfoort\",SPHEROID[\"Bessel 1841\",6377397.155,299.1528128,AUTHORITY[\"EPSG\",\"7004\"]],AUTHORITY[\"EPSG\",\"6289\"]],PRIMEM[\"Greenwich\",0,AUTHORITY[\"EPSG\",\"8901\"]],UNIT[\"degree\",0.0174532925199433,AUTHORITY[\"EPSG\",\"9122\"]],AUTHORITY[\"EPSG\",\"4289\"]],PROJECTION[\"Oblique_Stereographic\"],PARAMETER[\"latitude_of_origin\",52.1561605555556],PARAMETER[\"central_meridian\",5.38763888888889],PARAMETER[\"scale_factor\",0.9999079],PARAMETER[\"false_easting\",155000],PARAMETER[\"false_northing\",463000],UNIT[\"metre\",1,AUTHORITY[\"EPSG\",\"9001\"]],AXIS[\"Easting\",EAST],AXIS[\"Northing\",NORTH],AUTHORITY[\"EPSG\",\"28992\"]]\n"
     ]
    }
   ],
   "execution_count": 5
  },
  {
   "cell_type": "code",
   "source": [
    "date = dt.datetime(2025, 6, 21)\n",
    "start_time = dt.datetime(date.year, date.month, date.day, 9, 0)\n",
    "end_time = dt.datetime(date.year, date.month, date.day, 20, 0)\n",
    "\n",
    "# Create a list of all time intervals\n",
    "time_intervals = []\n",
    "current_time = start_time\n",
    "while current_time <= end_time:\n",
    "    time_intervals.append(current_time)\n",
    "    current_time += dt.timedelta(minutes=30)"
   ],
   "metadata": {
    "collapsed": false,
    "ExecuteTime": {
     "end_time": "2024-10-07T14:29:06.696242Z",
     "start_time": "2024-10-07T14:29:06.692128Z"
    }
   },
   "id": "951264fafd6819d6",
   "outputs": [],
   "execution_count": 127
  },
  {
   "metadata": {
    "ExecuteTime": {
     "end_time": "2024-10-07T14:29:09.655016Z",
     "start_time": "2024-10-07T14:29:09.646503Z"
    }
   },
   "cell_type": "code",
   "source": [
    "def run_shade_calculation(folder_path, output_base_folder, date):\n",
    "    chm_files = [f for f in os.listdir(folder_path) if f.startswith('CHM')]\n",
    "    dsm_files = [f for f in os.listdir(folder_path) if f.startswith('DSM')]\n",
    "\n",
    "    if not chm_files or not dsm_files:\n",
    "        print(\"No CHM or DSM files found in the specified folder.\")\n",
    "        return\n",
    "\n",
    "    # SORT FILes\n",
    "    chm_files.sort()\n",
    "    dsm_files.sort()\n",
    "\n",
    "    if len(chm_files) != len(dsm_files):\n",
    "        print(\"Mismatch between the number of CHM and DSM files.\")\n",
    "        return\n",
    "    \n",
    "    first_chm_filename = chm_files[0]\n",
    "    tile = \"_\".join(first_chm_filename.split('_')[1:2]).replace('.TIF', '')\n",
    "\n",
    "    output_dir = os.path.join(output_base_folder, f'{tile}/')\n",
    "\n",
    "    if not os.path.exists(output_dir):\n",
    "        os.makedirs(output_dir)  \n",
    "        print(f\"Created output directory: {output_dir}\")\n",
    "    else:\n",
    "        print(f\"Output directory already exists: {output_dir}\")\n",
    "\n",
    "    #  process each pair\n",
    "    for chm_filename, dsm_filename in tqdm.tqdm(zip(chm_files, dsm_files), desc=\"Processing Files\", unit=\"file\"):\n",
    "        chm_path = os.path.join(folder_path, chm_filename)\n",
    "        dsm_path = os.path.join(folder_path, dsm_filename)\n",
    "        print(f'chm_path {chm_path}')\n",
    "        title = \"_\".join(chm_filename.split('_')[1:3]).replace('.tif', '')\n",
    "        \n",
    "        shade.shadecalculation_setup(\n",
    "            filepath_dsm=dsm_path,\n",
    "            filepath_veg=chm_path,\n",
    "            tile_no=title,\n",
    "            date=date,\n",
    "            intervalTime=30,\n",
    "            onetime=0,\n",
    "            filepath_save=output_dir,\n",
    "            UTC=2,\n",
    "            dst=1,\n",
    "            useveg=1,\n",
    "            trunkheight=25,\n",
    "            transmissivity=10\n",
    "        )\n",
    "\n",
    "        print(f\"Completed shade calculation for: {chm_filename} and {dsm_filename}.\")\n"
   ],
   "id": "672964d443ed1e89",
   "outputs": [],
   "execution_count": 128
  },
  {
   "metadata": {
    "ExecuteTime": {
     "end_time": "2024-10-07T10:53:37.282488Z",
     "start_time": "2024-10-07T10:53:37.279169Z"
    }
   },
   "cell_type": "code",
   "source": "",
   "id": "3a8cebb4649be479",
   "outputs": [],
   "execution_count": 19
  },
  {
   "metadata": {
    "ExecuteTime": {
     "end_time": "2024-10-07T14:42:30.306589Z",
     "start_time": "2024-10-07T14:42:30.294977Z"
    }
   },
   "cell_type": "code",
   "source": "src = rasterio.open('../../../synthesis/25BZ2/CHM_25BZ2_01.tif')",
   "id": "aa7857955a8781c6",
   "outputs": [],
   "execution_count": 147
  },
  {
   "metadata": {
    "ExecuteTime": {
     "end_time": "2024-10-07T14:42:32.408181Z",
     "start_time": "2024-10-07T14:42:32.404183Z"
    }
   },
   "cell_type": "code",
   "source": "src.bounds",
   "id": "39d7e6f9b97e691",
   "outputs": [
    {
     "data": {
      "text/plain": [
       "BoundingBox(left=114980.5, bottom=492480.5, right=116019.5, top=493749.5)"
      ]
     },
     "execution_count": 148,
     "metadata": {},
     "output_type": "execute_result"
    }
   ],
   "execution_count": 148
  },
  {
   "metadata": {
    "ExecuteTime": {
     "end_time": "2024-10-07T14:25:34.756873Z",
     "start_time": "2024-10-07T14:25:23.814525Z"
    }
   },
   "cell_type": "code",
   "source": [
    "folder_path = \"../../../synthesis/25BZ1_copy\"\n",
    "output_base_folder = \"../../../output/\"\n",
    "date = dt.datetime(2015, 7, 1, 12)\n",
    "# run_shade_calculation(folder_path, output_base_folder, date)"
   ],
   "id": "bd4d415d755614d8",
   "outputs": [
    {
     "name": "stdout",
     "output_type": "stream",
     "text": [
      "Created output directory: ../../../output/25BZ1/\n"
     ]
    },
    {
     "name": "stderr",
     "output_type": "stream",
     "text": [
      "Processing Files: 0file [00:00, ?file/s]"
     ]
    },
    {
     "name": "stdout",
     "output_type": "stream",
     "text": [
      "chm_path ../../../synthesis/25BZ1_copy\\CHM_25BZ1_01.tif\n",
      "2015-07-01 00:00:00\n",
      "PROJCS[\"Amersfoort / RD New\",GEOGCS[\"Amersfoort\",DATUM[\"Amersfoort\",SPHEROID[\"Bessel 1841\",6377397.155,299.1528128,AUTHORITY[\"EPSG\",\"7004\"]],AUTHORITY[\"EPSG\",\"6289\"]],PRIMEM[\"Greenwich\",0,AUTHORITY[\"EPSG\",\"8901\"]],UNIT[\"degree\",0.0174532925199433,AUTHORITY[\"EPSG\",\"9122\"]],AUTHORITY[\"EPSG\",\"4289\"]],PROJECTION[\"Oblique_Stereographic\"],PARAMETER[\"latitude_of_origin\",52.1561605555556],PARAMETER[\"central_meridian\",5.38763888888889],PARAMETER[\"scale_factor\",0.9999079],PARAMETER[\"false_easting\",155000],PARAMETER[\"false_northing\",463000],UNIT[\"metre\",1,AUTHORITY[\"EPSG\",\"9001\"]],AXIS[\"Easting\",EAST],AXIS[\"Northing\",NORTH],AUTHORITY[\"EPSG\",\"28992\"]]\n"
     ]
    },
    {
     "name": "stderr",
     "output_type": "stream",
     "text": [
      "Processing Files: 1file [00:04,  4.26s/file]"
     ]
    },
    {
     "name": "stdout",
     "output_type": "stream",
     "text": [
      "Completed shade calculation for: CHM_25BZ1_01.tif and DSM_25BZ1_01.tif.\n",
      "chm_path ../../../synthesis/25BZ1_copy\\CHM_25BZ1_02.tif\n",
      "2015-07-01 00:00:00\n",
      "PROJCS[\"Amersfoort / RD New\",GEOGCS[\"Amersfoort\",DATUM[\"Amersfoort\",SPHEROID[\"Bessel 1841\",6377397.155,299.1528128,AUTHORITY[\"EPSG\",\"7004\"]],AUTHORITY[\"EPSG\",\"6289\"]],PRIMEM[\"Greenwich\",0,AUTHORITY[\"EPSG\",\"8901\"]],UNIT[\"degree\",0.0174532925199433,AUTHORITY[\"EPSG\",\"9122\"]],AUTHORITY[\"EPSG\",\"4289\"]],PROJECTION[\"Oblique_Stereographic\"],PARAMETER[\"latitude_of_origin\",52.1561605555556],PARAMETER[\"central_meridian\",5.38763888888889],PARAMETER[\"scale_factor\",0.9999079],PARAMETER[\"false_easting\",155000],PARAMETER[\"false_northing\",463000],UNIT[\"metre\",1,AUTHORITY[\"EPSG\",\"9001\"]],AXIS[\"Easting\",EAST],AXIS[\"Northing\",NORTH],AUTHORITY[\"EPSG\",\"28992\"]]\n"
     ]
    },
    {
     "name": "stderr",
     "output_type": "stream",
     "text": [
      "Processing Files: 2file [00:10,  5.47s/file]"
     ]
    },
    {
     "name": "stdout",
     "output_type": "stream",
     "text": [
      "Completed shade calculation for: CHM_25BZ1_02.tif and DSM_25BZ1_02.tif.\n"
     ]
    },
    {
     "name": "stderr",
     "output_type": "stream",
     "text": [
      "\n"
     ]
    }
   ],
   "execution_count": 124
  },
  {
   "metadata": {
    "ExecuteTime": {
     "end_time": "2024-10-07T14:13:25.510170Z",
     "start_time": "2024-10-07T14:13:25.505349Z"
    }
   },
   "cell_type": "code",
   "source": [
    "chm_files = [f for f in os.listdir(folder_path) if f.startswith('CHM')]\n",
    "dsm_files = [f for f in os.listdir(folder_path) if f.startswith('DSM')]\n",
    "\n",
    "if not chm_files or not dsm_files:\n",
    "    print(\"No CHM or DSM files found in the specified folder.\")\n",
    "\n",
    "# SORT FILes\n",
    "chm_files.sort()\n",
    "dsm_files.sort()\n"
   ],
   "id": "c3f75a4d8d7fc900",
   "outputs": [],
   "execution_count": 111
  },
  {
   "metadata": {
    "ExecuteTime": {
     "end_time": "2024-10-07T14:13:53.050577Z",
     "start_time": "2024-10-07T14:13:53.047124Z"
    }
   },
   "cell_type": "code",
   "source": [
    "first_chm_filename = chm_files[0]\n",
    "tile = \"_\".join(first_chm_filename.split('_')[1:2]).replace('.TIF', '')"
   ],
   "id": "22f7fa4d2f460a90",
   "outputs": [],
   "execution_count": 112
  },
  {
   "metadata": {
    "ExecuteTime": {
     "end_time": "2024-10-07T14:14:50.215849Z",
     "start_time": "2024-10-07T14:14:50.212030Z"
    }
   },
   "cell_type": "code",
   "source": "chm_filename, dsm_filename = (chm_files[0], dsm_files[0])",
   "id": "ab9b61d0bb70301e",
   "outputs": [],
   "execution_count": 113
  },
  {
   "metadata": {
    "ExecuteTime": {
     "end_time": "2024-10-07T14:15:10.188093Z",
     "start_time": "2024-10-07T14:15:10.183149Z"
    }
   },
   "cell_type": "code",
   "source": [
    "output_dir = os.path.join(output_base_folder, f'{tile}/')\n",
    "\n",
    "if not os.path.exists(output_dir):\n",
    "    os.makedirs(output_dir)  \n",
    "    print(f\"Created output directory: {output_dir}\")\n",
    "else:\n",
    "    print(f\"Output directory already exists: {output_dir}\")\n"
   ],
   "id": "98f9585699e672f6",
   "outputs": [
    {
     "name": "stdout",
     "output_type": "stream",
     "text": [
      "Output directory already exists: ../../../output/25BZ1/\n"
     ]
    }
   ],
   "execution_count": 114
  },
  {
   "metadata": {
    "ExecuteTime": {
     "end_time": "2024-10-07T14:32:16.062479Z",
     "start_time": "2024-10-07T14:32:14.633456Z"
    }
   },
   "cell_type": "code",
   "source": [
    "chm_path = os.path.join(folder_path, chm_filename)\n",
    "dsm_path = os.path.join(folder_path, dsm_filename)\n",
    "date = dt.datetime(2015, 7, 1, 12, 0)\n",
    "print(f'chm_path {chm_path}')\n",
    "title = \"_\".join(chm_filename.split('_')[1:3]).replace('.tif', '')\n",
    "\n",
    "shade.shadecalculation_setup(\n",
    "    filepath_dsm=dsm_path,\n",
    "    filepath_veg=chm_path,\n",
    "    tile_no=title,\n",
    "    date=date,\n",
    "    intervalTime=30,\n",
    "    onetime=1,\n",
    "    filepath_save=output_dir,\n",
    "    UTC=2,\n",
    "    dst=1,\n",
    "    useveg=0,\n",
    "    trunkheight=25,\n",
    "    transmissivity=10\n",
    ")\n"
   ],
   "id": "c45c836ab4e269c0",
   "outputs": [
    {
     "name": "stdout",
     "output_type": "stream",
     "text": [
      "chm_path ../../../synthesis/25BZ1_copy\\CHM_25BZ1_01.tif\n",
      "2015-07-01 12:00:00\n",
      "PROJCS[\"Amersfoort / RD New\",GEOGCS[\"Amersfoort\",DATUM[\"Amersfoort\",SPHEROID[\"Bessel 1841\",6377397.155,299.1528128,AUTHORITY[\"EPSG\",\"7004\"]],AUTHORITY[\"EPSG\",\"6289\"]],PRIMEM[\"Greenwich\",0,AUTHORITY[\"EPSG\",\"8901\"]],UNIT[\"degree\",0.0174532925199433,AUTHORITY[\"EPSG\",\"9122\"]],AUTHORITY[\"EPSG\",\"4289\"]],PROJECTION[\"Oblique_Stereographic\"],PARAMETER[\"latitude_of_origin\",52.1561605555556],PARAMETER[\"central_meridian\",5.38763888888889],PARAMETER[\"scale_factor\",0.9999079],PARAMETER[\"false_easting\",155000],PARAMETER[\"false_northing\",463000],UNIT[\"metre\",1,AUTHORITY[\"EPSG\",\"9001\"]],AXIS[\"Easting\",EAST],AXIS[\"Northing\",NORTH],AUTHORITY[\"EPSG\",\"28992\"]]\n",
      "12:00:00\n"
     ]
    }
   ],
   "execution_count": 133
  },
  {
   "metadata": {
    "ExecuteTime": {
     "end_time": "2024-10-07T14:46:31.319683Z",
     "start_time": "2024-10-07T14:46:31.040557Z"
    }
   },
   "cell_type": "code",
   "source": [
    "shade.shadecalculation_setup(\n",
    "    filepath_dsm=\"../../../synthesis/25BZ2/DSM_25BZ2_01.tif\",\n",
    "    filepath_veg= \"../../../synthesis/25BZ2/CHM_25BZ2_01_reprojected.tif\",\n",
    "    tile_no=\"2\",\n",
    "    date=date,\n",
    "    intervalTime=30,\n",
    "    onetime=1,\n",
    "    filepath_save='F:\\\\SA\\\\JESSICA\\\\output\\\\25BZ1',\n",
    "    UTC=2,\n",
    "    dst=1,\n",
    "    useveg=1,\n",
    "    trunkheight=25,\n",
    "    transmissivity=10\n",
    ")\n"
   ],
   "id": "9e214738995996e6",
   "outputs": [
    {
     "name": "stdout",
     "output_type": "stream",
     "text": [
      "2015-07-01 12:00:00\n",
      "PROJCS[\"Amersfoort / RD New\",GEOGCS[\"Amersfoort\",DATUM[\"Amersfoort\",SPHEROID[\"Bessel 1841\",6377397.155,299.1528128,AUTHORITY[\"EPSG\",\"7004\"]],AUTHORITY[\"EPSG\",\"6289\"]],PRIMEM[\"Greenwich\",0,AUTHORITY[\"EPSG\",\"8901\"]],UNIT[\"degree\",0.0174532925199433,AUTHORITY[\"EPSG\",\"9122\"]],AUTHORITY[\"EPSG\",\"4289\"]],PROJECTION[\"Oblique_Stereographic\"],PARAMETER[\"latitude_of_origin\",52.1561605555556],PARAMETER[\"central_meridian\",5.38763888888889],PARAMETER[\"scale_factor\",0.9999079],PARAMETER[\"false_easting\",155000],PARAMETER[\"false_northing\",463000],UNIT[\"metre\",1,AUTHORITY[\"EPSG\",\"9001\"]],AXIS[\"Easting\",EAST],AXIS[\"Northing\",NORTH],AUTHORITY[\"EPSG\",\"28992\"]]\n",
      "12:00:00\n"
     ]
    }
   ],
   "execution_count": 152
  },
  {
   "metadata": {},
   "cell_type": "code",
   "outputs": [],
   "execution_count": null,
   "source": "",
   "id": "7ca0da78b9a08c6d"
  }
 ],
 "metadata": {
  "kernelspec": {
   "display_name": "Python 3",
   "language": "python",
   "name": "python3"
  },
  "language_info": {
   "codemirror_mode": {
    "name": "ipython",
    "version": 2
   },
   "file_extension": ".py",
   "mimetype": "text/x-python",
   "name": "python",
   "nbconvert_exporter": "python",
   "pygments_lexer": "ipython2",
   "version": "2.7.6"
  }
 },
 "nbformat": 4,
 "nbformat_minor": 5
}
