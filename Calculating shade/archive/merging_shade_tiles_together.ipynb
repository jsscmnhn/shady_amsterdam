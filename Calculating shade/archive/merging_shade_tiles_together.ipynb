{
 "cells": [
  {
   "cell_type": "code",
   "id": "initial_id",
   "metadata": {
    "collapsed": true,
    "ExecuteTime": {
     "end_time": "2024-10-14T14:30:42.530914Z",
     "start_time": "2024-10-14T14:30:41.705380Z"
    }
   },
   "source": [
    "import os\n",
    "import glob\n",
    "import rasterio\n",
    "import numpy as np\n",
    "from tqdm import tqdm"
   ],
   "outputs": [],
   "execution_count": 4
  },
  {
   "metadata": {
    "ExecuteTime": {
     "end_time": "2024-10-14T14:30:43.493467Z",
     "start_time": "2024-10-14T14:30:43.428293Z"
    }
   },
   "cell_type": "code",
   "source": [
    "def merge_tif_files_by_time(main_folder, output_folder, nodata_value=-9999, start_time=900, end_time=2000):\n",
    "\n",
    "    tif_files = glob.glob(os.path.join(main_folder, '*.TIF'))\n",
    "    print(tif_files)\n",
    "    \n",
    "    files_by_time = {}\n",
    "\n",
    "    for tif_file in tif_files:\n",
    "        file_name = os.path.basename(tif_file)\n",
    "        parts = file_name.split('_')\n",
    "        \n",
    "        time_str = parts[2].replace('.TIF', '')\n",
    "        print(time_str)\n",
    "        time = int(time_str)\n",
    "                \n",
    "        if start_time <= time <= end_time:\n",
    "            if time not in files_by_time:\n",
    "                files_by_time[time] = []\n",
    "            files_by_time[time].append(tif_file)\n",
    "    \n",
    "    for time, files in tqdm(files_by_time.items(), desc=f\"Merging by time for {time}\", leave=False):\n",
    "        if not files:\n",
    "            continue \n",
    "        \n",
    "        src_files_to_mosaic = []\n",
    "        bounds = []\n",
    "        resolutions = []\n",
    "\n",
    "        # open all files and save bounds\n",
    "        for file in files:\n",
    "            src = rasterio.open(file)\n",
    "            src_files_to_mosaic.append(src)\n",
    "            bounds.append(src.bounds)\n",
    "            resolutions.append(src.res[0])  # pixels should be square\n",
    "\n",
    "        # calculating merged bounds\n",
    "        min_x = min(b[0] for b in bounds)\n",
    "        min_y = min(b[1] for b in bounds)\n",
    "        max_x = max(b[2] for b in bounds)\n",
    "        max_y = max(b[3] for b in bounds)\n",
    "\n",
    "        # Output shape based on the merged bounds and resolution\n",
    "        out_shape = (1, int((max_y - min_y) / resolutions[0]), int((max_x - min_x) / resolutions[0]))  # (bands, height, width)\n",
    "        out_transform = rasterio.transform.from_bounds(min_x, min_y, max_x, max_y, out_shape[2], out_shape[1])\n",
    "        \n",
    "        # init mosaic\n",
    "        mosaic = np.full(out_shape, nodata_value)\n",
    "        print(f\" moasic {mosaic[0].shape}\")\n",
    "\n",
    "        for src in src_files_to_mosaic:\n",
    "            data = src.read(1)  # Read the first band\n",
    "            \n",
    "            # getting start position of columns and rows\n",
    "            col_start, row_start = ~out_transform * (src.bounds.left, src.bounds.top)\n",
    "            row_start, col_start = int(round(row_start)), int(round(col_start))\n",
    "\n",
    "            # Ensure indices are within bounds\n",
    "            if (0 <= row_start < mosaic.shape[1] and 0 <= col_start < mosaic.shape[2]):\n",
    "                \n",
    "                window_height, window_width = data.shape\n",
    "                                \n",
    "                end_row = min(row_start + window_height, mosaic.shape[1])\n",
    "                end_col = min(col_start + window_width, mosaic.shape[2])\n",
    "\n",
    "                data_slice = data[:end_row - row_start, :end_col - col_start]\n",
    "\n",
    "                mosaic[0, row_start:end_row, col_start:end_col] = np.where(\n",
    "                    (mosaic[0, row_start:end_row, col_start:end_col] == nodata_value) |  # Condition 1: Replace if nodata\n",
    "                    ((data_slice < mosaic[0, row_start:end_row, col_start:end_col]) & \n",
    "                     (data_slice != nodata_value)),  # Condition 2: Replace if incoming is lower and not nodata\n",
    "                    data_slice,  # Value to use (incoming data)\n",
    "                    mosaic[0, row_start:end_row, col_start:end_col]  # Keep existing value\n",
    "                )\n",
    "\n",
    "            else:\n",
    "                print(f\"Warning: Data for {src.name} is outside the bounds of the mosaic, skipping.\")\n",
    "\n",
    "        # Replace any remaining NaN values with nodata_value\n",
    "        mosaic = np.nan_to_num(mosaic, nan=nodata_value)\n",
    "\n",
    "        out_meta = src_files_to_mosaic[0].meta.copy()\n",
    "        out_meta.update({\n",
    "            \"driver\": \"GTiff\",\n",
    "            \"height\": mosaic.shape[1],\n",
    "            \"width\": mosaic.shape[2],\n",
    "            \"transform\": out_transform,\n",
    "            \"count\": mosaic.shape[0],  # Band count\n",
    "            \"nodata\": nodata_value\n",
    "        })\n",
    "        \n",
    "        # Create output\n",
    "        output_file = os.path.join(output_folder, f\"amsterdam_time_{time}.TIF\")\n",
    "        with rasterio.open(output_file, \"w\", **out_meta) as dest:\n",
    "            dest.write(mosaic)\n",
    "        \n",
    "        print(f\"Merged {len(files)} TIF files for time {time} into {output_file}\")\n"
   ],
   "id": "5a1699a8c9f70d15",
   "outputs": [],
   "execution_count": 5
  },
  {
   "metadata": {
    "ExecuteTime": {
     "end_time": "2024-10-14T14:30:46.359472Z",
     "start_time": "2024-10-14T14:30:46.256973Z"
    }
   },
   "cell_type": "code",
   "source": [
    "main_folder = \"D:/Geomatics/test_merging\"\n",
    "output_folder = \"D:\\Geomatics/test_merging_output\"\n",
    "merge_tif_files_by_time(main_folder, output_folder)"
   ],
   "id": "438a7947afb927e8",
   "outputs": [
    {
     "name": "stdout",
     "output_type": "stream",
     "text": [
      "[]\n"
     ]
    },
    {
     "ename": "UnboundLocalError",
     "evalue": "cannot access local variable 'time' where it is not associated with a value",
     "output_type": "error",
     "traceback": [
      "\u001B[1;31m---------------------------------------------------------------------------\u001B[0m",
      "\u001B[1;31mUnboundLocalError\u001B[0m                         Traceback (most recent call last)",
      "Cell \u001B[1;32mIn[6], line 3\u001B[0m\n\u001B[0;32m      1\u001B[0m main_folder \u001B[38;5;241m=\u001B[39m \u001B[38;5;124m\"\u001B[39m\u001B[38;5;124mD:/Geomatics/test_merging\u001B[39m\u001B[38;5;124m\"\u001B[39m\n\u001B[0;32m      2\u001B[0m output_folder \u001B[38;5;241m=\u001B[39m \u001B[38;5;124m\"\u001B[39m\u001B[38;5;124mD:\u001B[39m\u001B[38;5;124m\\\u001B[39m\u001B[38;5;124mGeomatics/test_merging_output\u001B[39m\u001B[38;5;124m\"\u001B[39m\n\u001B[1;32m----> 3\u001B[0m merge_tif_files_by_time(main_folder, output_folder)\n",
      "Cell \u001B[1;32mIn[5], line 21\u001B[0m, in \u001B[0;36mmerge_tif_files_by_time\u001B[1;34m(main_folder, output_folder, nodata_value, start_time, end_time)\u001B[0m\n\u001B[0;32m     18\u001B[0m             files_by_time[time] \u001B[38;5;241m=\u001B[39m []\n\u001B[0;32m     19\u001B[0m         files_by_time[time]\u001B[38;5;241m.\u001B[39mappend(tif_file)\n\u001B[1;32m---> 21\u001B[0m \u001B[38;5;28;01mfor\u001B[39;00m time, files \u001B[38;5;129;01min\u001B[39;00m tqdm(files_by_time\u001B[38;5;241m.\u001B[39mitems(), desc\u001B[38;5;241m=\u001B[39m\u001B[38;5;124mf\u001B[39m\u001B[38;5;124m\"\u001B[39m\u001B[38;5;124mMerging by time for \u001B[39m\u001B[38;5;132;01m{\u001B[39;00mtime\u001B[38;5;132;01m}\u001B[39;00m\u001B[38;5;124m\"\u001B[39m, leave\u001B[38;5;241m=\u001B[39m\u001B[38;5;28;01mFalse\u001B[39;00m):\n\u001B[0;32m     22\u001B[0m     \u001B[38;5;28;01mif\u001B[39;00m \u001B[38;5;129;01mnot\u001B[39;00m files:\n\u001B[0;32m     23\u001B[0m         \u001B[38;5;28;01mcontinue\u001B[39;00m \n",
      "\u001B[1;31mUnboundLocalError\u001B[0m: cannot access local variable 'time' where it is not associated with a value"
     ]
    }
   ],
   "execution_count": 6
  }
 ],
 "metadata": {
  "kernelspec": {
   "display_name": "Python 3",
   "language": "python",
   "name": "python3"
  },
  "language_info": {
   "codemirror_mode": {
    "name": "ipython",
    "version": 2
   },
   "file_extension": ".py",
   "mimetype": "text/x-python",
   "name": "python",
   "nbconvert_exporter": "python",
   "pygments_lexer": "ipython2",
   "version": "2.7.6"
  }
 },
 "nbformat": 4,
 "nbformat_minor": 5
}
