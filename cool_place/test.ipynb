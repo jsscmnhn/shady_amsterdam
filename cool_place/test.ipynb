{
 "cells": [
  {
   "cell_type": "code",
   "execution_count": 1,
   "metadata": {
    "ExecuteTime": {
     "end_time": "2024-10-05T17:50:07.529141900Z",
     "start_time": "2024-10-05T17:50:06.461761900Z"
    }
   },
   "outputs": [],
   "source": [
    "from include.road_process import Road\n",
    "from include.cool_space import CoolSpace\n",
    "from include.building import Building\n",
    "import geopandas as gpd\n",
    "import numpy as np\n",
    "import rasterio\n",
    "import matplotlib.pyplot as plt\n",
    "import glob\n",
    "import os"
   ]
  },
  {
   "cell_type": "code",
   "execution_count": 2,
   "metadata": {
    "ExecuteTime": {
     "end_time": "2024-10-05T17:50:07.538522500Z",
     "start_time": "2024-10-05T17:50:07.531139300Z"
    }
   },
   "outputs": [],
   "source": [
    "directory_mac = \"/Volumes/T7 Shield/TUD/Synthesis/cool_place/\"\n",
    "directory_win = \"G:\\\\TUD\\\\Synthesis\\\\cool_place\\\\\"\n",
    "\n",
    "landuse_file = directory_mac + \"ams_landuse_top10NL.shp\"\n",
    "road_file = directory_mac + \"ams_roads_top10NL.shp\"\n",
    "building_file = directory_mac + \"ams_buildings_bagplus.shp\"\n",
    "shadow_path = directory_mac + \"shademaps/\""
   ]
  },
  {
   "cell_type": "code",
   "execution_count": 3,
   "metadata": {
    "ExecuteTime": {
     "end_time": "2024-10-05T17:50:23.997980600Z",
     "start_time": "2024-10-05T17:50:07.534392900Z"
    }
   },
   "outputs": [],
   "source": [
    "road = Road(gpd.read_file(road_file))"
   ]
  },
  {
   "cell_type": "code",
   "execution_count": 4,
   "metadata": {
    "ExecuteTime": {
     "end_time": "2024-10-05T17:51:10.897371500Z",
     "start_time": "2024-10-05T17:50:23.997980600Z"
    }
   },
   "outputs": [],
   "source": [
    "building = Building(gpd.read_file(building_file))"
   ]
  },
  {
   "cell_type": "code",
   "execution_count": null,
   "metadata": {
    "ExecuteTime": {
     "end_time": "2024-10-05T17:51:17.124377400Z",
     "start_time": "2024-10-05T17:51:10.899298500Z"
    }
   },
   "outputs": [],
   "source": [
    "coolSpace = CoolSpace(gpd.read_file(landuse_file))\n",
    "coolSpace.data.plot()\n",
    "plt.show()"
   ]
  },
  {
   "cell_type": "code",
   "execution_count": null,
   "metadata": {
    "ExecuteTime": {
     "end_time": "2024-10-05T17:51:17.139174400Z",
     "start_time": "2024-10-05T17:51:17.124377400Z"
    }
   },
   "outputs": [],
   "source": [
    "shadows = []\n",
    "shadow_files = glob.glob(os.path.join(shadow_path, '*.TIF'))\n",
    "for shadow_file in shadow_files:\n",
    "    shadow_map = rasterio.open(shadow_file, crs=coolSpace.data.crs)\n",
    "    shadows.append(shadow_map)"
   ]
  },
  {
   "cell_type": "code",
   "execution_count": null,
   "metadata": {
    "ExecuteTime": {
     "end_time": "2024-10-05T17:51:19.565113400Z",
     "start_time": "2024-10-05T17:51:17.136960800Z"
    }
   },
   "outputs": [],
   "source": [
    "road.create_attribute('typeweg', 'buffer')\n",
    "road.create_buffer('buffer')"
   ]
  },
  {
   "cell_type": "code",
   "execution_count": 8,
   "metadata": {
    "ExecuteTime": {
     "end_time": "2024-10-05T17:51:37.157667300Z",
     "start_time": "2024-10-05T17:51:19.560130300Z"
    },
    "collapsed": false
   },
   "outputs": [],
   "source": [
    "road.data.set_geometry(\"buffered\", inplace=True)\n",
    "coolSpace.clip(road.data)"
   ]
  },
  {
   "cell_type": "code",
   "execution_count": null,
   "metadata": {
    "ExecuteTime": {
     "end_time": "2024-10-05T17:53:26.019331Z",
     "start_time": "2024-10-05T17:51:37.157667300Z"
    },
    "collapsed": false
   },
   "outputs": [],
   "source": [
    "building.create_buffer(4)\n",
    "building.data.set_geometry(\"buffered\", inplace=True)\n",
    "coolSpace.clip(building.data, use_clip=True)"
   ]
  },
  {
   "cell_type": "code",
   "execution_count": null,
   "metadata": {
    "ExecuteTime": {
     "end_time": "2024-10-05T17:53:29.617523100Z",
     "start_time": "2024-10-05T17:53:26.020296500Z"
    },
    "collapsed": false
   },
   "outputs": [],
   "source": [
    "coolSpace.data[\"clipped\"].plot()\n",
    "plt.show()"
   ]
  },
  {
   "cell_type": "code",
   "execution_count": null,
   "metadata": {
    "ExecuteTime": {
     "end_time": "2024-10-05T17:53:31.547841800Z",
     "start_time": "2024-10-05T17:53:29.619121100Z"
    }
   },
   "outputs": [],
   "source": [
    "coolSpace.calculate_shade(shadows, use_clip=True)"
   ]
  },
  {
   "cell_type": "code",
   "execution_count": null,
   "metadata": {},
   "outputs": [],
   "source": [
    "shadeGeom0 = coolSpace.get_shade_geometries(0)\n",
    "shadeGeom0.plot()\n",
    "plt.show()"
   ]
  },
  {
   "cell_type": "code",
   "execution_count": null,
   "metadata": {},
   "outputs": [],
   "source": [
    "coolGeom0 = coolSpace.get_cool_spaces()\n",
    "coolGeom0.geometry.plot()\n",
    "plt.show()\n",
    "\n",
    "print(coolGeom0.columns)"
   ]
  },
  {
   "cell_type": "code",
   "execution_count": null,
   "metadata": {
    "ExecuteTime": {
     "end_time": "2024-10-05T17:53:31.548994200Z",
     "start_time": "2024-10-05T17:53:31.541876300Z"
    },
    "collapsed": false
   },
   "outputs": [],
   "source": [
    "non_none_rows = coolSpace.data[coolSpace.data[\"shadeGeom0\"].notna()]\n",
    "geom_types = non_none_rows['shadeGeom0'].apply(lambda geom: geom.geom_type)\n",
    "print(geom_types.value_counts())\n",
    "print(non_none_rows[\"shadeGeom0\"].area.max(), non_none_rows[\"shadeGeom0\"].area.min())"
   ]
  },
  {
   "cell_type": "code",
   "execution_count": null,
   "metadata": {
    "ExecuteTime": {
     "end_time": "2024-10-05T17:53:31.679520600Z",
     "start_time": "2024-10-05T17:53:31.550079300Z"
    }
   },
   "outputs": [],
   "source": [
    "coolSpace.data[\"shadeGeom0\"].plot()\n",
    "plt.show()"
   ]
  },
  {
   "cell_type": "code",
   "execution_count": 11,
   "metadata": {
    "ExecuteTime": {
     "end_time": "2024-10-05T17:53:36.390982900Z",
     "start_time": "2024-10-05T17:53:31.674978200Z"
    },
    "collapsed": false
   },
   "outputs": [],
   "source": [
    "coolSpace_shadeGeoms = gpd.GeoDataFrame(coolSpace.data, geometry='shadeGeom0', crs=coolSpace.data.crs)\n",
    "coolSpace_shadeGeoms.drop(columns=['geometry', 'clipped'], inplace=True)\n",
    "coolSpace_shadeGeoms['shadeArea0'] = coolSpace_shadeGeoms['shadeArea0'].apply(lambda x: ', '.join(map(str, x)) if isinstance(x, list) else str(x))\n",
    "\n",
    "# coolSpace_shadeGeoms.to_file(directory_mac + \"shadeGeom0.shp\") # somehow this doesn't work, it saves polygons as line-strings.\n",
    "coolSpace_shadeGeoms.to_file(directory_mac + \"shadeGeom0.gpkg\", driver=\"GPKG\")"
   ]
  },
  {
   "cell_type": "code",
   "execution_count": 20,
   "metadata": {
    "ExecuteTime": {
     "end_time": "2024-10-05T17:53:41.556335700Z",
     "start_time": "2024-10-05T17:53:36.395966700Z"
    },
    "collapsed": false
   },
   "outputs": [],
   "source": [
    "coolSpace_clipped = gpd.GeoDataFrame(coolSpace.data, geometry='clipped', crs=coolSpace.data.crs)\n",
    "coolSpace_clipped.drop(columns=[\"geometry\", \"shadeGeom0\"], inplace=True)\n",
    "coolSpace_clipped['shadeArea0'] = coolSpace_clipped['shadeArea0'].apply(lambda x: ', '.join(map(str, x)) if isinstance(x, list) else str(x))\n",
    "coolSpace_clipped.to_file(directory_mac + \"test1.shp\")"
   ]
  },
  {
   "cell_type": "code",
   "execution_count": 22,
   "metadata": {
    "ExecuteTime": {
     "end_time": "2024-10-05T17:53:45.510278600Z",
     "start_time": "2024-10-05T17:53:41.556335700Z"
    },
    "collapsed": false
   },
   "outputs": [],
   "source": [
    "coolSpace_origin = gpd.GeoDataFrame(coolSpace.data, geometry='geometry', crs=coolSpace.data.crs)\n",
    "coolSpace_origin.drop(columns=[\"clipped\", \"shadeGeom0\"], inplace=True)\n",
    "coolSpace_origin['shadeArea0'] = coolSpace_origin['shadeArea0'].apply(lambda x: ', '.join(map(str, x)) if isinstance(x, list) else str(x))\n",
    "coolSpace_origin.to_file(directory_mac + \"test2.shp\")"
   ]
  },
  {
   "cell_type": "code",
   "execution_count": 23,
   "metadata": {
    "ExecuteTime": {
     "end_time": "2024-10-05T17:53:45.516456700Z",
     "start_time": "2024-10-05T17:53:45.510958300Z"
    },
    "collapsed": false
   },
   "outputs": [],
   "source": [
    "coolGeom0['shadeArea0'] = coolGeom0['shadeArea0'].apply(lambda x: ', '.join(map(str, x)) if isinstance(x, list) else str(x))\n",
    "coolGeom0.to_file(directory_mac + \"coolGeom0.shp\")"
   ]
  },
  {
   "cell_type": "code",
   "execution_count": null,
   "metadata": {},
   "outputs": [],
   "source": []
  }
 ],
 "metadata": {
  "kernelspec": {
   "display_name": "synthesis",
   "language": "python",
   "name": "python3"
  },
  "language_info": {
   "codemirror_mode": {
    "name": "ipython",
    "version": 3
   },
   "file_extension": ".py",
   "mimetype": "text/x-python",
   "name": "python",
   "nbconvert_exporter": "python",
   "pygments_lexer": "ipython3",
   "version": "3.12.5"
  }
 },
 "nbformat": 4,
 "nbformat_minor": 2
}
