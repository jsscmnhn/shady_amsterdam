{
 "cells": [
  {
   "cell_type": "code",
   "execution_count": 1,
   "metadata": {
    "ExecuteTime": {
     "end_time": "2024-10-14T16:01:01.261013Z",
     "start_time": "2024-10-14T16:01:00.103112100Z"
    }
   },
   "outputs": [],
   "source": [
    "from include.road_process import Road\n",
    "from include.cool_space import CoolSpace\n",
    "from include.building import Building\n",
    "import geopandas as gpd\n",
    "import numpy as np\n",
    "import rasterio\n",
    "import matplotlib.pyplot as plt\n",
    "import glob\n",
    "import os"
   ]
  },
  {
   "cell_type": "code",
   "execution_count": 2,
   "metadata": {
    "ExecuteTime": {
     "end_time": "2024-10-14T16:01:01.270005700Z",
     "start_time": "2024-10-14T16:01:01.262007500Z"
    }
   },
   "outputs": [],
   "source": [
    "# set filepaths\n",
    "directory_mac = \"/Volumes/T7 Shield/TUD/Synthesis/cool_place/\"\n",
    "directory_win = \"G:\\\\TUD\\\\Synthesis\\\\cool_place\\\\\"\n",
    "\n",
    "landuse_file = directory_win + \"ams_landuse_top10NL.shp\"\n",
    "road_file = directory_win + \"ams_roads_top10NL.shp\"\n",
    "building_file = directory_win + \"ams_buildings_bagplus.shp\"\n",
    "shadow_path = directory_win + \"shademaps\\\\\""
   ]
  },
  {
   "cell_type": "code",
   "execution_count": 3,
   "metadata": {
    "ExecuteTime": {
     "end_time": "2024-10-14T16:01:19.784942700Z",
     "start_time": "2024-10-14T16:01:01.266027400Z"
    }
   },
   "outputs": [],
   "source": [
    "# read road data\n",
    "road = Road(gpd.read_file(road_file))"
   ]
  },
  {
   "cell_type": "code",
   "execution_count": 4,
   "metadata": {
    "ExecuteTime": {
     "end_time": "2024-10-14T16:02:12.408945200Z",
     "start_time": "2024-10-14T16:01:19.786986Z"
    }
   },
   "outputs": [],
   "source": [
    "# read building data\n",
    "building = Building(gpd.read_file(building_file))"
   ]
  },
  {
   "cell_type": "code",
   "execution_count": 5,
   "metadata": {
    "ExecuteTime": {
     "end_time": "2024-10-14T16:02:16.436039800Z",
     "start_time": "2024-10-14T16:02:12.408945200Z"
    }
   },
   "outputs": [],
   "source": [
    "# read land-use data\n",
    "coolSpace = CoolSpace(gpd.read_file(landuse_file))"
   ]
  },
  {
   "cell_type": "code",
   "execution_count": 6,
   "metadata": {
    "ExecuteTime": {
     "end_time": "2024-10-14T16:02:16.503305300Z",
     "start_time": "2024-10-14T16:02:16.436039800Z"
    }
   },
   "outputs": [],
   "source": [
    "# read all shade maps from directory\n",
    "shadows = []\n",
    "shadow_files = glob.glob(os.path.join(shadow_path, '*.TIF'))\n",
    "for shadow_file in shadow_files:\n",
    "    shadow_map = rasterio.open(shadow_file, crs=coolSpace.data.crs)\n",
    "    shadows.append(shadow_map)\n",
    "\n",
    "shadows = shadows[0:2]  # use two shade maps for testing"
   ]
  },
  {
   "cell_type": "code",
   "execution_count": 7,
   "metadata": {
    "ExecuteTime": {
     "end_time": "2024-10-14T16:02:18.939537300Z",
     "start_time": "2024-10-14T16:02:16.504223100Z"
    }
   },
   "outputs": [
    {
     "name": "stdout",
     "output_type": "stream",
     "text": [
      "Buffered geometry column created.\n"
     ]
    }
   ],
   "source": [
    "# create road buffer\n",
    "road.create_attribute('typeweg', 'buffer')\n",
    "road.create_buffer('buffer')\n",
    "road.data.set_geometry(\"buffered\", inplace=True)"
   ]
  },
  {
   "cell_type": "code",
   "execution_count": 8,
   "outputs": [
    {
     "name": "stderr",
     "output_type": "stream",
     "text": [
      "d:\\softwares\\anaconda3\\envs\\synthesis\\Lib\\site-packages\\shapely\\set_operations.py:76: RuntimeWarning: divide by zero encountered in difference\n",
      "  return lib.difference(a, b, **kwargs)\n"
     ]
    }
   ],
   "source": [
    "coolSpace.clip(road.data, use_clip=False)"
   ],
   "metadata": {
    "collapsed": false,
    "ExecuteTime": {
     "end_time": "2024-10-14T16:02:37.074879400Z",
     "start_time": "2024-10-14T16:02:18.936524800Z"
    }
   }
  },
  {
   "cell_type": "code",
   "execution_count": 9,
   "metadata": {
    "collapsed": false,
    "ExecuteTime": {
     "end_time": "2024-10-14T16:04:38.423166100Z",
     "start_time": "2024-10-14T16:02:37.074879400Z"
    }
   },
   "outputs": [
    {
     "name": "stdout",
     "output_type": "stream",
     "text": [
      "Buffered geometry column created.\n"
     ]
    }
   ],
   "source": [
    "# create building buffer and use it to clip the clipped land-use data\n",
    "# the output will be the initial public space data\n",
    "building.create_buffer(4)\n",
    "building.data.set_geometry(\"buffered\", inplace=True)\n",
    "coolSpace.clip(building.data, use_clip=True)"
   ]
  },
  {
   "cell_type": "code",
   "execution_count": 10,
   "metadata": {
    "ExecuteTime": {
     "end_time": "2024-10-14T16:20:13.368131100Z",
     "start_time": "2024-10-14T16:04:38.424195300Z"
    }
   },
   "outputs": [
    {
     "name": "stdout",
     "output_type": "stream",
     "text": [
      "Processing raster 1/2\n",
      "POLYGON ((136019.5 476230.5, 136019.5 493749.5, 110000.5 493749.5, 110000.5 476230.5, 136019.5 476230.5))\n",
      "Processing raster 2/2\n",
      "POLYGON ((136019.5 476230.5, 136019.5 493749.5, 110000.5 493749.5, 110000.5 476230.5, 136019.5 476230.5))\n"
     ]
    },
    {
     "name": "stderr",
     "output_type": "stream",
     "text": [
      "D:\\Files\\GitHub\\shady_amsterdam\\cool_place\\include\\cool_space.py:269: FutureWarning: Downcasting object dtype arrays on .fillna, .ffill, .bfill is deprecated and will change in a future version. Call result.infer_objects(copy=False) instead. To opt-in to the future behavior, set `pd.set_option('future.no_silent_downcasting', True)`\n",
      "  self.data[\"tol_shade_avg\"] += self.data[shade_avg_col].fillna(1)\n"
     ]
    }
   ],
   "source": [
    "# perform shade calculation on public space data\n",
    "coolSpace.calculate_shade(shadows, use_clip=True)\n",
    "coolSpace.evaluate_shade_coverage()"
   ]
  },
  {
   "cell_type": "code",
   "execution_count": 11,
   "outputs": [],
   "source": [
    "# before exporting, transform the attributes contains lists into strings, so that\n",
    "# it can be compatible with shapefile or geo-package format.\n",
    "for i in range(len(shadows)):\n",
    "    coolSpace.data[f\"sdArea{i}\"] = coolSpace.data[f\"sdArea{i}\"].apply(lambda x: ', '.join(map(str, x)) if isinstance(x, list) else str(x))"
   ],
   "metadata": {
    "collapsed": false,
    "ExecuteTime": {
     "end_time": "2024-10-14T16:20:13.418601500Z",
     "start_time": "2024-10-14T16:20:13.358601500Z"
    }
   }
  },
  {
   "cell_type": "code",
   "execution_count": 12,
   "outputs": [],
   "source": [
    "# export all shade geometries\n",
    "for i in range(len(shadows)):\n",
    "    shadeGeom = coolSpace.get_shade_geometries(i)\n",
    "    shadeGeom.to_file(directory_win + \"shadeGeoms.gpkg\", layer=f\"sdGeom{i}\", driver=\"GPKG\")"
   ],
   "metadata": {
    "collapsed": false,
    "ExecuteTime": {
     "end_time": "2024-10-14T16:20:30.463440900Z",
     "start_time": "2024-10-14T16:20:13.393749300Z"
    }
   }
  },
  {
   "cell_type": "code",
   "execution_count": 13,
   "metadata": {
    "collapsed": false,
    "ExecuteTime": {
     "end_time": "2024-10-14T16:20:35.669934500Z",
     "start_time": "2024-10-14T16:20:30.465098300Z"
    }
   },
   "outputs": [],
   "source": [
    "# export public space geometries\n",
    "coolSpace_clipped = coolSpace.data.set_geometry(\"clipped\", crs=coolSpace.data.crs)\n",
    "coolSpace_clipped.drop(columns=[\"geometry\"], inplace=True)\n",
    "for i in range(len(shadows)):\n",
    "    coolSpace_clipped.drop(columns=[f\"sdGeom{i}\"], inplace=True)\n",
    "coolSpace_clipped.to_file(directory_win + \"public_space.shp\")"
   ]
  },
  {
   "cell_type": "code",
   "execution_count": 14,
   "metadata": {
    "collapsed": false,
    "ExecuteTime": {
     "end_time": "2024-10-14T16:20:40.400032400Z",
     "start_time": "2024-10-14T16:20:35.671935200Z"
    }
   },
   "outputs": [],
   "source": [
    "# export the original land-use geometries\n",
    "coolSpace_origin = coolSpace.data.set_geometry(\"geometry\")\n",
    "coolSpace_origin.drop(columns=[\"clipped\"], inplace=True)\n",
    "for i in range(len(shadows)):\n",
    "    coolSpace_origin.drop(columns=[f\"sdGeom{i}\"], inplace=True)\n",
    "coolSpace_origin.to_file(directory_win + \"land_use.shp\")"
   ]
  },
  {
   "cell_type": "code",
   "execution_count": 15,
   "metadata": {
    "collapsed": false,
    "ExecuteTime": {
     "end_time": "2024-10-14T16:21:00.999606100Z",
     "start_time": "2024-10-14T16:20:40.400032400Z"
    }
   },
   "outputs": [],
   "source": [
    "# export cool space geometries\n",
    "coolGeom = coolSpace.get_cool_spaces()\n",
    "coolGeom.to_file(directory_win + \"coolSpace.shp\")"
   ]
  },
  {
   "cell_type": "code",
   "execution_count": 16,
   "metadata": {
    "ExecuteTime": {
     "end_time": "2024-10-14T16:21:22.872256100Z",
     "start_time": "2024-10-14T16:21:01.001610500Z"
    }
   },
   "outputs": [],
   "source": [
    "coolGeom_clipped = coolSpace.get_cool_spaces(geom_type='clipped')\n",
    "coolGeom_clipped.to_file(directory_win + \"coolSpace_clipped.shp\")"
   ]
  }
 ],
 "metadata": {
  "kernelspec": {
   "display_name": "synthesis",
   "language": "python",
   "name": "python3"
  },
  "language_info": {
   "codemirror_mode": {
    "name": "ipython",
    "version": 3
   },
   "file_extension": ".py",
   "mimetype": "text/x-python",
   "name": "python",
   "nbconvert_exporter": "python",
   "pygments_lexer": "ipython3",
   "version": "3.12.5"
  }
 },
 "nbformat": 4,
 "nbformat_minor": 2
}
