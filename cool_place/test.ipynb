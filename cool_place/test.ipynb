{
 "cells": [
  {
   "cell_type": "code",
   "execution_count": 8,
   "metadata": {
    "ExecuteTime": {
     "end_time": "2024-10-05T13:50:18.605669300Z",
     "start_time": "2024-10-05T13:50:18.601471500Z"
    }
   },
   "outputs": [],
   "source": [
    "from include.road_process import Road\n",
    "from include.cool_space import CoolSpace\n",
    "from include.building import Building\n",
    "import geopandas as gpd\n",
    "import rasterio\n",
    "import matplotlib.pyplot as plt"
   ]
  },
  {
   "cell_type": "code",
   "execution_count": 9,
   "metadata": {
    "ExecuteTime": {
     "end_time": "2024-10-05T13:50:18.865995900Z",
     "start_time": "2024-10-05T13:50:18.861818Z"
    }
   },
   "outputs": [],
   "source": [
    "directory_mac = \"/Volumes/T7 Shield/TUD/Synthesis/cool_place/\"\n",
    "directory_win = \"G:\\\\TUD\\\\Synthesis\\\\cool_place\\\\\"\n",
    "\n",
    "landuse_file = directory_win + \"ams_landuse_top10NL.shp\"\n",
    "road_file = directory_win + \"ams_roads_top10NL.shp\"\n",
    "building_file = directory_win + \"ams_buildings_bagplus.shp\"\n",
    "shadow_file = directory_win + \"testShadow.tif\""
   ]
  },
  {
   "cell_type": "code",
   "execution_count": null,
   "metadata": {
    "is_executing": true,
    "ExecuteTime": {
     "start_time": "2024-10-05T13:50:19.165507800Z"
    }
   },
   "outputs": [],
   "source": [
    "road = Road(gpd.read_file(road_file))"
   ]
  },
  {
   "cell_type": "code",
   "execution_count": null,
   "metadata": {
    "is_executing": true
   },
   "outputs": [],
   "source": [
    "building = Building(gpd.read_file(building_file))"
   ]
  },
  {
   "cell_type": "code",
   "execution_count": null,
   "metadata": {
    "is_executing": true
   },
   "outputs": [],
   "source": [
    "coolSpace = CoolSpace(gpd.read_file(landuse_file))"
   ]
  },
  {
   "cell_type": "code",
   "execution_count": null,
   "metadata": {
    "is_executing": true
   },
   "outputs": [],
   "source": [
    "shadows = []\n",
    "shadow_map1 = rasterio.open(shadow_file, crs=coolSpace.data.crs)\n",
    "print(shadow_map1.crs)\n",
    "shadows.append(shadow_map1)"
   ]
  },
  {
   "cell_type": "code",
   "execution_count": null,
   "metadata": {
    "is_executing": true
   },
   "outputs": [],
   "source": [
    "road.create_attribute('typeweg', 'buffer')\n",
    "road.create_buffer('buffer')\n",
    "building.create_buffer(4)"
   ]
  },
  {
   "cell_type": "code",
   "execution_count": null,
   "metadata": {
    "collapsed": false,
    "is_executing": true
   },
   "outputs": [],
   "source": [
    "road.data = road.data.set_geometry(\"buffered\")\n",
    "coolSpace.clip(coolSpace.data, road.data)\n",
    "\n",
    "building.data = building.data.set_geometry(\"buffered\")\n",
    "coolSpace.data = coolSpace.data.set_geometry(\"clipped\")\n",
    "coolSpace.clip(coolSpace.data, building.data)"
   ]
  },
  {
   "cell_type": "code",
   "execution_count": null,
   "outputs": [],
   "source": [
    "coolSpace.data[\"clipped\"].plot()\n",
    "plt.show()"
   ],
   "metadata": {
    "collapsed": false,
    "is_executing": true
   }
  },
  {
   "cell_type": "code",
   "execution_count": null,
   "metadata": {
    "is_executing": true
   },
   "outputs": [],
   "source": [
    "coolSpace.calculate_shade(shadows, use_clip=True)"
   ]
  },
  {
   "cell_type": "code",
   "execution_count": null,
   "metadata": {
    "is_executing": true
   },
   "outputs": [],
   "source": [
    "# 打印 shadeGeom0 列中不是 None 的行\n",
    "non_none_rows = coolSpace.data[coolSpace.data[\"shadeGeom0\"].notna()]\n",
    "print(non_none_rows[[\"shadeGeom0\"]][\"shadeGeom0\"].area.max())\n",
    "print(non_none_rows[[\"shadeGeom0\"]][\"shadeGeom0\"].area.min())"
   ]
  },
  {
   "cell_type": "code",
   "execution_count": null,
   "metadata": {
    "is_executing": true
   },
   "outputs": [],
   "source": [
    "coolSpace.data[\"shadeGeom0\"].plot()\n",
    "plt.show()"
   ]
  },
  {
   "cell_type": "code",
   "execution_count": null,
   "metadata": {
    "collapsed": false
   },
   "outputs": [],
   "source": [
    "coolSpace_clipped = gpd.GeoDataFrame(coolSpace.data, geometry='clipped', crs=coolSpace.data.crs)\n",
    "coolSpace_clipped.drop(columns=[\"geometry\"], inplace=True)\n",
    "coolSpace_clipped.to_file(directory_win + \"test.shp\")\n",
    "\n",
    "coolSpace_origin = gpd.GeoDataFrame(coolSpace.data, geometry='geometry', crs=coolSpace.data.crs)\n",
    "coolSpace_origin.drop(columns=[\"clipped\"], inplace=True)\n",
    "coolSpace_origin.to_file(directory_win + \"test2.shp\")"
   ]
  },
  {
   "cell_type": "code",
   "execution_count": null,
   "metadata": {
    "collapsed": false
   },
   "outputs": [],
   "source": []
  }
 ],
 "metadata": {
  "kernelspec": {
   "display_name": "synthesis",
   "language": "python",
   "name": "python3"
  },
  "language_info": {
   "codemirror_mode": {
    "name": "ipython",
    "version": 3
   },
   "file_extension": ".py",
   "mimetype": "text/x-python",
   "name": "python",
   "nbconvert_exporter": "python",
   "pygments_lexer": "ipython3",
   "version": "3.12.5"
  }
 },
 "nbformat": 4,
 "nbformat_minor": 2
}
