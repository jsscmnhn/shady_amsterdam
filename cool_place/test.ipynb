{
 "cells": [
  {
   "cell_type": "code",
   "execution_count": null,
   "metadata": {},
   "outputs": [],
   "source": [
    "from include.road_process import Road\n",
    "from include.cool_space import CoolSpace\n",
    "from include.building import Building\n",
    "import geopandas as gpd\n",
    "import numpy as np\n",
    "import rasterio\n",
    "import matplotlib.pyplot as plt\n",
    "import glob\n",
    "import os"
   ]
  },
  {
   "cell_type": "code",
   "execution_count": null,
   "metadata": {},
   "outputs": [],
   "source": [
    "# set filepaths\n",
    "directory_mac = \"/Volumes/T7 Shield/TUD/Synthesis/cool_place/\"\n",
    "directory_win = \"G:\\\\TUD\\\\Synthesis\\\\cool_place\\\\\"\n",
    "\n",
    "landuse_file = directory_win + \"ams_landuse_top10NL.shp\"\n",
    "road_file = directory_win + \"ams_roads_top10NL.shp\"\n",
    "building_file = directory_win + \"ams_buildings_bagplus.shp\"\n",
    "shadow_path = directory_win + \"shademaps\\\\\""
   ]
  },
  {
   "cell_type": "code",
   "execution_count": null,
   "metadata": {},
   "outputs": [],
   "source": [
    "# read road data\n",
    "road = Road(gpd.read_file(road_file))"
   ]
  },
  {
   "cell_type": "code",
   "execution_count": null,
   "metadata": {},
   "outputs": [],
   "source": [
    "# read building data\n",
    "building = Building(gpd.read_file(building_file))"
   ]
  },
  {
   "cell_type": "code",
   "execution_count": null,
   "metadata": {},
   "outputs": [],
   "source": [
    "# read land-use data\n",
    "coolSpace = CoolSpace(gpd.read_file(landuse_file))"
   ]
  },
  {
   "cell_type": "code",
   "execution_count": null,
   "metadata": {},
   "outputs": [],
   "source": [
    "# read all shade maps from directory\n",
    "shadows = []\n",
    "shadow_files = glob.glob(os.path.join(shadow_path, '*.TIF'))\n",
    "for shadow_file in shadow_files:\n",
    "    shadow_map = rasterio.open(shadow_file, crs=coolSpace.data.crs)\n",
    "    shadows.append(shadow_map)\n",
    "\n",
    "shadows = shadows[0:2]  # use two shade maps for testing"
   ]
  },
  {
   "cell_type": "code",
   "execution_count": null,
   "metadata": {},
   "outputs": [],
   "source": [
    "# create road buffer\n",
    "road.create_attribute('typeweg', 'buffer')\n",
    "road.create_buffer('buffer')\n",
    "road.data.set_geometry(\"buffered\", inplace=True)"
   ]
  },
  {
   "cell_type": "code",
   "execution_count": null,
   "outputs": [],
   "source": [
    "coolSpace.clip(road.data, use_clip=False)"
   ],
   "metadata": {
    "collapsed": false
   }
  },
  {
   "cell_type": "code",
   "execution_count": null,
   "metadata": {
    "collapsed": false
   },
   "outputs": [],
   "source": [
    "# create building buffer and use it to clip the clipped land-use data\n",
    "# the output will be the initial public space data\n",
    "building.create_buffer(4)\n",
    "building.data.set_geometry(\"buffered\", inplace=True)\n",
    "coolSpace.clip(building.data, use_clip=True)"
   ]
  },
  {
   "cell_type": "code",
   "execution_count": null,
   "metadata": {},
   "outputs": [],
   "source": [
    "# perform shade calculation on public space data\n",
    "coolSpace.calculate_shade(shadows, use_clip=True)"
   ]
  },
  {
   "cell_type": "code",
   "execution_count": null,
   "outputs": [],
   "source": [
    "# before exporting, transform the attributes contains lists into strings, so that\n",
    "# it can be compatible with shapefile or geo-package format.\n",
    "for i in range(len(shadows)):\n",
    "    coolSpace.data[f\"sdArea{i}\"] = coolSpace.data[f\"sdArea{i}\"].apply(lambda x: ', '.join(map(str, x)) if isinstance(x, list) else str(x))"
   ],
   "metadata": {
    "collapsed": false
   }
  },
  {
   "cell_type": "code",
   "execution_count": null,
   "outputs": [],
   "source": [
    "# export all shade geometries\n",
    "for i in range(len(shadows)):\n",
    "    shadeGeom = coolSpace.get_shade_geometries(i)\n",
    "    shadeGeom.to_file(directory_win + \"shadeGeoms.gpkg\", layer=f\"sdGeom{i}\", driver=\"GPKG\")"
   ],
   "metadata": {
    "collapsed": false
   }
  },
  {
   "cell_type": "code",
   "execution_count": null,
   "metadata": {
    "collapsed": false
   },
   "outputs": [],
   "source": [
    "# export public space geometries\n",
    "coolSpace_clipped = coolSpace.data.set_geometry(\"clipped\", crs=coolSpace.data.crs)\n",
    "coolSpace_clipped.drop(columns=[\"geometry\"], inplace=True)\n",
    "for i in range(len(shadows)):\n",
    "    coolSpace_clipped.drop(columns=[f\"sdGeom{i}\"], inplace=True)\n",
    "coolSpace_clipped.to_file(directory_win + \"test1.shp\")"
   ]
  },
  {
   "cell_type": "code",
   "execution_count": null,
   "metadata": {
    "collapsed": false
   },
   "outputs": [],
   "source": [
    "# export the original land-use geometries\n",
    "coolSpace_origin = coolSpace.data.set_geometry(\"geometry\")\n",
    "coolSpace_origin.drop(columns=[\"clipped\"], inplace=True)\n",
    "for i in range(len(shadows)):\n",
    "    coolSpace_origin.drop(columns=[f\"sdGeom{i}\"], inplace=True)\n",
    "coolSpace_origin.to_file(directory_win + \"test2.shp\")"
   ]
  },
  {
   "cell_type": "code",
   "execution_count": null,
   "metadata": {
    "collapsed": false
   },
   "outputs": [],
   "source": [
    "# export cool space geometries\n",
    "# coolSpace.evaluate_shade_coverage()\n",
    "coolGeom = coolSpace.get_cool_spaces()\n",
    "coolGeom.to_file(directory_win + \"coolSpace.shp\")"
   ]
  },
  {
   "cell_type": "code",
   "execution_count": null,
   "metadata": {},
   "outputs": [],
   "source": []
  }
 ],
 "metadata": {
  "kernelspec": {
   "display_name": "synthesis",
   "language": "python",
   "name": "python3"
  },
  "language_info": {
   "codemirror_mode": {
    "name": "ipython",
    "version": 3
   },
   "file_extension": ".py",
   "mimetype": "text/x-python",
   "name": "python",
   "nbconvert_exporter": "python",
   "pygments_lexer": "ipython3",
   "version": "3.12.5"
  }
 },
 "nbformat": 4,
 "nbformat_minor": 2
}
