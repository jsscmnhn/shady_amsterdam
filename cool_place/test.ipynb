{
 "cells": [
  {
   "cell_type": "code",
   "execution_count": 1,
   "metadata": {},
   "outputs": [],
   "source": [
    "from include.road_process import Road\n",
    "from include.cool_space import CoolSpace\n",
    "import geopandas as gpd\n",
    "import matplotlib.pyplot as plt"
   ]
  },
  {
   "cell_type": "code",
   "execution_count": null,
   "metadata": {},
   "outputs": [],
   "source": [
    "directory_mac = \"/Volumes/T7 Shield/TUD/Synthesis/cool_place/\"\n",
    "directory_win = \"G:\\\\TUD\\\\Synthesis\\\\cool_place\\\\\"\n",
    "\n",
    "landuse_file = directory_win + \"ams_landuse_top10NL.shp\"\n",
    "road_file = directory_win + \"ams_roads_top10NL.shp\"\n",
    "\n",
    "coolSpace = CoolSpace(gpd.read_file(landuse_file))\n",
    "road = Road(gpd.read_file(road_file))"
   ]
  },
  {
   "cell_type": "code",
   "execution_count": null,
   "metadata": {},
   "outputs": [],
   "source": [
    "road.create_attribute('verharding', 'buffer')\n",
    "road.create_buffer('buffer')\n",
    "coolSpace.clip(road.buffered)"
   ]
  },
  {
   "cell_type": "code",
   "execution_count": null,
   "metadata": {},
   "outputs": [],
   "source": [
    "coolSpace.clipped.plot()\n",
    "plt.show()"
   ]
  }
 ],
 "metadata": {
  "kernelspec": {
   "display_name": "synthesis",
   "language": "python",
   "name": "python3"
  },
  "language_info": {
   "codemirror_mode": {
    "name": "ipython",
    "version": 3
   },
   "file_extension": ".py",
   "mimetype": "text/x-python",
   "name": "python",
   "nbconvert_exporter": "python",
   "pygments_lexer": "ipython3",
   "version": "3.12.5"
  }
 },
 "nbformat": 4,
 "nbformat_minor": 2
}
