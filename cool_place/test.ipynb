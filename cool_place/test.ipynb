{
 "cells": [
  {
   "cell_type": "code",
   "execution_count": 1,
   "metadata": {
    "ExecuteTime": {
     "end_time": "2024-10-10T21:28:20.304089200Z",
     "start_time": "2024-10-10T21:28:19.297211900Z"
    }
   },
   "outputs": [],
   "source": [
    "from include.road_process import Road\n",
    "from include.cool_space import CoolSpace\n",
    "from include.building import Building\n",
    "import geopandas as gpd\n",
    "import numpy as np\n",
    "import rasterio\n",
    "import matplotlib.pyplot as plt\n",
    "import glob\n",
    "import os"
   ]
  },
  {
   "cell_type": "code",
   "execution_count": 2,
   "metadata": {
    "ExecuteTime": {
     "end_time": "2024-10-10T21:28:20.308444Z",
     "start_time": "2024-10-10T21:28:20.307435400Z"
    }
   },
   "outputs": [],
   "source": [
    "# set filepaths\n",
    "directory_mac = \"/Volumes/T7 Shield/TUD/Synthesis/cool_place/\"\n",
    "directory_win = \"G:\\\\TUD\\\\Synthesis\\\\cool_place\\\\\"\n",
    "\n",
    "landuse_file = directory_win + \"ams_landuse_top10NL.shp\"\n",
    "road_file = directory_win + \"ams_roads_top10NL.shp\"\n",
    "building_file = directory_win + \"ams_buildings_bagplus.shp\"\n",
    "shadow_path = directory_win + \"shademaps\\\\\""
   ]
  },
  {
   "cell_type": "code",
   "execution_count": 3,
   "metadata": {
    "ExecuteTime": {
     "end_time": "2024-10-10T21:28:37.574006900Z",
     "start_time": "2024-10-10T21:28:20.308960900Z"
    }
   },
   "outputs": [],
   "source": [
    "# read road data\n",
    "road = Road(gpd.read_file(road_file))"
   ]
  },
  {
   "cell_type": "code",
   "execution_count": 4,
   "metadata": {
    "ExecuteTime": {
     "end_time": "2024-10-10T21:29:30.697467600Z",
     "start_time": "2024-10-10T21:28:37.574006900Z"
    }
   },
   "outputs": [],
   "source": [
    "# read building data\n",
    "building = Building(gpd.read_file(building_file))"
   ]
  },
  {
   "cell_type": "code",
   "execution_count": 5,
   "metadata": {
    "ExecuteTime": {
     "end_time": "2024-10-10T21:29:34.945811600Z",
     "start_time": "2024-10-10T21:29:30.698468800Z"
    }
   },
   "outputs": [],
   "source": [
    "# read land-use data\n",
    "coolSpace = CoolSpace(gpd.read_file(landuse_file))"
   ]
  },
  {
   "cell_type": "code",
   "execution_count": 6,
   "metadata": {
    "ExecuteTime": {
     "end_time": "2024-10-10T21:29:35.053860Z",
     "start_time": "2024-10-10T21:29:34.945811600Z"
    }
   },
   "outputs": [],
   "source": [
    "# read all shade maps from directory\n",
    "shadows = []\n",
    "shadow_files = glob.glob(os.path.join(shadow_path, '*.TIF'))\n",
    "for shadow_file in shadow_files:\n",
    "    shadow_map = rasterio.open(shadow_file, crs=coolSpace.data.crs)\n",
    "    shadows.append(shadow_map)\n",
    "\n",
    "shadows = shadows[0:2]  # use two shade maps for testing"
   ]
  },
  {
   "cell_type": "code",
   "execution_count": 7,
   "metadata": {
    "ExecuteTime": {
     "end_time": "2024-10-10T21:29:38.089197200Z",
     "start_time": "2024-10-10T21:29:35.054859900Z"
    }
   },
   "outputs": [
    {
     "name": "stdout",
     "output_type": "stream",
     "text": [
      "Buffered geometry column created.\n"
     ]
    }
   ],
   "source": [
    "# create road buffer\n",
    "road.create_attribute('typeweg', 'buffer')\n",
    "road.create_buffer('buffer')"
   ]
  },
  {
   "cell_type": "code",
   "execution_count": 8,
   "metadata": {
    "collapsed": false,
    "ExecuteTime": {
     "end_time": "2024-10-10T21:29:57.230267600Z",
     "start_time": "2024-10-10T21:29:38.085197Z"
    }
   },
   "outputs": [],
   "source": [
    "# use road buffer to clip land-use data \n",
    "road.data.set_geometry(\"buffered\", inplace=True)\n",
    "coolSpace.clip(road.data)"
   ]
  },
  {
   "cell_type": "code",
   "execution_count": 9,
   "metadata": {
    "collapsed": false,
    "ExecuteTime": {
     "end_time": "2024-10-10T21:31:55.947200600Z",
     "start_time": "2024-10-10T21:29:57.231872400Z"
    }
   },
   "outputs": [
    {
     "name": "stdout",
     "output_type": "stream",
     "text": [
      "Buffered geometry column created.\n"
     ]
    }
   ],
   "source": [
    "# create building buffer and use it to clip the clipped land-use data\n",
    "# the output will be the initial public space data\n",
    "building.create_buffer(4)\n",
    "building.data.set_geometry(\"buffered\", inplace=True)\n",
    "coolSpace.clip(building.data, use_clip=True)"
   ]
  },
  {
   "cell_type": "code",
   "execution_count": 10,
   "metadata": {
    "ExecuteTime": {
     "end_time": "2024-10-10T21:47:27.279330700Z",
     "start_time": "2024-10-10T21:31:55.948216800Z"
    }
   },
   "outputs": [
    {
     "name": "stdout",
     "output_type": "stream",
     "text": [
      "Processing raster 1/2\n",
      "POLYGON ((136019.5 476230.5, 136019.5 493749.5, 110000.5 493749.5, 110000.5 476230.5, 136019.5 476230.5))\n",
      "Processing raster 2/2\n",
      "POLYGON ((136019.5 476230.5, 136019.5 493749.5, 110000.5 493749.5, 110000.5 476230.5, 136019.5 476230.5))\n"
     ]
    }
   ],
   "source": [
    "# perform shade calculation on public space data\n",
    "coolSpace.calculate_shade(shadows, use_clip=True)"
   ]
  },
  {
   "cell_type": "code",
   "execution_count": 11,
   "outputs": [],
   "source": [
    "# before exporting, transform the attributes contains lists into strings, so that\n",
    "# it can be compatible with shapefile or geo-package format.\n",
    "for i in range(len(shadows)):\n",
    "    coolSpace.data[f\"sdArea{i}\"] = coolSpace.data[f\"sdArea{i}\"].apply(lambda x: ', '.join(map(str, x)) if isinstance(x, list) else str(x))"
   ],
   "metadata": {
    "collapsed": false,
    "ExecuteTime": {
     "end_time": "2024-10-10T21:47:27.320818Z",
     "start_time": "2024-10-10T21:47:27.278325400Z"
    }
   }
  },
  {
   "cell_type": "code",
   "execution_count": 12,
   "outputs": [],
   "source": [
    "# export all shade geometries\n",
    "for i in range(len(shadows)):\n",
    "    shadeGeom = coolSpace.get_shade_geometries(i)\n",
    "    shadeGeom.to_file(directory_win + \"shadeGeoms.gpkg\", layer=f\"sdGeom{i}\", driver=\"GPKG\")"
   ],
   "metadata": {
    "collapsed": false,
    "ExecuteTime": {
     "end_time": "2024-10-10T21:47:44.356200300Z",
     "start_time": "2024-10-10T21:47:27.320818Z"
    }
   }
  },
  {
   "cell_type": "code",
   "execution_count": 13,
   "metadata": {
    "collapsed": false,
    "ExecuteTime": {
     "end_time": "2024-10-10T21:47:50.623194Z",
     "start_time": "2024-10-10T21:47:44.357200400Z"
    }
   },
   "outputs": [],
   "source": [
    "# export public space geometries\n",
    "coolSpace_clipped = coolSpace.data.set_geometry(\"clipped\", crs=coolSpace.data.crs)\n",
    "coolSpace_clipped.drop(columns=[\"geometry\"], inplace=True)\n",
    "for i in range(len(shadows)):\n",
    "    coolSpace_clipped.drop(columns=[f\"sdGeom{i}\"], inplace=True)\n",
    "coolSpace_clipped.to_file(directory_win + \"test1.shp\")"
   ]
  },
  {
   "cell_type": "code",
   "execution_count": 14,
   "metadata": {
    "collapsed": false,
    "ExecuteTime": {
     "end_time": "2024-10-10T21:47:55.074663800Z",
     "start_time": "2024-10-10T21:47:50.627212400Z"
    }
   },
   "outputs": [],
   "source": [
    "# export the original land-use geometries\n",
    "coolSpace_origin = coolSpace.data.set_geometry(\"geometry\")\n",
    "coolSpace_origin.drop(columns=[\"clipped\"], inplace=True)\n",
    "for i in range(len(shadows)):\n",
    "    coolSpace_origin.drop(columns=[f\"sdGeom{i}\"], inplace=True)\n",
    "coolSpace_origin.to_file(directory_win + \"test2.shp\")"
   ]
  },
  {
   "cell_type": "code",
   "execution_count": 15,
   "metadata": {
    "collapsed": false,
    "ExecuteTime": {
     "end_time": "2024-10-10T21:47:57.832102100Z",
     "start_time": "2024-10-10T21:47:55.074663800Z"
    }
   },
   "outputs": [],
   "source": [
    "# export cool space geometries\n",
    "# coolSpace.evaluate_shade_coverage()\n",
    "coolGeom = coolSpace.get_cool_spaces()\n",
    "coolGeom.to_file(directory_win + \"coolSpace.shp\")"
   ]
  },
  {
   "cell_type": "code",
   "execution_count": 15,
   "metadata": {
    "ExecuteTime": {
     "end_time": "2024-10-10T21:47:57.833101900Z",
     "start_time": "2024-10-10T21:47:57.828201300Z"
    }
   },
   "outputs": [],
   "source": []
  }
 ],
 "metadata": {
  "kernelspec": {
   "display_name": "synthesis",
   "language": "python",
   "name": "python3"
  },
  "language_info": {
   "codemirror_mode": {
    "name": "ipython",
    "version": 3
   },
   "file_extension": ".py",
   "mimetype": "text/x-python",
   "name": "python",
   "nbconvert_exporter": "python",
   "pygments_lexer": "ipython3",
   "version": "3.12.5"
  }
 },
 "nbformat": 4,
 "nbformat_minor": 2
}
