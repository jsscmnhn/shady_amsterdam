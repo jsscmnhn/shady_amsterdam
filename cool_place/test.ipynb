{
 "cells": [
  {
   "cell_type": "code",
   "execution_count": 27,
   "metadata": {
    "ExecuteTime": {
     "end_time": "2024-10-10T18:06:13.896523800Z",
     "start_time": "2024-10-10T18:06:13.892996600Z"
    }
   },
   "outputs": [],
   "source": [
    "from include.road_process import Road\n",
    "from include.cool_space import CoolSpace\n",
    "from include.building import Building\n",
    "import geopandas as gpd\n",
    "import numpy as np\n",
    "import rasterio\n",
    "import matplotlib.pyplot as plt\n",
    "import glob\n",
    "import os"
   ]
  },
  {
   "cell_type": "code",
   "execution_count": 28,
   "metadata": {
    "ExecuteTime": {
     "end_time": "2024-10-10T18:06:15.214082400Z",
     "start_time": "2024-10-10T18:06:15.192078400Z"
    }
   },
   "outputs": [],
   "source": [
    "# set filepaths\n",
    "directory_mac = \"/Volumes/T7 Shield/TUD/Synthesis/cool_place/\"\n",
    "directory_win = \"G:\\\\TUD\\\\Synthesis\\\\cool_place\\\\\"\n",
    "\n",
    "landuse_file = directory_win + \"ams_landuse_top10NL.shp\"\n",
    "road_file = directory_win + \"ams_roads_top10NL.shp\"\n",
    "building_file = directory_win + \"ams_buildings_bagplus.shp\"\n",
    "shadow_path = directory_win + \"shademaps\\\\\""
   ]
  },
  {
   "cell_type": "code",
   "execution_count": 29,
   "metadata": {
    "ExecuteTime": {
     "end_time": "2024-10-10T18:06:33.209118700Z",
     "start_time": "2024-10-10T18:06:15.654166600Z"
    }
   },
   "outputs": [],
   "source": [
    "# read road data\n",
    "road = Road(gpd.read_file(road_file))"
   ]
  },
  {
   "cell_type": "code",
   "execution_count": 30,
   "metadata": {
    "ExecuteTime": {
     "end_time": "2024-10-10T18:07:25.434935200Z",
     "start_time": "2024-10-10T18:06:33.207957100Z"
    }
   },
   "outputs": [],
   "source": [
    "# read building data\n",
    "building = Building(gpd.read_file(building_file))"
   ]
  },
  {
   "cell_type": "code",
   "execution_count": 31,
   "metadata": {
    "ExecuteTime": {
     "end_time": "2024-10-10T18:07:29.566091300Z",
     "start_time": "2024-10-10T18:07:25.435935500Z"
    }
   },
   "outputs": [],
   "source": [
    "# read land-use data\n",
    "coolSpace = CoolSpace(gpd.read_file(landuse_file))"
   ]
  },
  {
   "cell_type": "code",
   "execution_count": 32,
   "metadata": {
    "ExecuteTime": {
     "end_time": "2024-10-10T18:07:30.138881400Z",
     "start_time": "2024-10-10T18:07:29.568602700Z"
    }
   },
   "outputs": [],
   "source": [
    "# read all shade maps from directory\n",
    "shadows = []\n",
    "shadow_files = glob.glob(os.path.join(shadow_path, '*.TIF'))\n",
    "for shadow_file in shadow_files:\n",
    "    shadow_map = rasterio.open(shadow_file, crs=coolSpace.data.crs)\n",
    "    shadows.append(shadow_map)\n",
    "\n",
    "# shadows = shadows[0:2]  # use two shade maps for testing"
   ]
  },
  {
   "cell_type": "code",
   "execution_count": 33,
   "metadata": {
    "ExecuteTime": {
     "end_time": "2024-10-10T18:07:33.149626500Z",
     "start_time": "2024-10-10T18:07:30.139939100Z"
    }
   },
   "outputs": [
    {
     "name": "stdout",
     "output_type": "stream",
     "text": [
      "Buffered geometry column created.\n"
     ]
    }
   ],
   "source": [
    "# create road buffer\n",
    "road.create_attribute('typeweg', 'buffer')\n",
    "road.create_buffer('buffer')"
   ]
  },
  {
   "cell_type": "code",
   "execution_count": 34,
   "metadata": {
    "collapsed": false,
    "ExecuteTime": {
     "end_time": "2024-10-10T18:07:52.073443500Z",
     "start_time": "2024-10-10T18:07:33.144626500Z"
    }
   },
   "outputs": [],
   "source": [
    "# use road buffer to clip land-use data \n",
    "road.data.set_geometry(\"buffered\", inplace=True)\n",
    "coolSpace.clip(road.data)"
   ]
  },
  {
   "cell_type": "code",
   "execution_count": 35,
   "metadata": {
    "collapsed": false,
    "ExecuteTime": {
     "end_time": "2024-10-10T18:09:53.423393600Z",
     "start_time": "2024-10-10T18:07:52.074450700Z"
    }
   },
   "outputs": [
    {
     "name": "stdout",
     "output_type": "stream",
     "text": [
      "Buffered geometry column created.\n"
     ]
    }
   ],
   "source": [
    "# create building buffer and use it to clip the clipped land-use data\n",
    "# the output will be the initial public space data\n",
    "building.create_buffer(4)\n",
    "building.data.set_geometry(\"buffered\", inplace=True)\n",
    "coolSpace.clip(building.data, use_clip=True)"
   ]
  },
  {
   "cell_type": "code",
   "execution_count": 36,
   "metadata": {
    "ExecuteTime": {
     "end_time": "2024-10-10T18:25:36.385380800Z",
     "start_time": "2024-10-10T18:09:53.425398400Z"
    }
   },
   "outputs": [
    {
     "name": "stdout",
     "output_type": "stream",
     "text": [
      "Processing raster 1/2\n",
      "POLYGON ((136019.5 476230.5, 136019.5 493749.5, 110000.5 493749.5, 110000.5 476230.5, 136019.5 476230.5))\n",
      "Processing raster 2/2\n",
      "POLYGON ((136019.5 476230.5, 136019.5 493749.5, 110000.5 493749.5, 110000.5 476230.5, 136019.5 476230.5))\n"
     ]
    }
   ],
   "source": [
    "# perform shade calculation on public space data\n",
    "coolSpace.calculate_shade(shadows, use_clip=True)"
   ]
  },
  {
   "cell_type": "code",
   "execution_count": 37,
   "outputs": [],
   "source": [
    "# before exporting, transform the attributes contains lists into strings, so that\n",
    "# it can be compatible with shapefile or geo-package format.\n",
    "for i in range(len(shadows)):\n",
    "    coolSpace.data[f\"shadeArea{i}\"] = coolSpace.data[f\"shadeArea{i}\"].apply(lambda x: ', '.join(map(str, x)) if isinstance(x, list) else str(x))"
   ],
   "metadata": {
    "collapsed": false,
    "ExecuteTime": {
     "end_time": "2024-10-10T18:25:36.425518700Z",
     "start_time": "2024-10-10T18:25:36.386387800Z"
    }
   }
  },
  {
   "cell_type": "code",
   "execution_count": 53,
   "outputs": [],
   "source": [
    "# export all shade geometries\n",
    "for i in range(len(shadows)):\n",
    "    shadeGeom = coolSpace.get_shade_geometries(i)\n",
    "    shadeGeom.to_file(directory_win + \"shadeGeoms.gpkg\", layer=f\"shadeGeom{i}\", driver=\"GPKG\")"
   ],
   "metadata": {
    "collapsed": false,
    "ExecuteTime": {
     "end_time": "2024-10-10T18:51:53.975758400Z",
     "start_time": "2024-10-10T18:51:42.434229500Z"
    }
   }
  },
  {
   "cell_type": "code",
   "execution_count": 50,
   "metadata": {
    "collapsed": false,
    "ExecuteTime": {
     "end_time": "2024-10-10T18:48:32.364276500Z",
     "start_time": "2024-10-10T18:48:26.327864Z"
    }
   },
   "outputs": [
    {
     "name": "stderr",
     "output_type": "stream",
     "text": [
      "D:\\Files\\temp\\ipykernel_32708\\381903023.py:6: UserWarning: Column names longer than 10 characters will be truncated when saved to ESRI Shapefile.\n",
      "  coolSpace_clipped.to_file(directory_win + \"test1.shp\")\n"
     ]
    }
   ],
   "source": [
    "# export public space geometries\n",
    "coolSpace_clipped = coolSpace.data.set_geometry(\"clipped\", crs=coolSpace.data.crs)\n",
    "coolSpace_clipped.drop(columns=[\"geometry\"], inplace=True)\n",
    "for i in range(len(shadows)):\n",
    "    coolSpace_clipped.drop(columns=[f\"shadeGeom{i}\"], inplace=True)\n",
    "coolSpace_clipped.to_file(directory_win + \"test1.shp\")"
   ]
  },
  {
   "cell_type": "code",
   "execution_count": 45,
   "metadata": {
    "collapsed": false,
    "ExecuteTime": {
     "end_time": "2024-10-10T18:31:16.302899400Z",
     "start_time": "2024-10-10T18:31:12.003981400Z"
    }
   },
   "outputs": [],
   "source": [
    "# export the original land-use geometries\n",
    "coolSpace_origin = coolSpace.data.set_geometry(\"geometry\")\n",
    "coolSpace_origin.drop(columns=[\"clipped\"], inplace=True)\n",
    "for i in range(len(shadows)):\n",
    "    coolSpace_origin.drop(columns=[f\"shadeGeom{i}\"], inplace=True)\n",
    "coolSpace_origin.to_file(directory_win + \"test2.shp\")"
   ]
  },
  {
   "cell_type": "code",
   "execution_count": 48,
   "metadata": {
    "collapsed": false,
    "ExecuteTime": {
     "end_time": "2024-10-10T18:35:39.535775900Z",
     "start_time": "2024-10-10T18:35:36.635571200Z"
    }
   },
   "outputs": [],
   "source": [
    "# export cool space geometries\n",
    "# coolSpace.evaluate_shade_coverage()\n",
    "coolGeom = coolSpace.get_cool_spaces()\n",
    "coolGeom.to_file(directory_win + \"coolSpace.shp\")"
   ]
  },
  {
   "cell_type": "code",
   "execution_count": null,
   "metadata": {},
   "outputs": [],
   "source": []
  }
 ],
 "metadata": {
  "kernelspec": {
   "display_name": "synthesis",
   "language": "python",
   "name": "python3"
  },
  "language_info": {
   "codemirror_mode": {
    "name": "ipython",
    "version": 3
   },
   "file_extension": ".py",
   "mimetype": "text/x-python",
   "name": "python",
   "nbconvert_exporter": "python",
   "pygments_lexer": "ipython3",
   "version": "3.12.5"
  }
 },
 "nbformat": 4,
 "nbformat_minor": 2
}
